{
 "cells": [
  {
   "cell_type": "code",
   "execution_count": 2,
   "id": "0114c973",
   "metadata": {},
   "outputs": [],
   "source": [
    "import pandas as pd\n",
    "import numpy as np\n",
    "import matplotlib.pyplot as plt\n",
    "import seaborn as sns\n",
    "\n",
    "\n",
    "import geemap, ee\n",
    "\n",
    "import warnings\n",
    "warnings.filterwarnings(\"ignore\")"
   ]
  },
  {
   "cell_type": "code",
   "execution_count": 3,
   "id": "b2661961",
   "metadata": {},
   "outputs": [],
   "source": [
    "try:\n",
    "        ee.Initialize()\n",
    "except Exception as e:\n",
    "        ee.Authenticate()\n",
    "        ee.Initialize()"
   ]
  },
  {
   "cell_type": "code",
   "execution_count": 4,
   "id": "830575d8",
   "metadata": {},
   "outputs": [],
   "source": [
    "%load_ext autoreload\n",
    "%autoreload 2\n",
    "import sys  \n",
    "sys.path.insert(0, '../lib/')\n"
   ]
  },
  {
   "cell_type": "code",
   "execution_count": 5,
   "id": "6e85d98c",
   "metadata": {},
   "outputs": [],
   "source": [
    "%reload_ext autoreload\n",
    "import sand_classification as sc\n",
    "import quality_mosaic as qm\n",
    "import train_val as tv"
   ]
  },
  {
   "attachments": {},
   "cell_type": "markdown",
   "id": "039d9544",
   "metadata": {},
   "source": [
    "# Train Classifier"
   ]
  },
  {
   "cell_type": "code",
   "execution_count": 6,
   "id": "00c2280c",
   "metadata": {},
   "outputs": [
    {
     "data": {
      "image/png": "[encoded data removed]",
      "text/plain": [
       "<Figure size 640x480 with 1 Axes>"
      ]
     },
     "metadata": {},
     "output_type": "display_data"
    }
   ],
   "source": [
    "RF, _ = tv.train_rf('../data/labels/gt-bands.xlsx', num_trees=400)"
   ]
  },
  {
   "cell_type": "markdown",
   "id": "a150afb2",
   "metadata": {},
   "source": [
    "#### Load Image for Validation"
   ]
  },
  {
   "cell_type": "code",
   "execution_count": 7,
   "id": "bf93e54c",
   "metadata": {},
   "outputs": [],
   "source": [
    "roi = ee.FeatureCollection('projects/gee-sand/assets/gandak_gst_aoi')\n",
    "upper = ee.FeatureCollection('projects/gee-sand/assets/gandak_gst_upper_aoi')\n",
    "lower = ee.FeatureCollection('projects/gee-sand/assets/gandak_gst_lower_aoi')\n",
    "\n",
    "# roi = upper.union({'right': lower})"
   ]
  },
  {
   "cell_type": "code",
   "execution_count": 8,
   "id": "544b7798",
   "metadata": {},
   "outputs": [
    {
     "name": "stdout",
     "output_type": "stream",
     "text": [
      "Search window from 2021-12-15 to 2022-04-15\n"
     ]
    },
    {
     "data": {
      "text/html": [
       "<div><style>:root {\n",
       "  --font-color-primary: var(--jp-content-font-color0, rgba(0, 0, 0, 1));\n",
       "  --font-color-secondary: var(--jp-content-font-color2, rgba(0, 0, 0, 0.6));\n",
       "  --font-color-accent: rgba(123, 31, 162, 1);\n",
       "  --border-color: var(--jp-border-color2, #e0e0e0);\n",
       "  --background-color: var(--jp-layout-color0, white);\n",
       "  --background-color-row-even: var(--jp-layout-color1, white);\n",
       "  --background-color-row-odd: var(--jp-layout-color2, #eeeeee);\n",
       "}\n",
       "\n",
       "html[theme=\"dark\"],\n",
       "body[data-theme=\"dark\"],\n",
       "body.vscode-dark {\n",
       "  --font-color-primary: rgba(255, 255, 255, 1);\n",
       "  --font-color-secondary: rgba(255, 255, 255, 0.6);\n",
       "  --font-color-accent: rgb(173, 132, 190);\n",
       "  --border-color: #2e2e2e;\n",
       "  --background-color: #111111;\n",
       "  --background-color-row-even: #111111;\n",
       "  --background-color-row-odd: #313131;\n",
       "}\n",
       "\n",
       ".ee {\n",
       "  padding: 1em;\n",
       "  line-height: 1.5em;\n",
       "  min-width: 300px;\n",
       "  max-width: 1200px;\n",
       "  overflow-y: scroll;\n",
       "  max-height: 600px;\n",
       "  border: 1px solid var(--border-color);\n",
       "  font-family: monospace;\n",
       "}\n",
       "\n",
       ".ee li {\n",
       "  list-style-type: none;\n",
       "}\n",
       "\n",
       ".ee ul {\n",
       "  padding-left: 1.5em !important;\n",
       "  margin: 0;\n",
       "}\n",
       "\n",
       ".ee > ul {\n",
       "  padding-left: 0 !important;\n",
       "}\n",
       "\n",
       ".ee-open,\n",
       ".ee-shut {\n",
       "  color: var(--font-color-secondary);\n",
       "  cursor: pointer;\n",
       "  margin: 0;\n",
       "}\n",
       "\n",
       ".ee-open:hover,\n",
       ".ee-shut:hover {\n",
       "  color: var(--font-color-primary);\n",
       "}\n",
       "\n",
       ".ee-k {\n",
       "  color: var(--font-color-accent);\n",
       "  margin-right: 6px;\n",
       "}\n",
       "\n",
       ".ee-v {\n",
       "  color: var(--font-color-primary);\n",
       "}\n",
       "\n",
       ".ee-toggle {\n",
       "  display: none;\n",
       "}\n",
       "\n",
       ".ee-shut + ul {\n",
       "  display: none;\n",
       "}\n",
       "\n",
       ".ee-open + ul {\n",
       "  display: block;\n",
       "}\n",
       "\n",
       ".ee-shut::before {\n",
       "  display: inline-block;\n",
       "  content: \"▼\";\n",
       "  margin-right: 6px;\n",
       "  transform: rotate(-90deg);\n",
       "  transition: transform 0.2s;\n",
       "}\n",
       "\n",
       ".ee-open::before {\n",
       "  transform: rotate(0deg);\n",
       "  display: inline-block;\n",
       "  content: \"▼\";\n",
       "  margin-right: 6px;\n",
       "  transition: transform 0.2s;\n",
       "}\n",
       "</style><div class='ee'><ul><li><label class='ee-shut'>FeatureCollection projects/gee-sand/assets/gandak_gst_aoi  (2 elements, 1 column)<input type='checkbox' class='ee-toggle'></label><ul><li><span class='ee-k'>type:</span><span class='ee-v'>FeatureCollection</span></li><li><span class='ee-k'>id:</span><span class='ee-v'>projects/gee-sand/assets/gandak_gst_aoi</span></li><li><span class='ee-k'>version:</span><span class='ee-v'>1682106220310215</span></li><li><label class='ee-shut'>columns: Object (1 property)<input type='checkbox' class='ee-toggle'></label><ul><li><span class='ee-k'>system:index:</span><span class='ee-v'>String</span></li></ul></li><li><label class='ee-shut'>properties: Object (1 property)<input type='checkbox' class='ee-toggle'></label><ul><li><span class='ee-k'>system:asset_size:</span><span class='ee-v'>8552</span></li></ul></li><li><label class='ee-shut'>features: List (2 elements)<input type='checkbox' class='ee-toggle'></label><ul><li><label class='ee-shut'>0: Feature (Polygon, 0 properties)<input type='checkbox' class='ee-toggle'></label><ul><li><span class='ee-k'>type:</span><span class='ee-v'>Feature</span></li><li><span class='ee-k'>id:</span><span class='ee-v'>00000000000000000000</span></li><li><label class='ee-shut'>geometry: Polygon (89 vertices)<input type='checkbox' class='ee-toggle'></label><ul><li><span class='ee-k'>type:</span><span class='ee-v'>Polygon</span></li><li><label class='ee-shut'>coordinates: List (1 element)<input type='checkbox' class='ee-toggle'></label><ul><li><label class='ee-shut'>0: List (89 elements)<input type='checkbox' class='ee-toggle'></label><ul><li><label class='ee-shut'>0: [84.34288055466354, 27.706223352976508]<input type='checkbox' class='ee-toggle'></label><ul><li><span class='ee-k'>0:</span><span class='ee-v'>84.34288055466354</span></li><li><span class='ee-k'>1:</span><span class='ee-v'>27.706223352976508</span></li></ul></li><li><label class='ee-shut'>1: [84.3215585812346, 27.694633137502976]<input type='checkbox' class='ee-toggle'></label><ul><li><span class='ee-k'>0:</span><span class='ee-v'>84.3215585812346</span></li><li><span class='ee-k'>1:</span><span class='ee-v'>27.694633137502976</span></li></ul></li><li><label class='ee-shut'>2: [84.30660810477181, 27.68556845731398]<input type='checkbox' class='ee-toggle'></label><ul><li><span class='ee-k'>0:</span><span class='ee-v'>84.30660810477181</span></li><li><span class='ee-k'>1:</span><span class='ee-v'>27.68556845731398</span></li></ul></li><li><label class='ee-shut'>3: [84.29148776486319, 27.681214304212155]<input type='checkbox' class='ee-toggle'></label><ul><li><span class='ee-k'>0:</span><span class='ee-v'>84.29148776486319</span></li><li><span class='ee-k'>1:</span><span class='ee-v'>27.681214304212155</span></li></ul></li><li><label class='ee-shut'>4: [84.27541311495791, 27.673068404588953]<input type='checkbox' class='ee-toggle'></label><ul><li><span class='ee-k'>0:</span><span class='ee-v'>84.27541311495791</span></li><li><span class='ee-k'>1:</span><span class='ee-v'>27.673068404588953</span></li></ul></li><li><label class='ee-shut'>5: [84.26105665405886, 27.670393643544745]<input type='checkbox' class='ee-toggle'></label><ul><li><span class='ee-k'>0:</span><span class='ee-v'>84.26105665405886</span></li><li><span class='ee-k'>1:</span><span class='ee-v'>27.670393643544745</span></li></ul></li><li><label class='ee-shut'>6: [84.24539278127509, 27.660177304153024]<input type='checkbox' class='ee-toggle'></label><ul><li><span class='ee-k'>0:</span><span class='ee-v'>84.24539278127509</span></li><li><span class='ee-k'>1:</span><span class='ee-v'>27.660177304153024</span></li></ul></li><li><label class='ee-shut'>7: [84.23060562663603, 27.64371471010632]<input type='checkbox' class='ee-toggle'></label><ul><li><span class='ee-k'>0:</span><span class='ee-v'>84.23060562663603</span></li><li><span class='ee-k'>1:</span><span class='ee-v'>27.64371471010632</span></li></ul></li><li><label class='ee-shut'>8: [84.17206626265944, 27.61053740762946]<input type='checkbox' class='ee-toggle'></label><ul><li><span class='ee-k'>0:</span><span class='ee-v'>84.17206626265944</span></li><li><span class='ee-k'>1:</span><span class='ee-v'>27.61053740762946</span></li></ul></li><li><label class='ee-shut'>9: [84.13989653216599, 27.571112253538512]<input type='checkbox' class='ee-toggle'></label><ul><li><span class='ee-k'>0:</span><span class='ee-v'>84.13989653216599</span></li><li><span class='ee-k'>1:</span><span class='ee-v'>27.571112253538512</span></li></ul></li><li><label class='ee-shut'>10: [84.10519605291138, 27.560673437640354]<input type='checkbox' class='ee-toggle'></label><ul><li><span class='ee-k'>0:</span><span class='ee-v'>84.10519605291138</span></li><li><span class='ee-k'>1:</span><span class='ee-v'>27.560673437640354</span></li></ul></li><li><label class='ee-shut'>11: [84.07049661628727, 27.56803060537012]<input type='checkbox' class='ee-toggle'></label><ul><li><span class='ee-k'>0:</span><span class='ee-v'>84.07049661628727</span></li><li><span class='ee-k'>1:</span><span class='ee-v'>27.56803060537012</span></li></ul></li><li><label class='ee-shut'>12: [84.04768622444034, 27.565347717194662]<input type='checkbox' class='ee-toggle'></label><ul><li><span class='ee-k'>0:</span><span class='ee-v'>84.04768622444034</span></li><li><span class='ee-k'>1:</span><span class='ee-v'>27.565347717194662</span></li></ul></li><li><label class='ee-shut'>13: [84.0411740032573, 27.559972333021772]<input type='checkbox' class='ee-toggle'></label><ul><li><span class='ee-k'>0:</span><span class='ee-v'>84.0411740032573</span></li><li><span class='ee-k'>1:</span><span class='ee-v'>27.559972333021772</span></li></ul></li><li><label class='ee-shut'>14: [84.01509318607795, 27.560073653349708]<input type='checkbox' class='ee-toggle'></label><ul><li><span class='ee-k'>0:</span><span class='ee-v'>84.01509318607795</span></li><li><span class='ee-k'>1:</span><span class='ee-v'>27.560073653349708</span></li></ul></li><li><label class='ee-shut'>15: [84.0075401277136, 27.564639024240396]<input type='checkbox' class='ee-toggle'></label><ul><li><span class='ee-k'>0:</span><span class='ee-v'>84.0075401277136</span></li><li><span class='ee-k'>1:</span><span class='ee-v'>27.564639024240396</span></li></ul></li><li><label class='ee-shut'>16: [83.98814236701746, 27.568443330144028]<input type='checkbox' class='ee-toggle'></label><ul><li><span class='ee-k'>0:</span><span class='ee-v'>83.98814236701746</span></li><li><span class='ee-k'>1:</span><span class='ee-v'>27.568443330144028</span></li></ul></li><li><label class='ee-shut'>17: [83.97337951407626, 27.566465161397797]<input type='checkbox' class='ee-toggle'></label><ul><li><span class='ee-k'>0:</span><span class='ee-v'>83.97337951407626</span></li><li><span class='ee-k'>1:</span><span class='ee-v'>27.566465161397797</span></li></ul></li><li><label class='ee-shut'>18: [83.95381005511207, 27.5591605602418]<input type='checkbox' class='ee-toggle'></label><ul><li><span class='ee-k'>0:</span><span class='ee-v'>83.95381005511207</span></li><li><span class='ee-k'>1:</span><span class='ee-v'>27.5591605602418</span></li></ul></li><li><label class='ee-shut'>19: [83.9314940815131, 27.556116871009927]<input type='checkbox' class='ee-toggle'></label><ul><li><span class='ee-k'>0:</span><span class='ee-v'>83.9314940815131</span></li><li><span class='ee-k'>1:</span><span class='ee-v'>27.556116871009927</span></li></ul></li><li><label class='ee-shut'>20: [83.91364133294334, 27.553681841024172]<input type='checkbox' class='ee-toggle'></label><ul><li><span class='ee-k'>0:</span><span class='ee-v'>83.91364133294334</span></li><li><span class='ee-k'>1:</span><span class='ee-v'>27.553681841024172</span></li></ul></li><li><label class='ee-shut'>21: [83.91346967069892, 27.541810260145652]<input type='checkbox' class='ee-toggle'></label><ul><li><span class='ee-k'>0:</span><span class='ee-v'>83.91346967069892</span></li><li><span class='ee-k'>1:</span><span class='ee-v'>27.541810260145652</span></li></ul></li><li><label class='ee-shut'>22: [83.91432797710638, 27.525066151835023]<input type='checkbox' class='ee-toggle'></label><ul><li><span class='ee-k'>0:</span><span class='ee-v'>83.91432797710638</span></li><li><span class='ee-k'>1:</span><span class='ee-v'>27.525066151835023</span></li></ul></li><li><label class='ee-shut'>23: [83.91604455381, 27.51699762249333]<input type='checkbox' class='ee-toggle'></label><ul><li><span class='ee-k'>0:</span><span class='ee-v'>83.91604455381</span></li><li><span class='ee-k'>1:</span><span class='ee-v'>27.51699762249333</span></li></ul></li><li><label class='ee-shut'>24: [83.92531428630423, 27.50831947953774]<input type='checkbox' class='ee-toggle'></label><ul><li><span class='ee-k'>0:</span><span class='ee-v'>83.92531428630423</span></li><li><span class='ee-k'>1:</span><span class='ee-v'>27.50831947953774</span></li></ul></li><li><label class='ee-shut'>25: [83.9342406989921, 27.508471776222052]<input type='checkbox' class='ee-toggle'></label><ul><li><span class='ee-k'>0:</span><span class='ee-v'>83.9342406989921</span></li><li><span class='ee-k'>1:</span><span class='ee-v'>27.508471776222052</span></li></ul></li><li><label class='ee-shut'>26: [83.94814527655856, 27.51227796814649]<input type='checkbox' class='ee-toggle'></label><ul><li><span class='ee-k'>0:</span><span class='ee-v'>83.94814527655856</span></li><li><span class='ee-k'>1:</span><span class='ee-v'>27.51227796814649</span></li></ul></li><li><label class='ee-shut'>27: [83.954325104352, 27.52141257902371]<input type='checkbox' class='ee-toggle'></label><ul><li><span class='ee-k'>0:</span><span class='ee-v'>83.954325104352</span></li><li><span class='ee-k'>1:</span><span class='ee-v'>27.52141257902371</span></li></ul></li><li><label class='ee-shut'>28: [83.96307979145816, 27.510451036245943]<input type='checkbox' class='ee-toggle'></label><ul><li><span class='ee-k'>0:</span><span class='ee-v'>83.96307979145816</span></li><li><span class='ee-k'>1:</span><span class='ee-v'>27.510451036245943</span></li></ul></li><li><label class='ee-shut'>29: [83.94385373600386, 27.499488378936785]<input type='checkbox' class='ee-toggle'></label><ul><li><span class='ee-k'>0:</span><span class='ee-v'>83.94385373600386</span></li><li><span class='ee-k'>1:</span><span class='ee-v'>27.499488378936785</span></li></ul></li><li><label class='ee-shut'>30: [83.93387422114971, 27.495643077614154]<input type='checkbox' class='ee-toggle'></label><ul><li><span class='ee-k'>0:</span><span class='ee-v'>83.93387422114971</span></li><li><span class='ee-k'>1:</span><span class='ee-v'>27.495643077614154</span></li></ul></li><li><label class='ee-shut'>31: [83.93499004884904, 27.48620182344857]<input type='checkbox' class='ee-toggle'></label><ul><li><span class='ee-k'>0:</span><span class='ee-v'>83.93499004884904</span></li><li><span class='ee-k'>1:</span><span class='ee-v'>27.48620182344857</span></li></ul></li><li><label class='ee-shut'>32: [83.93765079272423, 27.476988267132175]<input type='checkbox' class='ee-toggle'></label><ul><li><span class='ee-k'>0:</span><span class='ee-v'>83.93765079272423</span></li><li><span class='ee-k'>1:</span><span class='ee-v'>27.476988267132175</span></li></ul></li><li><label class='ee-shut'>33: [83.93636333484427, 27.462198445971232]<input type='checkbox' class='ee-toggle'></label><ul><li><span class='ee-k'>0:</span><span class='ee-v'>83.93636333484427</span></li><li><span class='ee-k'>1:</span><span class='ee-v'>27.462198445971232</span></li></ul></li><li><label class='ee-shut'>34: [83.92786604650868, 27.453744478207373]<input type='checkbox' class='ee-toggle'></label><ul><li><span class='ee-k'>0:</span><span class='ee-v'>83.92786604650868</span></li><li><span class='ee-k'>1:</span><span class='ee-v'>27.453744478207373</span></li></ul></li><li><label class='ee-shut'>35: [83.90881165339276, 27.446889441671864]<input type='checkbox' class='ee-toggle'></label><ul><li><span class='ee-k'>0:</span><span class='ee-v'>83.90881165339276</span></li><li><span class='ee-k'>1:</span><span class='ee-v'>27.446889441671864</span></li></ul></li><li><label class='ee-shut'>36: [83.89504114475496, 27.443371948460552]<input type='checkbox' class='ee-toggle'></label><ul><li><span class='ee-k'>0:</span><span class='ee-v'>83.89504114475496</span></li><li><span class='ee-k'>1:</span><span class='ee-v'>27.443371948460552</span></li></ul></li><li><label class='ee-shut'>37: [83.88268157441455, 27.443600458546]<input type='checkbox' class='ee-toggle'></label><ul><li><span class='ee-k'>0:</span><span class='ee-v'>83.88268157441455</span></li><li><span class='ee-k'>1:</span><span class='ee-v'>27.443600458546</span></li></ul></li><li><label class='ee-shut'>38: [83.87521425440973, 27.445200061743073]<input type='checkbox' class='ee-toggle'></label><ul><li><span class='ee-k'>0:</span><span class='ee-v'>83.87521425440973</span></li><li><span class='ee-k'>1:</span><span class='ee-v'>27.445200061743073</span></li></ul></li><li><label class='ee-shut'>39: [83.86912025412573, 27.44413363154115]<input type='checkbox' class='ee-toggle'></label><ul><li><span class='ee-k'>0:</span><span class='ee-v'>83.86912025412573</span></li><li><span class='ee-k'>1:</span><span class='ee-v'>27.44413363154115</span></li></ul></li><li><label class='ee-shut'>40: [83.8626830114764, 27.440096475432874]<input type='checkbox' class='ee-toggle'></label><ul><li><span class='ee-k'>0:</span><span class='ee-v'>83.8626830114764</span></li><li><span class='ee-k'>1:</span><span class='ee-v'>27.440096475432874</span></li></ul></li><li><label class='ee-shut'>41: [83.85967894446159, 27.43209788170217]<input type='checkbox' class='ee-toggle'></label><ul><li><span class='ee-k'>0:</span><span class='ee-v'>83.85967894446159</span></li><li><span class='ee-k'>1:</span><span class='ee-v'>27.43209788170217</span></li></ul></li><li><label class='ee-shut'>42: [83.85650315161801, 27.42265117537645]<input type='checkbox' class='ee-toggle'></label><ul><li><span class='ee-k'>0:</span><span class='ee-v'>83.85650315161801</span></li><li><span class='ee-k'>1:</span><span class='ee-v'>27.42265117537645</span></li></ul></li><li><label class='ee-shut'>43: [83.85377521531615, 27.410362580382426]<input type='checkbox' class='ee-toggle'></label><ul><li><span class='ee-k'>0:</span><span class='ee-v'>83.85377521531615</span></li><li><span class='ee-k'>1:</span><span class='ee-v'>27.410362580382426</span></li></ul></li><li><label class='ee-shut'>44: [83.84527796331726, 27.401904628952668]<input type='checkbox' class='ee-toggle'></label><ul><li><span class='ee-k'>0:</span><span class='ee-v'>83.84527796331726</span></li><li><span class='ee-k'>1:</span><span class='ee-v'>27.401904628952668</span></li></ul></li><li><label class='ee-shut'>45: [83.84364719621078, 27.393446035084093]<input type='checkbox' class='ee-toggle'></label><ul><li><span class='ee-k'>0:</span><span class='ee-v'>83.84364719621078</span></li><li><span class='ee-k'>1:</span><span class='ee-v'>27.393446035084093</span></li></ul></li><li><label class='ee-shut'>46: [83.84579295471953, 27.386663496203397]<input type='checkbox' class='ee-toggle'></label><ul><li><span class='ee-k'>0:</span><span class='ee-v'>83.84579295471953</span></li><li><span class='ee-k'>1:</span><span class='ee-v'>27.386663496203397</span></li></ul></li><li><label class='ee-shut'>47: [83.84827925478577, 27.375524004272126]<input type='checkbox' class='ee-toggle'></label><ul><li><span class='ee-k'>0:</span><span class='ee-v'>83.84827925478577</span></li><li><span class='ee-k'>1:</span><span class='ee-v'>27.375524004272126</span></li></ul></li><li><label class='ee-shut'>48: [83.84785012640494, 27.365843851392267]<input type='checkbox' class='ee-toggle'></label><ul><li><span class='ee-k'>0:</span><span class='ee-v'>83.84785012640494</span></li><li><span class='ee-k'>1:</span><span class='ee-v'>27.365843851392267</span></li></ul></li><li><label class='ee-shut'>49: [83.8414986927044, 27.352351119382746]<input type='checkbox' class='ee-toggle'></label><ul><li><span class='ee-k'>0:</span><span class='ee-v'>83.8414986927044</span></li><li><span class='ee-k'>1:</span><span class='ee-v'>27.352351119382746</span></li></ul></li><li><label class='ee-shut'>50: [83.85197000746818, 27.346404641782836]<input type='checkbox' class='ee-toggle'></label><ul><li><span class='ee-k'>0:</span><span class='ee-v'>83.85197000746818</span></li><li><span class='ee-k'>1:</span><span class='ee-v'>27.346404641782836</span></li></ul></li><li><label class='ee-shut'>51: [83.86119676973259, 27.343964970901315]<input type='checkbox' class='ee-toggle'></label><ul><li><span class='ee-k'>0:</span><span class='ee-v'>83.86119676973259</span></li><li><span class='ee-k'>1:</span><span class='ee-v'>27.343964970901315</span></li></ul></li><li><label class='ee-shut'>52: [83.86733369511728, 27.357611211991827]<input type='checkbox' class='ee-toggle'></label><ul><li><span class='ee-k'>0:</span><span class='ee-v'>83.86733369511728</span></li><li><span class='ee-k'>1:</span><span class='ee-v'>27.357611211991827</span></li></ul></li><li><label class='ee-shut'>53: [83.87351351729767, 27.367444580041177]<input type='checkbox' class='ee-toggle'></label><ul><li><span class='ee-k'>0:</span><span class='ee-v'>83.87351351729767</span></li><li><span class='ee-k'>1:</span><span class='ee-v'>27.367444580041177</span></li></ul></li><li><label class='ee-shut'>54: [83.88098080159392, 27.3820023951522]<input type='checkbox' class='ee-toggle'></label><ul><li><span class='ee-k'>0:</span><span class='ee-v'>83.88098080159392</span></li><li><span class='ee-k'>1:</span><span class='ee-v'>27.3820023951522</span></li></ul></li><li><label class='ee-shut'>55: [83.88143023779968, 27.3935464324939]<input type='checkbox' class='ee-toggle'></label><ul><li><span class='ee-k'>0:</span><span class='ee-v'>83.88143023779968</span></li><li><span class='ee-k'>1:</span><span class='ee-v'>27.3935464324939</span></li></ul></li><li><label class='ee-shut'>56: [83.876452050859, 27.402081238167835]<input type='checkbox' class='ee-toggle'></label><ul><li><span class='ee-k'>0:</span><span class='ee-v'>83.876452050859</span></li><li><span class='ee-k'>1:</span><span class='ee-v'>27.402081238167835</span></li></ul></li><li><label class='ee-shut'>57: [83.8711305460535, 27.413434479811176]<input type='checkbox' class='ee-toggle'></label><ul><li><span class='ee-k'>0:</span><span class='ee-v'>83.8711305460535</span></li><li><span class='ee-k'>1:</span><span class='ee-v'>27.413434479811176</span></li></ul></li><li><label class='ee-shut'>58: [83.87190307073591, 27.419910606267397]<input type='checkbox' class='ee-toggle'></label><ul><li><span class='ee-k'>0:</span><span class='ee-v'>83.87190307073591</span></li><li><span class='ee-k'>1:</span><span class='ee-v'>27.419910606267397</span></li></ul></li><li><label class='ee-shut'>59: [83.88237438273578, 27.424634202135007]<input type='checkbox' class='ee-toggle'></label><ul><li><span class='ee-k'>0:</span><span class='ee-v'>83.88237438273578</span></li><li><span class='ee-k'>1:</span><span class='ee-v'>27.424634202135007</span></li></ul></li><li><label class='ee-shut'>60: [83.89687976815667, 27.429586107332714]<input type='checkbox' class='ee-toggle'></label><ul><li><span class='ee-k'>0:</span><span class='ee-v'>83.89687976815667</span></li><li><span class='ee-k'>1:</span><span class='ee-v'>27.429586107332714</span></li></ul></li><li><label class='ee-shut'>61: [83.91516170276586, 27.434156917464424]<input type='checkbox' class='ee-toggle'></label><ul><li><span class='ee-k'>0:</span><span class='ee-v'>83.91516170276586</span></li><li><span class='ee-k'>1:</span><span class='ee-v'>27.434156917464424</span></li></ul></li><li><label class='ee-shut'>62: [83.92994139421427, 27.441772774043365]<input type='checkbox' class='ee-toggle'></label><ul><li><span class='ee-k'>0:</span><span class='ee-v'>83.92994139421427</span></li><li><span class='ee-k'>1:</span><span class='ee-v'>27.441772774043365</span></li></ul></li><li><label class='ee-shut'>63: [83.9364644839982, 27.447180970279373]<input type='checkbox' class='ee-toggle'></label><ul><li><span class='ee-k'>0:</span><span class='ee-v'>83.9364644839982</span></li><li><span class='ee-k'>1:</span><span class='ee-v'>27.447180970279373</span></li></ul></li><li><label class='ee-shut'>64: [83.94496170741606, 27.45395977252132]<input type='checkbox' class='ee-toggle'></label><ul><li><span class='ee-k'>0:</span><span class='ee-v'>83.94496170741606</span></li><li><span class='ee-k'>1:</span><span class='ee-v'>27.45395977252132</span></li></ul></li><li><label class='ee-shut'>65: [83.94825327202126, 27.462897316038436]<input type='checkbox' class='ee-toggle'></label><ul><li><span class='ee-k'>0:</span><span class='ee-v'>83.94825327202126</span></li><li><span class='ee-k'>1:</span><span class='ee-v'>27.462897316038436</span></li></ul></li><li><label class='ee-shut'>66: [83.95039900612224, 27.46822820525184]<input type='checkbox' class='ee-toggle'></label><ul><li><span class='ee-k'>0:</span><span class='ee-v'>83.95039900612224</span></li><li><span class='ee-k'>1:</span><span class='ee-v'>27.46822820525184</span></li></ul></li><li><label class='ee-shut'>67: [83.9479957627043, 27.474015886643716]<input type='checkbox' class='ee-toggle'></label><ul><li><span class='ee-k'>0:</span><span class='ee-v'>83.9479957627043</span></li><li><span class='ee-k'>1:</span><span class='ee-v'>27.474015886643716</span></li></ul></li><li><label class='ee-shut'>68: [83.94368466277409, 27.48386888604529]<input type='checkbox' class='ee-toggle'></label><ul><li><span class='ee-k'>0:</span><span class='ee-v'>83.94368466277409</span></li><li><span class='ee-k'>1:</span><span class='ee-v'>27.48386888604529</span></li></ul></li><li><label class='ee-shut'>69: [83.94299794437971, 27.488818144767734]<input type='checkbox' class='ee-toggle'></label><ul><li><span class='ee-k'>0:</span><span class='ee-v'>83.94299794437971</span></li><li><span class='ee-k'>1:</span><span class='ee-v'>27.488818144767734</span></li></ul></li><li><label class='ee-shut'>70: [83.9454870901562, 27.492244383322365]<input type='checkbox' class='ee-toggle'></label><ul><li><span class='ee-k'>0:</span><span class='ee-v'>83.9454870901562</span></li><li><span class='ee-k'>1:</span><span class='ee-v'>27.492244383322365</span></li></ul></li><li><label class='ee-shut'>71: [83.95810420670387, 27.496051195552973]<input type='checkbox' class='ee-toggle'></label><ul><li><span class='ee-k'>0:</span><span class='ee-v'>83.95810420670387</span></li><li><span class='ee-k'>1:</span><span class='ee-v'>27.496051195552973</span></li></ul></li><li><label class='ee-shut'>72: [83.96797470637772, 27.50069534639183]<input type='checkbox' class='ee-toggle'></label><ul><li><span class='ee-k'>0:</span><span class='ee-v'>83.96797470637772</span></li><li><span class='ee-k'>1:</span><span class='ee-v'>27.50069534639183</span></li></ul></li><li><label class='ee-shut'>73: [83.97475532711283, 27.510361935310275]<input type='checkbox' class='ee-toggle'></label><ul><li><span class='ee-k'>0:</span><span class='ee-v'>83.97475532711283</span></li><li><span class='ee-k'>1:</span><span class='ee-v'>27.510361935310275</span></li></ul></li><li><label class='ee-shut'>74: [83.97389706241582, 27.522541306088325]<input type='checkbox' class='ee-toggle'></label><ul><li><span class='ee-k'>0:</span><span class='ee-v'>83.97389706241582</span></li><li><span class='ee-k'>1:</span><span class='ee-v'>27.522541306088325</span></li></ul></li><li><label class='ee-shut'>75: [83.97252373300041, 27.536089369918674]<input type='checkbox' class='ee-toggle'></label><ul><li><span class='ee-k'>0:</span><span class='ee-v'>83.97252373300041</span></li><li><span class='ee-k'>1:</span><span class='ee-v'>27.536089369918674</span></li></ul></li><li><label class='ee-shut'>76: [83.99123481106152, 27.53471940782144]<input type='checkbox' class='ee-toggle'></label><ul><li><span class='ee-k'>0:</span><span class='ee-v'>83.99123481106152</span></li><li><span class='ee-k'>1:</span><span class='ee-v'>27.53471940782144</span></li></ul></li><li><label class='ee-shut'>77: [84.00840098415398, 27.532436156735162]<input type='checkbox' class='ee-toggle'></label><ul><li><span class='ee-k'>0:</span><span class='ee-v'>84.00840098415398</span></li><li><span class='ee-k'>1:</span><span class='ee-v'>27.532436156735162</span></li></ul></li><li><label class='ee-shut'>78: [84.02642540797088, 27.532283921609043]<input type='checkbox' class='ee-toggle'></label><ul><li><span class='ee-k'>0:</span><span class='ee-v'>84.02642540797088</span></li><li><span class='ee-k'>1:</span><span class='ee-v'>27.532283921609043</span></li></ul></li><li><label class='ee-shut'>79: [84.05459599359737, 27.543839081500465]<input type='checkbox' class='ee-toggle'></label><ul><li><span class='ee-k'>0:</span><span class='ee-v'>84.05459599359737</span></li><li><span class='ee-k'>1:</span><span class='ee-v'>27.543839081500465</span></li></ul></li><li><label class='ee-shut'>80: [84.08654730608959, 27.547472971261435]<input type='checkbox' class='ee-toggle'></label><ul><li><span class='ee-k'>0:</span><span class='ee-v'>84.08654730608959</span></li><li><span class='ee-k'>1:</span><span class='ee-v'>27.547472971261435</span></li></ul></li><li><label class='ee-shut'>81: [84.10928244361503, 27.54152744654973]<input type='checkbox' class='ee-toggle'></label><ul><li><span class='ee-k'>0:</span><span class='ee-v'>84.10928244361503</span></li><li><span class='ee-k'>1:</span><span class='ee-v'>27.54152744654973</span></li></ul></li><li><label class='ee-shut'>82: [84.13399104779002, 27.542654175184424]<input type='checkbox' class='ee-toggle'></label><ul><li><span class='ee-k'>0:</span><span class='ee-v'>84.13399104779002</span></li><li><span class='ee-k'>1:</span><span class='ee-v'>27.542654175184424</span></li></ul></li><li><label class='ee-shut'>83: [84.15762978690573, 27.55842618511732]<input type='checkbox' class='ee-toggle'></label><ul><li><span class='ee-k'>0:</span><span class='ee-v'>84.15762978690573</span></li><li><span class='ee-k'>1:</span><span class='ee-v'>27.55842618511732</span></li></ul></li><li><label class='ee-shut'>84: [84.1766403435202, 27.57693431426162]<input type='checkbox' class='ee-toggle'></label><ul><li><span class='ee-k'>0:</span><span class='ee-v'>84.1766403435202</span></li><li><span class='ee-k'>1:</span><span class='ee-v'>27.57693431426162</span></li></ul></li><li><label class='ee-shut'>85: [84.20221302635606, 27.593437781868253]<input type='checkbox' class='ee-toggle'></label><ul><li><span class='ee-k'>0:</span><span class='ee-v'>84.20221302635606</span></li><li><span class='ee-k'>1:</span><span class='ee-v'>27.593437781868253</span></li></ul></li><li><label class='ee-shut'>86: [84.30253558799365, 27.65544472848238]<input type='checkbox' class='ee-toggle'></label><ul><li><span class='ee-k'>0:</span><span class='ee-v'>84.30253558799365</span></li><li><span class='ee-k'>1:</span><span class='ee-v'>27.65544472848238</span></li></ul></li><li><label class='ee-shut'>87: [84.34305476697344, 27.693519388738856]<input type='checkbox' class='ee-toggle'></label><ul><li><span class='ee-k'>0:</span><span class='ee-v'>84.34305476697344</span></li><li><span class='ee-k'>1:</span><span class='ee-v'>27.693519388738856</span></li></ul></li><li><label class='ee-shut'>88: [84.34288055466354, 27.706223352976508]<input type='checkbox' class='ee-toggle'></label><ul><li><span class='ee-k'>0:</span><span class='ee-v'>84.34288055466354</span></li><li><span class='ee-k'>1:</span><span class='ee-v'>27.706223352976508</span></li></ul></li></ul></li></ul></li></ul></li><li><label class='ee-shut'>properties: Object (0 properties)<input type='checkbox' class='ee-toggle'></label><ul></ul></li></ul></li><li><label class='ee-shut'>1: Feature (Polygon, 0 properties)<input type='checkbox' class='ee-toggle'></label><ul><li><span class='ee-k'>type:</span><span class='ee-v'>Feature</span></li><li><span class='ee-k'>id:</span><span class='ee-v'>00000000000000000001</span></li><li><label class='ee-shut'>geometry: Polygon (100 vertices)<input type='checkbox' class='ee-toggle'></label><ul><li><span class='ee-k'>type:</span><span class='ee-v'>Polygon</span></li><li><label class='ee-shut'>coordinates: List (1 element)<input type='checkbox' class='ee-toggle'></label><ul><li><label class='ee-shut'>0: List (100 elements)<input type='checkbox' class='ee-toggle'></label><ul><li><label class='ee-shut'>0: [83.85202461590397, 27.346474378885482]<input type='checkbox' class='ee-toggle'></label><ul><li><span class='ee-k'>0:</span><span class='ee-v'>83.85202461590397</span></li><li><span class='ee-k'>1:</span><span class='ee-v'>27.346474378885482</span></li></ul></li><li><label class='ee-shut'>1: [83.8414674594338, 27.352382785949548]<input type='checkbox' class='ee-toggle'></label><ul><li><span class='ee-k'>0:</span><span class='ee-v'>83.8414674594338</span></li><li><span class='ee-k'>1:</span><span class='ee-v'>27.352382785949548</span></li></ul></li><li><label class='ee-shut'>2: [83.83438640336864, 27.34395846357251]<input type='checkbox' class='ee-toggle'></label><ul><li><span class='ee-k'>0:</span><span class='ee-v'>83.83438640336864</span></li><li><span class='ee-k'>1:</span><span class='ee-v'>27.34395846357251</span></li></ul></li><li><label class='ee-shut'>3: [83.82377183214305, 27.333737851334803]<input type='checkbox' class='ee-toggle'></label><ul><li><span class='ee-k'>0:</span><span class='ee-v'>83.82377183214305</span></li><li><span class='ee-k'>1:</span><span class='ee-v'>27.333737851334803</span></li></ul></li><li><label class='ee-shut'>4: [83.82360016140706, 27.328857889938888]<input type='checkbox' class='ee-toggle'></label><ul><li><span class='ee-k'>0:</span><span class='ee-v'>83.82360016140706</span></li><li><span class='ee-k'>1:</span><span class='ee-v'>27.328857889938888</span></li></ul></li><li><label class='ee-shut'>5: [83.82557422460988, 27.322910167422933]<input type='checkbox' class='ee-toggle'></label><ul><li><span class='ee-k'>0:</span><span class='ee-v'>83.82557422460988</span></li><li><span class='ee-k'>1:</span><span class='ee-v'>27.322910167422933</span></li></ul></li><li><label class='ee-shut'>6: [83.83046661800536, 27.316123292474412]<input type='checkbox' class='ee-toggle'></label><ul><li><span class='ee-k'>0:</span><span class='ee-v'>83.83046661800536</span></li><li><span class='ee-k'>1:</span><span class='ee-v'>27.316123292474412</span></li></ul></li><li><label class='ee-shut'>7: [83.83149660145061, 27.309488521317988]<input type='checkbox' class='ee-toggle'></label><ul><li><span class='ee-k'>0:</span><span class='ee-v'>83.83149660145061</span></li><li><span class='ee-k'>1:</span><span class='ee-v'>27.309488521317988</span></li></ul></li><li><label class='ee-shut'>8: [83.82746251595565, 27.30445496090386]<input type='checkbox' class='ee-toggle'></label><ul><li><span class='ee-k'>0:</span><span class='ee-v'>83.82746251595565</span></li><li><span class='ee-k'>1:</span><span class='ee-v'>27.30445496090386</span></li></ul></li><li><label class='ee-shut'>9: [83.82222685925387, 27.299802588766386]<input type='checkbox' class='ee-toggle'></label><ul><li><span class='ee-k'>0:</span><span class='ee-v'>83.82222685925387</span></li><li><span class='ee-k'>1:</span><span class='ee-v'>27.299802588766386</span></li></ul></li><li><label class='ee-shut'>10: [83.81870511853974, 27.29569324672656]<input type='checkbox' class='ee-toggle'></label><ul><li><span class='ee-k'>0:</span><span class='ee-v'>83.81870511853974</span></li><li><span class='ee-k'>1:</span><span class='ee-v'>27.29569324672656</span></li></ul></li><li><label class='ee-shut'>11: [83.81870511853974, 27.286387504709076]<input type='checkbox' class='ee-toggle'></label><ul><li><span class='ee-k'>0:</span><span class='ee-v'>83.81870511853974</span></li><li><span class='ee-k'>1:</span><span class='ee-v'>27.286387504709076</span></li></ul></li><li><label class='ee-shut'>12: [83.82059345835536, 27.277843827139343]<input type='checkbox' class='ee-toggle'></label><ul><li><span class='ee-k'>0:</span><span class='ee-v'>83.82059345835536</span></li><li><span class='ee-k'>1:</span><span class='ee-v'>27.277843827139343</span></li></ul></li><li><label class='ee-shut'>13: [83.81837979924195, 27.263582565451838]<input type='checkbox' class='ee-toggle'></label><ul><li><span class='ee-k'>0:</span><span class='ee-v'>83.81837979924195</span></li><li><span class='ee-k'>1:</span><span class='ee-v'>27.263582565451838</span></li></ul></li><li><label class='ee-shut'>14: [83.82095470431155, 27.25435035162096]<input type='checkbox' class='ee-toggle'></label><ul><li><span class='ee-k'>0:</span><span class='ee-v'>83.82095470431155</span></li><li><span class='ee-k'>1:</span><span class='ee-v'>27.25435035162096</span></li></ul></li><li><label class='ee-shut'>15: [83.8226713019318, 27.24183617565586]<input type='checkbox' class='ee-toggle'></label><ul><li><span class='ee-k'>0:</span><span class='ee-v'>83.8226713019318</span></li><li><span class='ee-k'>1:</span><span class='ee-v'>27.24183617565586</span></li></ul></li><li><label class='ee-shut'>16: [83.82533206330818, 27.23466274233603]<input type='checkbox' class='ee-toggle'></label><ul><li><span class='ee-k'>0:</span><span class='ee-v'>83.82533206330818</span></li><li><span class='ee-k'>1:</span><span class='ee-v'>27.23466274233603</span></li></ul></li><li><label class='ee-shut'>17: [83.8346018240988, 27.22954953375578]<input type='checkbox' class='ee-toggle'></label><ul><li><span class='ee-k'>0:</span><span class='ee-v'>83.8346018240988</span></li><li><span class='ee-k'>1:</span><span class='ee-v'>27.22954953375578</span></li></ul></li><li><label class='ee-shut'>18: [83.84953636365134, 27.224436006009416]<input type='checkbox' class='ee-toggle'></label><ul><li><span class='ee-k'>0:</span><span class='ee-v'>83.84953636365134</span></li><li><span class='ee-k'>1:</span><span class='ee-v'>27.224436006009416</span></li></ul></li><li><label class='ee-shut'>19: [83.85949273244924, 27.226725625664077]<input type='checkbox' class='ee-toggle'></label><ul><li><span class='ee-k'>0:</span><span class='ee-v'>83.85949273244924</span></li><li><span class='ee-k'>1:</span><span class='ee-v'>27.226725625664077</span></li></ul></li><li><label class='ee-shut'>20: [83.8719246644081, 27.226256185955943]<input type='checkbox' class='ee-toggle'></label><ul><li><span class='ee-k'>0:</span><span class='ee-v'>83.8719246644081</span></li><li><span class='ee-k'>1:</span><span class='ee-v'>27.226256185955943</span></li></ul></li><li><label class='ee-shut'>21: [83.89218071174531, 27.216028633085298]<input type='checkbox' class='ee-toggle'></label><ul><li><span class='ee-k'>0:</span><span class='ee-v'>83.89218071174531</span></li><li><span class='ee-k'>1:</span><span class='ee-v'>27.216028633085298</span></li></ul></li><li><label class='ee-shut'>22: [83.9072869227687, 27.20915889489097]<input type='checkbox' class='ee-toggle'></label><ul><li><span class='ee-k'>0:</span><span class='ee-v'>83.9072869227687</span></li><li><span class='ee-k'>1:</span><span class='ee-v'>27.20915889489097</span></li></ul></li><li><label class='ee-shut'>23: [83.91621329942895, 27.20931154457757]<input type='checkbox' class='ee-toggle'></label><ul><li><span class='ee-k'>0:</span><span class='ee-v'>83.91621329942895</span></li><li><span class='ee-k'>1:</span><span class='ee-v'>27.20931154457757</span></li></ul></li><li><label class='ee-shut'>24: [83.92925953088299, 27.20442617232681]<input type='checkbox' class='ee-toggle'></label><ul><li><span class='ee-k'>0:</span><span class='ee-v'>83.92925953088299</span></li><li><span class='ee-k'>1:</span><span class='ee-v'>27.20442617232681</span></li></ul></li><li><label class='ee-shut'>25: [83.93183447649054, 27.19419668825264]<input type='checkbox' class='ee-toggle'></label><ul><li><span class='ee-k'>0:</span><span class='ee-v'>83.93183447649054</span></li><li><span class='ee-k'>1:</span><span class='ee-v'>27.19419668825264</span></li></ul></li><li><label class='ee-shut'>26: [83.94402240486545, 27.180454042866497]<input type='checkbox' class='ee-toggle'></label><ul><li><span class='ee-k'>0:</span><span class='ee-v'>83.94402240486545</span></li><li><span class='ee-k'>1:</span><span class='ee-v'>27.180454042866497</span></li></ul></li><li><label class='ee-shut'>27: [83.97002818121815, 27.145708982341564]<input type='checkbox' class='ee-toggle'></label><ul><li><span class='ee-k'>0:</span><span class='ee-v'>83.97002818121815</span></li><li><span class='ee-k'>1:</span><span class='ee-v'>27.145708982341564</span></li></ul></li><li><label class='ee-shut'>28: [83.98513444688976, 27.10720868860237]<input type='checkbox' class='ee-toggle'></label><ul><li><span class='ee-k'>0:</span><span class='ee-v'>83.98513444688976</span></li><li><span class='ee-k'>1:</span><span class='ee-v'>27.10720868860237</span></li></ul></li><li><label class='ee-shut'>29: [84.00161394431133, 27.069918045615676]<input type='checkbox' class='ee-toggle'></label><ul><li><span class='ee-k'>0:</span><span class='ee-v'>84.00161394431133</span></li><li><span class='ee-k'>1:</span><span class='ee-v'>27.069918045615676</span></li></ul></li><li><label class='ee-shut'>30: [84.03113961855873, 27.04545834322716]<input type='checkbox' class='ee-toggle'></label><ul><li><span class='ee-k'>0:</span><span class='ee-v'>84.03113961855873</span></li><li><span class='ee-k'>1:</span><span class='ee-v'>27.04545834322716</span></li></ul></li><li><label class='ee-shut'>31: [84.06298287319323, 26.99667603542857]<input type='checkbox' class='ee-toggle'></label><ul><li><span class='ee-k'>0:</span><span class='ee-v'>84.06298287319323</span></li><li><span class='ee-k'>1:</span><span class='ee-v'>26.99667603542857</span></li></ul></li><li><label class='ee-shut'>32: [84.06238247835024, 26.99269927885781]<input type='checkbox' class='ee-toggle'></label><ul><li><span class='ee-k'>0:</span><span class='ee-v'>84.06238247835024</span></li><li><span class='ee-k'>1:</span><span class='ee-v'>26.99269927885781</span></li></ul></li><li><label class='ee-shut'>33: [84.07559994358662, 26.987039397252317]<input type='checkbox' class='ee-toggle'></label><ul><li><span class='ee-k'>0:</span><span class='ee-v'>84.07559994358662</span></li><li><span class='ee-k'>1:</span><span class='ee-v'>26.987039397252317</span></li></ul></li><li><label class='ee-shut'>34: [84.08572640537547, 26.99166749515572]<input type='checkbox' class='ee-toggle'></label><ul><li><span class='ee-k'>0:</span><span class='ee-v'>84.08572640537547</span></li><li><span class='ee-k'>1:</span><span class='ee-v'>26.99166749515572</span></li></ul></li><li><label class='ee-shut'>35: [84.09722702350562, 26.994077221892372]<input type='checkbox' class='ee-toggle'></label><ul><li><span class='ee-k'>0:</span><span class='ee-v'>84.09722702350562</span></li><li><span class='ee-k'>1:</span><span class='ee-v'>26.994077221892372</span></li></ul></li><li><label class='ee-shut'>36: [84.10417954806897, 27.006122365903284]<input type='checkbox' class='ee-toggle'></label><ul><li><span class='ee-k'>0:</span><span class='ee-v'>84.10417954806897</span></li><li><span class='ee-k'>1:</span><span class='ee-v'>27.006122365903284</span></li></ul></li><li><label class='ee-shut'>37: [84.11525294313765, 27.006237093189117]<input type='checkbox' class='ee-toggle'></label><ul><li><span class='ee-k'>0:</span><span class='ee-v'>84.11525294313765</span></li><li><span class='ee-k'>1:</span><span class='ee-v'>27.006237093189117</span></li></ul></li><li><label class='ee-shut'>38: [84.12641168464872, 26.978778737124664]<input type='checkbox' class='ee-toggle'></label><ul><li><span class='ee-k'>0:</span><span class='ee-v'>84.12641168464872</span></li><li><span class='ee-k'>1:</span><span class='ee-v'>26.978778737124664</span></li></ul></li><li><label class='ee-shut'>39: [84.14306286442661, 26.938996904301057]<input type='checkbox' class='ee-toggle'></label><ul><li><span class='ee-k'>0:</span><span class='ee-v'>84.14306286442661</span></li><li><span class='ee-k'>1:</span><span class='ee-v'>26.938996904301057</span></li></ul></li><li><label class='ee-shut'>40: [84.15954232648212, 26.921855739497705]<input type='checkbox' class='ee-toggle'></label><ul><li><span class='ee-k'>0:</span><span class='ee-v'>84.15954232648212</span></li><li><span class='ee-k'>1:</span><span class='ee-v'>26.921855739497705</span></li></ul></li><li><label class='ee-shut'>41: [84.16778205048891, 26.897363841698724]<input type='checkbox' class='ee-toggle'></label><ul><li><span class='ee-k'>0:</span><span class='ee-v'>84.16778205048891</span></li><li><span class='ee-k'>1:</span><span class='ee-v'>26.897363841698724</span></li></ul></li><li><label class='ee-shut'>42: [84.21859379579746, 26.83182206732597]<input type='checkbox' class='ee-toggle'></label><ul><li><span class='ee-k'>0:</span><span class='ee-v'>84.21859379579746</span></li><li><span class='ee-k'>1:</span><span class='ee-v'>26.83182206732597</span></li></ul></li><li><label class='ee-shut'>43: [84.24400312229668, 26.816349495041983]<input type='checkbox' class='ee-toggle'></label><ul><li><span class='ee-k'>0:</span><span class='ee-v'>84.24400312229668</span></li><li><span class='ee-k'>1:</span><span class='ee-v'>26.816349495041983</span></li></ul></li><li><label class='ee-shut'>44: [84.25773262986816, 26.79260135392499]<input type='checkbox' class='ee-toggle'></label><ul><li><span class='ee-k'>0:</span><span class='ee-v'>84.25773262986816</span></li><li><span class='ee-k'>1:</span><span class='ee-v'>26.79260135392499</span></li></ul></li><li><label class='ee-shut'>45: [84.27429931611526, 26.780035552399823]<input type='checkbox' class='ee-toggle'></label><ul><li><span class='ee-k'>0:</span><span class='ee-v'>84.27429931611526</span></li><li><span class='ee-k'>1:</span><span class='ee-v'>26.780035552399823</span></li></ul></li><li><label class='ee-shut'>46: [84.28056360070269, 26.76470964817194]<input type='checkbox' class='ee-toggle'></label><ul><li><span class='ee-k'>0:</span><span class='ee-v'>84.28056360070269</span></li><li><span class='ee-k'>1:</span><span class='ee-v'>26.76470964817194</span></li></ul></li><li><label class='ee-shut'>47: [84.2900920346704, 26.751374037502924]<input type='checkbox' class='ee-toggle'></label><ul><li><span class='ee-k'>0:</span><span class='ee-v'>84.2900920346704</span></li><li><span class='ee-k'>1:</span><span class='ee-v'>26.751374037502924</span></li></ul></li><li><label class='ee-shut'>48: [84.30236454869353, 26.739263939905474]<input type='checkbox' class='ee-toggle'></label><ul><li><span class='ee-k'>0:</span><span class='ee-v'>84.30236454869353</span></li><li><span class='ee-k'>1:</span><span class='ee-v'>26.739263939905474</span></li></ul></li><li><label class='ee-shut'>49: [84.30854437521035, 26.69510368703035]<input type='checkbox' class='ee-toggle'></label><ul><li><span class='ee-k'>0:</span><span class='ee-v'>84.30854437521035</span></li><li><span class='ee-k'>1:</span><span class='ee-v'>26.69510368703035</span></li></ul></li><li><label class='ee-shut'>50: [84.44793340542182, 26.704918543854216]<input type='checkbox' class='ee-toggle'></label><ul><li><span class='ee-k'>0:</span><span class='ee-v'>84.44793340542182</span></li><li><span class='ee-k'>1:</span><span class='ee-v'>26.704918543854216</span></li></ul></li><li><label class='ee-shut'>51: [84.43351380205964, 26.71718594345185]<input type='checkbox' class='ee-toggle'></label><ul><li><span class='ee-k'>0:</span><span class='ee-v'>84.43351380205964</span></li><li><span class='ee-k'>1:</span><span class='ee-v'>26.71718594345185</span></li></ul></li><li><label class='ee-shut'>52: [84.38544865839593, 26.766395570454407]<input type='checkbox' class='ee-toggle'></label><ul><li><span class='ee-k'>0:</span><span class='ee-v'>84.38544865839593</span></li><li><span class='ee-k'>1:</span><span class='ee-v'>26.766395570454407</span></li></ul></li><li><label class='ee-shut'>53: [84.38377536363764, 26.78089503710135]<input type='checkbox' class='ee-toggle'></label><ul><li><span class='ee-k'>0:</span><span class='ee-v'>84.38377536363764</span></li><li><span class='ee-k'>1:</span><span class='ee-v'>26.78089503710135</span></li></ul></li><li><label class='ee-shut'>54: [84.39034245391085, 26.793862040688975]<input type='checkbox' class='ee-toggle'></label><ul><li><span class='ee-k'>0:</span><span class='ee-v'>84.39034245391085</span></li><li><span class='ee-k'>1:</span><span class='ee-v'>26.793862040688975</span></li></ul></li><li><label class='ee-shut'>55: [84.38596594519927, 26.815351290297855]<input type='checkbox' class='ee-toggle'></label><ul><li><span class='ee-k'>0:</span><span class='ee-v'>84.38596594519927</span></li><li><span class='ee-k'>1:</span><span class='ee-v'>26.815351290297855</span></li></ul></li><li><label class='ee-shut'>56: [84.36999916699851, 26.825847888300338]<input type='checkbox' class='ee-toggle'></label><ul><li><span class='ee-k'>0:</span><span class='ee-v'>84.36999916699851</span></li><li><span class='ee-k'>1:</span><span class='ee-v'>26.825847888300338</span></li></ul></li><li><label class='ee-shut'>57: [84.33507000338972, 26.84293309350729]<input type='checkbox' class='ee-toggle'></label><ul><li><span class='ee-k'>0:</span><span class='ee-v'>84.33507000338972</span></li><li><span class='ee-k'>1:</span><span class='ee-v'>26.84293309350729</span></li></ul></li><li><label class='ee-shut'>58: [84.30768604874378, 26.847598468183612]<input type='checkbox' class='ee-toggle'></label><ul><li><span class='ee-k'>0:</span><span class='ee-v'>84.30768604874378</span></li><li><span class='ee-k'>1:</span><span class='ee-v'>26.847598468183612</span></li></ul></li><li><label class='ee-shut'>59: [84.26253912583434, 26.876847893314544]<input type='checkbox' class='ee-toggle'></label><ul><li><span class='ee-k'>0:</span><span class='ee-v'>84.26253912583434</span></li><li><span class='ee-k'>1:</span><span class='ee-v'>26.876847893314544</span></li></ul></li><li><label class='ee-shut'>60: [84.25241211719727, 26.889705776238625]<input type='checkbox' class='ee-toggle'></label><ul><li><span class='ee-k'>0:</span><span class='ee-v'>84.25241211719727</span></li><li><span class='ee-k'>1:</span><span class='ee-v'>26.889705776238625</span></li></ul></li><li><label class='ee-shut'>61: [84.25953541270552, 26.907616919265006]<input type='checkbox' class='ee-toggle'></label><ul><li><span class='ee-k'>0:</span><span class='ee-v'>84.25953541270552</span></li><li><span class='ee-k'>1:</span><span class='ee-v'>26.907616919265006</span></li></ul></li><li><label class='ee-shut'>62: [84.2515961372891, 26.921088073749914]<input type='checkbox' class='ee-toggle'></label><ul><li><span class='ee-k'>0:</span><span class='ee-v'>84.2515961372891</span></li><li><span class='ee-k'>1:</span><span class='ee-v'>26.921088073749914</span></li></ul></li><li><label class='ee-shut'>63: [84.24333468550435, 26.924073716508016]<input type='checkbox' class='ee-toggle'></label><ul><li><span class='ee-k'>0:</span><span class='ee-v'>84.24333468550435</span></li><li><span class='ee-k'>1:</span><span class='ee-v'>26.924073716508016</span></li></ul></li><li><label class='ee-shut'>64: [84.25172448629327, 26.931651047006913]<input type='checkbox' class='ee-toggle'></label><ul><li><span class='ee-k'>0:</span><span class='ee-v'>84.25172448629327</span></li><li><span class='ee-k'>1:</span><span class='ee-v'>26.931651047006913</span></li></ul></li><li><label class='ee-shut'>65: [84.24425824518417, 26.94825377517192]<input type='checkbox' class='ee-toggle'></label><ul><li><span class='ee-k'>0:</span><span class='ee-v'>84.24425824518417</span></li><li><span class='ee-k'>1:</span><span class='ee-v'>26.94825377517192</span></li></ul></li><li><label class='ee-shut'>66: [84.22760601119808, 26.962179159733537]<input type='checkbox' class='ee-toggle'></label><ul><li><span class='ee-k'>0:</span><span class='ee-v'>84.22760601119808</span></li><li><span class='ee-k'>1:</span><span class='ee-v'>26.962179159733537</span></li></ul></li><li><label class='ee-shut'>67: [84.2054617265185, 26.960649136050314]<input type='checkbox' class='ee-toggle'></label><ul><li><span class='ee-k'>0:</span><span class='ee-v'>84.2054617265185</span></li><li><span class='ee-k'>1:</span><span class='ee-v'>26.960649136050314</span></li></ul></li><li><label class='ee-shut'>68: [84.17327411467133, 26.968268067722736]<input type='checkbox' class='ee-toggle'></label><ul><li><span class='ee-k'>0:</span><span class='ee-v'>84.17327411467133</span></li><li><span class='ee-k'>1:</span><span class='ee-v'>26.968268067722736</span></li></ul></li><li><label class='ee-shut'>69: [84.16438739527123, 26.978655683208725]<input type='checkbox' class='ee-toggle'></label><ul><li><span class='ee-k'>0:</span><span class='ee-v'>84.16438739527123</span></li><li><span class='ee-k'>1:</span><span class='ee-v'>26.978655683208725</span></li></ul></li><li><label class='ee-shut'>70: [84.16245384161812, 26.993250919485504]<input type='checkbox' class='ee-toggle'></label><ul><li><span class='ee-k'>0:</span><span class='ee-v'>84.16245384161812</span></li><li><span class='ee-k'>1:</span><span class='ee-v'>26.993250919485504</span></li></ul></li><li><label class='ee-shut'>71: [84.15927814850873, 27.008622406412645]<input type='checkbox' class='ee-toggle'></label><ul><li><span class='ee-k'>0:</span><span class='ee-v'>84.15927814850873</span></li><li><span class='ee-k'>1:</span><span class='ee-v'>27.008622406412645</span></li></ul></li><li><label class='ee-shut'>72: [84.15790483896498, 27.037677247145538]<input type='checkbox' class='ee-toggle'></label><ul><li><span class='ee-k'>0:</span><span class='ee-v'>84.15790483896498</span></li><li><span class='ee-k'>1:</span><span class='ee-v'>27.037677247145538</span></li></ul></li><li><label class='ee-shut'>73: [84.16442796035467, 27.066113047336593]<input type='checkbox' class='ee-toggle'></label><ul><li><span class='ee-k'>0:</span><span class='ee-v'>84.16442796035467</span></li><li><span class='ee-k'>1:</span><span class='ee-v'>27.066113047336593</span></li></ul></li><li><label class='ee-shut'>74: [84.15241168893516, 27.081703776987638]<input type='checkbox' class='ee-toggle'></label><ul><li><span class='ee-k'>0:</span><span class='ee-v'>84.15241168893516</span></li><li><span class='ee-k'>1:</span><span class='ee-v'>27.081703776987638</span></li></ul></li><li><label class='ee-shut'>75: [84.1246025499089, 27.09179081515716]<input type='checkbox' class='ee-toggle'></label><ul><li><span class='ee-k'>0:</span><span class='ee-v'>84.1246025499089</span></li><li><span class='ee-k'>1:</span><span class='ee-v'>27.09179081515716</span></li></ul></li><li><label class='ee-shut'>76: [84.09267348707702, 27.09866771068504]<input type='checkbox' class='ee-toggle'></label><ul><li><span class='ee-k'>0:</span><span class='ee-v'>84.09267348707702</span></li><li><span class='ee-k'>1:</span><span class='ee-v'>27.09866771068504</span></li></ul></li><li><label class='ee-shut'>77: [84.0758507056719, 27.11538752326045]<input type='checkbox' class='ee-toggle'></label><ul><li><span class='ee-k'>0:</span><span class='ee-v'>84.0758507056719</span></li><li><span class='ee-k'>1:</span><span class='ee-v'>27.11538752326045</span></li></ul></li><li><label class='ee-shut'>78: [84.05954287745105, 27.129443666158256]<input type='checkbox' class='ee-toggle'></label><ul><li><span class='ee-k'>0:</span><span class='ee-v'>84.05954287745105</span></li><li><span class='ee-k'>1:</span><span class='ee-v'>27.129443666158256</span></li></ul></li><li><label class='ee-shut'>79: [84.05954287745105, 27.14823346612184]<input type='checkbox' class='ee-toggle'></label><ul><li><span class='ee-k'>0:</span><span class='ee-v'>84.05954287745105</span></li><li><span class='ee-k'>1:</span><span class='ee-v'>27.14823346612184</span></li></ul></li><li><label class='ee-shut'>80: [84.05301975609609, 27.16763091742526]<input type='checkbox' class='ee-toggle'></label><ul><li><span class='ee-k'>0:</span><span class='ee-v'>84.05301975609609</span></li><li><span class='ee-k'>1:</span><span class='ee-v'>27.16763091742526</span></li></ul></li><li><label class='ee-shut'>81: [84.03722689348406, 27.187483081909086]<input type='checkbox' class='ee-toggle'></label><ul><li><span class='ee-k'>0:</span><span class='ee-v'>84.03722689348406</span></li><li><span class='ee-k'>1:</span><span class='ee-v'>27.187483081909086</span></li></ul></li><li><label class='ee-shut'>82: [84.00598453531312, 27.196644494058454]<input type='checkbox' class='ee-toggle'></label><ul><li><span class='ee-k'>0:</span><span class='ee-v'>84.00598453531312</span></li><li><span class='ee-k'>1:</span><span class='ee-v'>27.196644494058454</span></li></ul></li><li><label class='ee-shut'>83: [83.9805786928549, 27.197865941946237]<input type='checkbox' class='ee-toggle'></label><ul><li><span class='ee-k'>0:</span><span class='ee-v'>83.9805786928549</span></li><li><span class='ee-k'>1:</span><span class='ee-v'>27.197865941946237</span></li></ul></li><li><label class='ee-shut'>84: [83.96890572690417, 27.203056988812857]<input type='checkbox' class='ee-toggle'></label><ul><li><span class='ee-k'>0:</span><span class='ee-v'>83.96890572690417</span></li><li><span class='ee-k'>1:</span><span class='ee-v'>27.203056988812857</span></li></ul></li><li><label class='ee-shut'>85: [83.9533449159553, 27.226576552400214]<input type='checkbox' class='ee-toggle'></label><ul><li><span class='ee-k'>0:</span><span class='ee-v'>83.9533449159553</span></li><li><span class='ee-k'>1:</span><span class='ee-v'>27.226576552400214</span></li></ul></li><li><label class='ee-shut'>86: [83.93944031087315, 27.242755438076752]<input type='checkbox' class='ee-toggle'></label><ul><li><span class='ee-k'>0:</span><span class='ee-v'>83.93944031087315</span></li><li><span class='ee-k'>1:</span><span class='ee-v'>27.242755438076752</span></li></ul></li><li><label class='ee-shut'>87: [83.92605073620169, 27.25191225406755]<input type='checkbox' class='ee-toggle'></label><ul><li><span class='ee-k'>0:</span><span class='ee-v'>83.92605073620169</span></li><li><span class='ee-k'>1:</span><span class='ee-v'>27.25191225406755</span></li></ul></li><li><label class='ee-shut'>88: [83.91197455624638, 27.25832155349223]<input type='checkbox' class='ee-toggle'></label><ul><li><span class='ee-k'>0:</span><span class='ee-v'>83.91197455624638</span></li><li><span class='ee-k'>1:</span><span class='ee-v'>27.25832155349223</span></li></ul></li><li><label class='ee-shut'>89: [83.89206178352968, 27.266408959685535]<input type='checkbox' class='ee-toggle'></label><ul><li><span class='ee-k'>0:</span><span class='ee-v'>83.89206178352968</span></li><li><span class='ee-k'>1:</span><span class='ee-v'>27.266408959685535</span></li></ul></li><li><label class='ee-shut'>90: [83.87970217882749, 27.273885464918262]<input type='checkbox' class='ee-toggle'></label><ul><li><span class='ee-k'>0:</span><span class='ee-v'>83.87970217882749</span></li><li><span class='ee-k'>1:</span><span class='ee-v'>27.273885464918262</span></li></ul></li><li><label class='ee-shut'>91: [83.87781395394589, 27.27922559553545]<input type='checkbox' class='ee-toggle'></label><ul><li><span class='ee-k'>0:</span><span class='ee-v'>83.87781395394589</span></li><li><span class='ee-k'>1:</span><span class='ee-v'>27.27922559553545</span></li></ul></li><li><label class='ee-shut'>92: [83.86871585851901, 27.286853776657747]<input type='checkbox' class='ee-toggle'></label><ul><li><span class='ee-k'>0:</span><span class='ee-v'>83.86871585851901</span></li><li><span class='ee-k'>1:</span><span class='ee-v'>27.286853776657747</span></li></ul></li><li><label class='ee-shut'>93: [83.85790125195611, 27.29875283224378]<input type='checkbox' class='ee-toggle'></label><ul><li><span class='ee-k'>0:</span><span class='ee-v'>83.85790125195611</span></li><li><span class='ee-k'>1:</span><span class='ee-v'>27.29875283224378</span></li></ul></li><li><label class='ee-shut'>94: [83.85172139689524, 27.30439676502543]<input type='checkbox' class='ee-toggle'></label><ul><li><span class='ee-k'>0:</span><span class='ee-v'>83.85172139689524</span></li><li><span class='ee-k'>1:</span><span class='ee-v'>27.30439676502543</span></li></ul></li><li><label class='ee-shut'>95: [83.85481767161554, 27.32031084937967]<input type='checkbox' class='ee-toggle'></label><ul><li><span class='ee-k'>0:</span><span class='ee-v'>83.85481767161554</span></li><li><span class='ee-k'>1:</span><span class='ee-v'>27.32031084937967</span></li></ul></li><li><label class='ee-shut'>96: [83.8573067618649, 27.32991882070192]<input type='checkbox' class='ee-toggle'></label><ul><li><span class='ee-k'>0:</span><span class='ee-v'>83.8573067618649</span></li><li><span class='ee-k'>1:</span><span class='ee-v'>27.32991882070192</span></li></ul></li><li><label class='ee-shut'>97: [83.8609116343437, 27.34082199320257]<input type='checkbox' class='ee-toggle'></label><ul><li><span class='ee-k'>0:</span><span class='ee-v'>83.8609116343437</span></li><li><span class='ee-k'>1:</span><span class='ee-v'>27.34082199320257</span></li></ul></li><li><label class='ee-shut'>98: [83.86119838751826, 27.343925656846174]<input type='checkbox' class='ee-toggle'></label><ul><li><span class='ee-k'>0:</span><span class='ee-v'>83.86119838751826</span></li><li><span class='ee-k'>1:</span><span class='ee-v'>27.343925656846174</span></li></ul></li><li><label class='ee-shut'>99: [83.85202461590397, 27.346474378885482]<input type='checkbox' class='ee-toggle'></label><ul><li><span class='ee-k'>0:</span><span class='ee-v'>83.85202461590397</span></li><li><span class='ee-k'>1:</span><span class='ee-v'>27.346474378885482</span></li></ul></li></ul></li></ul></li></ul></li><li><label class='ee-shut'>properties: Object (0 properties)<input type='checkbox' class='ee-toggle'></label><ul></ul></li></ul></li></ul></li></ul></li></ul></div><script>function toggleHeader() {\n",
       "    const parent = this.parentElement;\n",
       "    parent.className = parent.className === \"ee-open\" ? \"ee-shut\" : \"ee-open\";\n",
       "}\n",
       "\n",
       "for (let c of document.getElementsByClassName(\"ee-toggle\")) {\n",
       "    c.onclick = toggleHeader;\n",
       "}</script></div>"
      ],
      "text/plain": [
       "<ee.featurecollection.FeatureCollection at 0x15acdeb20>"
      ]
     },
     "execution_count": 8,
     "metadata": {},
     "output_type": "execute_result"
    }
   ],
   "source": [
    "date = '2022-02-15' #from analysis in river_sand_flooding_gst GEE \n",
    "max_search_window_months = 2\n",
    "median_samples = 5\n",
    "mosaic_method = 'median'\n",
    "\n",
    "lon, lat = 83.85196876107901, 27.346501623680787\n",
    "gandak_gst = ee.Geometry.Point([lon, lat])\n",
    "\n",
    "mining_centroids = ee.FeatureCollection('projects/gee-sand/assets/bihar_sand_banks_centroids')\n",
    "\n",
    "s1_s2 = qm.get_s1_s2(roi=roi, date=date, max_search_window_months=max_search_window_months,median_samples=median_samples, mosaic_method=mosaic_method, clip=False)\n",
    "s1_s2.bandNames()\n",
    "roi"
   ]
  },
  {
   "cell_type": "markdown",
   "id": "2e8899db",
   "metadata": {},
   "source": [
    "#### SNIC"
   ]
  },
  {
   "cell_type": "code",
   "execution_count": 9,
   "id": "ef7e2386",
   "metadata": {},
   "outputs": [],
   "source": [
    "snicBands = tv.apply_snic(image=s1_s2, roi=roi)"
   ]
  },
  {
   "cell_type": "code",
   "execution_count": 10,
   "id": "631d7928",
   "metadata": {},
   "outputs": [
    {
     "data": {
      "application/vnd.jupyter.widget-view+json": {
       "model_id": "0ac1d5f423f04a0dbe841f58c0b2f4fb",
       "version_major": 2,
       "version_minor": 0
      },
      "text/plain": [
       "Map(center=[27.110156013724573, 84.12375736993856], controls=(WidgetControl(options=['position', 'transparent_…"
      ]
     },
     "metadata": {},
     "output_type": "display_data"
    }
   ],
   "source": [
    "Map = geemap.Map()\n",
    "Map.centerObject(roi, 10)\n",
    "Map.add_basemap('SATELLITE')\n",
    "# Map.add_basemap('Stamen.Toner')\n",
    "Map.addLayer(s1_s2, qm.visParamsVV, 'S1', False)\n",
    "Map.addLayer(s1_s2, qm.visParamsMTGSI , 'mTGSI', False)\n",
    "Map.addLayer(s1_s2, qm.visParamsRGB, 'S2')\n",
    "\n",
    "\n",
    "Map"
   ]
  },
  {
   "cell_type": "code",
   "execution_count": 11,
   "id": "3a588233",
   "metadata": {},
   "outputs": [],
   "source": [
    "classy_RF = snicBands.classify(RF)\n",
    "#necessary to keep the final resolution at 10m: not needed if you're zooming around and using interactively\n",
    "# classy_RF = classy_RF.reproject (crs = classy_RF.projection (), scale = 10)\n",
    "\n",
    "# classy_RF.getInfo()\n",
    "\n",
    "Map.addLayer(\n",
    "    classy_RF,\n",
    "    {\"min\": 0, \"max\": len(qm.class_dict)-1, \"palette\": tv.palette},\n",
    "    'classification',\n",
    ")\n",
    "\n",
    "Map.add_legend(title=\"Classes\", legend_dict=qm.legend_dict, position=\"bottomleft\")\n"
   ]
  },
  {
   "cell_type": "code",
   "execution_count": 13,
   "id": "71a52c34",
   "metadata": {},
   "outputs": [],
   "source": [
    "RF_prob = RF.setOutputMode('MULTIPROBABILITY')\n",
    "\n",
    "classy_RF_multi = snicBands.classify(RF_prob)\n",
    "# classy_RF_multi = classy_RF_multi.reproject (crs = classy_RF_multi.projection (), scale = 10)\n",
    "\n",
    "\n",
    "classNameList = list(tv.legend_dict.keys())\n",
    "rfresult_PROB = classy_RF_multi.arrayFlatten([classNameList])"
   ]
  },
  {
   "cell_type": "code",
   "execution_count": 14,
   "id": "06d260be",
   "metadata": {},
   "outputs": [],
   "source": [
    "thresholds = [0, 0.3, 0.1, 0, 0.2, 0, 0, 0]\n",
    "keys = list(tv.legend_dict.keys())\n",
    "\n",
    "for i, t in enumerate(thresholds):\n",
    "    if t == 0:\n",
    "        continue\n",
    "\n",
    "    Map.addLayer(\n",
    "        rfresult_PROB.select(i).gt(t),\n",
    "        {\"min\": 0, \"max\": 1, \"palette\": [\"black\", tv.legend_dict[keys[i]]]},\n",
    "        f\"classification_{keys[i]}\",\n",
    "    )"
   ]
  },
  {
   "attachments": {},
   "cell_type": "markdown",
   "id": "add470fb",
   "metadata": {},
   "source": [
    "## Masks"
   ]
  },
  {
   "cell_type": "code",
   "execution_count": 27,
   "id": "4d0205de",
   "metadata": {},
   "outputs": [],
   "source": [
    "mask_sand = classy_RF.remap([0,2,3,4,5,6,7], [0,2,3,4,5,6,7])\n",
    "mask_gravel = classy_RF.remap([0,1,3,4,5,6,7], [0,1,3,4,5,6,7])\n",
    "\n",
    "Map.addLayer(mask_sand, {\"palette\": 'black'},\n",
    "             '[mask]Sand');\n",
    "Map.addLayer(mask_gravel, {\"palette\": 'black'},\n",
    "             '[mask]Gravel');"
   ]
  },
  {
   "cell_type": "code",
   "execution_count": 29,
   "id": "37e4de76",
   "metadata": {},
   "outputs": [
    {
     "data": {
      "text/html": [
       "<div><style>:root {\n",
       "  --font-color-primary: var(--jp-content-font-color0, rgba(0, 0, 0, 1));\n",
       "  --font-color-secondary: var(--jp-content-font-color2, rgba(0, 0, 0, 0.6));\n",
       "  --font-color-accent: rgba(123, 31, 162, 1);\n",
       "  --border-color: var(--jp-border-color2, #e0e0e0);\n",
       "  --background-color: var(--jp-layout-color0, white);\n",
       "  --background-color-row-even: var(--jp-layout-color1, white);\n",
       "  --background-color-row-odd: var(--jp-layout-color2, #eeeeee);\n",
       "}\n",
       "\n",
       "html[theme=\"dark\"],\n",
       "body[data-theme=\"dark\"],\n",
       "body.vscode-dark {\n",
       "  --font-color-primary: rgba(255, 255, 255, 1);\n",
       "  --font-color-secondary: rgba(255, 255, 255, 0.6);\n",
       "  --font-color-accent: rgb(173, 132, 190);\n",
       "  --border-color: #2e2e2e;\n",
       "  --background-color: #111111;\n",
       "  --background-color-row-even: #111111;\n",
       "  --background-color-row-odd: #313131;\n",
       "}\n",
       "\n",
       ".ee {\n",
       "  padding: 1em;\n",
       "  line-height: 1.5em;\n",
       "  min-width: 300px;\n",
       "  max-width: 1200px;\n",
       "  overflow-y: scroll;\n",
       "  max-height: 600px;\n",
       "  border: 1px solid var(--border-color);\n",
       "  font-family: monospace;\n",
       "}\n",
       "\n",
       ".ee li {\n",
       "  list-style-type: none;\n",
       "}\n",
       "\n",
       ".ee ul {\n",
       "  padding-left: 1.5em !important;\n",
       "  margin: 0;\n",
       "}\n",
       "\n",
       ".ee > ul {\n",
       "  padding-left: 0 !important;\n",
       "}\n",
       "\n",
       ".ee-open,\n",
       ".ee-shut {\n",
       "  color: var(--font-color-secondary);\n",
       "  cursor: pointer;\n",
       "  margin: 0;\n",
       "}\n",
       "\n",
       ".ee-open:hover,\n",
       ".ee-shut:hover {\n",
       "  color: var(--font-color-primary);\n",
       "}\n",
       "\n",
       ".ee-k {\n",
       "  color: var(--font-color-accent);\n",
       "  margin-right: 6px;\n",
       "}\n",
       "\n",
       ".ee-v {\n",
       "  color: var(--font-color-primary);\n",
       "}\n",
       "\n",
       ".ee-toggle {\n",
       "  display: none;\n",
       "}\n",
       "\n",
       ".ee-shut + ul {\n",
       "  display: none;\n",
       "}\n",
       "\n",
       ".ee-open + ul {\n",
       "  display: block;\n",
       "}\n",
       "\n",
       ".ee-shut::before {\n",
       "  display: inline-block;\n",
       "  content: \"▼\";\n",
       "  margin-right: 6px;\n",
       "  transform: rotate(-90deg);\n",
       "  transition: transform 0.2s;\n",
       "}\n",
       "\n",
       ".ee-open::before {\n",
       "  transform: rotate(0deg);\n",
       "  display: inline-block;\n",
       "  content: \"▼\";\n",
       "  margin-right: 6px;\n",
       "  transition: transform 0.2s;\n",
       "}\n",
       "</style><div class='ee'><ul><li><label class='ee-shut'>Image (1 band)<input type='checkbox' class='ee-toggle'></label><ul><li><span class='ee-k'>type:</span><span class='ee-v'>Image</span></li><li><label class='ee-shut'>bands: List (1 element)<input type='checkbox' class='ee-toggle'></label><ul><li><label class='ee-shut'>0: \"classification\", signed int32, EPSG:4326<input type='checkbox' class='ee-toggle'></label><ul><li><span class='ee-k'>id:</span><span class='ee-v'>classification</span></li><li><span class='ee-k'>crs:</span><span class='ee-v'>EPSG:4326</span></li><li><label class='ee-shut'>crs_transform: [1, 0, 0, 0, 1, 0]<input type='checkbox' class='ee-toggle'></label><ul><li><span class='ee-k'>0:</span><span class='ee-v'>1</span></li><li><span class='ee-k'>1:</span><span class='ee-v'>0</span></li><li><span class='ee-k'>2:</span><span class='ee-v'>0</span></li><li><span class='ee-k'>3:</span><span class='ee-v'>0</span></li><li><span class='ee-k'>4:</span><span class='ee-v'>1</span></li><li><span class='ee-k'>5:</span><span class='ee-v'>0</span></li></ul></li><li><label class='ee-shut'>data_type: signed int32<input type='checkbox' class='ee-toggle'></label><ul><li><span class='ee-k'>type:</span><span class='ee-v'>PixelType</span></li><li><span class='ee-k'>max:</span><span class='ee-v'>2147483647</span></li><li><span class='ee-k'>min:</span><span class='ee-v'>-2147483648</span></li><li><span class='ee-k'>precision:</span><span class='ee-v'>int</span></li></ul></li></ul></li></ul></li></ul></li></ul></div><script>function toggleHeader() {\n",
       "    const parent = this.parentElement;\n",
       "    parent.className = parent.className === \"ee-open\" ? \"ee-shut\" : \"ee-open\";\n",
       "}\n",
       "\n",
       "for (let c of document.getElementsByClassName(\"ee-toggle\")) {\n",
       "    c.onclick = toggleHeader;\n",
       "}</script></div>"
      ],
      "text/plain": [
       "<ee.image.Image at 0x15ac7a7f0>"
      ]
     },
     "execution_count": 29,
     "metadata": {},
     "output_type": "execute_result"
    }
   ],
   "source": [
    "classy_RF"
   ]
  },
  {
   "attachments": {},
   "cell_type": "markdown",
   "id": "ea323946",
   "metadata": {},
   "source": [
    "### Add zones and mining locations to map"
   ]
  },
  {
   "cell_type": "code",
   "execution_count": 15,
   "id": "2d099083",
   "metadata": {},
   "outputs": [],
   "source": [
    "#Create the outline of the upper section\n",
    "empty = ee.Image().byte()\n",
    "outline = empty.paint(featureCollection = upper,\n",
    "  color= 1,\n",
    "  width= 3)\n",
    "Map.addLayer(outline, {'palette': 'a2a2d0'}, 'GST Upriver')\n",
    "\n",
    "#Create the outline of the lower section\n",
    "empty = ee.Image().byte()\n",
    "outline = empty.paint(featureCollection = lower,\n",
    "  color= 1,\n",
    "  width= 3)\n",
    "Map.addLayer(outline, {'palette': 'cc00ff'}, 'GST Downriver')\n",
    "\n",
    "Map.addLayer(gandak_gst, {'color':'red', 'size':20},'GST')\n",
    "\n",
    "Map.addLayer(mining_centroids, {'color':'blue'}, 'Mining Centroids')"
   ]
  },
  {
   "cell_type": "code",
   "execution_count": null,
   "id": "3c1acd9c",
   "metadata": {},
   "outputs": [],
   "source": [
    "#Create the outline of the upper section\n",
    "empty = ee.Image().byte()\n",
    "outline = empty.paint(featureCollection = upper,\n",
    "  color= 1,\n",
    "  width= 3)\n",
    "Map.addLayer(outline, {'palette': 'a2a2d0'}, 'GST Upriver')\n",
    "\n",
    "#Create the outline of the lower section\n",
    "empty = ee.Image().byte()\n",
    "outline = empty.paint(featureCollection = lower,\n",
    "  color= 1,\n",
    "  width= 3)\n",
    "Map.addLayer(outline, {'palette': 'cc00ff'}, 'GST Downriver')\n",
    "\n",
    "Map.addLayer(gandak_gst, {'color':'red', 'size':20},'GST')\n",
    "\n",
    "Map.addLayer(mining_centroids, {'color':'blue'}, 'Mining Centroids')"
   ]
  },
  {
   "attachments": {},
   "cell_type": "markdown",
   "id": "d4e4c90e",
   "metadata": {},
   "source": [
    "## Statistics"
   ]
  },
  {
   "attachments": {},
   "cell_type": "markdown",
   "id": "45f3c01e",
   "metadata": {},
   "source": [
    "A. For classification outputs"
   ]
  },
  {
   "cell_type": "code",
   "execution_count": 34,
   "id": "d7b7c77e",
   "metadata": {},
   "outputs": [
    {
     "data": {
      "text/plain": [
       "1.8647083972821188"
      ]
     },
     "execution_count": 34,
     "metadata": {},
     "output_type": "execute_result"
    }
   ],
   "source": [
    "sand_only = classy_RF.eq(1)\n",
    "sand_only_count_upper = sand_only.reduceRegion(\n",
    "    reducer=ee.Reducer.sum(),\n",
    "    geometry=upper,\n",
    "    scale=10,\n",
    "    maxPixels=1e9,\n",
    "    tileScale=10,\n",
    ")\n",
    "\n",
    "sand_only_count_upper = sand_only_count_upper.getInfo()['classification']\n",
    "\n",
    "gravel_only = classy_RF.eq(2)\n",
    "gravel_only_count_upper = gravel_only.reduceRegion(\n",
    "    reducer=ee.Reducer.sum(),\n",
    "    geometry=upper,\n",
    "    scale=10,\n",
    "    maxPixels=1e9,\n",
    "    tileScale=10,\n",
    ")\n",
    "gravel_only_count_upper = gravel_only_count_upper.getInfo()['classification']\n",
    "s_to_g_ratio_upper = sand_only_count_upper/gravel_only_count_upper\n",
    "s_to_g_ratio_upper"
   ]
  },
  {
   "cell_type": "code",
   "execution_count": 35,
   "id": "b5c78e37",
   "metadata": {},
   "outputs": [
    {
     "name": "stdout",
     "output_type": "stream",
     "text": [
      "1.8647083972821188 1.8960068815155298\n"
     ]
    }
   ],
   "source": [
    "sand_only_count_lower = sand_only.reduceRegion(\n",
    "    reducer=ee.Reducer.sum(),\n",
    "    geometry=lower,\n",
    "    scale=10,\n",
    "    maxPixels=1e9,\n",
    "    tileScale=10,\n",
    ")\n",
    "\n",
    "gravel_only_count_lower = gravel_only.reduceRegion(\n",
    "    reducer=ee.Reducer.sum(),\n",
    "    geometry=lower,\n",
    "    scale=10,\n",
    "    maxPixels=1e9,\n",
    "    tileScale=10,\n",
    ")\n",
    "\n",
    "sand_only_count_lower   = sand_only_count_lower.getInfo()['classification']\n",
    "gravel_only_count_lower = gravel_only_count_lower.getInfo()['classification']\n",
    "\n",
    "s_to_g_ratio_lower = sand_only_count_lower/gravel_only_count_lower\n",
    "\n",
    "print(s_to_g_ratio_upper,s_to_g_ratio_lower)"
   ]
  },
  {
   "attachments": {},
   "cell_type": "markdown",
   "id": "ef3c0368",
   "metadata": {},
   "source": [
    "B. For thresholded classification outputs"
   ]
  },
  {
   "cell_type": "code",
   "execution_count": 18,
   "id": "776869d2",
   "metadata": {},
   "outputs": [
    {
     "data": {
      "text/plain": [
       "{'sand': 243301.96078431373}"
      ]
     },
     "execution_count": 18,
     "metadata": {},
     "output_type": "execute_result"
    }
   ],
   "source": [
    "# count the number of pixels in sand_only that have a value of 1 within upper and lower\n",
    "\n",
    "sand_only = rfresult_PROB.select(1).gt(0.25)\n",
    "sand_only_count_upper = sand_only.reduceRegion(\n",
    "    reducer=ee.Reducer.sum(),\n",
    "    geometry=upper,\n",
    "    scale=10,\n",
    "    maxPixels=1e9,\n",
    "    tileScale=10,\n",
    ")\n",
    "\n",
    "sand_only_count_upper = sand_only_count_upper.getInfo()['sand']\n",
    "\n",
    "gravel_only = rfresult_PROB.select(2).gt(0.25)\n",
    "gravel_only_count_upper = gravel_only.reduceRegion(\n",
    "    reducer=ee.Reducer.sum(),\n",
    "    geometry=upper,\n",
    "    scale=10,\n",
    "    maxPixels=1e9,\n",
    "    tileScale=10,\n",
    ")\n",
    "gravel_only_count_upper = gravel_only_count_upper.getInfo()['gravel']\n",
    "s_to_g_ratio_upper = sand_only_count_upper/gravel_only_count_upper\n",
    "s_to_g_ratio_upper\n"
   ]
  },
  {
   "cell_type": "code",
   "execution_count": null,
   "id": "03e57e5c",
   "metadata": {},
   "outputs": [
    {
     "name": "stdout",
     "output_type": "stream",
     "text": [
      "6.872043006703238 5.306539826922616\n"
     ]
    }
   ],
   "source": [
    "sand_only_count_lower = sand_only.reduceRegion(\n",
    "    reducer=ee.Reducer.sum(),\n",
    "    geometry=lower,\n",
    "    scale=10,\n",
    "    maxPixels=1e9,\n",
    "    tileScale=10,\n",
    ")\n",
    "\n",
    "gravel_only_count_lower = gravel_only.reduceRegion(\n",
    "    reducer=ee.Reducer.sum(),\n",
    "    geometry=lower,\n",
    "    scale=10,\n",
    "    maxPixels=1e9,\n",
    "    tileScale=10,\n",
    ")\n",
    "\n",
    "sand_only_count_lower   = sand_only_count_lower.getInfo()['sand']\n",
    "gravel_only_count_lower = gravel_only_count_lower.getInfo()['gravel']\n",
    "\n",
    "s_to_g_ratio_lower = sand_only_count_lower/gravel_only_count_lower\n",
    "\n",
    "print(s_to_g_ratio_upper,s_to_g_ratio_lower)"
   ]
  }
 ],
 "metadata": {
  "kernelspec": {
   "display_name": "spatial",
   "language": "python",
   "name": "python3"
  },
  "language_info": {
   "codemirror_mode": {
    "name": "ipython",
    "version": 3
   },
   "file_extension": ".py",
   "mimetype": "text/x-python",
   "name": "python",
   "nbconvert_exporter": "python",
   "pygments_lexer": "ipython3",
   "version": "3.9.13"
  }
 },
 "nbformat": 4,
 "nbformat_minor": 5
}
