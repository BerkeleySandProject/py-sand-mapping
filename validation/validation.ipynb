{
 "cells": [
  {
   "cell_type": "code",
   "execution_count": 1,
   "id": "5b571e83",
   "metadata": {},
   "outputs": [],
   "source": [
    "import pandas as pd\n",
    "import numpy as np\n",
    "import matplotlib.pyplot as plt\n",
    "import seaborn as sns\n",
    "\n",
    "from geemap import ml\n",
    "from sklearn import ensemble\n",
    "\n",
    "import geemap, ee\n",
    "\n",
    "import warnings\n",
    "warnings.filterwarnings(\"ignore\")"
   ]
  },
  {
   "cell_type": "code",
   "execution_count": 2,
   "id": "036fae4b",
   "metadata": {},
   "outputs": [],
   "source": [
    "try:\n",
    "        ee.Initialize()\n",
    "except Exception as e:\n",
    "        ee.Authenticate()\n",
    "        ee.Initialize()"
   ]
  },
  {
   "cell_type": "code",
   "execution_count": 3,
   "id": "1721f059",
   "metadata": {},
   "outputs": [],
   "source": [
    "import sys  \n",
    "sys.path.insert(0, '../lib/')\n",
    "import sand_classification as sc\n",
    "import quality_mosaic as qm"
   ]
  },
  {
   "cell_type": "markdown",
   "id": "99b84401",
   "metadata": {},
   "source": [
    "#### Define Functions"
   ]
  },
  {
   "cell_type": "code",
   "execution_count": 4,
   "id": "6528f257",
   "metadata": {},
   "outputs": [],
   "source": [
    "def get_classifier_from_ee(modelname:str):\n",
    "    ### Specify Asset ID\n",
    "    asset_id = f\"projects/gee-sand/assets/{modelname}\"\n",
    "\n",
    "    #### Load classifier\n",
    "    rf_fc = ee.FeatureCollection(asset_id)\n",
    "\n",
    "    # convert it to a classifier, very similar to the `ml.trees_to_classifier` function\n",
    "    new_rf = ml.fc_to_classifier(rf_fc)\n",
    "    \n",
    "    return new_rf\n",
    "\n",
    "\n",
    "def get_confusion_matrix(classified):\n",
    "    classified = classified.remap(\n",
    "      [0, 1, 2, 3, 4, 5, 6, 7], \n",
    "      [0, 1, 2, 0, 0, 0, 0, 0], \n",
    "        'classification'\n",
    "    )\n",
    "\n",
    "    classified = classified.remap(\n",
    "      [0, 1, 2, 3, 4, 5, 6, 7], \n",
    "      [0, 1, 2, 0, 0, 0, 0, 0], \n",
    "        'classcode'\n",
    "    )\n",
    "\n",
    "    test_accuracy = classified.errorMatrix('classcode', 'classification')\n",
    "    mat = np.array(test_accuracy.getInfo())\n",
    "    return mat\n",
    "\n",
    "def support(mat:np.array):\n",
    "    return np.sum(mat, axis = 1)/np.sum(mat)\n",
    "\n",
    "def accuracy(mat:np.array):\n",
    "    return np.sum(np.diagonal(mat))/np.sum(mat)\n",
    "\n",
    "def precision(mat:np.array):\n",
    "    return np.nan_to_num(np.diagonal(mat)/np.sum(mat, axis = 0))\n",
    "    \n",
    "def recall(mat:np.array):\n",
    "    return np.nan_to_num(np.diagonal(mat)/np.sum(mat, axis = 1))\n",
    "\n",
    "def f1_score(mat:np.array):\n",
    "    prec = precision(mat)\n",
    "    rec = recall(mat)\n",
    "    return np.nan_to_num(2 * prec * rec / (prec + rec))\n",
    "\n",
    "def macro_precision(mat:np.array):\n",
    "    assert mat.shape[0] > 2\n",
    "    return np.mean(precision(mat))\n",
    "\n",
    "def macro_recall(mat:np.array):\n",
    "    assert mat.shape[0] > 2\n",
    "    return np.mean(recall(mat))\n",
    "\n",
    "def macro_f1score(mat:np.array):\n",
    "    assert mat.shape[0] > 2\n",
    "    return np.mean(f1_score(mat))\n",
    "\n",
    "def sklearn_metrics_table(mat:np.array, class_labels = None):\n",
    "    panela = np.stack([precision(mat), recall(mat), f1_score(mat), np.sum(mat, axis = 1)], axis = 1)\n",
    "    panelb = np.stack([[np.nan,np.nan  , accuracy(mat), np.sum(mat)], \n",
    "                       [macro_precision(mat), macro_recall(mat), macro_f1score(mat), np.sum(mat)]])\n",
    "\n",
    "\n",
    "    assert panela.shape[1] == panelb.shape[1]\n",
    "    mtable = pd.DataFrame(np.append(panela, panelb).reshape(panela.shape[0] + panelb.shape[0], panela.shape[1]))\n",
    "    \n",
    "    \n",
    "    if class_labels:\n",
    "        assert panela.shape[0] == len(class_labels)\n",
    "        mtable.index = class_labels + ['accuracy', 'macro avg']\n",
    "    else:\n",
    "        mtable.index = ['','', ''] + ['accuracy', 'macro avg']\n",
    "        \n",
    "    mtable.columns = ['precision', 'recall', 'f1-score', 'support']\n",
    "    \n",
    "    return mtable.fillna('')\n",
    "\n",
    "def metrics_table(mat:np.array, class_labels):\n",
    "    panela = np.stack([class_labels, precision(mat), recall(mat), f1_score(mat), np.sum(mat, axis = 1)], axis= 1)\n",
    "    panela = pd.DataFrame(panela)\n",
    "    panela.columns = ['class', 'precision', 'recall', 'f1-score', 'support']\n",
    "    return panela\n",
    "    \n",
    "    \n",
    "    "
   ]
  },
  {
   "cell_type": "markdown",
   "id": "ed40cc05",
   "metadata": {},
   "source": [
    "#### Load Image for Validation"
   ]
  },
  {
   "cell_type": "code",
   "execution_count": 5,
   "id": "c9fc7270",
   "metadata": {},
   "outputs": [
    {
     "name": "stdout",
     "output_type": "stream",
     "text": [
      "Search window from 2022-02-09 to 2022-08-09\n"
     ]
    },
    {
     "data": {
      "text/html": [
       "<div><style>:root {\n",
       "  --font-color-primary: var(--jp-content-font-color0, rgba(0, 0, 0, 1));\n",
       "  --font-color-secondary: var(--jp-content-font-color2, rgba(0, 0, 0, 0.6));\n",
       "  --font-color-accent: rgba(123, 31, 162, 1);\n",
       "  --border-color: var(--jp-border-color2, #e0e0e0);\n",
       "  --background-color: var(--jp-layout-color0, white);\n",
       "  --background-color-row-even: var(--jp-layout-color1, white);\n",
       "  --background-color-row-odd: var(--jp-layout-color2, #eeeeee);\n",
       "}\n",
       "\n",
       "html[theme=\"dark\"],\n",
       "body[data-theme=\"dark\"],\n",
       "body.vscode-dark {\n",
       "  --font-color-primary: rgba(255, 255, 255, 1);\n",
       "  --font-color-secondary: rgba(255, 255, 255, 0.6);\n",
       "  --font-color-accent: rgb(173, 132, 190);\n",
       "  --border-color: #2e2e2e;\n",
       "  --background-color: #111111;\n",
       "  --background-color-row-even: #111111;\n",
       "  --background-color-row-odd: #313131;\n",
       "}\n",
       "\n",
       ".ee {\n",
       "  padding: 1em;\n",
       "  line-height: 1.5em;\n",
       "  min-width: 300px;\n",
       "  max-width: 1200px;\n",
       "  overflow-y: scroll;\n",
       "  max-height: 600px;\n",
       "  border: 1px solid var(--border-color);\n",
       "  font-family: monospace;\n",
       "}\n",
       "\n",
       ".ee li {\n",
       "  list-style-type: none;\n",
       "}\n",
       "\n",
       ".ee ul {\n",
       "  padding-left: 1.5em !important;\n",
       "  margin: 0;\n",
       "}\n",
       "\n",
       ".ee > ul {\n",
       "  padding-left: 0 !important;\n",
       "}\n",
       "\n",
       ".ee-open,\n",
       ".ee-shut {\n",
       "  color: var(--font-color-secondary);\n",
       "  cursor: pointer;\n",
       "  margin: 0;\n",
       "}\n",
       "\n",
       ".ee-open:hover,\n",
       ".ee-shut:hover {\n",
       "  color: var(--font-color-primary);\n",
       "}\n",
       "\n",
       ".ee-k {\n",
       "  color: var(--font-color-accent);\n",
       "  margin-right: 6px;\n",
       "}\n",
       "\n",
       ".ee-v {\n",
       "  color: var(--font-color-primary);\n",
       "}\n",
       "\n",
       ".ee-toggle {\n",
       "  display: none;\n",
       "}\n",
       "\n",
       ".ee-shut + ul {\n",
       "  display: none;\n",
       "}\n",
       "\n",
       ".ee-open + ul {\n",
       "  display: block;\n",
       "}\n",
       "\n",
       ".ee-shut::before {\n",
       "  display: inline-block;\n",
       "  content: \"▼\";\n",
       "  margin-right: 6px;\n",
       "  transform: rotate(-90deg);\n",
       "  transition: transform 0.2s;\n",
       "}\n",
       "\n",
       ".ee-open::before {\n",
       "  transform: rotate(0deg);\n",
       "  display: inline-block;\n",
       "  content: \"▼\";\n",
       "  margin-right: 6px;\n",
       "  transition: transform 0.2s;\n",
       "}\n",
       "</style><div class='ee'><ul><li><label class='ee-shut'>List (12 elements)<input type='checkbox' class='ee-toggle'></label><ul><li><span class='ee-k'>0:</span><span class='ee-v'>B2</span></li><li><span class='ee-k'>1:</span><span class='ee-v'>B3</span></li><li><span class='ee-k'>2:</span><span class='ee-v'>B4</span></li><li><span class='ee-k'>3:</span><span class='ee-v'>B8</span></li><li><span class='ee-k'>4:</span><span class='ee-v'>B8A</span></li><li><span class='ee-k'>5:</span><span class='ee-v'>B11</span></li><li><span class='ee-k'>6:</span><span class='ee-v'>B12</span></li><li><span class='ee-k'>7:</span><span class='ee-v'>VV</span></li><li><span class='ee-k'>8:</span><span class='ee-v'>VH</span></li><li><span class='ee-k'>9:</span><span class='ee-v'>mTGSI</span></li><li><span class='ee-k'>10:</span><span class='ee-v'>BSI</span></li><li><span class='ee-k'>11:</span><span class='ee-v'>NDWI</span></li></ul></li></ul></div><script>function toggleHeader() {\n",
       "    const parent = this.parentElement;\n",
       "    parent.className = parent.className === \"ee-open\" ? \"ee-shut\" : \"ee-open\";\n",
       "}\n",
       "\n",
       "for (let c of document.getElementsByClassName(\"ee-toggle\")) {\n",
       "    c.onclick = toggleHeader;\n",
       "}</script></div>"
      ],
      "text/plain": [
       "<ee.ee_list.List at 0x7f391a2cef50>"
      ]
     },
     "execution_count": 5,
     "metadata": {},
     "output_type": "execute_result"
    }
   ],
   "source": [
    "####Load an image\n",
    "roi_buffer_m = 5000\n",
    "\n",
    "date = '2022-05-09'\n",
    "max_search_window_months = 3\n",
    "median_samples = 5\n",
    "mosaic_method = 'median'\n",
    "\n",
    "# lon, lat = 84.2047028760486,24.90192702360151 #Dehri-on-Sone\n",
    "lon, lat = 84.7653944380519, 25.517194494644357\n",
    "point = ee.Geometry.Point([lon, lat])\n",
    "# sample = point.buffer(sampling_buffer_m).bounds()\n",
    "roi = point.buffer(roi_buffer_m).bounds()\n",
    "\n",
    "\n",
    "s1_s2 = qm.get_s1_s2(roi=roi, date=date, max_search_window_months=max_search_window_months,median_samples=median_samples, mosaic_method=mosaic_method, clip=False)\n",
    "s1_s2.bandNames()"
   ]
  },
  {
   "cell_type": "code",
   "execution_count": 6,
   "id": "3f07037b",
   "metadata": {},
   "outputs": [
    {
     "data": {
      "application/vnd.jupyter.widget-view+json": {
       "model_id": "c4a18cec4f8541fe83b905ab4fde60ec",
       "version_major": 2,
       "version_minor": 0
      },
      "text/plain": [
       "Map(center=[25.517194494644365, 84.7653944380519], controls=(WidgetControl(options=['position', 'transparent_b…"
      ]
     },
     "metadata": {},
     "output_type": "display_data"
    }
   ],
   "source": [
    "Map = geemap.Map()\n",
    "Map.centerObject(point, 12)\n",
    "Map.add_basemap('SATELLITE')\n",
    "Map.addLayer(s1_s2, qm.visParamsVV, 'S1', False)\n",
    "Map.addLayer(s1_s2, qm.visParamsMTGSI , 'mTGSI')\n",
    "Map.addLayer(s1_s2, qm.visParamsRGB, 'S2')\n",
    "Map"
   ]
  },
  {
   "cell_type": "markdown",
   "id": "a3a3ea33",
   "metadata": {},
   "source": [
    "#### SNIC"
   ]
  },
  {
   "cell_type": "code",
   "execution_count": 7,
   "id": "c4e3a7a9",
   "metadata": {},
   "outputs": [],
   "source": [
    "size_segmentation = 10\n",
    "\n",
    "# Segmentation using a SNIC approach based on the dataset previosly generated\n",
    "seeds = ee.Algorithms.Image.Segmentation.seedGrid(size_segmentation); #to get spaced grid notes at a distance specified by segmentation size parameter\n",
    "snic = ee.Algorithms.Image.Segmentation.SNIC(\n",
    "  image = s1_s2, #our multi-band image with selected bands same as for pixel-based\n",
    "  compactness = 0,  #allow flexibility in object shape, no need to force compactness\n",
    "  connectivity = 8, #use all 8 neighboring pixels in a pixel neighborhood\n",
    "  neighborhoodSize = 256,\n",
    "  seeds = seeds\n",
    ")\n",
    "vizParamsSNIC = {'bands': ['B4_mean','B3_mean','B11_mean'], 'min': 0, 'max': 3000}\n",
    "Map.addLayer(snic, vizParamsSNIC,'SNIC', True)\n",
    "\n",
    "\n",
    "#To visualize snic result:\n",
    "Map.addLayer(snic.randomVisualizer(), None, 'Clusters', False)\n",
    "\n",
    "#The next step generates a list of band names from the snic image, but without \"clusters\"\n",
    "#since we don't need to use pixel values of their cluster IDs as a basis for class mapping:\n",
    "predictionBands=snic.bandNames().remove(\"clusters\")"
   ]
  },
  {
   "cell_type": "markdown",
   "id": "fc272f8f",
   "metadata": {},
   "source": [
    "#### Load Validation Points"
   ]
  },
  {
   "cell_type": "code",
   "execution_count": 8,
   "id": "286ccfbf",
   "metadata": {},
   "outputs": [],
   "source": [
    "\n",
    "## Dummy points to test methods\n",
    "features = [\n",
    "  ee.Feature(ee.Geometry.Point(84.7653944380519, 25.517194494644357), {'classcode': 1}),\n",
    "  ee.Feature(ee.Geometry.Point(84.76299117877456, 25.48899631778969), {'classcode': 1}),\n",
    "  ee.Feature(ee.Geometry.Point(84.76093124225112, 25.508208981203083), {'classcode': 1} ), \n",
    "    ee.Feature(ee.Geometry.Point(84.77741073443862, 25.53423413804077), {'classcode': 2}), \n",
    "    ee.Feature(ee.Geometry.Point(84.76608108355971, 25.461721457121257), {'classcode': 6}), \n",
    "    ee.Feature(ee.Geometry.Point(84.76093124225112, 25.486207127414986), {'classcode': 7})\n",
    "]\n",
    "\n",
    "#Create a FeatureCollection from the list and print it.\n",
    "samples = ee.FeatureCollection(features)\n"
   ]
  },
  {
   "cell_type": "code",
   "execution_count": 9,
   "id": "22d5772f",
   "metadata": {},
   "outputs": [],
   "source": [
    "Map.addLayer(samples, {'color':'black'}, 'samples')"
   ]
  },
  {
   "cell_type": "code",
   "execution_count": 10,
   "id": "aade2242",
   "metadata": {},
   "outputs": [],
   "source": [
    "validation = snic.select(predictionBands).sampleRegions(**{\n",
    "  'collection': samples,\n",
    "  'properties': ['classcode'],\n",
    "  'scale': 10\n",
    "})"
   ]
  },
  {
   "cell_type": "markdown",
   "id": "ca86e490",
   "metadata": {},
   "source": [
    "#### Run validation for all models"
   ]
  },
  {
   "cell_type": "code",
   "execution_count": 11,
   "id": "a6d04f3b",
   "metadata": {},
   "outputs": [
    {
     "name": "stdout",
     "output_type": "stream",
     "text": [
      "**************\n",
      "RF_50\n"
     ]
    },
    {
     "data": {
      "text/html": [
       "<div>\n",
       "<style scoped>\n",
       "    .dataframe tbody tr th:only-of-type {\n",
       "        vertical-align: middle;\n",
       "    }\n",
       "\n",
       "    .dataframe tbody tr th {\n",
       "        vertical-align: top;\n",
       "    }\n",
       "\n",
       "    .dataframe thead th {\n",
       "        text-align: right;\n",
       "    }\n",
       "</style>\n",
       "<table border=\"1\" class=\"dataframe\">\n",
       "  <thead>\n",
       "    <tr style=\"text-align: right;\">\n",
       "      <th></th>\n",
       "      <th>precision</th>\n",
       "      <th>recall</th>\n",
       "      <th>f1-score</th>\n",
       "      <th>support</th>\n",
       "    </tr>\n",
       "  </thead>\n",
       "  <tbody>\n",
       "    <tr>\n",
       "      <th>other</th>\n",
       "      <td>0.0</td>\n",
       "      <td>0.0</td>\n",
       "      <td>0.000000</td>\n",
       "      <td>2.0</td>\n",
       "    </tr>\n",
       "    <tr>\n",
       "      <th>sand</th>\n",
       "      <td>0.4</td>\n",
       "      <td>0.666667</td>\n",
       "      <td>0.500000</td>\n",
       "      <td>3.0</td>\n",
       "    </tr>\n",
       "    <tr>\n",
       "      <th>gravel</th>\n",
       "      <td>0.0</td>\n",
       "      <td>0.0</td>\n",
       "      <td>0.000000</td>\n",
       "      <td>1.0</td>\n",
       "    </tr>\n",
       "    <tr>\n",
       "      <th>accuracy</th>\n",
       "      <td></td>\n",
       "      <td></td>\n",
       "      <td>0.333333</td>\n",
       "      <td>6.0</td>\n",
       "    </tr>\n",
       "    <tr>\n",
       "      <th>macro avg</th>\n",
       "      <td>0.133333</td>\n",
       "      <td>0.222222</td>\n",
       "      <td>0.166667</td>\n",
       "      <td>6.0</td>\n",
       "    </tr>\n",
       "  </tbody>\n",
       "</table>\n",
       "</div>"
      ],
      "text/plain": [
       "          precision    recall  f1-score  support\n",
       "other           0.0       0.0  0.000000      2.0\n",
       "sand            0.4  0.666667  0.500000      3.0\n",
       "gravel          0.0       0.0  0.000000      1.0\n",
       "accuracy                       0.333333      6.0\n",
       "macro avg  0.133333  0.222222  0.166667      6.0"
      ]
     },
     "metadata": {},
     "output_type": "display_data"
    },
    {
     "name": "stdout",
     "output_type": "stream",
     "text": [
      "**************\n",
      "RF_200\n"
     ]
    },
    {
     "data": {
      "text/html": [
       "<div>\n",
       "<style scoped>\n",
       "    .dataframe tbody tr th:only-of-type {\n",
       "        vertical-align: middle;\n",
       "    }\n",
       "\n",
       "    .dataframe tbody tr th {\n",
       "        vertical-align: top;\n",
       "    }\n",
       "\n",
       "    .dataframe thead th {\n",
       "        text-align: right;\n",
       "    }\n",
       "</style>\n",
       "<table border=\"1\" class=\"dataframe\">\n",
       "  <thead>\n",
       "    <tr style=\"text-align: right;\">\n",
       "      <th></th>\n",
       "      <th>precision</th>\n",
       "      <th>recall</th>\n",
       "      <th>f1-score</th>\n",
       "      <th>support</th>\n",
       "    </tr>\n",
       "  </thead>\n",
       "  <tbody>\n",
       "    <tr>\n",
       "      <th>other</th>\n",
       "      <td>0.0</td>\n",
       "      <td>0.0</td>\n",
       "      <td>0.000000</td>\n",
       "      <td>2.0</td>\n",
       "    </tr>\n",
       "    <tr>\n",
       "      <th>sand</th>\n",
       "      <td>0.4</td>\n",
       "      <td>0.666667</td>\n",
       "      <td>0.500000</td>\n",
       "      <td>3.0</td>\n",
       "    </tr>\n",
       "    <tr>\n",
       "      <th>gravel</th>\n",
       "      <td>0.0</td>\n",
       "      <td>0.0</td>\n",
       "      <td>0.000000</td>\n",
       "      <td>1.0</td>\n",
       "    </tr>\n",
       "    <tr>\n",
       "      <th>accuracy</th>\n",
       "      <td></td>\n",
       "      <td></td>\n",
       "      <td>0.333333</td>\n",
       "      <td>6.0</td>\n",
       "    </tr>\n",
       "    <tr>\n",
       "      <th>macro avg</th>\n",
       "      <td>0.133333</td>\n",
       "      <td>0.222222</td>\n",
       "      <td>0.166667</td>\n",
       "      <td>6.0</td>\n",
       "    </tr>\n",
       "  </tbody>\n",
       "</table>\n",
       "</div>"
      ],
      "text/plain": [
       "          precision    recall  f1-score  support\n",
       "other           0.0       0.0  0.000000      2.0\n",
       "sand            0.4  0.666667  0.500000      3.0\n",
       "gravel          0.0       0.0  0.000000      1.0\n",
       "accuracy                       0.333333      6.0\n",
       "macro avg  0.133333  0.222222  0.166667      6.0"
      ]
     },
     "metadata": {},
     "output_type": "display_data"
    }
   ],
   "source": [
    "results = []\n",
    "class_labels = ['other', 'sand', 'gravel']\n",
    "\n",
    "for modelname in ['RF_50', 'RF_200']:\n",
    "    \n",
    "    # get trained model from EE\n",
    "    rf_model = get_classifier_from_ee(modelname)\n",
    "    \n",
    "    ### run classification on validation points\n",
    "    temp = validation.classify(rf_model)\n",
    "    \n",
    "    #Get confusion matrix\n",
    "    mat = get_confusion_matrix(temp)\n",
    "    \n",
    "    #show CM\n",
    "    print('**************')\n",
    "    print(modelname)\n",
    "    display(sklearn_metrics_table(mat, class_labels))\n",
    "    \n",
    "    \n",
    "    #Create table of metrics (for viz, etc)\n",
    "    res = metrics_table(mat, class_labels)\n",
    "    res['model'] = modelname\n",
    "    \n",
    "    results.append(res)\n",
    "    \n",
    "# create final dataframe for viz etc.\n",
    "df_class = pd.concat(results)\n"
   ]
  },
  {
   "cell_type": "markdown",
   "id": "65dfcc12",
   "metadata": {},
   "source": [
    "#### Make Plots"
   ]
  },
  {
   "cell_type": "code",
   "execution_count": 12,
   "id": "59027b0f",
   "metadata": {},
   "outputs": [],
   "source": [
    "cols = ['precision', 'recall', 'f1-score']\n",
    "\n",
    "# color palette as dictionary\n",
    "palette = {\"RF_50\":\"#8abbd0\",\n",
    "#            \"RF_100\":\"#91b8bd\", \n",
    "           \"RF_200\":\"#e3120b\"}\n"
   ]
  },
  {
   "cell_type": "code",
   "execution_count": 13,
   "id": "6bf103e5",
   "metadata": {},
   "outputs": [
    {
     "data": {
      "image/png": "[encoded data removed]",
      "text/plain": [
       "<Figure size 360x360 with 1 Axes>"
      ]
     },
     "metadata": {
      "needs_background": "light"
     },
     "output_type": "display_data"
    }
   ],
   "source": [
    "\n",
    "\n",
    "\n",
    "fig, ax = plt.subplots(figsize = (5, 5))\n",
    "sns.barplot(x = 'class', y = 'precision', hue = 'model', data = df_class, ax = ax, palette = palette)\n",
    "plt.legend(bbox_to_anchor = (1.3, 1))\n",
    "sns.despine()\n",
    "plt.show()\n"
   ]
  },
  {
   "cell_type": "code",
   "execution_count": 14,
   "id": "4f7ebf32",
   "metadata": {},
   "outputs": [
    {
     "data": {
      "image/png": "[encoded data removed]",
      "text/plain": [
       "<Figure size 720x288 with 3 Axes>"
      ]
     },
     "metadata": {
      "needs_background": "light"
     },
     "output_type": "display_data"
    }
   ],
   "source": [
    "\n",
    "# sns.diverging_palette(120, 20)\n",
    "\n",
    "fig, ax = plt.subplots(figsize = (10, 4), ncols = 3, sharex = True, sharey = True)\n",
    "\n",
    "for i, colname in enumerate(cols):\n",
    "    sns.barplot(x = 'class', y = colname, hue = 'model', data = df_class, ax = ax[i], palette = palette, alpha = 0.8)\n",
    "    ax[i].set_title(colname, fontsize = 16)\n",
    "    ax[i].set_ylabel('')\n",
    "    ax[i].set_xlabel('')\n",
    "    if i < len(cols) - 1:\n",
    "        ax[i].legend_.remove()\n",
    "    \n",
    "plt.legend(bbox_to_anchor = (1.5, 1))\n",
    "sns.despine()\n",
    "plt.show()"
   ]
  },
  {
   "cell_type": "code",
   "execution_count": null,
   "id": "d57b258d",
   "metadata": {},
   "outputs": [],
   "source": [
    "# Red:\n",
    "# #e3120b\n",
    "\n",
    "# White:\n",
    "# #fafafa\n",
    "\n",
    "# Dark Gray:\n",
    "# #4a4a4a\n",
    "\n",
    "# Mid-green:\n",
    "# #91b8bd\n",
    "\n",
    "# Turquoise:\n",
    "# #acc8d4\n",
    "\n",
    "# Bright turq.:\n",
    "# #9ae5de\n",
    "\n",
    "# Light grey:\n",
    "# #d4dddd\n",
    "\n",
    "# Dark green:\n",
    "# #244747\n",
    "\n",
    "# Green:\n",
    "# #336666\n",
    "\n",
    "# Mid-blue:\n",
    "# #8abbd0\n",
    "\n",
    "# Beige:\n",
    "# #efe8d1"
   ]
  }
 ],
 "metadata": {
  "kernelspec": {
   "display_name": "didl-covid",
   "language": "python",
   "name": "didl-covid"
  },
  "language_info": {
   "codemirror_mode": {
    "name": "ipython",
    "version": 3
   },
   "file_extension": ".py",
   "mimetype": "text/x-python",
   "name": "python",
   "nbconvert_exporter": "python",
   "pygments_lexer": "ipython3",
   "version": "3.7.7"
  }
 },
 "nbformat": 4,
 "nbformat_minor": 5
}
