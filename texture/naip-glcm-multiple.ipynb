{
 "cells": [
  {
   "cell_type": "code",
   "execution_count": 1,
   "id": "92214e55-1a48-4660-8232-5c8472fe9c89",
   "metadata": {},
   "outputs": [],
   "source": [
    "import numpy as np\n",
    "import xarray as xr\n",
    "\n",
    "import rasterio.features\n",
    "import stackstac\n",
    "import pystac_client\n",
    "import planetary_computer\n",
    "\n",
    "import xrspatial.multispectral as ms\n",
    "\n",
    "from skimage.feature import graycomatrix, graycoprops\n",
    "from skimage import data\n",
    "import pandas as pd\n",
    "import geopandas as gpd\n",
    "from datetime import datetime\n",
    "from shapely.geometry import shape\n",
    "import shapely\n",
    "from dateutil.relativedelta import relativedelta\n",
    "import matplotlib.pyplot as plt\n",
    "import numpy as np\n",
    "\n"
   ]
  },
  {
   "cell_type": "markdown",
   "id": "6e67c4cc-27ba-4a0a-926f-e0d533ddf9d9",
   "metadata": {},
   "source": [
    "# Localized sandsnap texture generation from NAIP\n",
    "\n",
    "\n",
    "Hypothesis:  VHR resolution satellite imagery (like NAIP) maybe good enough to see a correlation between image texture features (extracted from GLCMs) and sand grain size distribution\n",
    "\n",
    "\n",
    "In this notebook, we extract median sand grain sizes (D50) from a single beach in NY, USA: Jones Beach. This beach has 52 observations spatially spread out across this beach taken in June 2021, and found in the file `data/sandsnap-jones-beach.csv`. Using the NAIP imagery from this beach, we will try to verify if there is a correlation b/w D50 and some GLCM features."
   ]
  },
  {
   "cell_type": "markdown",
   "id": "a2d932a1-7fac-440a-8b49-59d8f1a6c162",
   "metadata": {},
   "source": [
    "## Step 1\n",
    "\n",
    "Extract SandSnap data to a pandas dataframe. Clean the dataframe, rename columns and drop unused columns"
   ]
  },
  {
   "cell_type": "markdown",
   "id": "3b27b7a1-adb8-40d7-9b33-2c48ca6e8434",
   "metadata": {},
   "source": [
    "Clean the date format"
   ]
  },
  {
   "cell_type": "code",
   "execution_count": 2,
   "id": "e6a9ffe9-e0e8-4a8d-9ffa-b601f1c22ba3",
   "metadata": {},
   "outputs": [
    {
     "data": {
      "text/html": [
       "<div>\n",
       "<style scoped>\n",
       "    .dataframe tbody tr th:only-of-type {\n",
       "        vertical-align: middle;\n",
       "    }\n",
       "\n",
       "    .dataframe tbody tr th {\n",
       "        vertical-align: top;\n",
       "    }\n",
       "\n",
       "    .dataframe thead th {\n",
       "        text-align: right;\n",
       "    }\n",
       "</style>\n",
       "<table border=\"1\" class=\"dataframe\">\n",
       "  <thead>\n",
       "    <tr style=\"text-align: right;\">\n",
       "      <th></th>\n",
       "      <th>objectid</th>\n",
       "      <th>GlobalID</th>\n",
       "      <th>City</th>\n",
       "      <th>Sample ID</th>\n",
       "      <th>Coin Reference</th>\n",
       "      <th>Location on Beach</th>\n",
       "      <th>Other</th>\n",
       "      <th>CreationDate</th>\n",
       "      <th>Creator</th>\n",
       "      <th>EditDate</th>\n",
       "      <th>...</th>\n",
       "      <th>blurry_metric</th>\n",
       "      <th>ab_value</th>\n",
       "      <th>pixel_count</th>\n",
       "      <th>reprocess_record</th>\n",
       "      <th>reprocess_all_records</th>\n",
       "      <th>Calculated Grain Size</th>\n",
       "      <th>Analysis Status</th>\n",
       "      <th>x</th>\n",
       "      <th>y</th>\n",
       "      <th>date</th>\n",
       "    </tr>\n",
       "  </thead>\n",
       "  <tbody>\n",
       "    <tr>\n",
       "      <th>0</th>\n",
       "      <td>92</td>\n",
       "      <td>09288394-b8a9-4f39-8650-d4fb2bdcfae4</td>\n",
       "      <td>Jones Beach</td>\n",
       "      <td>Jb 25</td>\n",
       "      <td>quarter</td>\n",
       "      <td>the_dune</td>\n",
       "      <td>NaN</td>\n",
       "      <td>6/11/2021 5:28:53 PM</td>\n",
       "      <td>rose.dopsovic</td>\n",
       "      <td>2/28/2022 6:43:05 PM</td>\n",
       "      <td>...</td>\n",
       "      <td>NaN</td>\n",
       "      <td>NaN</td>\n",
       "      <td>NaN</td>\n",
       "      <td>NaN</td>\n",
       "      <td>NaN</td>\n",
       "      <td>NaN</td>\n",
       "      <td>NaN</td>\n",
       "      <td>-73.556896</td>\n",
       "      <td>40.580327</td>\n",
       "      <td>2021-06-11</td>\n",
       "    </tr>\n",
       "    <tr>\n",
       "      <th>1</th>\n",
       "      <td>115</td>\n",
       "      <td>00d44f58-5335-43f9-8e38-b0bd4f10fb59</td>\n",
       "      <td>Jones Beach</td>\n",
       "      <td>Jb 9</td>\n",
       "      <td>quarter</td>\n",
       "      <td>the_dune</td>\n",
       "      <td>NaN</td>\n",
       "      <td>6/11/2021 5:28:53 PM</td>\n",
       "      <td>rose.dopsovic</td>\n",
       "      <td>2/28/2022 6:43:05 PM</td>\n",
       "      <td>...</td>\n",
       "      <td>NaN</td>\n",
       "      <td>NaN</td>\n",
       "      <td>NaN</td>\n",
       "      <td>NaN</td>\n",
       "      <td>NaN</td>\n",
       "      <td>NaN</td>\n",
       "      <td>NaN</td>\n",
       "      <td>-73.569361</td>\n",
       "      <td>40.575935</td>\n",
       "      <td>2021-06-11</td>\n",
       "    </tr>\n",
       "    <tr>\n",
       "      <th>2</th>\n",
       "      <td>138</td>\n",
       "      <td>fb7c7c17-139f-44a0-8c0f-160d3e3ace7d</td>\n",
       "      <td>Jones Beach</td>\n",
       "      <td>Jb 46</td>\n",
       "      <td>quarter</td>\n",
       "      <td>the_swash</td>\n",
       "      <td>NaN</td>\n",
       "      <td>6/11/2021 5:28:53 PM</td>\n",
       "      <td>rose.dopsovic</td>\n",
       "      <td>2/28/2022 6:43:05 PM</td>\n",
       "      <td>...</td>\n",
       "      <td>NaN</td>\n",
       "      <td>NaN</td>\n",
       "      <td>NaN</td>\n",
       "      <td>NaN</td>\n",
       "      <td>NaN</td>\n",
       "      <td>NaN</td>\n",
       "      <td>NaN</td>\n",
       "      <td>-73.560789</td>\n",
       "      <td>40.578358</td>\n",
       "      <td>2021-06-11</td>\n",
       "    </tr>\n",
       "    <tr>\n",
       "      <th>3</th>\n",
       "      <td>132</td>\n",
       "      <td>33c8a80f-d87d-4ea8-8c03-d86c07e6be31</td>\n",
       "      <td>Jones Beach</td>\n",
       "      <td>Jb 52</td>\n",
       "      <td>quarter</td>\n",
       "      <td>the_swash</td>\n",
       "      <td>NaN</td>\n",
       "      <td>6/11/2021 5:28:53 PM</td>\n",
       "      <td>rose.dopsovic</td>\n",
       "      <td>2/28/2022 6:43:05 PM</td>\n",
       "      <td>...</td>\n",
       "      <td>NaN</td>\n",
       "      <td>NaN</td>\n",
       "      <td>NaN</td>\n",
       "      <td>NaN</td>\n",
       "      <td>NaN</td>\n",
       "      <td>NaN</td>\n",
       "      <td>NaN</td>\n",
       "      <td>-73.573119</td>\n",
       "      <td>40.574644</td>\n",
       "      <td>2021-06-11</td>\n",
       "    </tr>\n",
       "    <tr>\n",
       "      <th>4</th>\n",
       "      <td>109</td>\n",
       "      <td>6972547e-9e47-4aea-8e4c-f28363cc240a</td>\n",
       "      <td>Jones Beach</td>\n",
       "      <td>Jb 2</td>\n",
       "      <td>quarter</td>\n",
       "      <td>the_berm</td>\n",
       "      <td>NaN</td>\n",
       "      <td>6/11/2021 5:28:53 PM</td>\n",
       "      <td>rose.dopsovic</td>\n",
       "      <td>2/28/2022 6:43:05 PM</td>\n",
       "      <td>...</td>\n",
       "      <td>NaN</td>\n",
       "      <td>NaN</td>\n",
       "      <td>NaN</td>\n",
       "      <td>NaN</td>\n",
       "      <td>NaN</td>\n",
       "      <td>NaN</td>\n",
       "      <td>NaN</td>\n",
       "      <td>-73.573203</td>\n",
       "      <td>40.574809</td>\n",
       "      <td>2021-06-11</td>\n",
       "    </tr>\n",
       "  </tbody>\n",
       "</table>\n",
       "<p>5 rows × 49 columns</p>\n",
       "</div>"
      ],
      "text/plain": [
       "   objectid                              GlobalID         City Sample ID  \\\n",
       "0        92  09288394-b8a9-4f39-8650-d4fb2bdcfae4  Jones Beach     Jb 25   \n",
       "1       115  00d44f58-5335-43f9-8e38-b0bd4f10fb59  Jones Beach      Jb 9   \n",
       "2       138  fb7c7c17-139f-44a0-8c0f-160d3e3ace7d  Jones Beach     Jb 46   \n",
       "3       132  33c8a80f-d87d-4ea8-8c03-d86c07e6be31  Jones Beach     Jb 52   \n",
       "4       109  6972547e-9e47-4aea-8e4c-f28363cc240a  Jones Beach      Jb 2   \n",
       "\n",
       "  Coin Reference Location on Beach Other          CreationDate        Creator  \\\n",
       "0        quarter          the_dune   NaN  6/11/2021 5:28:53 PM  rose.dopsovic   \n",
       "1        quarter          the_dune   NaN  6/11/2021 5:28:53 PM  rose.dopsovic   \n",
       "2        quarter         the_swash   NaN  6/11/2021 5:28:53 PM  rose.dopsovic   \n",
       "3        quarter         the_swash   NaN  6/11/2021 5:28:53 PM  rose.dopsovic   \n",
       "4        quarter          the_berm   NaN  6/11/2021 5:28:53 PM  rose.dopsovic   \n",
       "\n",
       "               EditDate  ... blurry_metric ab_value  pixel_count  \\\n",
       "0  2/28/2022 6:43:05 PM  ...           NaN      NaN          NaN   \n",
       "1  2/28/2022 6:43:05 PM  ...           NaN      NaN          NaN   \n",
       "2  2/28/2022 6:43:05 PM  ...           NaN      NaN          NaN   \n",
       "3  2/28/2022 6:43:05 PM  ...           NaN      NaN          NaN   \n",
       "4  2/28/2022 6:43:05 PM  ...           NaN      NaN          NaN   \n",
       "\n",
       "   reprocess_record  reprocess_all_records  Calculated Grain Size  \\\n",
       "0               NaN                    NaN                    NaN   \n",
       "1               NaN                    NaN                    NaN   \n",
       "2               NaN                    NaN                    NaN   \n",
       "3               NaN                    NaN                    NaN   \n",
       "4               NaN                    NaN                    NaN   \n",
       "\n",
       "   Analysis Status          x          y        date  \n",
       "0              NaN -73.556896  40.580327  2021-06-11  \n",
       "1              NaN -73.569361  40.575935  2021-06-11  \n",
       "2              NaN -73.560789  40.578358  2021-06-11  \n",
       "3              NaN -73.573119  40.574644  2021-06-11  \n",
       "4              NaN -73.573203  40.574809  2021-06-11  \n",
       "\n",
       "[5 rows x 49 columns]"
      ]
     },
     "execution_count": 2,
     "metadata": {},
     "output_type": "execute_result"
    }
   ],
   "source": [
    "sandsnap_df = pd.read_csv('data/sandsnap-jones-beach.csv')\n",
    "sandsnap_df['date'] =  pd.to_datetime(sandsnap_df['CreationDate'], format='%m/%d/%y',infer_datetime_format=True).dt.date\n",
    "sandsnap_df.head()"
   ]
  },
  {
   "cell_type": "code",
   "execution_count": 3,
   "id": "c5aa0062-6ab0-4935-8c36-df9f6ec2c8e9",
   "metadata": {},
   "outputs": [
    {
     "data": {
      "text/plain": [
       "objectid                                                                                   int64\n",
       "GlobalID                                                                                  object\n",
       "City                                                                                      object\n",
       "Sample ID                                                                                 object\n",
       "Coin Reference                                                                            object\n",
       "Location on Beach                                                                         object\n",
       "Other                                                                                     object\n",
       "CreationDate                                                                              object\n",
       "Creator                                                                                   object\n",
       "EditDate                                                                                  object\n",
       "Editor                                                                                    object\n",
       "state                                                                                     object\n",
       "D10 mm                                                                                   float64\n",
       "D16 mm                                                                                   float64\n",
       "D25 mm                                                                                   float64\n",
       "D50 mm                                                                                   float64\n",
       "D65 mm                                                                                   float64\n",
       "D75 mm                                                                                   float64\n",
       "D84 mm                                                                                   float64\n",
       "D90 mm                                                                                   float64\n",
       "DMEAN mm                                                                                 float64\n",
       "Country                                                                                   object\n",
       "Other - Country                                                                          float64\n",
       "Notes                                                                                    float64\n",
       "Beach Name                                                                                object\n",
       "Latitude                                                                                 float64\n",
       "Longitude                                                                                float64\n",
       "Model Training Date                                                                        int64\n",
       "Processing Status                                                                         object\n",
       "I agree with the Terms of Use and am willing to have my image added to this database.    float64\n",
       "Coin Detection                                                                            object\n",
       "Picture Date                                                                              object\n",
       "Latitude_Image                                                                           float64\n",
       "Longitude_Image                                                                          float64\n",
       "Latitude_Submission                                                                      float64\n",
       "Longitude_Submission                                                                     float64\n",
       "img_resolution                                                                           float64\n",
       "coin_major_axis_dim                                                                      float64\n",
       "coin_minor_axis_dim                                                                      float64\n",
       "blurry_metric                                                                            float64\n",
       "ab_value                                                                                 float64\n",
       "pixel_count                                                                              float64\n",
       "reprocess_record                                                                         float64\n",
       "reprocess_all_records                                                                    float64\n",
       "Calculated Grain Size                                                                    float64\n",
       "Analysis Status                                                                          float64\n",
       "x                                                                                        float64\n",
       "y                                                                                        float64\n",
       "date                                                                                      object\n",
       "dtype: object"
      ]
     },
     "execution_count": 3,
     "metadata": {},
     "output_type": "execute_result"
    }
   ],
   "source": [
    "sandsnap_df.dtypes"
   ]
  },
  {
   "cell_type": "markdown",
   "id": "bc84c6a6-3290-4c16-8bfa-5a5d5f270431",
   "metadata": {},
   "source": [
    "### Convert to geopandas"
   ]
  },
  {
   "cell_type": "code",
   "execution_count": 4,
   "id": "106f9b5b-2717-460f-b432-6b84d8ebcd57",
   "metadata": {},
   "outputs": [
    {
     "data": {
      "text/html": [
       "<div>\n",
       "<style scoped>\n",
       "    .dataframe tbody tr th:only-of-type {\n",
       "        vertical-align: middle;\n",
       "    }\n",
       "\n",
       "    .dataframe tbody tr th {\n",
       "        vertical-align: top;\n",
       "    }\n",
       "\n",
       "    .dataframe thead th {\n",
       "        text-align: right;\n",
       "    }\n",
       "</style>\n",
       "<table border=\"1\" class=\"dataframe\">\n",
       "  <thead>\n",
       "    <tr style=\"text-align: right;\">\n",
       "      <th></th>\n",
       "      <th>objectid</th>\n",
       "      <th>D50</th>\n",
       "      <th>date</th>\n",
       "      <th>x</th>\n",
       "      <th>y</th>\n",
       "    </tr>\n",
       "  </thead>\n",
       "  <tbody>\n",
       "    <tr>\n",
       "      <th>0</th>\n",
       "      <td>92</td>\n",
       "      <td>3.595201</td>\n",
       "      <td>2021-06-11</td>\n",
       "      <td>-73.556896</td>\n",
       "      <td>40.580327</td>\n",
       "    </tr>\n",
       "    <tr>\n",
       "      <th>1</th>\n",
       "      <td>115</td>\n",
       "      <td>0.374309</td>\n",
       "      <td>2021-06-11</td>\n",
       "      <td>-73.569361</td>\n",
       "      <td>40.575935</td>\n",
       "    </tr>\n",
       "    <tr>\n",
       "      <th>2</th>\n",
       "      <td>138</td>\n",
       "      <td>0.466378</td>\n",
       "      <td>2021-06-11</td>\n",
       "      <td>-73.560789</td>\n",
       "      <td>40.578358</td>\n",
       "    </tr>\n",
       "    <tr>\n",
       "      <th>3</th>\n",
       "      <td>132</td>\n",
       "      <td>0.425205</td>\n",
       "      <td>2021-06-11</td>\n",
       "      <td>-73.573119</td>\n",
       "      <td>40.574644</td>\n",
       "    </tr>\n",
       "    <tr>\n",
       "      <th>4</th>\n",
       "      <td>109</td>\n",
       "      <td>0.635154</td>\n",
       "      <td>2021-06-11</td>\n",
       "      <td>-73.573203</td>\n",
       "      <td>40.574809</td>\n",
       "    </tr>\n",
       "  </tbody>\n",
       "</table>\n",
       "</div>"
      ],
      "text/plain": [
       "   objectid       D50        date          x          y\n",
       "0        92  3.595201  2021-06-11 -73.556896  40.580327\n",
       "1       115  0.374309  2021-06-11 -73.569361  40.575935\n",
       "2       138  0.466378  2021-06-11 -73.560789  40.578358\n",
       "3       132  0.425205  2021-06-11 -73.573119  40.574644\n",
       "4       109  0.635154  2021-06-11 -73.573203  40.574809"
      ]
     },
     "execution_count": 4,
     "metadata": {},
     "output_type": "execute_result"
    }
   ],
   "source": [
    "jones_beach = sandsnap_df[['objectid','D50 mm','Processing Status','date','x','y']]\n",
    "jones_beach = jones_beach[jones_beach['Processing Status'] == 'ok'].drop('Processing Status',axis='columns')\n",
    "jones_beach = jones_beach.rename(columns={'D50 mm':'D50'}) #Rename the field\n",
    "jones_beach.head()"
   ]
  },
  {
   "cell_type": "markdown",
   "id": "ffbbd8f0-b992-46a6-ab71-0d801bfbd417",
   "metadata": {},
   "source": [
    "## Iterate over each entry and analyze\n",
    "\n",
    "We will use a naive extraction method, which will be wasteful because these coordinates are likely to be covered by one or few NAIP tiles. But for the sake of simplicity, we will extract the NAIP tile that overlaps with each coordinate, and construct the texture features\n"
   ]
  },
  {
   "cell_type": "code",
   "execution_count": 5,
   "id": "4f437125-d277-41c8-ac12-0defbaeacffe",
   "metadata": {},
   "outputs": [],
   "source": [
    "side_len_deg = 0.001"
   ]
  },
  {
   "cell_type": "code",
   "execution_count": 6,
   "id": "18765085-8450-40e2-8c19-dbbfad614e22",
   "metadata": {},
   "outputs": [],
   "source": [
    "def bbox(lon, lat, side_len_deg = 0.001):\n",
    "    point_geom  = shapely.geometry.mapping(shapely.geometry.Point(lon, lat))\n",
    "    point_shape = shapely.geometry.shape(point_geom)\n",
    "    #Create a square out of it with side_length = buffer*2\n",
    "    mask_shape  = point_shape.buffer(side_len_deg/2.).envelope\n",
    "    aoi   = shapely.geometry.mapping(mask_shape)\n",
    "    return aoi\n",
    "    # return rasterio.features.bounds(aoi)"
   ]
  },
  {
   "cell_type": "markdown",
   "id": "544df840-99fd-4bcb-bde4-d5b3e6c346a0",
   "metadata": {},
   "source": [
    "Using pystac_client we can search the Planetary Computer's STAC endpoint for items matching our query parameters."
   ]
  },
  {
   "cell_type": "markdown",
   "id": "7dd6c05d-2fdc-4c91-abf8-c8b719b12f8c",
   "metadata": {},
   "source": [
    "## Functions to extract NAIP tiles for each entry"
   ]
  },
  {
   "cell_type": "code",
   "execution_count": 7,
   "id": "42caa472-13b0-4774-9163-fbbfa5e02237",
   "metadata": {},
   "outputs": [],
   "source": [
    "stac = pystac_client.Client.open(\n",
    "    \"https://planetarycomputer.microsoft.com/api/stac/v1\",\n",
    "    modifier=planetary_computer.sign_inplace,\n",
    ")"
   ]
  },
  {
   "cell_type": "code",
   "execution_count": 8,
   "id": "8f3633cf-00f4-410e-9e60-a0461c89a0b9",
   "metadata": {},
   "outputs": [],
   "source": [
    "#returns the closest date \n",
    "def nearest_date(items, pivot):\n",
    "    return min(items, key=lambda x: abs(x - pivot))"
   ]
  },
  {
   "cell_type": "code",
   "execution_count": 22,
   "id": "69a0988c-1ab7-49ae-a7b7-cf11fdd4a7e4",
   "metadata": {},
   "outputs": [
    {
     "name": "stdout",
     "output_type": "stream",
     "text": [
      "1 overlapping tile(s) found for date range: 2019-06-11/2023-06-11\n",
      "Chosen tile with delta:672 days\n"
     ]
    }
   ],
   "source": [
    "def area_of_overlap(item, aoi):\n",
    "    area_shape = shape(aoi)\n",
    "    aoi_area = area_shape.area\n",
    "    \n",
    "    \n",
    "    aoi_area = shape(aoi).area\n",
    "    \n",
    "    overlap_area = shape(item.geometry).intersection(shape(aoi)).area\n",
    "    # print(aoi_area, overlap_area)\n",
    "    return overlap_area / aoi_area\n",
    "\n",
    "\n",
    "def NAIP_tile(date, lon, lat, limit_months=48):\n",
    "    \n",
    "    #Create a window of limit_months around the acquisition date to search for NAIP data\n",
    "    start_date, end_date = date - relativedelta(months=int(limit_months/2)), \\\n",
    "                            date + relativedelta(months=int(limit_months/2))\n",
    "\n",
    "\n",
    "    range_date = \"2018-01-01/2023-01-03\"\n",
    "    date_range = start_date.strftime('%Y-%m-%d') + \"/\" + end_date.strftime('%Y-%m-%d')\n",
    "    \n",
    "    aoi = bbox(lon, lat)\n",
    "\n",
    "    search = stac.search(\n",
    "        # bbox=aoi, \n",
    "        intersects=aoi,\n",
    "        datetime=date_range,\n",
    "        collections=[\"naip\"],\n",
    "        limit=5,\n",
    "        #query={\"eo:cloud_cover\": {\"lt\": 25}},\n",
    "    )\n",
    "\n",
    "    items = search.item_collection()\n",
    "    chosen_item = items[0]\n",
    "    delta_days = abs((chosen_item.datetime.date() - date).days)\n",
    "    \n",
    "    if len(items) > 1:\n",
    "        delta_min = 1e9\n",
    "        \n",
    "        #Choose the item that's closest in time to the sandsnap item's\n",
    "        for i, item in enumerate(items):\n",
    "            delta_days = abs((item.datetime.date() - date).days)\n",
    "            # print(delta_days)\n",
    "            if delta_days < delta_min:\n",
    "                delta_min = delta_days\n",
    "                chosen_item = item\n",
    "                \n",
    "    #Make sure area of overlap is 100%\n",
    "    assert(area_of_overlap(chosen_item,aoi) == 1)\n",
    "    \n",
    "    print(\"{:} overlapping tile(s) found for date range: {:}\\nChosen tile with delta:{:} days\"\\\n",
    "      .format(len(items),date_range,delta_days))\n",
    "        \n",
    "    return chosen_item   \n",
    "        \n",
    "        # chosen_item, aoo_max = items[0], 0.\n",
    "        #Pick the tile that has the most amount of overlap with the coordinate patch\n",
    "        # return sorted(items, key=area_of_overlap, reverse=True)[0]\n",
    "    #     for i, item in enumerate(items):\n",
    "    #         aoo = area_of_overlap(item, aoi)\n",
    "    #         if aoo > aoo_max:\n",
    "    #             aoo_max = aoo\n",
    "    #             chosen_item = item\n",
    "    #     return chosen_item\n",
    "    # else:\n",
    "    #     return items[0]\n",
    " \n",
    "#Test it\n",
    "tile = NAIP_tile(jones_beach['date'][0],jones_beach['x'][0],jones_beach['y'][0])\n"
   ]
  },
  {
   "cell_type": "markdown",
   "id": "2040867b-1e2c-45f7-bff5-58dd9b3624f3",
   "metadata": {},
   "source": [
    "# Crop of AOI\n",
    "\n",
    "Efficiently!"
   ]
  },
  {
   "cell_type": "code",
   "execution_count": 10,
   "id": "4dbd1691-d113-4582-8486-aa18dbac8d90",
   "metadata": {},
   "outputs": [],
   "source": [
    "import operator\n",
    "\n",
    "def cropCenter(img, bounding):\n",
    "    start = tuple(map(lambda a, da: a//2-da//2, img.shape, bounding))\n",
    "    end = tuple(map(operator.add, start, bounding))\n",
    "    slices = tuple(map(slice, start, end))\n",
    "    return img[slices]"
   ]
  },
  {
   "cell_type": "code",
   "execution_count": 11,
   "id": "dc8a2439-8ce6-435b-b5b8-f7a67bb3361f",
   "metadata": {},
   "outputs": [],
   "source": [
    "import shapely \n",
    "import rasterio\n",
    "from rasterio.mask import mask\n",
    "\n",
    "\n",
    "def get_rgbir_patch(rgbir_url, lon, lat, window_size=3):\n",
    "    point_geom = shapely.geometry.mapping(shapely.geometry.Point(lon, lat))\n",
    "    PATCH_SIZE_M = 100.\n",
    "    # side_length_m = 101. #meters because the destination EPSG (26916) is in meters\n",
    "\n",
    "    with rasterio.Env():\n",
    "        with rasterio.open(rgbir_url, \"r\") as f:\n",
    "            point_geom = rasterio.warp.transform_geom(\n",
    "                \"epsg:4326\", f.crs.to_string(), point_geom)\n",
    "\n",
    "            #Convert the point to a shape\n",
    "            point_shape = shapely.geometry.shape(point_geom)\n",
    "            #Create a square out of it with side_length = buffer*2\n",
    "            mask_shape = point_shape.buffer(PATCH_SIZE_M/2).envelope\n",
    "            mask_geom = shapely.geometry.mapping(mask_shape)\n",
    "\n",
    "            #crop to the aoi (mask)\n",
    "            try:\n",
    "                image_rgbir, _ = mask(\n",
    "                    f, [mask_geom], crop=True)\n",
    "                \n",
    "                #Now crop to a smaller patch\n",
    "                assert (window_size < image_rgbir.shape[1])\n",
    "                img_rgbir_patch = cropCenter(image_rgbir, (image_rgbir.shape[0],window_size,window_size)) #4 for 4 channels\n",
    "                return img_rgbir_patch\n",
    "\n",
    "            except ValueError as e:\n",
    "                if \"Input shapes do not overlap raster.\" in str(e):\n",
    "                    print (\"no dice\")\n",
    "                    \n",
    "                    \n",
    "    \n"
   ]
  },
  {
   "cell_type": "markdown",
   "id": "00d2112e-252e-4c25-ada4-defd2b0bee91",
   "metadata": {},
   "source": [
    "### Gray levels\n",
    "\n",
    "\n",
    "Use of two methods to derive the gray levels from the 4 band image"
   ]
  },
  {
   "cell_type": "code",
   "execution_count": 20,
   "id": "49505db6-2231-4a41-bb9c-d3c385c76979",
   "metadata": {},
   "outputs": [],
   "source": [
    "def get_gray(img, method='mean'):\n",
    "    \"\"\"\n",
    "    method:'mean' uses an average of all bands\n",
    "    method:'weighted' uses known weights that maximuize human visual perception - probably not relevant for this task\n",
    "    \"\"\"\n",
    "    \n",
    "    gray = np.average(img, axis=0).astype('uint8') if method == 'mean' \\\n",
    "    else np.average(img, axis=0, weights=[0.3, 0.59, 0.11, 0.]).astype('uint8')\n",
    "    \n",
    "    return gray"
   ]
  },
  {
   "cell_type": "markdown",
   "id": "6736a974-0428-4f9c-b3af-6f8a380758de",
   "metadata": {},
   "source": [
    "## Haralick features"
   ]
  },
  {
   "cell_type": "code",
   "execution_count": 42,
   "id": "7b102fcb-c76f-4e06-87fb-a4a0d5a8458a",
   "metadata": {
    "tags": []
   },
   "outputs": [],
   "source": [
    "def get_haralick_features(gray, distance, properties):\n",
    "    \n",
    "    #Generate GLCM matrix\n",
    "    glcm = graycomatrix(gray, distances=[distance], angles=[0, np.pi/4, np.pi/2, 3*np.pi/4], levels=256,\n",
    "                        symmetric=True, normed=False)\n",
    "    \n",
    "    feature = []\n",
    "    \n",
    "    for prop in properties:\n",
    "        p_i = graycoprops(glcm, prop)\n",
    "        # print(p_i)\n",
    "        p_i = np.average(p_i[0], axis=0)\n",
    "        # print(p_i)\n",
    "        feature.append(p_i)\n",
    "        \n",
    "    return feature\n",
    "    "
   ]
  },
  {
   "cell_type": "code",
   "execution_count": 42,
   "id": "0a250141-7197-4599-be05-a2ffa36d0662",
   "metadata": {
    "tags": []
   },
   "outputs": [],
   "source": [
    "def get_haralick_features(gray, distance, prop):\n",
    "    \n",
    "    #Generate GLCM matrix\n",
    "    glcm = graycomatrix(gray, distances=[distance], angles=[0, np.pi/4, np.pi/2, 3*np.pi/4], levels=256,\n",
    "                        symmetric=True, normed=False)\n",
    "    \n",
    "    p_i = graycoprops(glcm, prop)\n",
    "    return feature\n",
    "    "
   ]
  },
  {
   "cell_type": "markdown",
   "id": "f853ba8c-d130-470d-af56-3c992d108b7b",
   "metadata": {},
   "source": [
    "## Pick most appropriate NAIP tile\n",
    "Sort them by area of coverage"
   ]
  },
  {
   "cell_type": "code",
   "execution_count": 98,
   "id": "94813e13-4e0d-4e7a-a4ac-86e6ebb9d45d",
   "metadata": {},
   "outputs": [
    {
     "data": {
      "text/html": [
       "<div>\n",
       "<style scoped>\n",
       "    .dataframe tbody tr th:only-of-type {\n",
       "        vertical-align: middle;\n",
       "    }\n",
       "\n",
       "    .dataframe tbody tr th {\n",
       "        vertical-align: top;\n",
       "    }\n",
       "\n",
       "    .dataframe thead th {\n",
       "        text-align: right;\n",
       "    }\n",
       "</style>\n",
       "<table border=\"1\" class=\"dataframe\">\n",
       "  <thead>\n",
       "    <tr style=\"text-align: right;\">\n",
       "      <th></th>\n",
       "      <th>objectid</th>\n",
       "      <th>D50</th>\n",
       "      <th>date</th>\n",
       "      <th>x</th>\n",
       "      <th>y</th>\n",
       "      <th>dissimilarity</th>\n",
       "      <th>homogeneity</th>\n",
       "      <th>contrast</th>\n",
       "      <th>ASM</th>\n",
       "      <th>correlation</th>\n",
       "      <th>energy</th>\n",
       "    </tr>\n",
       "  </thead>\n",
       "  <tbody>\n",
       "    <tr>\n",
       "      <th>0</th>\n",
       "      <td>92</td>\n",
       "      <td>3.595201</td>\n",
       "      <td>2021-06-11</td>\n",
       "      <td>-73.556896</td>\n",
       "      <td>40.580327</td>\n",
       "      <td>NaN</td>\n",
       "      <td>NaN</td>\n",
       "      <td>NaN</td>\n",
       "      <td>NaN</td>\n",
       "      <td>NaN</td>\n",
       "      <td>NaN</td>\n",
       "    </tr>\n",
       "    <tr>\n",
       "      <th>1</th>\n",
       "      <td>115</td>\n",
       "      <td>0.374309</td>\n",
       "      <td>2021-06-11</td>\n",
       "      <td>-73.569361</td>\n",
       "      <td>40.575935</td>\n",
       "      <td>NaN</td>\n",
       "      <td>NaN</td>\n",
       "      <td>NaN</td>\n",
       "      <td>NaN</td>\n",
       "      <td>NaN</td>\n",
       "      <td>NaN</td>\n",
       "    </tr>\n",
       "    <tr>\n",
       "      <th>2</th>\n",
       "      <td>138</td>\n",
       "      <td>0.466378</td>\n",
       "      <td>2021-06-11</td>\n",
       "      <td>-73.560789</td>\n",
       "      <td>40.578358</td>\n",
       "      <td>NaN</td>\n",
       "      <td>NaN</td>\n",
       "      <td>NaN</td>\n",
       "      <td>NaN</td>\n",
       "      <td>NaN</td>\n",
       "      <td>NaN</td>\n",
       "    </tr>\n",
       "    <tr>\n",
       "      <th>3</th>\n",
       "      <td>132</td>\n",
       "      <td>0.425205</td>\n",
       "      <td>2021-06-11</td>\n",
       "      <td>-73.573119</td>\n",
       "      <td>40.574644</td>\n",
       "      <td>NaN</td>\n",
       "      <td>NaN</td>\n",
       "      <td>NaN</td>\n",
       "      <td>NaN</td>\n",
       "      <td>NaN</td>\n",
       "      <td>NaN</td>\n",
       "    </tr>\n",
       "    <tr>\n",
       "      <th>4</th>\n",
       "      <td>109</td>\n",
       "      <td>0.635154</td>\n",
       "      <td>2021-06-11</td>\n",
       "      <td>-73.573203</td>\n",
       "      <td>40.574809</td>\n",
       "      <td>NaN</td>\n",
       "      <td>NaN</td>\n",
       "      <td>NaN</td>\n",
       "      <td>NaN</td>\n",
       "      <td>NaN</td>\n",
       "      <td>NaN</td>\n",
       "    </tr>\n",
       "  </tbody>\n",
       "</table>\n",
       "</div>"
      ],
      "text/plain": [
       "   objectid       D50        date          x          y  dissimilarity  \\\n",
       "0        92  3.595201  2021-06-11 -73.556896  40.580327            NaN   \n",
       "1       115  0.374309  2021-06-11 -73.569361  40.575935            NaN   \n",
       "2       138  0.466378  2021-06-11 -73.560789  40.578358            NaN   \n",
       "3       132  0.425205  2021-06-11 -73.573119  40.574644            NaN   \n",
       "4       109  0.635154  2021-06-11 -73.573203  40.574809            NaN   \n",
       "\n",
       "   homogeneity  contrast  ASM  correlation  energy  \n",
       "0          NaN       NaN  NaN          NaN     NaN  \n",
       "1          NaN       NaN  NaN          NaN     NaN  \n",
       "2          NaN       NaN  NaN          NaN     NaN  \n",
       "3          NaN       NaN  NaN          NaN     NaN  \n",
       "4          NaN       NaN  NaN          NaN     NaN  "
      ]
     },
     "execution_count": 98,
     "metadata": {},
     "output_type": "execute_result"
    }
   ],
   "source": [
    "WINDOW_SIZE_M = 5\n",
    "DISTANCE_PX = 2\n",
    "DISTANCE_PX = 5\n",
    "# DISTANCE_PX = 10\n",
    "PROPERTIES = ['dissimilarity','homogeneity','contrast','energy','correlation']\n",
    "\n",
    "# test = jones_beach.copy()\n",
    "\n",
    "for prop in PROPERTIES:\n",
    "    jones_beach[prop] = np.NaN\n",
    "\n",
    "\n",
    "jones_beach.head()\n",
    "    \n",
    "\n"
   ]
  },
  {
   "cell_type": "code",
   "execution_count": 99,
   "id": "60545cea-b170-4f6e-be2e-9f4b8ad0f4ad",
   "metadata": {},
   "outputs": [],
   "source": [
    "import warnings\n",
    "warnings.filterwarnings(\"ignore\")\n",
    "\n",
    "def get_haralick_features(df):\n",
    "    \"\"\"\n",
    "    \"\"\"\n",
    "    for index, sample in df.iterrows():\n",
    "        # print(row['D50'], row['date'])\n",
    "        lon, lat = sample['x'], sample['y']\n",
    "        tile = NAIP_tile(sample['date'], lon, lat)\n",
    "        gsd = tile.properties['gsd'] \n",
    "        window_size_px = int(WINDOW_SIZE_M / gsd + 0.5)\n",
    "        rgbir_url = tile.assets['image'].href\n",
    "\n",
    "        #Extract patch of window_size_px around (lon,lat)\n",
    "        patch = get_rgbir_patch(rgbir_url, lon, lat, window_size_px)\n",
    "\n",
    "        #convert to grayscale\n",
    "        gray = get_gray(patch)\n",
    "\n",
    "        #get GLCM\n",
    "        glcm = graycomatrix(gray, distances=[DISTANCE_PX], angles=[0, np.pi/4, np.pi/2, 3*np.pi/4], levels=256,\n",
    "                            symmetric=True, normed=False)\n",
    "\n",
    "        #Get haralick features\n",
    "        for prop in PROPERTIES:\n",
    "            p = graycoprops(glcm, prop)\n",
    "            p = np.average(p[0], axis=0)\n",
    "            # print(p)\n",
    "            df[prop].iloc[index] = p\n",
    "    \n"
   ]
  },
  {
   "cell_type": "code",
   "execution_count": 100,
   "id": "bd30a1fd-ce76-4c97-a1ef-4f80c8e37ae4",
   "metadata": {},
   "outputs": [
    {
     "name": "stdout",
     "output_type": "stream",
     "text": [
      "1 overlapping tile(s) found for date range: 2019-06-11/2023-06-11\n",
      "Chosen tile with delta:672 days\n",
      "1 overlapping tile(s) found for date range: 2019-06-11/2023-06-11\n",
      "Chosen tile with delta:672 days\n",
      "2 overlapping tile(s) found for date range: 2019-06-11/2023-06-11\n",
      "Chosen tile with delta:672 days\n",
      "1 overlapping tile(s) found for date range: 2019-06-11/2023-06-11\n",
      "Chosen tile with delta:672 days\n",
      "1 overlapping tile(s) found for date range: 2019-06-11/2023-06-11\n",
      "Chosen tile with delta:672 days\n",
      "1 overlapping tile(s) found for date range: 2019-06-11/2023-06-11\n",
      "Chosen tile with delta:672 days\n",
      "1 overlapping tile(s) found for date range: 2019-06-11/2023-06-11\n",
      "Chosen tile with delta:672 days\n",
      "1 overlapping tile(s) found for date range: 2019-06-11/2023-06-11\n",
      "Chosen tile with delta:672 days\n",
      "1 overlapping tile(s) found for date range: 2019-06-11/2023-06-11\n",
      "Chosen tile with delta:672 days\n",
      "1 overlapping tile(s) found for date range: 2019-06-11/2023-06-11\n",
      "Chosen tile with delta:672 days\n",
      "2 overlapping tile(s) found for date range: 2019-06-11/2023-06-11\n",
      "Chosen tile with delta:672 days\n",
      "1 overlapping tile(s) found for date range: 2019-06-11/2023-06-11\n",
      "Chosen tile with delta:672 days\n",
      "1 overlapping tile(s) found for date range: 2019-06-11/2023-06-11\n",
      "Chosen tile with delta:672 days\n",
      "1 overlapping tile(s) found for date range: 2019-06-11/2023-06-11\n",
      "Chosen tile with delta:672 days\n",
      "1 overlapping tile(s) found for date range: 2019-06-11/2023-06-11\n",
      "Chosen tile with delta:672 days\n",
      "1 overlapping tile(s) found for date range: 2019-06-11/2023-06-11\n",
      "Chosen tile with delta:672 days\n",
      "2 overlapping tile(s) found for date range: 2019-06-11/2023-06-11\n",
      "Chosen tile with delta:672 days\n",
      "1 overlapping tile(s) found for date range: 2019-06-11/2023-06-11\n",
      "Chosen tile with delta:672 days\n",
      "2 overlapping tile(s) found for date range: 2019-06-11/2023-06-11\n",
      "Chosen tile with delta:672 days\n",
      "1 overlapping tile(s) found for date range: 2019-06-11/2023-06-11\n",
      "Chosen tile with delta:672 days\n",
      "1 overlapping tile(s) found for date range: 2019-06-11/2023-06-11\n",
      "Chosen tile with delta:672 days\n",
      "1 overlapping tile(s) found for date range: 2019-06-11/2023-06-11\n",
      "Chosen tile with delta:672 days\n",
      "1 overlapping tile(s) found for date range: 2019-06-11/2023-06-11\n",
      "Chosen tile with delta:672 days\n",
      "1 overlapping tile(s) found for date range: 2019-06-11/2023-06-11\n",
      "Chosen tile with delta:672 days\n",
      "1 overlapping tile(s) found for date range: 2019-06-11/2023-06-11\n",
      "Chosen tile with delta:672 days\n",
      "2 overlapping tile(s) found for date range: 2019-06-11/2023-06-11\n",
      "Chosen tile with delta:672 days\n",
      "1 overlapping tile(s) found for date range: 2019-06-11/2023-06-11\n",
      "Chosen tile with delta:672 days\n",
      "1 overlapping tile(s) found for date range: 2019-06-11/2023-06-11\n",
      "Chosen tile with delta:672 days\n",
      "1 overlapping tile(s) found for date range: 2019-06-11/2023-06-11\n",
      "Chosen tile with delta:672 days\n",
      "1 overlapping tile(s) found for date range: 2019-06-11/2023-06-11\n",
      "Chosen tile with delta:672 days\n",
      "2 overlapping tile(s) found for date range: 2019-06-11/2023-06-11\n",
      "Chosen tile with delta:672 days\n",
      "2 overlapping tile(s) found for date range: 2019-06-11/2023-06-11\n",
      "Chosen tile with delta:672 days\n",
      "2 overlapping tile(s) found for date range: 2019-06-11/2023-06-11\n",
      "Chosen tile with delta:672 days\n",
      "1 overlapping tile(s) found for date range: 2019-06-11/2023-06-11\n",
      "Chosen tile with delta:672 days\n",
      "1 overlapping tile(s) found for date range: 2019-06-11/2023-06-11\n",
      "Chosen tile with delta:672 days\n",
      "1 overlapping tile(s) found for date range: 2019-06-11/2023-06-11\n",
      "Chosen tile with delta:672 days\n",
      "1 overlapping tile(s) found for date range: 2019-06-11/2023-06-11\n",
      "Chosen tile with delta:672 days\n",
      "1 overlapping tile(s) found for date range: 2019-06-11/2023-06-11\n",
      "Chosen tile with delta:672 days\n",
      "2 overlapping tile(s) found for date range: 2019-06-11/2023-06-11\n",
      "Chosen tile with delta:672 days\n",
      "1 overlapping tile(s) found for date range: 2019-06-11/2023-06-11\n",
      "Chosen tile with delta:672 days\n",
      "1 overlapping tile(s) found for date range: 2019-06-11/2023-06-11\n",
      "Chosen tile with delta:672 days\n",
      "1 overlapping tile(s) found for date range: 2019-06-11/2023-06-11\n",
      "Chosen tile with delta:672 days\n",
      "1 overlapping tile(s) found for date range: 2019-06-11/2023-06-11\n",
      "Chosen tile with delta:672 days\n",
      "1 overlapping tile(s) found for date range: 2019-06-11/2023-06-11\n",
      "Chosen tile with delta:672 days\n",
      "1 overlapping tile(s) found for date range: 2019-06-11/2023-06-11\n",
      "Chosen tile with delta:672 days\n",
      "2 overlapping tile(s) found for date range: 2019-06-11/2023-06-11\n",
      "Chosen tile with delta:672 days\n",
      "1 overlapping tile(s) found for date range: 2019-06-11/2023-06-11\n",
      "Chosen tile with delta:672 days\n",
      "1 overlapping tile(s) found for date range: 2019-06-11/2023-06-11\n",
      "Chosen tile with delta:672 days\n",
      "1 overlapping tile(s) found for date range: 2019-06-11/2023-06-11\n",
      "Chosen tile with delta:672 days\n",
      "1 overlapping tile(s) found for date range: 2019-06-11/2023-06-11\n",
      "Chosen tile with delta:672 days\n",
      "2 overlapping tile(s) found for date range: 2019-06-11/2023-06-11\n",
      "Chosen tile with delta:672 days\n",
      "2 overlapping tile(s) found for date range: 2019-06-11/2023-06-11\n",
      "Chosen tile with delta:672 days\n"
     ]
    },
    {
     "data": {
      "text/html": [
       "<div>\n",
       "<style scoped>\n",
       "    .dataframe tbody tr th:only-of-type {\n",
       "        vertical-align: middle;\n",
       "    }\n",
       "\n",
       "    .dataframe tbody tr th {\n",
       "        vertical-align: top;\n",
       "    }\n",
       "\n",
       "    .dataframe thead th {\n",
       "        text-align: right;\n",
       "    }\n",
       "</style>\n",
       "<table border=\"1\" class=\"dataframe\">\n",
       "  <thead>\n",
       "    <tr style=\"text-align: right;\">\n",
       "      <th></th>\n",
       "      <th>objectid</th>\n",
       "      <th>D50</th>\n",
       "      <th>date</th>\n",
       "      <th>x</th>\n",
       "      <th>y</th>\n",
       "      <th>dissimilarity</th>\n",
       "      <th>homogeneity</th>\n",
       "      <th>contrast</th>\n",
       "      <th>ASM</th>\n",
       "      <th>correlation</th>\n",
       "      <th>energy</th>\n",
       "    </tr>\n",
       "  </thead>\n",
       "  <tbody>\n",
       "    <tr>\n",
       "      <th>0</th>\n",
       "      <td>92</td>\n",
       "      <td>3.595201</td>\n",
       "      <td>2021-06-11</td>\n",
       "      <td>-73.556896</td>\n",
       "      <td>40.580327</td>\n",
       "      <td>0.994792</td>\n",
       "      <td>0.558854</td>\n",
       "      <td>1.557292</td>\n",
       "      <td>NaN</td>\n",
       "      <td>-0.403520</td>\n",
       "      <td>0.418288</td>\n",
       "    </tr>\n",
       "    <tr>\n",
       "      <th>1</th>\n",
       "      <td>115</td>\n",
       "      <td>0.374309</td>\n",
       "      <td>2021-06-11</td>\n",
       "      <td>-73.569361</td>\n",
       "      <td>40.575935</td>\n",
       "      <td>1.250000</td>\n",
       "      <td>0.504963</td>\n",
       "      <td>2.593750</td>\n",
       "      <td>NaN</td>\n",
       "      <td>-0.256925</td>\n",
       "      <td>0.380967</td>\n",
       "    </tr>\n",
       "    <tr>\n",
       "      <th>2</th>\n",
       "      <td>138</td>\n",
       "      <td>0.466378</td>\n",
       "      <td>2021-06-11</td>\n",
       "      <td>-73.560789</td>\n",
       "      <td>40.578358</td>\n",
       "      <td>9.359375</td>\n",
       "      <td>0.064824</td>\n",
       "      <td>111.796875</td>\n",
       "      <td>NaN</td>\n",
       "      <td>-0.211509</td>\n",
       "      <td>0.177922</td>\n",
       "    </tr>\n",
       "    <tr>\n",
       "      <th>3</th>\n",
       "      <td>132</td>\n",
       "      <td>0.425205</td>\n",
       "      <td>2021-06-11</td>\n",
       "      <td>-73.573119</td>\n",
       "      <td>40.574644</td>\n",
       "      <td>2.651042</td>\n",
       "      <td>0.296734</td>\n",
       "      <td>10.776042</td>\n",
       "      <td>NaN</td>\n",
       "      <td>0.017906</td>\n",
       "      <td>0.291550</td>\n",
       "    </tr>\n",
       "    <tr>\n",
       "      <th>4</th>\n",
       "      <td>109</td>\n",
       "      <td>0.635154</td>\n",
       "      <td>2021-06-11</td>\n",
       "      <td>-73.573203</td>\n",
       "      <td>40.574809</td>\n",
       "      <td>1.979167</td>\n",
       "      <td>0.357556</td>\n",
       "      <td>5.677083</td>\n",
       "      <td>NaN</td>\n",
       "      <td>-0.008228</td>\n",
       "      <td>0.304011</td>\n",
       "    </tr>\n",
       "  </tbody>\n",
       "</table>\n",
       "</div>"
      ],
      "text/plain": [
       "   objectid       D50        date          x          y  dissimilarity  \\\n",
       "0        92  3.595201  2021-06-11 -73.556896  40.580327       0.994792   \n",
       "1       115  0.374309  2021-06-11 -73.569361  40.575935       1.250000   \n",
       "2       138  0.466378  2021-06-11 -73.560789  40.578358       9.359375   \n",
       "3       132  0.425205  2021-06-11 -73.573119  40.574644       2.651042   \n",
       "4       109  0.635154  2021-06-11 -73.573203  40.574809       1.979167   \n",
       "\n",
       "   homogeneity    contrast  ASM  correlation    energy  \n",
       "0     0.558854    1.557292  NaN    -0.403520  0.418288  \n",
       "1     0.504963    2.593750  NaN    -0.256925  0.380967  \n",
       "2     0.064824  111.796875  NaN    -0.211509  0.177922  \n",
       "3     0.296734   10.776042  NaN     0.017906  0.291550  \n",
       "4     0.357556    5.677083  NaN    -0.008228  0.304011  "
      ]
     },
     "execution_count": 100,
     "metadata": {},
     "output_type": "execute_result"
    }
   ],
   "source": [
    "get_haralick_features(jones_beach)\n",
    "jones_beach.head()"
   ]
  },
  {
   "cell_type": "code",
   "execution_count": 101,
   "id": "924de478-5049-42e1-8fb2-2d77aa8e6979",
   "metadata": {},
   "outputs": [
    {
     "data": {
      "image/png": "[encoded data removed]",
      "text/plain": [
       "<Figure size 640x480 with 1 Axes>"
      ]
     },
     "metadata": {},
     "output_type": "display_data"
    }
   ],
   "source": [
    "plt.scatter(jones_beach['dissimilarity'], jones_beach['D50'])\n",
    "plt.xlabel('Dissimilarity')\n",
    "plt.ylabel('D50')\n",
    "plt.show()"
   ]
  },
  {
   "cell_type": "code",
   "execution_count": 102,
   "id": "bcc429e7-dde8-47a4-8e43-1c6a53eb60a9",
   "metadata": {},
   "outputs": [
    {
     "data": {
      "image/png": "[encoded data removed]",
      "text/plain": [
       "<Figure size 640x480 with 1 Axes>"
      ]
     },
     "metadata": {},
     "output_type": "display_data"
    }
   ],
   "source": [
    "plt.scatter(jones_beach['homogeneity'], jones_beach['D50'])\n",
    "plt.xlabel('homogeneity')\n",
    "plt.ylabel('D50')\n",
    "plt.show()"
   ]
  },
  {
   "cell_type": "code",
   "execution_count": 103,
   "id": "bc0818e5-d0bc-4d5c-aada-0c9ffe08fc94",
   "metadata": {},
   "outputs": [
    {
     "data": {
      "image/png": "[encoded data removed]",
      "text/plain": [
       "<Figure size 640x480 with 1 Axes>"
      ]
     },
     "metadata": {},
     "output_type": "display_data"
    }
   ],
   "source": [
    "plt.scatter(jones_beach['contrast'], jones_beach['D50'])\n",
    "plt.xlabel('contrast')\n",
    "plt.ylabel('D50')\n",
    "plt.show()"
   ]
  },
  {
   "cell_type": "code",
   "execution_count": 104,
   "id": "2adaea63-9bac-46b8-bd79-642ee5745472",
   "metadata": {},
   "outputs": [
    {
     "data": {
      "image/png": "[encoded data removed]",
      "text/plain": [
       "<Figure size 640x480 with 1 Axes>"
      ]
     },
     "metadata": {},
     "output_type": "display_data"
    }
   ],
   "source": [
    "plt.scatter(jones_beach['correlation'], jones_beach['D50'])\n",
    "plt.xlabel('correlation')\n",
    "plt.ylabel('D50')\n",
    "plt.show()"
   ]
  },
  {
   "cell_type": "code",
   "execution_count": 105,
   "id": "76d903bd-04e6-4ca0-a75e-6cc8d03f9df1",
   "metadata": {},
   "outputs": [
    {
     "data": {
      "image/png": "[encoded data removed]",
      "text/plain": [
       "<Figure size 640x480 with 1 Axes>"
      ]
     },
     "metadata": {},
     "output_type": "display_data"
    }
   ],
   "source": [
    "plt.scatter(jones_beach['energy'], jones_beach['D50'])\n",
    "plt.xlabel('energy')\n",
    "plt.ylabel('D50')\n",
    "plt.show()"
   ]
  },
  {
   "cell_type": "markdown",
   "id": "911bd9cb-8cfe-4cbe-9221-5fc925670e14",
   "metadata": {},
   "source": [
    "## Multiple regression"
   ]
  },
  {
   "cell_type": "code",
   "execution_count": 106,
   "id": "f62db369-5965-4fde-8ede-3382fd97ca84",
   "metadata": {},
   "outputs": [
    {
     "data": {
      "text/html": [
       "<table class=\"simpletable\">\n",
       "<caption>OLS Regression Results</caption>\n",
       "<tr>\n",
       "  <th>Dep. Variable:</th>           <td>D50</td>       <th>  R-squared:         </th> <td>   0.126</td>\n",
       "</tr>\n",
       "<tr>\n",
       "  <th>Model:</th>                   <td>OLS</td>       <th>  Adj. R-squared:    </th> <td>   0.031</td>\n",
       "</tr>\n",
       "<tr>\n",
       "  <th>Method:</th>             <td>Least Squares</td>  <th>  F-statistic:       </th> <td>   1.328</td>\n",
       "</tr>\n",
       "<tr>\n",
       "  <th>Date:</th>             <td>Fri, 10 Mar 2023</td> <th>  Prob (F-statistic):</th>  <td> 0.269</td> \n",
       "</tr>\n",
       "<tr>\n",
       "  <th>Time:</th>                 <td>22:56:53</td>     <th>  Log-Likelihood:    </th> <td> -32.531</td>\n",
       "</tr>\n",
       "<tr>\n",
       "  <th>No. Observations:</th>      <td>    52</td>      <th>  AIC:               </th> <td>   77.06</td>\n",
       "</tr>\n",
       "<tr>\n",
       "  <th>Df Residuals:</th>          <td>    46</td>      <th>  BIC:               </th> <td>   88.77</td>\n",
       "</tr>\n",
       "<tr>\n",
       "  <th>Df Model:</th>              <td>     5</td>      <th>                     </th>     <td> </td>   \n",
       "</tr>\n",
       "<tr>\n",
       "  <th>Covariance Type:</th>      <td>nonrobust</td>    <th>                     </th>     <td> </td>   \n",
       "</tr>\n",
       "</table>\n",
       "<table class=\"simpletable\">\n",
       "<tr>\n",
       "        <td></td>           <th>coef</th>     <th>std err</th>      <th>t</th>      <th>P>|t|</th>  <th>[0.025</th>    <th>0.975]</th>  \n",
       "</tr>\n",
       "<tr>\n",
       "  <th>Intercept</th>     <td>    0.1177</td> <td>    1.238</td> <td>    0.095</td> <td> 0.925</td> <td>   -2.374</td> <td>    2.610</td>\n",
       "</tr>\n",
       "<tr>\n",
       "  <th>dissimilarity</th> <td>    0.2193</td> <td>    0.419</td> <td>    0.523</td> <td> 0.604</td> <td>   -0.625</td> <td>    1.063</td>\n",
       "</tr>\n",
       "<tr>\n",
       "  <th>homogeneity</th>   <td>    2.1850</td> <td>    2.104</td> <td>    1.038</td> <td> 0.305</td> <td>   -2.051</td> <td>    6.421</td>\n",
       "</tr>\n",
       "<tr>\n",
       "  <th>contrast</th>      <td>   -0.0149</td> <td>    0.027</td> <td>   -0.554</td> <td> 0.582</td> <td>   -0.069</td> <td>    0.039</td>\n",
       "</tr>\n",
       "<tr>\n",
       "  <th>correlation</th>   <td>   -1.1968</td> <td>    0.553</td> <td>   -2.163</td> <td> 0.036</td> <td>   -2.311</td> <td>   -0.083</td>\n",
       "</tr>\n",
       "<tr>\n",
       "  <th>energy</th>        <td>   -2.2230</td> <td>    1.579</td> <td>   -1.408</td> <td> 0.166</td> <td>   -5.401</td> <td>    0.955</td>\n",
       "</tr>\n",
       "</table>\n",
       "<table class=\"simpletable\">\n",
       "<tr>\n",
       "  <th>Omnibus:</th>       <td>64.991</td> <th>  Durbin-Watson:     </th> <td>   1.781</td> \n",
       "</tr>\n",
       "<tr>\n",
       "  <th>Prob(Omnibus):</th> <td> 0.000</td> <th>  Jarque-Bera (JB):  </th> <td> 615.250</td> \n",
       "</tr>\n",
       "<tr>\n",
       "  <th>Skew:</th>          <td> 3.193</td> <th>  Prob(JB):          </th> <td>2.51e-134</td>\n",
       "</tr>\n",
       "<tr>\n",
       "  <th>Kurtosis:</th>      <td>18.594</td> <th>  Cond. No.          </th> <td>    915.</td> \n",
       "</tr>\n",
       "</table><br/><br/>Notes:<br/>[1] Standard Errors assume that the covariance matrix of the errors is correctly specified."
      ],
      "text/plain": [
       "<class 'statsmodels.iolib.summary.Summary'>\n",
       "\"\"\"\n",
       "                            OLS Regression Results                            \n",
       "==============================================================================\n",
       "Dep. Variable:                    D50   R-squared:                       0.126\n",
       "Model:                            OLS   Adj. R-squared:                  0.031\n",
       "Method:                 Least Squares   F-statistic:                     1.328\n",
       "Date:                Fri, 10 Mar 2023   Prob (F-statistic):              0.269\n",
       "Time:                        22:56:53   Log-Likelihood:                -32.531\n",
       "No. Observations:                  52   AIC:                             77.06\n",
       "Df Residuals:                      46   BIC:                             88.77\n",
       "Df Model:                           5                                         \n",
       "Covariance Type:            nonrobust                                         \n",
       "=================================================================================\n",
       "                    coef    std err          t      P>|t|      [0.025      0.975]\n",
       "---------------------------------------------------------------------------------\n",
       "Intercept         0.1177      1.238      0.095      0.925      -2.374       2.610\n",
       "dissimilarity     0.2193      0.419      0.523      0.604      -0.625       1.063\n",
       "homogeneity       2.1850      2.104      1.038      0.305      -2.051       6.421\n",
       "contrast         -0.0149      0.027     -0.554      0.582      -0.069       0.039\n",
       "correlation      -1.1968      0.553     -2.163      0.036      -2.311      -0.083\n",
       "energy           -2.2230      1.579     -1.408      0.166      -5.401       0.955\n",
       "==============================================================================\n",
       "Omnibus:                       64.991   Durbin-Watson:                   1.781\n",
       "Prob(Omnibus):                  0.000   Jarque-Bera (JB):              615.250\n",
       "Skew:                           3.193   Prob(JB):                    2.51e-134\n",
       "Kurtosis:                      18.594   Cond. No.                         915.\n",
       "==============================================================================\n",
       "\n",
       "Notes:\n",
       "[1] Standard Errors assume that the covariance matrix of the errors is correctly specified.\n",
       "\"\"\""
      ]
     },
     "execution_count": 106,
     "metadata": {},
     "output_type": "execute_result"
    }
   ],
   "source": [
    "import statsmodels.formula.api as smf \n",
    "\n",
    "# formula: response ~ predictor + predictor \n",
    "model = smf.ols(formula='D50 ~ dissimilarity + homogeneity + contrast + correlation + energy', data=jones_beach).fit()\n",
    "model.summary()"
   ]
  },
  {
   "cell_type": "code",
   "execution_count": null,
   "id": "7098ce67-660b-40ce-b552-95988d6d21c3",
   "metadata": {},
   "outputs": [],
   "source": []
  },
  {
   "cell_type": "code",
   "execution_count": 38,
   "id": "17ecdf6c-2a48-4d21-82b8-2d91fd33cf4a",
   "metadata": {},
   "outputs": [
    {
     "data": {
      "image/png": "[encoded data removed]",
      "text/plain": [
       "<Figure size 640x480 with 2 Axes>"
      ]
     },
     "metadata": {},
     "output_type": "display_data"
    }
   ],
   "source": [
    "# img_rgb = np.dstack((patch[0], patch[1], patch[2]))  \n",
    "# plt.imshow(img_rgb)\n",
    "plt.imshow(gray,vmin=0, vmax=255)\n",
    "plt.colorbar(label=\"gray levels\", orientation=\"horizontal\")\n",
    "plt.show()"
   ]
  },
  {
   "cell_type": "code",
   "execution_count": 24,
   "id": "7a69258e-7e17-4313-b938-e57ffff6a20e",
   "metadata": {},
   "outputs": [
    {
     "ename": "NameError",
     "evalue": "name 'item' is not defined",
     "output_type": "error",
     "traceback": [
      "\u001b[0;31m---------------------------------------------------------------------------\u001b[0m",
      "\u001b[0;31mNameError\u001b[0m                                 Traceback (most recent call last)",
      "Cell \u001b[0;32mIn [24], line 1\u001b[0m\n\u001b[0;32m----> 1\u001b[0m \u001b[43mitem\u001b[49m\u001b[38;5;241m.\u001b[39massets[\u001b[38;5;124m'\u001b[39m\u001b[38;5;124mimage\u001b[39m\u001b[38;5;124m'\u001b[39m]\n",
      "\u001b[0;31mNameError\u001b[0m: name 'item' is not defined"
     ]
    }
   ],
   "source": [
    "item.assets['image']"
   ]
  },
  {
   "cell_type": "markdown",
   "id": "ab87eb74-3a41-4d3f-ab6b-807f4f492305",
   "metadata": {},
   "source": [
    "Extract resolution in m/px"
   ]
  },
  {
   "cell_type": "code",
   "execution_count": 233,
   "id": "e54edfbd-2e69-49a8-b410-ff8d1fac379f",
   "metadata": {},
   "outputs": [
    {
     "data": {
      "text/plain": [
       "26918"
      ]
     },
     "execution_count": 233,
     "metadata": {},
     "output_type": "execute_result"
    }
   ],
   "source": [
    "item.properties['proj:epsg']"
   ]
  },
  {
   "cell_type": "markdown",
   "id": "d86c16e9-9150-4ec6-9645-922db4a0d848",
   "metadata": {},
   "source": [
    "## Visualize the entire NAIP tile"
   ]
  },
  {
   "cell_type": "code",
   "execution_count": 11,
   "id": "e3cd7106-42bf-4169-99df-a1728c1f7d61",
   "metadata": {},
   "outputs": [
    {
     "data": {
      "text/html": [
       "<img src=\"https://planetarycomputer.microsoft.com/api/data/v1/item/preview.png?collection=naip&item=ny_m_4007328_ne_18_060_20190809_20191209&assets=image&asset_bidx=image%7C1%2C2%2C3&format=png\"/>"
      ],
      "text/plain": [
       "<IPython.core.display.Image object>"
      ]
     },
     "execution_count": 11,
     "metadata": {},
     "output_type": "execute_result"
    }
   ],
   "source": [
    "from IPython.display import Image\n",
    "\n",
    "Image(url=tile.assets[\"rendered_preview\"].href)"
   ]
  },
  {
   "cell_type": "markdown",
   "id": "47596b6e-4ea7-478c-a711-2b091a72ba49",
   "metadata": {},
   "source": [
    "4-channel numpy array"
   ]
  },
  {
   "cell_type": "code",
   "execution_count": 21,
   "id": "9e6ea35e-b742-41c4-bcad-da02155fd462",
   "metadata": {},
   "outputs": [
    {
     "data": {
      "text/plain": [
       "(4, 168, 168)"
      ]
     },
     "execution_count": 21,
     "metadata": {},
     "output_type": "execute_result"
    }
   ],
   "source": [
    "image_rgbir.shape"
   ]
  },
  {
   "cell_type": "markdown",
   "id": "7deade4f-1770-4d4c-8952-fc0f4564f824",
   "metadata": {},
   "source": [
    "## Display the cropped patch"
   ]
  },
  {
   "cell_type": "code",
   "execution_count": 22,
   "id": "ddf0c5a2-2c03-4e53-bfb5-4cb08ea10ba6",
   "metadata": {},
   "outputs": [
    {
     "data": {
      "text/plain": [
       "<matplotlib.image.AxesImage at 0x7ff83bf128c0>"
      ]
     },
     "execution_count": 22,
     "metadata": {},
     "output_type": "execute_result"
    },
    {
     "data": {
      "image/png": "[encoded data removed]",
      "text/plain": [
       "<Figure size 640x480 with 1 Axes>"
      ]
     },
     "metadata": {},
     "output_type": "display_data"
    }
   ],
   "source": [
    "import matplotlib.pyplot as plt\n",
    "import numpy as np\n",
    "\n",
    "img = np.dstack((image_rgbir[0], image_rgbir[1], image_rgbir[2]))\n",
    "\n",
    "plt.imshow(img)"
   ]
  },
  {
   "cell_type": "markdown",
   "id": "54ca3eb6-45fd-489c-a39f-6afc8fc6402e",
   "metadata": {},
   "source": [
    "## Crop in pixels to make sure no weird boundaries happen"
   ]
  },
  {
   "cell_type": "markdown",
   "id": "8d9aa692-581d-46aa-9ee3-0b48f9dbb48d",
   "metadata": {},
   "source": [
    "# GLCM Feature Extraction"
   ]
  },
  {
   "cell_type": "markdown",
   "id": "4e1c9d41-dae6-4a45-9f57-bb9da95f7fb7",
   "metadata": {},
   "source": [
    "## First convert to grayscale"
   ]
  },
  {
   "cell_type": "markdown",
   "id": "57f32c24-7f6d-4e11-b5be-5abe5657a621",
   "metadata": {},
   "source": [
    "Version1 : average all bands"
   ]
  },
  {
   "cell_type": "code",
   "execution_count": 271,
   "id": "62ecbabe-cbbd-42df-8029-e93e516b7e54",
   "metadata": {},
   "outputs": [
    {
     "data": {
      "text/plain": [
       "array([[195, 195, 196, 195, 195],\n",
       "       [195, 195, 195, 195, 196],\n",
       "       [194, 195, 195, 196, 196],\n",
       "       [194, 195, 196, 196, 196],\n",
       "       [194, 195, 196, 197, 197]], dtype=uint8)"
      ]
     },
     "metadata": {},
     "output_type": "display_data"
    },
    {
     "data": {
      "text/plain": [
       "<matplotlib.image.AxesImage at 0x7f433dc23070>"
      ]
     },
     "execution_count": 271,
     "metadata": {},
     "output_type": "execute_result"
    },
    {
     "data": {
      "image/png": "[encoded data removed]",
      "text/plain": [
       "<Figure size 640x480 with 1 Axes>"
      ]
     },
     "metadata": {},
     "output_type": "display_data"
    }
   ],
   "source": [
    "gray1 = np.average(img_rgbir_crop, axis=0).astype('uint8')\n",
    "display(gray1)\n",
    "plt.imshow(gray1)"
   ]
  },
  {
   "cell_type": "markdown",
   "id": "a06e36b9-bed6-4d5f-aa58-91cc761d2bc2",
   "metadata": {},
   "source": [
    "Version 2\n",
    "\n",
    "Equation taken from \"Experimental analysis of sand grain size mapping using UAV remote sensing\" - Bae et. al 2019"
   ]
  },
  {
   "cell_type": "code",
   "execution_count": 272,
   "id": "41c9c64b-807c-4937-a227-1bf3459b8093",
   "metadata": {},
   "outputs": [
    {
     "data": {
      "text/plain": [
       "array([[201, 202, 202, 202, 202],\n",
       "       [201, 202, 202, 202, 202],\n",
       "       [201, 201, 202, 202, 203],\n",
       "       [201, 201, 202, 203, 203],\n",
       "       [201, 201, 203, 203, 203]], dtype=uint8)"
      ]
     },
     "metadata": {},
     "output_type": "display_data"
    },
    {
     "data": {
      "text/plain": [
       "<matplotlib.image.AxesImage at 0x7f433da9d2a0>"
      ]
     },
     "execution_count": 272,
     "metadata": {},
     "output_type": "execute_result"
    },
    {
     "data": {
      "image/png": "[encoded data removed]",
      "text/plain": [
       "<Figure size 640x480 with 1 Axes>"
      ]
     },
     "metadata": {},
     "output_type": "display_data"
    }
   ],
   "source": [
    "gray2 = np.average(img_rgbir_crop, axis=0, weights=[0.3, 0.59, 0.11, 0.]).astype('uint8')\n",
    "display(gray2)\n",
    "plt.imshow(gray1)"
   ]
  },
  {
   "cell_type": "markdown",
   "id": "1f15bafa-971f-43e7-8f00-d8ddd3d6464a",
   "metadata": {},
   "source": [
    "Marchetti et. al (2021), and Black et. al (2014) both used a range of 33, 51 and 101 kernel window size. For a 2cm/px resolution this roughly equates to 0.6m, 1m and 2m\n",
    "For a 0.6m/px resolution (NAIP), this roughly equates to 1, 2 and 3px respectively"
   ]
  },
  {
   "cell_type": "code",
   "execution_count": 279,
   "id": "314c54ca-257c-4c8e-af60-7685c414f565",
   "metadata": {},
   "outputs": [],
   "source": [
    "glcm1 = graycomatrix(gray1, distances=[1,2,3], angles=[0, np.pi/4, np.pi/2, 3*np.pi/4], levels=256,\n",
    "                        symmetric=True, normed=False)\n",
    "glcm2 = graycomatrix(gray2, distances=[1,2,3], angles=[0, np.pi/4, np.pi/2, 3*np.pi/4], levels=256,\n",
    "                        symmetric=True, normed=False)"
   ]
  },
  {
   "cell_type": "code",
   "execution_count": 280,
   "id": "49508797-1bb9-4cd8-9ead-8ee79d0ee3a5",
   "metadata": {},
   "outputs": [],
   "source": [
    "dis1, dis2 = graycoprops(glcm1, 'dissimilarity'), graycoprops(glcm2, 'dissimilarity')"
   ]
  },
  {
   "cell_type": "markdown",
   "id": "08af8e28-3514-4121-8a1a-f00bf25fa3bc",
   "metadata": {},
   "source": [
    "Average the directional values, but keep the offsets?"
   ]
  },
  {
   "cell_type": "code",
   "execution_count": 254,
   "id": "a4907f81-2a7b-4993-8fb1-8e7e072de1c9",
   "metadata": {},
   "outputs": [
    {
     "data": {
      "text/plain": [
       "array([1.06973761, 1.41640853, 4.90744055])"
      ]
     },
     "execution_count": 254,
     "metadata": {},
     "output_type": "execute_result"
    }
   ],
   "source": [
    "np.average(dis1, axis=1)"
   ]
  },
  {
   "cell_type": "code",
   "execution_count": 281,
   "id": "84643165-95d7-489a-9e29-58c7cb23e379",
   "metadata": {},
   "outputs": [
    {
     "data": {
      "text/plain": [
       "array([0.478125  , 0.665625  , 0.91666667])"
      ]
     },
     "execution_count": 281,
     "metadata": {},
     "output_type": "execute_result"
    }
   ],
   "source": [
    "np.average(dis1, axis=1)"
   ]
  },
  {
   "cell_type": "code",
   "execution_count": 282,
   "id": "c56b371d-3e59-48bf-8d4c-ca8cf219bdfa",
   "metadata": {},
   "outputs": [],
   "source": [
    "hom1, hom2 = graycoprops(glcm1, 'homogeneity'), graycoprops(glcm2, 'homogeneity')"
   ]
  },
  {
   "cell_type": "code",
   "execution_count": 283,
   "id": "e9d07491-9ca5-4f28-b5d1-e338268525f9",
   "metadata": {},
   "outputs": [
    {
     "data": {
      "text/plain": [
       "array([0.7609375 , 0.6771875 , 0.59888889])"
      ]
     },
     "execution_count": 283,
     "metadata": {},
     "output_type": "execute_result"
    }
   ],
   "source": [
    "np.average(hom1, axis=1)"
   ]
  },
  {
   "cell_type": "code",
   "execution_count": 284,
   "id": "86435d5a-6540-4224-86ab-ce3fd2820dae",
   "metadata": {},
   "outputs": [
    {
     "data": {
      "text/plain": [
       "(array([[0.75      , 0.65625   , 0.825     , 0.8125    ],\n",
       "        [0.57333333, 0.65625   , 0.66666667, 0.8125    ],\n",
       "        [0.52      , 0.51111111, 0.62      , 0.74444444]]),\n",
       " array([[0.81      , 0.7625    , 0.9       , 0.84375   ],\n",
       "        [0.60666667, 0.7625    , 0.76666667, 0.84375   ],\n",
       "        [0.45      , 0.48888889, 0.65      , 0.66666667]]))"
      ]
     },
     "execution_count": 284,
     "metadata": {},
     "output_type": "execute_result"
    }
   ],
   "source": [
    "graycoprops(glcm1, 'homogeneity'), graycoprops(glcm2, 'homogeneity')"
   ]
  },
  {
   "cell_type": "code",
   "execution_count": 201,
   "id": "9fc90d5a-16a6-438f-8da8-cc54cb9e7a36",
   "metadata": {},
   "outputs": [
    {
     "data": {
      "text/plain": [
       "(array([[0.83997342, 0.81546982, 0.83997342, 0.78860864],\n",
       "        [0.57552922, 0.56364951, 0.57552922, 0.57868155],\n",
       "        [0.35362115, 0.45170162, 0.35362115, 0.42805627]]),\n",
       " array([[0.78412023, 0.69421195, 0.78412023, 0.6724742 ],\n",
       "        [0.47387806, 0.40706961, 0.47387806, 0.44100117],\n",
       "        [0.31314112, 0.29074111, 0.31314112, 0.29938078]]))"
      ]
     },
     "execution_count": 201,
     "metadata": {},
     "output_type": "execute_result"
    }
   ],
   "source": [
    "graycoprops(glcm1, 'correlation'), graycoprops(glcm2, 'correlation')"
   ]
  },
  {
   "cell_type": "code",
   "execution_count": 202,
   "id": "5997505e-828f-4fcb-ab7d-573fcd466eb3",
   "metadata": {},
   "outputs": [
    {
     "data": {
      "text/plain": [
       "(array([[19.23012301, 22.76587659, 19.23012301, 25.61737374],\n",
       "        [49.4964934 , 53.36592409, 49.4964934 , 49.78850359],\n",
       "        [72.91415515, 67.94625177, 72.91415515, 65.68036685]]),\n",
       " array([[ 8.5339534 , 11.99919992,  8.5339534 , 12.80767677],\n",
       "        [20.83941832, 22.88242574, 20.83941832, 21.44923461],\n",
       "        [27.30878033, 27.8539876 , 27.30878033, 27.18851902]]))"
      ]
     },
     "execution_count": 202,
     "metadata": {},
     "output_type": "execute_result"
    }
   ],
   "source": [
    "graycoprops(glcm1, 'contrast'), graycoprops(glcm2, 'contrast')"
   ]
  },
  {
   "cell_type": "code",
   "execution_count": 203,
   "id": "1bd46bcc-1af2-4c0a-a0fd-ed0fdbbe0ee3",
   "metadata": {},
   "outputs": [
    {
     "data": {
      "text/plain": [
       "(array([[0.12949347, 0.13072891, 0.12949347, 0.12991075],\n",
       "        [0.12221552, 0.12068431, 0.12221552, 0.12345767],\n",
       "        [0.11460225, 0.11161909, 0.11460225, 0.11751046]]),\n",
       " array([[0.21521808, 0.21871392, 0.21521808, 0.21764814],\n",
       "        [0.19830012, 0.19690465, 0.19830012, 0.20568737],\n",
       "        [0.1853504 , 0.18241216, 0.1853504 , 0.19629454]]))"
      ]
     },
     "execution_count": 203,
     "metadata": {},
     "output_type": "execute_result"
    }
   ],
   "source": [
    "graycoprops(glcm1, 'energy'), graycoprops(glcm2, 'energy')"
   ]
  },
  {
   "cell_type": "markdown",
   "id": "4a674036-c0b8-440a-a8a4-0e2188c5c7e2",
   "metadata": {},
   "source": [
    "# Closing Notes"
   ]
  },
  {
   "cell_type": "markdown",
   "id": "d049404a-b18a-49b1-aa34-59b423a270c0",
   "metadata": {},
   "source": [
    "To do the equivalent of what [ee.Image.glcmTexture](https://developers.google.com/earth-engine/apidocs/ee-image-glcmtexture) does in GEE, i.e. use a sliding window to compute the texture features for the entire masked sandy areas, follow [this post](https://stackoverflow.com/questions/42459493/sliding-window-in-python-for-glcm-calculation)"
   ]
  },
  {
   "cell_type": "markdown",
   "id": "a940f4ec-aaa0-403e-b0d3-aa01477f1130",
   "metadata": {},
   "source": [
    "Also check [this out](https://stackoverflow.com/questions/35551249/implementing-glcm-texture-feature-with-scikit-image-and-python)"
   ]
  },
  {
   "cell_type": "code",
   "execution_count": null,
   "id": "513f266c-0093-4626-8502-818355d0aa5d",
   "metadata": {},
   "outputs": [],
   "source": []
  }
 ],
 "metadata": {
  "kernelspec": {
   "display_name": "Python 3 (ipykernel)",
   "language": "python",
   "name": "python3"
  },
  "language_info": {
   "codemirror_mode": {
    "name": "ipython",
    "version": 3
   },
   "file_extension": ".py",
   "mimetype": "text/x-python",
   "name": "python",
   "nbconvert_exporter": "python",
   "pygments_lexer": "ipython3",
   "version": "3.10.6"
  }
 },
 "nbformat": 4,
 "nbformat_minor": 5
}
