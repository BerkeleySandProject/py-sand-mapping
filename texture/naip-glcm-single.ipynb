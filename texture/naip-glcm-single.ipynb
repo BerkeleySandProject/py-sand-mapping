{
 "cells": [
  {
   "cell_type": "code",
   "execution_count": 172,
   "id": "92214e55-1a48-4660-8232-5c8472fe9c89",
   "metadata": {},
   "outputs": [],
   "source": [
    "import numpy as np\n",
    "import xarray as xr\n",
    "\n",
    "import rasterio.features\n",
    "import stackstac\n",
    "import pystac_client\n",
    "import planetary_computer\n",
    "\n",
    "import xrspatial.multispectral as ms\n",
    "\n",
    "from skimage.feature import graycomatrix, graycoprops\n",
    "from skimage import data"
   ]
  },
  {
   "cell_type": "markdown",
   "id": "47344166-5366-4615-89d3-aba9ccef4f70",
   "metadata": {},
   "source": [
    "# Sample data from [SandSnap](https://experience.arcgis.com/experience/f55871e51fcd4ae7a3a855e9f89a1f2a/page/Data-Viewer/?views=Photo%2CData-Viewer%2CAll-Details)"
   ]
  },
  {
   "cell_type": "markdown",
   "id": "46464331-ee20-48b3-aef3-0fc4817849b3",
   "metadata": {},
   "source": [
    "|ObjectID|lon|lat|D10 mm|\tD16 mm|\tD25 mm|\tD50 mm|\tD65 mm|\tD75 mm|\tD84 mm|\tD90 mm|\tDMEAN mm|\n",
    "|----|----|----|----|----|----|----|----|----|----|----|----|\n",
    "|925|0.255204176\t|0.278472119\t|0.307602216\t|0.386369131\t|0.437445286\t|0.488720754\t|0.556642596\t|-89.04326197| 30.377676| 0.627979373\t|0.389373062|\n",
    "|92|-73.55689608|40.58032702|2.368180516\t|2.583255884\t|2.856032469\t|3.595200869\t|4.071484479\t|4.549827805\t|5.182148314\t|5.848548026\t|3.621642799|"
   ]
  },
  {
   "cell_type": "code",
   "execution_count": 220,
   "id": "64ec6697-a781-4920-980b-d896d4d1608c",
   "metadata": {},
   "outputs": [],
   "source": [
    "\n",
    "lon, lat = -89.04326197, 30.377676\n",
    "D50 = 0.386369131\n",
    "\n",
    "#NY\n",
    "lon, lat = -73.55689608, 40.58032702\n",
    "D50 = 3.595200869"
   ]
  },
  {
   "cell_type": "markdown",
   "id": "ffbbd8f0-b992-46a6-ab71-0d801bfbd417",
   "metadata": {},
   "source": [
    "## Alt method"
   ]
  },
  {
   "cell_type": "code",
   "execution_count": 221,
   "id": "4f437125-d277-41c8-ac12-0defbaeacffe",
   "metadata": {},
   "outputs": [],
   "source": [
    "side_len_deg = 0.001"
   ]
  },
  {
   "cell_type": "code",
   "execution_count": 222,
   "id": "18765085-8450-40e2-8c19-dbbfad614e22",
   "metadata": {},
   "outputs": [],
   "source": [
    "point_geom  = shapely.geometry.mapping(shapely.geometry.Point(lon, lat))\n",
    "point_shape = shapely.geometry.shape(point_geom)\n",
    "#Create a square out of it with side_length = buffer*2\n",
    "mask_shape  = point_shape.buffer(side_len_deg/2.).envelope\n",
    "aoi   = shapely.geometry.mapping(mask_shape)\n",
    "bbox = rasterio.features.bounds(aoi)"
   ]
  },
  {
   "cell_type": "code",
   "execution_count": 223,
   "id": "c8ce57f3-127c-4c9e-a2be-893049f0b875",
   "metadata": {},
   "outputs": [
    {
     "data": {
      "text/plain": [
       "(-73.55739608, 40.579827019999996, -73.55639608, 40.58082702)"
      ]
     },
     "execution_count": 223,
     "metadata": {},
     "output_type": "execute_result"
    }
   ],
   "source": [
    "bbox"
   ]
  },
  {
   "cell_type": "markdown",
   "id": "544df840-99fd-4bcb-bde4-d5b3e6c346a0",
   "metadata": {},
   "source": [
    "Using pystac_client we can search the Planetary Computer's STAC endpoint for items matching our query parameters."
   ]
  },
  {
   "cell_type": "markdown",
   "id": "7dd6c05d-2fdc-4c91-abf8-c8b719b12f8c",
   "metadata": {},
   "source": [
    "## TODO: Create a valid date range"
   ]
  },
  {
   "cell_type": "code",
   "execution_count": 224,
   "id": "42caa472-13b0-4774-9163-fbbfa5e02237",
   "metadata": {},
   "outputs": [
    {
     "name": "stdout",
     "output_type": "stream",
     "text": [
      "1\n"
     ]
    }
   ],
   "source": [
    "stac = pystac_client.Client.open(\n",
    "    \"https://planetarycomputer.microsoft.com/api/stac/v1\",\n",
    "    modifier=planetary_computer.sign_inplace,\n",
    ")\n",
    "\n",
    "\n",
    "range_date = \"2018-01-01/2023-01-03\"\n",
    "\n",
    "search = stac.search(\n",
    "    bbox=bbox,\n",
    "    # intersects=aoi,\n",
    "    datetime=range_date,\n",
    "    collections=[\"naip\"],\n",
    "    limit=5,\n",
    "    #query={\"eo:cloud_cover\": {\"lt\": 25}},\n",
    ")\n",
    "\n",
    "items = search.item_collection()\n",
    "print(len(items))"
   ]
  },
  {
   "cell_type": "code",
   "execution_count": 225,
   "id": "7b102fcb-c76f-4e06-87fb-a4a0d5a8458a",
   "metadata": {
    "tags": []
   },
   "outputs": [
    {
     "data": {
      "text/html": [
       "\n",
       "\n",
       "<div class=\"jp-RenderedHTMLCommon jp-RenderedHTML jp-mod-trusted jp-OutputArea-output\">\n",
       "    <div style=\"\n",
       "        width: 24px;\n",
       "        height: 24px;\n",
       "        background-color: #DBF5FF;\n",
       "        border: 3px solid #4CC9FF;\n",
       "        border-radius: 5px;\n",
       "        position: absolute;\">\n",
       "    </div>\n",
       "    <div>\n",
       "        <details style=\"margin-left: 48px;\">\n",
       "            <summary style=\"margin-bottom: 20px;\">\n",
       "                <h3 style=\"margin-bottom: 0px; display: inline;\">Item: ny_m_4007328_ne_18_060_20190809_20191209</h3>\n",
       "            </summary>\n",
       "            <table style=\"width: 100%; text-align: left;\">\n",
       "                <tr><td style=\"text-align: left;\"><strong>ID</strong>: ny_m_4007328_ne_18_060_20190809_20191209 </td></tr>\n",
       "                \n",
       "                \n",
       "                    <tr><td style=\"text-align: left;\"><strong>Bounding Box:</strong> [-73.566268, 40.559846, -73.496187, 40.627614] </td></tr>\n",
       "                \n",
       "                \n",
       "                    <tr><td style=\"text-align: left;\"><strong>Datetime:</strong> 2019-08-09 00:00:00+00:00 </td></tr>\n",
       "                \n",
       "                \n",
       "                    \n",
       "                        <tr><td style=\"text-align: left;\"><strong>gsd:</strong> 0.6 </td></tr>\n",
       "                    \n",
       "                        <tr><td style=\"text-align: left;\"><strong>datetime:</strong> 2019-08-09T00:00:00Z </td></tr>\n",
       "                    \n",
       "                        <tr><td style=\"text-align: left;\"><strong>naip:year:</strong> 2019 </td></tr>\n",
       "                    \n",
       "                        <tr><td style=\"text-align: left;\"><strong>proj:bbox:</strong> [621378.0, 4490982.0, 627186.0, 4498410.0] </td></tr>\n",
       "                    \n",
       "                        <tr><td style=\"text-align: left;\"><strong>proj:epsg:</strong> 26918 </td></tr>\n",
       "                    \n",
       "                        <tr><td style=\"text-align: left;\"><strong>naip:state:</strong> ny </td></tr>\n",
       "                    \n",
       "                        <tr><td style=\"text-align: left;\"><strong>proj:shape:</strong> [12380, 9680] </td></tr>\n",
       "                    \n",
       "                        <tr><td style=\"text-align: left;\"><strong>proj:transform:</strong> [0.6, 0.0, 621378.0, 0.0, -0.6, 4498410.0, 0.0, 0.0, 1.0] </td></tr>\n",
       "                    \n",
       "                \n",
       "                \n",
       "        \n",
       "            <tr><td style=\"text-align: left;\"><strong>stac_extensions:</strong> ['https://stac-extensions.github.io/eo/v1.0.0/schema.json', 'https://stac-extensions.github.io/projection/v1.0.0/schema.json'] </td></tr>\n",
       "        \n",
       "    \n",
       "            </table>\n",
       "            \n",
       "        <details>\n",
       "            <summary style=\"margin-bottom: 10px; margin-top: 10px;\">\n",
       "                <h4 style=\"margin-bottom: 0px; display: inline;\">STAC Extensions</h4>\n",
       "            </summary>\n",
       "            <table style=\"width: 100%; text-align: left;\">\n",
       "                \n",
       "                    <tr><td style=\"text-align: left;\"><a href=\"https://stac-extensions.github.io/eo/v1.0.0/schema.json\">https://stac-extensions.github.io/eo/v1.0.0/schema.json</a></td></tr>\n",
       "                \n",
       "                    <tr><td style=\"text-align: left;\"><a href=\"https://stac-extensions.github.io/projection/v1.0.0/schema.json\">https://stac-extensions.github.io/projection/v1.0.0/schema.json</a></td></tr>\n",
       "                \n",
       "            </table>\n",
       "        </details>\n",
       "    \n",
       "            \n",
       "        <details>\n",
       "            <summary style=\"margin-bottom: 10px; margin-top: 10px;\">\n",
       "                <h4 style=\"margin-bottom: 0px; display: inline;\">Assets</h4>\n",
       "            </summary>\n",
       "            \n",
       "                \n",
       "\n",
       "<div class=\"jp-RenderedHTMLCommon jp-RenderedHTML jp-mod-trusted jp-OutputArea-output\">\n",
       "    <div style=\"\n",
       "        width: 24px;\n",
       "        height: 24px;\n",
       "        background-color: #FED7E5;\n",
       "        border: 3px solid #FA4C8C;\n",
       "        border-radius: 5px;\n",
       "        position: absolute;\">\n",
       "    </div>\n",
       "    <div>\n",
       "        <details style=\"margin-left: 48px;\">\n",
       "            <summary style=\"margin-bottom: 20px;\">\n",
       "                <h3 style=\"margin-bottom: 0px; display: inline;\">Asset: RGBIR COG tile</h3>\n",
       "            </summary>\n",
       "            <table style=\"width: 100%; text-align: left;\">\n",
       "                <tr><td style=\"text-align: left;\"><strong>href</strong>: https://naipeuwest.blob.core.windows.net/naip/v002/ny/2019/ny_60cm_2019/40073/m_4007328_ne_18_060_20190809.tif?st=2023-03-06T21%3A21%3A02Z&se=2023-03-14T21%3A21%3A03Z&sp=rl&sv=2021-06-08&sr=c&skoid=c85c15d6-d1ae-42d4-af60-e2ca0f81359b&sktid=72f988bf-86f1-41af-91ab-2d7cd011db47&skt=2023-03-07T21%3A21%3A01Z&ske=2023-03-14T21%3A21%3A01Z&sks=b&skv=2021-06-08&sig=TRZS/OCfVSO%2BzUB3ET9sYj5wsiBqCD%2BTWFeKmTddRGk%3D </td></tr>\n",
       "                \n",
       "                    <tr><td style=\"text-align: left;\"><strong>Title:</strong> RGBIR COG tile </td></tr>\n",
       "                \n",
       "                \n",
       "                \n",
       "                    <tr><td style=\"text-align: left;\"><strong>Media type:</strong> image/tiff; application=geotiff; profile=cloud-optimized </td></tr>\n",
       "                \n",
       "                \n",
       "                    <tr><td style=\"text-align: left;\"><strong>Roles:</strong> ['data'] </td></tr>\n",
       "                \n",
       "                \n",
       "                    <tr><td style=\"text-align: left;\"><strong>Owner:</strong>  </td></tr>\n",
       "                \n",
       "                \n",
       "        \n",
       "            <tr><td style=\"text-align: left;\"><strong>eo:bands:</strong> [{'name': 'Red', 'common_name': 'red'}, {'name': 'Green', 'common_name': 'green'}, {'name': 'Blue', 'common_name': 'blue'}, {'name': 'NIR', 'common_name': 'nir', 'description': 'near-infrared'}] </td></tr>\n",
       "        \n",
       "    \n",
       "            </table>\n",
       "        </details>\n",
       "    </div>\n",
       "</div>\n",
       "            \n",
       "                \n",
       "\n",
       "<div class=\"jp-RenderedHTMLCommon jp-RenderedHTML jp-mod-trusted jp-OutputArea-output\">\n",
       "    <div style=\"\n",
       "        width: 24px;\n",
       "        height: 24px;\n",
       "        background-color: #FED7E5;\n",
       "        border: 3px solid #FA4C8C;\n",
       "        border-radius: 5px;\n",
       "        position: absolute;\">\n",
       "    </div>\n",
       "    <div>\n",
       "        <details style=\"margin-left: 48px;\">\n",
       "            <summary style=\"margin-bottom: 20px;\">\n",
       "                <h3 style=\"margin-bottom: 0px; display: inline;\">Asset: FGDC Metdata</h3>\n",
       "            </summary>\n",
       "            <table style=\"width: 100%; text-align: left;\">\n",
       "                <tr><td style=\"text-align: left;\"><strong>href</strong>: https://naipeuwest.blob.core.windows.net/naip/v002/ny/2019/ny_fgdc_2019/40073/m_4007328_ne_18_060_20190809.txt?st=2023-03-06T21%3A21%3A02Z&se=2023-03-14T21%3A21%3A03Z&sp=rl&sv=2021-06-08&sr=c&skoid=c85c15d6-d1ae-42d4-af60-e2ca0f81359b&sktid=72f988bf-86f1-41af-91ab-2d7cd011db47&skt=2023-03-07T21%3A21%3A01Z&ske=2023-03-14T21%3A21%3A01Z&sks=b&skv=2021-06-08&sig=TRZS/OCfVSO%2BzUB3ET9sYj5wsiBqCD%2BTWFeKmTddRGk%3D </td></tr>\n",
       "                \n",
       "                    <tr><td style=\"text-align: left;\"><strong>Title:</strong> FGDC Metdata </td></tr>\n",
       "                \n",
       "                \n",
       "                \n",
       "                    <tr><td style=\"text-align: left;\"><strong>Media type:</strong> text/plain </td></tr>\n",
       "                \n",
       "                \n",
       "                    <tr><td style=\"text-align: left;\"><strong>Roles:</strong> ['metadata'] </td></tr>\n",
       "                \n",
       "                \n",
       "                    <tr><td style=\"text-align: left;\"><strong>Owner:</strong>  </td></tr>\n",
       "                \n",
       "                \n",
       "            </table>\n",
       "        </details>\n",
       "    </div>\n",
       "</div>\n",
       "            \n",
       "                \n",
       "\n",
       "<div class=\"jp-RenderedHTMLCommon jp-RenderedHTML jp-mod-trusted jp-OutputArea-output\">\n",
       "    <div style=\"\n",
       "        width: 24px;\n",
       "        height: 24px;\n",
       "        background-color: #FED7E5;\n",
       "        border: 3px solid #FA4C8C;\n",
       "        border-radius: 5px;\n",
       "        position: absolute;\">\n",
       "    </div>\n",
       "    <div>\n",
       "        <details style=\"margin-left: 48px;\">\n",
       "            <summary style=\"margin-bottom: 20px;\">\n",
       "                <h3 style=\"margin-bottom: 0px; display: inline;\">Asset: Thumbnail</h3>\n",
       "            </summary>\n",
       "            <table style=\"width: 100%; text-align: left;\">\n",
       "                <tr><td style=\"text-align: left;\"><strong>href</strong>: https://naipeuwest.blob.core.windows.net/naip/v002/ny/2019/ny_60cm_2019/40073/m_4007328_ne_18_060_20190809.200.jpg?st=2023-03-06T21%3A21%3A02Z&se=2023-03-14T21%3A21%3A03Z&sp=rl&sv=2021-06-08&sr=c&skoid=c85c15d6-d1ae-42d4-af60-e2ca0f81359b&sktid=72f988bf-86f1-41af-91ab-2d7cd011db47&skt=2023-03-07T21%3A21%3A01Z&ske=2023-03-14T21%3A21%3A01Z&sks=b&skv=2021-06-08&sig=TRZS/OCfVSO%2BzUB3ET9sYj5wsiBqCD%2BTWFeKmTddRGk%3D </td></tr>\n",
       "                \n",
       "                    <tr><td style=\"text-align: left;\"><strong>Title:</strong> Thumbnail </td></tr>\n",
       "                \n",
       "                \n",
       "                \n",
       "                    <tr><td style=\"text-align: left;\"><strong>Media type:</strong> image/jpeg </td></tr>\n",
       "                \n",
       "                \n",
       "                    <tr><td style=\"text-align: left;\"><strong>Roles:</strong> ['thumbnail'] </td></tr>\n",
       "                \n",
       "                \n",
       "                    <tr><td style=\"text-align: left;\"><strong>Owner:</strong>  </td></tr>\n",
       "                \n",
       "                \n",
       "            </table>\n",
       "        </details>\n",
       "    </div>\n",
       "</div>\n",
       "            \n",
       "                \n",
       "\n",
       "<div class=\"jp-RenderedHTMLCommon jp-RenderedHTML jp-mod-trusted jp-OutputArea-output\">\n",
       "    <div style=\"\n",
       "        width: 24px;\n",
       "        height: 24px;\n",
       "        background-color: #FED7E5;\n",
       "        border: 3px solid #FA4C8C;\n",
       "        border-radius: 5px;\n",
       "        position: absolute;\">\n",
       "    </div>\n",
       "    <div>\n",
       "        <details style=\"margin-left: 48px;\">\n",
       "            <summary style=\"margin-bottom: 20px;\">\n",
       "                <h3 style=\"margin-bottom: 0px; display: inline;\">Asset: TileJSON with default rendering</h3>\n",
       "            </summary>\n",
       "            <table style=\"width: 100%; text-align: left;\">\n",
       "                <tr><td style=\"text-align: left;\"><strong>href</strong>: https://planetarycomputer.microsoft.com/api/data/v1/item/tilejson.json?collection=naip&item=ny_m_4007328_ne_18_060_20190809_20191209&assets=image&asset_bidx=image%7C1%2C2%2C3&format=png </td></tr>\n",
       "                \n",
       "                    <tr><td style=\"text-align: left;\"><strong>Title:</strong> TileJSON with default rendering </td></tr>\n",
       "                \n",
       "                \n",
       "                \n",
       "                    <tr><td style=\"text-align: left;\"><strong>Media type:</strong> application/json </td></tr>\n",
       "                \n",
       "                \n",
       "                    <tr><td style=\"text-align: left;\"><strong>Roles:</strong> ['tiles'] </td></tr>\n",
       "                \n",
       "                \n",
       "                    <tr><td style=\"text-align: left;\"><strong>Owner:</strong>  </td></tr>\n",
       "                \n",
       "                \n",
       "            </table>\n",
       "        </details>\n",
       "    </div>\n",
       "</div>\n",
       "            \n",
       "                \n",
       "\n",
       "<div class=\"jp-RenderedHTMLCommon jp-RenderedHTML jp-mod-trusted jp-OutputArea-output\">\n",
       "    <div style=\"\n",
       "        width: 24px;\n",
       "        height: 24px;\n",
       "        background-color: #FED7E5;\n",
       "        border: 3px solid #FA4C8C;\n",
       "        border-radius: 5px;\n",
       "        position: absolute;\">\n",
       "    </div>\n",
       "    <div>\n",
       "        <details style=\"margin-left: 48px;\">\n",
       "            <summary style=\"margin-bottom: 20px;\">\n",
       "                <h3 style=\"margin-bottom: 0px; display: inline;\">Asset: Rendered preview</h3>\n",
       "            </summary>\n",
       "            <table style=\"width: 100%; text-align: left;\">\n",
       "                <tr><td style=\"text-align: left;\"><strong>href</strong>: https://planetarycomputer.microsoft.com/api/data/v1/item/preview.png?collection=naip&item=ny_m_4007328_ne_18_060_20190809_20191209&assets=image&asset_bidx=image%7C1%2C2%2C3&format=png </td></tr>\n",
       "                \n",
       "                    <tr><td style=\"text-align: left;\"><strong>Title:</strong> Rendered preview </td></tr>\n",
       "                \n",
       "                \n",
       "                \n",
       "                    <tr><td style=\"text-align: left;\"><strong>Media type:</strong> image/png </td></tr>\n",
       "                \n",
       "                \n",
       "                    <tr><td style=\"text-align: left;\"><strong>Roles:</strong> ['overview'] </td></tr>\n",
       "                \n",
       "                \n",
       "                    <tr><td style=\"text-align: left;\"><strong>Owner:</strong>  </td></tr>\n",
       "                \n",
       "                \n",
       "        \n",
       "            <tr><td style=\"text-align: left;\"><strong>rel:</strong> preview </td></tr>\n",
       "        \n",
       "    \n",
       "            </table>\n",
       "        </details>\n",
       "    </div>\n",
       "</div>\n",
       "            \n",
       "        </details>\n",
       "    \n",
       "            \n",
       "        <details>\n",
       "            <summary style=\"margin-bottom: 10px; margin-top: 10px\">\n",
       "                <h4 style=\"margin-bottom: 0px; display: inline;\">Links</h4>\n",
       "            </summary>\n",
       "            \n",
       "                \n",
       "\n",
       "<div class=\"jp-RenderedHTMLCommon jp-RenderedHTML jp-mod-trusted jp-OutputArea-output\">\n",
       "    <div style=\"\n",
       "        width: 24px;\n",
       "        height: 24px;\n",
       "        background-color: #FFF7E5;\n",
       "        border: 3px solid #FF6132;\n",
       "        border-radius: 5px;\n",
       "        position: absolute;\">\n",
       "    </div>\n",
       "    <div style=\"margin-left: 48px;\">\n",
       "        <h4 style=\"margin-bottom: 0px;\">Link: </h4>\n",
       "        \n",
       "        <table style=\"width: 100%; text-align: left;\">\n",
       "            <tr><td style=\"text-align: left;\"><strong>Rel:</strong> collection </td></tr>\n",
       "            <tr><td style=\"text-align: left;\"><strong>Target:</strong> https://planetarycomputer.microsoft.com/api/stac/v1/collections/naip </td></tr>\n",
       "            \n",
       "                <tr><td style=\"text-align: left;\"><strong>Media Type:</strong> application/json </td></tr>\n",
       "            \n",
       "            \n",
       "        </table>\n",
       "        \n",
       "    </div>\n",
       "</div>\n",
       "            \n",
       "                \n",
       "\n",
       "<div class=\"jp-RenderedHTMLCommon jp-RenderedHTML jp-mod-trusted jp-OutputArea-output\">\n",
       "    <div style=\"\n",
       "        width: 24px;\n",
       "        height: 24px;\n",
       "        background-color: #FFF7E5;\n",
       "        border: 3px solid #FF6132;\n",
       "        border-radius: 5px;\n",
       "        position: absolute;\">\n",
       "    </div>\n",
       "    <div style=\"margin-left: 48px;\">\n",
       "        <h4 style=\"margin-bottom: 0px;\">Link: </h4>\n",
       "        \n",
       "        <table style=\"width: 100%; text-align: left;\">\n",
       "            <tr><td style=\"text-align: left;\"><strong>Rel:</strong> parent </td></tr>\n",
       "            <tr><td style=\"text-align: left;\"><strong>Target:</strong> https://planetarycomputer.microsoft.com/api/stac/v1/collections/naip </td></tr>\n",
       "            \n",
       "                <tr><td style=\"text-align: left;\"><strong>Media Type:</strong> application/json </td></tr>\n",
       "            \n",
       "            \n",
       "        </table>\n",
       "        \n",
       "    </div>\n",
       "</div>\n",
       "            \n",
       "                \n",
       "\n",
       "<div class=\"jp-RenderedHTMLCommon jp-RenderedHTML jp-mod-trusted jp-OutputArea-output\">\n",
       "    <div style=\"\n",
       "        width: 24px;\n",
       "        height: 24px;\n",
       "        background-color: #FFF7E5;\n",
       "        border: 3px solid #FF6132;\n",
       "        border-radius: 5px;\n",
       "        position: absolute;\">\n",
       "    </div>\n",
       "    <div style=\"margin-left: 48px;\">\n",
       "        <h4 style=\"margin-bottom: 0px;\">Link: </h4>\n",
       "        \n",
       "            <p style=\"color: #9D9D9D; margin-bottom: 0px;\">Microsoft Planetary Computer STAC API</p>\n",
       "        \n",
       "        <table style=\"width: 100%; text-align: left;\">\n",
       "            <tr><td style=\"text-align: left;\"><strong>Rel:</strong> root </td></tr>\n",
       "            <tr><td style=\"text-align: left;\"><strong>Target:</strong> <Client id=microsoft-pc> </td></tr>\n",
       "            \n",
       "                <tr><td style=\"text-align: left;\"><strong>Media Type:</strong> application/json </td></tr>\n",
       "            \n",
       "            \n",
       "        </table>\n",
       "        \n",
       "    </div>\n",
       "</div>\n",
       "            \n",
       "                \n",
       "\n",
       "<div class=\"jp-RenderedHTMLCommon jp-RenderedHTML jp-mod-trusted jp-OutputArea-output\">\n",
       "    <div style=\"\n",
       "        width: 24px;\n",
       "        height: 24px;\n",
       "        background-color: #FFF7E5;\n",
       "        border: 3px solid #FF6132;\n",
       "        border-radius: 5px;\n",
       "        position: absolute;\">\n",
       "    </div>\n",
       "    <div style=\"margin-left: 48px;\">\n",
       "        <h4 style=\"margin-bottom: 0px;\">Link: </h4>\n",
       "        \n",
       "        <table style=\"width: 100%; text-align: left;\">\n",
       "            <tr><td style=\"text-align: left;\"><strong>Rel:</strong> self </td></tr>\n",
       "            <tr><td style=\"text-align: left;\"><strong>Target:</strong> https://planetarycomputer.microsoft.com/api/stac/v1/collections/naip/items/ny_m_4007328_ne_18_060_20190809_20191209 </td></tr>\n",
       "            \n",
       "                <tr><td style=\"text-align: left;\"><strong>Media Type:</strong> application/geo+json </td></tr>\n",
       "            \n",
       "            \n",
       "        </table>\n",
       "        \n",
       "    </div>\n",
       "</div>\n",
       "            \n",
       "                \n",
       "\n",
       "<div class=\"jp-RenderedHTMLCommon jp-RenderedHTML jp-mod-trusted jp-OutputArea-output\">\n",
       "    <div style=\"\n",
       "        width: 24px;\n",
       "        height: 24px;\n",
       "        background-color: #FFF7E5;\n",
       "        border: 3px solid #FF6132;\n",
       "        border-radius: 5px;\n",
       "        position: absolute;\">\n",
       "    </div>\n",
       "    <div style=\"margin-left: 48px;\">\n",
       "        <h4 style=\"margin-bottom: 0px;\">Link: </h4>\n",
       "        \n",
       "            <p style=\"color: #9D9D9D; margin-bottom: 0px;\">Map of item</p>\n",
       "        \n",
       "        <table style=\"width: 100%; text-align: left;\">\n",
       "            <tr><td style=\"text-align: left;\"><strong>Rel:</strong> preview </td></tr>\n",
       "            <tr><td style=\"text-align: left;\"><strong>Target:</strong> https://planetarycomputer.microsoft.com/api/data/v1/item/map?collection=naip&item=ny_m_4007328_ne_18_060_20190809_20191209 </td></tr>\n",
       "            \n",
       "                <tr><td style=\"text-align: left;\"><strong>Media Type:</strong> text/html </td></tr>\n",
       "            \n",
       "            \n",
       "        </table>\n",
       "        \n",
       "    </div>\n",
       "</div>\n",
       "            \n",
       "        </details>\n",
       "    \n",
       "        </details>\n",
       "    </div>\n",
       "</div>"
      ],
      "text/plain": [
       "<Item id=ny_m_4007328_ne_18_060_20190809_20191209>"
      ]
     },
     "execution_count": 225,
     "metadata": {},
     "output_type": "execute_result"
    }
   ],
   "source": [
    "items[0]"
   ]
  },
  {
   "cell_type": "markdown",
   "id": "f853ba8c-d130-470d-af56-3c992d108b7b",
   "metadata": {},
   "source": [
    "## Pick most appropriate NAIP tile\n",
    "Sort them by area of coverage"
   ]
  },
  {
   "cell_type": "code",
   "execution_count": 226,
   "id": "6080e12f-a33e-4711-b809-93a4b048fd85",
   "metadata": {},
   "outputs": [],
   "source": [
    "from shapely.geometry import shape\n",
    "\n",
    "area_shape = shape(aoi)\n",
    "target_area = area_shape.area\n",
    "# target_area = buffer.area\n",
    "\n",
    "\n",
    "def area_of_overlap(item):\n",
    "    overlap_area = shape(item.geometry).intersection(shape(aoi)).area\n",
    "    return overlap_area / target_area\n",
    "\n",
    "\n",
    "item = sorted(items, key=area_of_overlap, reverse=True)[0]"
   ]
  },
  {
   "cell_type": "code",
   "execution_count": 227,
   "id": "627a166c-6c79-44ee-be15-2e738d159339",
   "metadata": {},
   "outputs": [
    {
     "data": {
      "text/plain": [
       "datetime.datetime(2019, 8, 9, 0, 0, tzinfo=tzutc())"
      ]
     },
     "execution_count": 227,
     "metadata": {},
     "output_type": "execute_result"
    }
   ],
   "source": [
    "item.datetime"
   ]
  },
  {
   "cell_type": "code",
   "execution_count": 228,
   "id": "feaec4c0-3af0-4779-806c-a23e9d1067ba",
   "metadata": {},
   "outputs": [
    {
     "data": {
      "text/plain": [
       "{'gsd': 0.6,\n",
       " 'datetime': '2019-08-09T00:00:00Z',\n",
       " 'naip:year': '2019',\n",
       " 'proj:bbox': [621378.0, 4490982.0, 627186.0, 4498410.0],\n",
       " 'proj:epsg': 26918,\n",
       " 'naip:state': 'ny',\n",
       " 'proj:shape': [12380, 9680],\n",
       " 'proj:transform': [0.6, 0.0, 621378.0, 0.0, -0.6, 4498410.0, 0.0, 0.0, 1.0]}"
      ]
     },
     "execution_count": 228,
     "metadata": {},
     "output_type": "execute_result"
    }
   ],
   "source": [
    "item.properties"
   ]
  },
  {
   "cell_type": "code",
   "execution_count": 229,
   "id": "7a69258e-7e17-4313-b938-e57ffff6a20e",
   "metadata": {},
   "outputs": [
    {
     "data": {
      "text/html": [
       "\n",
       "\n",
       "<div class=\"jp-RenderedHTMLCommon jp-RenderedHTML jp-mod-trusted jp-OutputArea-output\">\n",
       "    <div style=\"\n",
       "        width: 24px;\n",
       "        height: 24px;\n",
       "        background-color: #FED7E5;\n",
       "        border: 3px solid #FA4C8C;\n",
       "        border-radius: 5px;\n",
       "        position: absolute;\">\n",
       "    </div>\n",
       "    <div>\n",
       "        <details style=\"margin-left: 48px;\">\n",
       "            <summary style=\"margin-bottom: 20px;\">\n",
       "                <h3 style=\"margin-bottom: 0px; display: inline;\">Asset: RGBIR COG tile</h3>\n",
       "            </summary>\n",
       "            <table style=\"width: 100%; text-align: left;\">\n",
       "                <tr><td style=\"text-align: left;\"><strong>href</strong>: https://naipeuwest.blob.core.windows.net/naip/v002/ny/2019/ny_60cm_2019/40073/m_4007328_ne_18_060_20190809.tif?st=2023-03-06T21%3A21%3A02Z&se=2023-03-14T21%3A21%3A03Z&sp=rl&sv=2021-06-08&sr=c&skoid=c85c15d6-d1ae-42d4-af60-e2ca0f81359b&sktid=72f988bf-86f1-41af-91ab-2d7cd011db47&skt=2023-03-07T21%3A21%3A01Z&ske=2023-03-14T21%3A21%3A01Z&sks=b&skv=2021-06-08&sig=TRZS/OCfVSO%2BzUB3ET9sYj5wsiBqCD%2BTWFeKmTddRGk%3D </td></tr>\n",
       "                \n",
       "                    <tr><td style=\"text-align: left;\"><strong>Title:</strong> RGBIR COG tile </td></tr>\n",
       "                \n",
       "                \n",
       "                \n",
       "                    <tr><td style=\"text-align: left;\"><strong>Media type:</strong> image/tiff; application=geotiff; profile=cloud-optimized </td></tr>\n",
       "                \n",
       "                \n",
       "                    <tr><td style=\"text-align: left;\"><strong>Roles:</strong> ['data'] </td></tr>\n",
       "                \n",
       "                \n",
       "                    <tr><td style=\"text-align: left;\"><strong>Owner:</strong>  </td></tr>\n",
       "                \n",
       "                \n",
       "        \n",
       "            <tr><td style=\"text-align: left;\"><strong>eo:bands:</strong> [{'name': 'Red', 'common_name': 'red'}, {'name': 'Green', 'common_name': 'green'}, {'name': 'Blue', 'common_name': 'blue'}, {'name': 'NIR', 'common_name': 'nir', 'description': 'near-infrared'}] </td></tr>\n",
       "        \n",
       "    \n",
       "            </table>\n",
       "        </details>\n",
       "    </div>\n",
       "</div>"
      ],
      "text/plain": [
       "<Asset href=https://naipeuwest.blob.core.windows.net/naip/v002/ny/2019/ny_60cm_2019/40073/m_4007328_ne_18_060_20190809.tif?st=2023-03-06T21%3A21%3A02Z&se=2023-03-14T21%3A21%3A03Z&sp=rl&sv=2021-06-08&sr=c&skoid=c85c15d6-d1ae-42d4-af60-e2ca0f81359b&sktid=72f988bf-86f1-41af-91ab-2d7cd011db47&skt=2023-03-07T21%3A21%3A01Z&ske=2023-03-14T21%3A21%3A01Z&sks=b&skv=2021-06-08&sig=TRZS/OCfVSO%2BzUB3ET9sYj5wsiBqCD%2BTWFeKmTddRGk%3D>"
      ]
     },
     "execution_count": 229,
     "metadata": {},
     "output_type": "execute_result"
    }
   ],
   "source": [
    "item.assets['image']"
   ]
  },
  {
   "cell_type": "markdown",
   "id": "ab87eb74-3a41-4d3f-ab6b-807f4f492305",
   "metadata": {},
   "source": [
    "Extract resolution in m/px"
   ]
  },
  {
   "cell_type": "code",
   "execution_count": 232,
   "id": "924b2e90-a2bb-4986-984b-02e906834a93",
   "metadata": {},
   "outputs": [
    {
     "data": {
      "text/plain": [
       "0.6"
      ]
     },
     "execution_count": 232,
     "metadata": {},
     "output_type": "execute_result"
    }
   ],
   "source": [
    "gsd = item.properties['gsd'] \n",
    "gsd"
   ]
  },
  {
   "cell_type": "markdown",
   "id": "d4598094-7538-499b-8ad0-205102c75bb6",
   "metadata": {},
   "source": [
    "Extract URL to actual RGB-NIR image"
   ]
  },
  {
   "cell_type": "code",
   "execution_count": 231,
   "id": "13e87374-6b0d-4fb7-9abd-6ba8e14d37ce",
   "metadata": {},
   "outputs": [],
   "source": [
    "rgbir_url=item.assets['image'].href"
   ]
  },
  {
   "cell_type": "markdown",
   "id": "80ca2379-41d6-4f1e-8dfb-2eb588b45608",
   "metadata": {},
   "source": [
    "Check CRS also"
   ]
  },
  {
   "cell_type": "code",
   "execution_count": 233,
   "id": "e54edfbd-2e69-49a8-b410-ff8d1fac379f",
   "metadata": {},
   "outputs": [
    {
     "data": {
      "text/plain": [
       "26918"
      ]
     },
     "execution_count": 233,
     "metadata": {},
     "output_type": "execute_result"
    }
   ],
   "source": [
    "item.properties['proj:epsg']"
   ]
  },
  {
   "cell_type": "markdown",
   "id": "d86c16e9-9150-4ec6-9645-922db4a0d848",
   "metadata": {},
   "source": [
    "## Visualize the entire NAIP tile"
   ]
  },
  {
   "cell_type": "code",
   "execution_count": 234,
   "id": "e3cd7106-42bf-4169-99df-a1728c1f7d61",
   "metadata": {},
   "outputs": [
    {
     "data": {
      "text/html": [
       "<img src=\"https://planetarycomputer.microsoft.com/api/data/v1/item/preview.png?collection=naip&item=ny_m_4007328_ne_18_060_20190809_20191209&assets=image&asset_bidx=image%7C1%2C2%2C3&format=png\"/>"
      ],
      "text/plain": [
       "<IPython.core.display.Image object>"
      ]
     },
     "execution_count": 234,
     "metadata": {},
     "output_type": "execute_result"
    }
   ],
   "source": [
    "from IPython.display import Image\n",
    "\n",
    "Image(url=item.assets[\"rendered_preview\"].href)"
   ]
  },
  {
   "cell_type": "markdown",
   "id": "2040867b-1e2c-45f7-bff5-58dd9b3624f3",
   "metadata": {},
   "source": [
    "# Crop of AOI\n",
    "\n",
    "Efficiently!"
   ]
  },
  {
   "cell_type": "code",
   "execution_count": 235,
   "id": "dc8a2439-8ce6-435b-b5b8-f7a67bb3361f",
   "metadata": {},
   "outputs": [],
   "source": [
    "import shapely \n",
    "import rasterio\n",
    "from rasterio.mask import mask\n",
    "\n",
    "point_geom = shapely.geometry.mapping(shapely.geometry.Point(lon, lat))\n",
    "PATCH_SIZE_M = 100.\n",
    "# side_length_m = 101. #meters because the destination EPSG (26916) is in meters\n",
    "\n",
    "with rasterio.Env():\n",
    "    with rasterio.open(rgbir_url, \"r\") as f:\n",
    "        point_geom = rasterio.warp.transform_geom(\n",
    "            \"epsg:4326\", f.crs.to_string(), point_geom)\n",
    "\n",
    "        #Convert the point to a shape\n",
    "        point_shape = shapely.geometry.shape(point_geom)\n",
    "        #Create a square out of it with side_length = buffer*2\n",
    "        mask_shape = point_shape.buffer(PATCH_SIZE_M/2).envelope\n",
    "        mask_geom = shapely.geometry.mapping(mask_shape)\n",
    "\n",
    "        #crop to the aoi (mask)\n",
    "        try:\n",
    "            image_rgbir, _ = mask(\n",
    "                f, [mask_geom], crop=True)\n",
    "            \n",
    "        except ValueError as e:\n",
    "            if \"Input shapes do not overlap raster.\" in str(e):\n",
    "                print (\"no dice\")"
   ]
  },
  {
   "cell_type": "markdown",
   "id": "47596b6e-4ea7-478c-a711-2b091a72ba49",
   "metadata": {},
   "source": [
    "4-channel numpy array"
   ]
  },
  {
   "cell_type": "code",
   "execution_count": 236,
   "id": "9e6ea35e-b742-41c4-bcad-da02155fd462",
   "metadata": {},
   "outputs": [
    {
     "data": {
      "text/plain": [
       "(4, 168, 168)"
      ]
     },
     "execution_count": 236,
     "metadata": {},
     "output_type": "execute_result"
    }
   ],
   "source": [
    "image_rgbir.shape"
   ]
  },
  {
   "cell_type": "markdown",
   "id": "7deade4f-1770-4d4c-8952-fc0f4564f824",
   "metadata": {},
   "source": [
    "## Display the cropped patch"
   ]
  },
  {
   "cell_type": "code",
   "execution_count": 237,
   "id": "ddf0c5a2-2c03-4e53-bfb5-4cb08ea10ba6",
   "metadata": {},
   "outputs": [
    {
     "data": {
      "text/plain": [
       "<matplotlib.image.AxesImage at 0x7f433df94190>"
      ]
     },
     "execution_count": 237,
     "metadata": {},
     "output_type": "execute_result"
    },
    {
     "data": {
      "image/png": "[encoded data removed]",
      "text/plain": [
       "<Figure size 640x480 with 1 Axes>"
      ]
     },
     "metadata": {},
     "output_type": "display_data"
    }
   ],
   "source": [
    "import matplotlib.pyplot as plt\n",
    "import numpy as np\n",
    "\n",
    "img = np.dstack((image_rgbir[0], image_rgbir[1], image_rgbir[2]))\n",
    "\n",
    "plt.imshow(img)"
   ]
  },
  {
   "cell_type": "markdown",
   "id": "54ca3eb6-45fd-489c-a39f-6afc8fc6402e",
   "metadata": {},
   "source": [
    "## Crop in pixels to make sure no weird boundaries happen"
   ]
  },
  {
   "cell_type": "code",
   "execution_count": 238,
   "id": "4dbd1691-d113-4582-8486-aa18dbac8d90",
   "metadata": {},
   "outputs": [],
   "source": [
    "import operator\n",
    "\n",
    "def cropCenter(img, bounding):\n",
    "    start = tuple(map(lambda a, da: a//2-da//2, img.shape, bounding))\n",
    "    end = tuple(map(operator.add, start, bounding))\n",
    "    slices = tuple(map(slice, start, end))\n",
    "    return img[slices]"
   ]
  },
  {
   "cell_type": "code",
   "execution_count": 269,
   "id": "62478573-9349-44fd-a57c-e5521148eb7d",
   "metadata": {},
   "outputs": [],
   "source": [
    "WINDOW_SIZE_PX = 5\n",
    "\n",
    "assert (WINDOW_SIZE_PX < image_rgbir.shape[1])"
   ]
  },
  {
   "cell_type": "code",
   "execution_count": 270,
   "id": "d8d8753d-a73a-435c-af2e-e02dba0a6a57",
   "metadata": {},
   "outputs": [
    {
     "data": {
      "text/plain": [
       "((5, 5, 3), (4, 5, 5))"
      ]
     },
     "execution_count": 270,
     "metadata": {},
     "output_type": "execute_result"
    },
    {
     "data": {
      "image/png": "[encoded data removed]",
      "text/plain": [
       "<Figure size 640x480 with 1 Axes>"
      ]
     },
     "metadata": {},
     "output_type": "display_data"
    }
   ],
   "source": [
    "img_rgbir_crop = cropCenter(image_rgbir, (4,WINDOW_SIZE_PX,WINDOW_SIZE_PX))\n",
    "img_crop_viz = np.dstack((img_rgbir_crop[0], img_rgbir_crop[1], img_rgbir_crop[2]))\n",
    "\n",
    "plt.imshow(img_crop_viz)\n",
    "img_crop_viz.shape, img_rgbir_crop.shape"
   ]
  },
  {
   "cell_type": "markdown",
   "id": "8d9aa692-581d-46aa-9ee3-0b48f9dbb48d",
   "metadata": {},
   "source": [
    "# GLCM Feature Extraction"
   ]
  },
  {
   "cell_type": "markdown",
   "id": "4e1c9d41-dae6-4a45-9f57-bb9da95f7fb7",
   "metadata": {},
   "source": [
    "## First convert to grayscale"
   ]
  },
  {
   "cell_type": "markdown",
   "id": "57f32c24-7f6d-4e11-b5be-5abe5657a621",
   "metadata": {},
   "source": [
    "Version1 : average all bands"
   ]
  },
  {
   "cell_type": "code",
   "execution_count": 271,
   "id": "62ecbabe-cbbd-42df-8029-e93e516b7e54",
   "metadata": {},
   "outputs": [
    {
     "data": {
      "text/plain": [
       "array([[195, 195, 196, 195, 195],\n",
       "       [195, 195, 195, 195, 196],\n",
       "       [194, 195, 195, 196, 196],\n",
       "       [194, 195, 196, 196, 196],\n",
       "       [194, 195, 196, 197, 197]], dtype=uint8)"
      ]
     },
     "metadata": {},
     "output_type": "display_data"
    },
    {
     "data": {
      "text/plain": [
       "<matplotlib.image.AxesImage at 0x7f433dc23070>"
      ]
     },
     "execution_count": 271,
     "metadata": {},
     "output_type": "execute_result"
    },
    {
     "data": {
      "image/png": "[encoded data removed]",
      "text/plain": [
       "<Figure size 640x480 with 1 Axes>"
      ]
     },
     "metadata": {},
     "output_type": "display_data"
    }
   ],
   "source": [
    "gray1 = np.average(img_rgbir_crop, axis=0).astype('uint8')\n",
    "display(gray1)\n",
    "plt.imshow(gray1)"
   ]
  },
  {
   "cell_type": "markdown",
   "id": "a06e36b9-bed6-4d5f-aa58-91cc761d2bc2",
   "metadata": {},
   "source": [
    "Version 2\n",
    "\n",
    "Equation taken from \"Experimental analysis of sand grain size mapping using UAV remote sensing\" - Bae et. al 2019"
   ]
  },
  {
   "cell_type": "code",
   "execution_count": 272,
   "id": "41c9c64b-807c-4937-a227-1bf3459b8093",
   "metadata": {},
   "outputs": [
    {
     "data": {
      "text/plain": [
       "array([[201, 202, 202, 202, 202],\n",
       "       [201, 202, 202, 202, 202],\n",
       "       [201, 201, 202, 202, 203],\n",
       "       [201, 201, 202, 203, 203],\n",
       "       [201, 201, 203, 203, 203]], dtype=uint8)"
      ]
     },
     "metadata": {},
     "output_type": "display_data"
    },
    {
     "data": {
      "text/plain": [
       "<matplotlib.image.AxesImage at 0x7f433da9d2a0>"
      ]
     },
     "execution_count": 272,
     "metadata": {},
     "output_type": "execute_result"
    },
    {
     "data": {
      "image/png": "[encoded data removed]",
      "text/plain": [
       "<Figure size 640x480 with 1 Axes>"
      ]
     },
     "metadata": {},
     "output_type": "display_data"
    }
   ],
   "source": [
    "gray2 = np.average(img_rgbir_crop, axis=0, weights=[0.3, 0.59, 0.11, 0.]).astype('uint8')\n",
    "display(gray2)\n",
    "plt.imshow(gray1)"
   ]
  },
  {
   "cell_type": "markdown",
   "id": "1f15bafa-971f-43e7-8f00-d8ddd3d6464a",
   "metadata": {},
   "source": [
    "Marchetti et. al (2021), and Black et. al (2014) both used a range of 33, 51 and 101 kernel window size. For a 2cm/px resolution this roughly equates to 0.6m, 1m and 2m\n",
    "For a 0.6m/px resolution (NAIP), this roughly equates to 1, 2 and 3px respectively"
   ]
  },
  {
   "cell_type": "code",
   "execution_count": 279,
   "id": "314c54ca-257c-4c8e-af60-7685c414f565",
   "metadata": {},
   "outputs": [],
   "source": [
    "glcm1 = graycomatrix(gray1, distances=[1,2,3], angles=[0, np.pi/4, np.pi/2, 3*np.pi/4], levels=256,\n",
    "                        symmetric=True, normed=False)\n",
    "glcm2 = graycomatrix(gray2, distances=[1,2,3], angles=[0, np.pi/4, np.pi/2, 3*np.pi/4], levels=256,\n",
    "                        symmetric=True, normed=False)"
   ]
  },
  {
   "cell_type": "code",
   "execution_count": 280,
   "id": "49508797-1bb9-4cd8-9ead-8ee79d0ee3a5",
   "metadata": {},
   "outputs": [],
   "source": [
    "dis1, dis2 = graycoprops(glcm1, 'dissimilarity'), graycoprops(glcm2, 'dissimilarity')"
   ]
  },
  {
   "cell_type": "markdown",
   "id": "08af8e28-3514-4121-8a1a-f00bf25fa3bc",
   "metadata": {},
   "source": [
    "Average the directional values, but keep the offsets?"
   ]
  },
  {
   "cell_type": "code",
   "execution_count": 254,
   "id": "a4907f81-2a7b-4993-8fb1-8e7e072de1c9",
   "metadata": {},
   "outputs": [
    {
     "data": {
      "text/plain": [
       "array([1.06973761, 1.41640853, 4.90744055])"
      ]
     },
     "execution_count": 254,
     "metadata": {},
     "output_type": "execute_result"
    }
   ],
   "source": [
    "np.average(dis1, axis=1)"
   ]
  },
  {
   "cell_type": "code",
   "execution_count": 281,
   "id": "84643165-95d7-489a-9e29-58c7cb23e379",
   "metadata": {},
   "outputs": [
    {
     "data": {
      "text/plain": [
       "array([0.478125  , 0.665625  , 0.91666667])"
      ]
     },
     "execution_count": 281,
     "metadata": {},
     "output_type": "execute_result"
    }
   ],
   "source": [
    "np.average(dis1, axis=1)"
   ]
  },
  {
   "cell_type": "code",
   "execution_count": 282,
   "id": "c56b371d-3e59-48bf-8d4c-ca8cf219bdfa",
   "metadata": {},
   "outputs": [],
   "source": [
    "hom1, hom2 = graycoprops(glcm1, 'homogeneity'), graycoprops(glcm2, 'homogeneity')"
   ]
  },
  {
   "cell_type": "code",
   "execution_count": 283,
   "id": "e9d07491-9ca5-4f28-b5d1-e338268525f9",
   "metadata": {},
   "outputs": [
    {
     "data": {
      "text/plain": [
       "array([0.7609375 , 0.6771875 , 0.59888889])"
      ]
     },
     "execution_count": 283,
     "metadata": {},
     "output_type": "execute_result"
    }
   ],
   "source": [
    "np.average(hom1, axis=1)"
   ]
  },
  {
   "cell_type": "code",
   "execution_count": 284,
   "id": "86435d5a-6540-4224-86ab-ce3fd2820dae",
   "metadata": {},
   "outputs": [
    {
     "data": {
      "text/plain": [
       "(array([[0.75      , 0.65625   , 0.825     , 0.8125    ],\n",
       "        [0.57333333, 0.65625   , 0.66666667, 0.8125    ],\n",
       "        [0.52      , 0.51111111, 0.62      , 0.74444444]]),\n",
       " array([[0.81      , 0.7625    , 0.9       , 0.84375   ],\n",
       "        [0.60666667, 0.7625    , 0.76666667, 0.84375   ],\n",
       "        [0.45      , 0.48888889, 0.65      , 0.66666667]]))"
      ]
     },
     "execution_count": 284,
     "metadata": {},
     "output_type": "execute_result"
    }
   ],
   "source": [
    "graycoprops(glcm1, 'homogeneity'), graycoprops(glcm2, 'homogeneity')"
   ]
  },
  {
   "cell_type": "code",
   "execution_count": 201,
   "id": "9fc90d5a-16a6-438f-8da8-cc54cb9e7a36",
   "metadata": {},
   "outputs": [
    {
     "data": {
      "text/plain": [
       "(array([[0.83997342, 0.81546982, 0.83997342, 0.78860864],\n",
       "        [0.57552922, 0.56364951, 0.57552922, 0.57868155],\n",
       "        [0.35362115, 0.45170162, 0.35362115, 0.42805627]]),\n",
       " array([[0.78412023, 0.69421195, 0.78412023, 0.6724742 ],\n",
       "        [0.47387806, 0.40706961, 0.47387806, 0.44100117],\n",
       "        [0.31314112, 0.29074111, 0.31314112, 0.29938078]]))"
      ]
     },
     "execution_count": 201,
     "metadata": {},
     "output_type": "execute_result"
    }
   ],
   "source": [
    "graycoprops(glcm1, 'correlation'), graycoprops(glcm2, 'correlation')"
   ]
  },
  {
   "cell_type": "code",
   "execution_count": 202,
   "id": "5997505e-828f-4fcb-ab7d-573fcd466eb3",
   "metadata": {},
   "outputs": [
    {
     "data": {
      "text/plain": [
       "(array([[19.23012301, 22.76587659, 19.23012301, 25.61737374],\n",
       "        [49.4964934 , 53.36592409, 49.4964934 , 49.78850359],\n",
       "        [72.91415515, 67.94625177, 72.91415515, 65.68036685]]),\n",
       " array([[ 8.5339534 , 11.99919992,  8.5339534 , 12.80767677],\n",
       "        [20.83941832, 22.88242574, 20.83941832, 21.44923461],\n",
       "        [27.30878033, 27.8539876 , 27.30878033, 27.18851902]]))"
      ]
     },
     "execution_count": 202,
     "metadata": {},
     "output_type": "execute_result"
    }
   ],
   "source": [
    "graycoprops(glcm1, 'contrast'), graycoprops(glcm2, 'contrast')"
   ]
  },
  {
   "cell_type": "code",
   "execution_count": 203,
   "id": "1bd46bcc-1af2-4c0a-a0fd-ed0fdbbe0ee3",
   "metadata": {},
   "outputs": [
    {
     "data": {
      "text/plain": [
       "(array([[0.12949347, 0.13072891, 0.12949347, 0.12991075],\n",
       "        [0.12221552, 0.12068431, 0.12221552, 0.12345767],\n",
       "        [0.11460225, 0.11161909, 0.11460225, 0.11751046]]),\n",
       " array([[0.21521808, 0.21871392, 0.21521808, 0.21764814],\n",
       "        [0.19830012, 0.19690465, 0.19830012, 0.20568737],\n",
       "        [0.1853504 , 0.18241216, 0.1853504 , 0.19629454]]))"
      ]
     },
     "execution_count": 203,
     "metadata": {},
     "output_type": "execute_result"
    }
   ],
   "source": [
    "graycoprops(glcm1, 'energy'), graycoprops(glcm2, 'energy')"
   ]
  },
  {
   "cell_type": "markdown",
   "id": "4a674036-c0b8-440a-a8a4-0e2188c5c7e2",
   "metadata": {},
   "source": [
    "# Closing Notes"
   ]
  },
  {
   "cell_type": "markdown",
   "id": "d049404a-b18a-49b1-aa34-59b423a270c0",
   "metadata": {},
   "source": [
    "To do the equivalent of what [ee.Image.glcmTexture](https://developers.google.com/earth-engine/apidocs/ee-image-glcmtexture) does in GEE, i.e. use a sliding window to compute the texture features for the entire masked sandy areas, follow [this post](https://stackoverflow.com/questions/42459493/sliding-window-in-python-for-glcm-calculation)"
   ]
  },
  {
   "cell_type": "markdown",
   "id": "a940f4ec-aaa0-403e-b0d3-aa01477f1130",
   "metadata": {},
   "source": [
    "Also check [this out](https://stackoverflow.com/questions/35551249/implementing-glcm-texture-feature-with-scikit-image-and-python)"
   ]
  },
  {
   "cell_type": "code",
   "execution_count": null,
   "id": "513f266c-0093-4626-8502-818355d0aa5d",
   "metadata": {},
   "outputs": [],
   "source": []
  }
 ],
 "metadata": {
  "kernelspec": {
   "display_name": "Python 3 (ipykernel)",
   "language": "python",
   "name": "python3"
  },
  "language_info": {
   "codemirror_mode": {
    "name": "ipython",
    "version": 3
   },
   "file_extension": ".py",
   "mimetype": "text/x-python",
   "name": "python",
   "nbconvert_exporter": "python",
   "pygments_lexer": "ipython3",
   "version": "3.10.6"
  }
 },
 "nbformat": 4,
 "nbformat_minor": 5
}
