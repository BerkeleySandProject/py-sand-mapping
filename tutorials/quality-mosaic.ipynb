{
 "cells": [
  {
   "cell_type": "markdown",
   "id": "0f61831a",
   "metadata": {},
   "source": [
    "<a href=\"https://githubtocolab.com/giswqs/geemap/blob/master/examples/notebooks/36_quality_mosaic.ipynb\" target=\"_parent\"><img src=\"https://colab.research.google.com/assets/colab-badge.svg\" alt=\"Open in Colab\"/></a>\n",
    "\n",
    "Uncomment the following line to install [geemap](https://geemap.org) if needed."
   ]
  },
  {
   "cell_type": "code",
   "execution_count": 2,
   "id": "2e1bd4fc",
   "metadata": {
    "collapsed": true,
    "jupyter": {
     "outputs_hidden": true
    },
    "tags": []
   },
   "outputs": [
    {
     "name": "stdout",
     "output_type": "stream",
     "text": [
      "Collecting geemap\n",
      "  Using cached geemap-0.20.3-py2.py3-none-any.whl (2.1 MB)\n",
      "Requirement already satisfied: folium>=0.11.0 in /srv/conda/envs/notebook/lib/python3.10/site-packages (from geemap) (0.12.1.post1)\n",
      "Collecting earthengine-api>=0.1.304\n",
      "  Using cached earthengine_api-0.1.346-py3-none-any.whl\n",
      "Collecting pyperclip\n",
      "  Using cached pyperclip-1.8.2-py3-none-any.whl\n",
      "Requirement already satisfied: ipywidgets<8.0.0 in /srv/conda/envs/notebook/lib/python3.10/site-packages (from geemap) (7.7.1)\n",
      "Requirement already satisfied: numpy in /srv/conda/envs/notebook/lib/python3.10/site-packages (from geemap) (1.22.4)\n",
      "Requirement already satisfied: geojson in /srv/conda/envs/notebook/lib/python3.10/site-packages (from geemap) (2.5.0)\n",
      "Collecting geocoder\n",
      "  Using cached geocoder-1.38.1-py2.py3-none-any.whl (98 kB)\n",
      "Requirement already satisfied: colour in /srv/conda/envs/notebook/lib/python3.10/site-packages (from geemap) (0.1.5)\n",
      "Requirement already satisfied: pillow in /srv/conda/envs/notebook/lib/python3.10/site-packages (from geemap) (9.2.0)\n",
      "Collecting ee-extra>=0.0.10\n",
      "  Using cached ee_extra-0.0.15-py3-none-any.whl\n",
      "Requirement already satisfied: whiteboxgui>=0.6.0 in /srv/conda/envs/notebook/lib/python3.10/site-packages (from geemap) (0.7.0)\n",
      "Requirement already satisfied: bqplot in /srv/conda/envs/notebook/lib/python3.10/site-packages (from geemap) (0.12.36)\n",
      "Requirement already satisfied: pandas in /srv/conda/envs/notebook/lib/python3.10/site-packages (from geemap) (1.4.4)\n",
      "Requirement already satisfied: scooby in /srv/conda/envs/notebook/lib/python3.10/site-packages (from geemap) (0.6.0)\n",
      "Requirement already satisfied: ipyevents in /srv/conda/envs/notebook/lib/python3.10/site-packages (from geemap) (2.0.1)\n",
      "Requirement already satisfied: ipyleaflet>=0.17.0 in /srv/conda/envs/notebook/lib/python3.10/site-packages (from geemap) (0.17.1)\n",
      "Requirement already satisfied: python-box in /srv/conda/envs/notebook/lib/python3.10/site-packages (from geemap) (6.0.2)\n",
      "Collecting geeadd>=0.5.1\n",
      "  Using cached geeadd-0.5.6-py3-none-any.whl (30 kB)\n",
      "Requirement already satisfied: ipytree in /srv/conda/envs/notebook/lib/python3.10/site-packages (from geemap) (0.2.2)\n",
      "Collecting ffmpeg-python\n",
      "  Using cached ffmpeg_python-0.2.0-py3-none-any.whl (25 kB)\n",
      "Requirement already satisfied: matplotlib in /srv/conda/envs/notebook/lib/python3.10/site-packages (from geemap) (3.5.3)\n",
      "Collecting eerepr>=0.0.4\n",
      "  Using cached eerepr-0.0.4-py3-none-any.whl (9.7 kB)\n",
      "Requirement already satisfied: gdown in /srv/conda/envs/notebook/lib/python3.10/site-packages (from geemap) (4.5.1)\n",
      "Requirement already satisfied: ipyfilechooser>=0.6.0 in /srv/conda/envs/notebook/lib/python3.10/site-packages (from geemap) (0.6.0)\n",
      "Requirement already satisfied: pyshp>=2.1.3 in /srv/conda/envs/notebook/lib/python3.10/site-packages (from geemap) (2.3.1)\n",
      "Requirement already satisfied: ipykernel in /srv/conda/envs/notebook/lib/python3.10/site-packages (from geemap) (6.15.3)\n",
      "Requirement already satisfied: xyzservices in /srv/conda/envs/notebook/lib/python3.10/site-packages (from geemap) (2022.6.0)\n",
      "Requirement already satisfied: pycrs in /srv/conda/envs/notebook/lib/python3.10/site-packages (from geemap) (1.0.2)\n",
      "Collecting sankee>=0.1.0\n",
      "  Using cached sankee-0.2.3-py3-none-any.whl\n",
      "Requirement already satisfied: google-cloud-storage in /srv/conda/envs/notebook/lib/python3.10/site-packages (from earthengine-api>=0.1.304->geemap) (2.5.0)\n",
      "Collecting google-auth-httplib2>=0.0.3\n",
      "  Using cached google_auth_httplib2-0.1.0-py2.py3-none-any.whl (9.3 kB)\n",
      "Collecting google-api-python-client>=1.12.1\n",
      "  Using cached google_api_python_client-2.82.0-py2.py3-none-any.whl (11.1 MB)\n",
      "Requirement already satisfied: google-auth>=1.4.1 in /srv/conda/envs/notebook/lib/python3.10/site-packages (from earthengine-api>=0.1.304->geemap) (2.11.0)\n",
      "Requirement already satisfied: requests in /srv/conda/envs/notebook/lib/python3.10/site-packages (from earthengine-api>=0.1.304->geemap) (2.28.1)\n",
      "Collecting httplib2<1dev,>=0.9.2\n",
      "  Using cached httplib2-0.22.0-py3-none-any.whl (96 kB)\n",
      "Requirement already satisfied: jinja2>=2.9 in /srv/conda/envs/notebook/lib/python3.10/site-packages (from folium>=0.11.0->geemap) (3.1.2)\n",
      "Requirement already satisfied: branca>=0.3.0 in /srv/conda/envs/notebook/lib/python3.10/site-packages (from folium>=0.11.0->geemap) (0.5.0)\n",
      "Collecting logzero>=1.5.0\n",
      "  Using cached logzero-1.7.0-py2.py3-none-any.whl (16 kB)\n",
      "Requirement already satisfied: beautifulsoup4>=4.9.0 in /srv/conda/envs/notebook/lib/python3.10/site-packages (from geeadd>=0.5.1->geemap) (4.11.1)\n",
      "Requirement already satisfied: traittypes<3,>=0.2.1 in /srv/conda/envs/notebook/lib/python3.10/site-packages (from ipyleaflet>=0.17.0->geemap) (0.2.1)\n",
      "Requirement already satisfied: jupyterlab-widgets>=1.0.0 in /srv/conda/envs/notebook/lib/python3.10/site-packages (from ipywidgets<8.0.0->geemap) (1.1.1)\n",
      "Requirement already satisfied: ipython>=4.0.0 in /srv/conda/envs/notebook/lib/python3.10/site-packages (from ipywidgets<8.0.0->geemap) (8.5.0)\n",
      "Requirement already satisfied: ipython-genutils~=0.2.0 in /srv/conda/envs/notebook/lib/python3.10/site-packages (from ipywidgets<8.0.0->geemap) (0.2.0)\n",
      "Requirement already satisfied: traitlets>=4.3.1 in /srv/conda/envs/notebook/lib/python3.10/site-packages (from ipywidgets<8.0.0->geemap) (5.4.0)\n",
      "Requirement already satisfied: widgetsnbextension~=3.6.0 in /srv/conda/envs/notebook/lib/python3.10/site-packages (from ipywidgets<8.0.0->geemap) (3.6.1)\n",
      "Requirement already satisfied: debugpy>=1.0 in /srv/conda/envs/notebook/lib/python3.10/site-packages (from ipykernel->geemap) (1.6.3)\n",
      "Requirement already satisfied: tornado>=6.1 in /srv/conda/envs/notebook/lib/python3.10/site-packages (from ipykernel->geemap) (6.1)\n",
      "Requirement already satisfied: nest-asyncio in /srv/conda/envs/notebook/lib/python3.10/site-packages (from ipykernel->geemap) (1.5.5)\n",
      "Requirement already satisfied: psutil in /srv/conda/envs/notebook/lib/python3.10/site-packages (from ipykernel->geemap) (5.9.2)\n",
      "Requirement already satisfied: packaging in /srv/conda/envs/notebook/lib/python3.10/site-packages (from ipykernel->geemap) (21.3)\n",
      "Requirement already satisfied: matplotlib-inline>=0.1 in /srv/conda/envs/notebook/lib/python3.10/site-packages (from ipykernel->geemap) (0.1.6)\n",
      "Requirement already satisfied: pyzmq>=17 in /srv/conda/envs/notebook/lib/python3.10/site-packages (from ipykernel->geemap) (24.0.0)\n",
      "Requirement already satisfied: jupyter-client>=6.1.12 in /srv/conda/envs/notebook/lib/python3.10/site-packages (from ipykernel->geemap) (7.3.4)\n",
      "Collecting plotly>=5.2.2\n",
      "  Using cached plotly-5.13.1-py2.py3-none-any.whl (15.2 MB)\n",
      "Requirement already satisfied: whitebox in /srv/conda/envs/notebook/lib/python3.10/site-packages (from whiteboxgui>=0.6.0->geemap) (2.1.4)\n",
      "Requirement already satisfied: python-dateutil>=2.8.1 in /srv/conda/envs/notebook/lib/python3.10/site-packages (from pandas->geemap) (2.8.2)\n",
      "Requirement already satisfied: pytz>=2020.1 in /srv/conda/envs/notebook/lib/python3.10/site-packages (from pandas->geemap) (2022.2.1)\n",
      "Requirement already satisfied: future in /srv/conda/envs/notebook/lib/python3.10/site-packages (from ffmpeg-python->geemap) (0.18.2)\n",
      "Requirement already satisfied: filelock in /srv/conda/envs/notebook/lib/python3.10/site-packages (from gdown->geemap) (3.8.0)\n",
      "Requirement already satisfied: tqdm in /srv/conda/envs/notebook/lib/python3.10/site-packages (from gdown->geemap) (4.64.1)\n",
      "Requirement already satisfied: six in /srv/conda/envs/notebook/lib/python3.10/site-packages (from gdown->geemap) (1.16.0)\n",
      "Collecting ratelim\n",
      "  Using cached ratelim-0.1.6-py2.py3-none-any.whl (4.0 kB)\n",
      "Requirement already satisfied: click in /srv/conda/envs/notebook/lib/python3.10/site-packages (from geocoder->geemap) (8.0.4)\n",
      "Requirement already satisfied: pyparsing>=2.2.1 in /srv/conda/envs/notebook/lib/python3.10/site-packages (from matplotlib->geemap) (3.0.9)\n",
      "Requirement already satisfied: kiwisolver>=1.0.1 in /srv/conda/envs/notebook/lib/python3.10/site-packages (from matplotlib->geemap) (1.4.4)\n",
      "Requirement already satisfied: fonttools>=4.22.0 in /srv/conda/envs/notebook/lib/python3.10/site-packages (from matplotlib->geemap) (4.37.2)\n",
      "Requirement already satisfied: cycler>=0.10 in /srv/conda/envs/notebook/lib/python3.10/site-packages (from matplotlib->geemap) (0.11.0)\n",
      "Requirement already satisfied: soupsieve>1.2 in /srv/conda/envs/notebook/lib/python3.10/site-packages (from beautifulsoup4>=4.9.0->geeadd>=0.5.1->geemap) (2.3.2.post1)\n",
      "Requirement already satisfied: google-api-core!=2.0.*,!=2.1.*,!=2.2.*,!=2.3.0,<3.0.0dev,>=1.31.5 in /srv/conda/envs/notebook/lib/python3.10/site-packages (from google-api-python-client>=1.12.1->earthengine-api>=0.1.304->geemap) (2.10.1)\n",
      "Collecting uritemplate<5,>=3.0.1\n",
      "  Using cached uritemplate-4.1.1-py2.py3-none-any.whl (10 kB)\n",
      "Requirement already satisfied: rsa<5,>=3.1.4 in /srv/conda/envs/notebook/lib/python3.10/site-packages (from google-auth>=1.4.1->earthengine-api>=0.1.304->geemap) (4.7.2)\n",
      "Requirement already satisfied: pyasn1-modules>=0.2.1 in /srv/conda/envs/notebook/lib/python3.10/site-packages (from google-auth>=1.4.1->earthengine-api>=0.1.304->geemap) (0.2.7)\n",
      "Requirement already satisfied: cachetools<6.0,>=2.0.0 in /srv/conda/envs/notebook/lib/python3.10/site-packages (from google-auth>=1.4.1->earthengine-api>=0.1.304->geemap) (5.2.0)\n",
      "Requirement already satisfied: decorator in /srv/conda/envs/notebook/lib/python3.10/site-packages (from ipython>=4.0.0->ipywidgets<8.0.0->geemap) (5.1.1)\n",
      "Requirement already satisfied: prompt-toolkit<3.1.0,>3.0.1 in /srv/conda/envs/notebook/lib/python3.10/site-packages (from ipython>=4.0.0->ipywidgets<8.0.0->geemap) (3.0.31)\n",
      "Requirement already satisfied: stack-data in /srv/conda/envs/notebook/lib/python3.10/site-packages (from ipython>=4.0.0->ipywidgets<8.0.0->geemap) (0.5.0)\n",
      "Requirement already satisfied: backcall in /srv/conda/envs/notebook/lib/python3.10/site-packages (from ipython>=4.0.0->ipywidgets<8.0.0->geemap) (0.2.0)\n",
      "Requirement already satisfied: pickleshare in /srv/conda/envs/notebook/lib/python3.10/site-packages (from ipython>=4.0.0->ipywidgets<8.0.0->geemap) (0.7.5)\n",
      "Requirement already satisfied: pygments>=2.4.0 in /srv/conda/envs/notebook/lib/python3.10/site-packages (from ipython>=4.0.0->ipywidgets<8.0.0->geemap) (2.13.0)\n",
      "Requirement already satisfied: pexpect>4.3 in /srv/conda/envs/notebook/lib/python3.10/site-packages (from ipython>=4.0.0->ipywidgets<8.0.0->geemap) (4.8.0)\n",
      "Requirement already satisfied: jedi>=0.16 in /srv/conda/envs/notebook/lib/python3.10/site-packages (from ipython>=4.0.0->ipywidgets<8.0.0->geemap) (0.18.1)\n",
      "Requirement already satisfied: MarkupSafe>=2.0 in /srv/conda/envs/notebook/lib/python3.10/site-packages (from jinja2>=2.9->folium>=0.11.0->geemap) (2.1.1)\n",
      "Requirement already satisfied: jupyter-core>=4.9.2 in /srv/conda/envs/notebook/lib/python3.10/site-packages (from jupyter-client>=6.1.12->ipykernel->geemap) (4.11.1)\n",
      "Requirement already satisfied: entrypoints in /srv/conda/envs/notebook/lib/python3.10/site-packages (from jupyter-client>=6.1.12->ipykernel->geemap) (0.4)\n",
      "Requirement already satisfied: tenacity>=6.2.0 in /srv/conda/envs/notebook/lib/python3.10/site-packages (from plotly>=5.2.2->sankee>=0.1.0->geemap) (8.0.1)\n",
      "Requirement already satisfied: urllib3<1.27,>=1.21.1 in /srv/conda/envs/notebook/lib/python3.10/site-packages (from requests->earthengine-api>=0.1.304->geemap) (1.26.11)\n",
      "Requirement already satisfied: certifi>=2017.4.17 in /srv/conda/envs/notebook/lib/python3.10/site-packages (from requests->earthengine-api>=0.1.304->geemap) (2022.9.14)\n",
      "Requirement already satisfied: charset-normalizer<3,>=2 in /srv/conda/envs/notebook/lib/python3.10/site-packages (from requests->earthengine-api>=0.1.304->geemap) (2.1.1)\n",
      "Requirement already satisfied: idna<4,>=2.5 in /srv/conda/envs/notebook/lib/python3.10/site-packages (from requests->earthengine-api>=0.1.304->geemap) (3.3)\n",
      "Requirement already satisfied: notebook>=4.4.1 in /srv/conda/envs/notebook/lib/python3.10/site-packages (from widgetsnbextension~=3.6.0->ipywidgets<8.0.0->geemap) (6.4.12)\n",
      "Requirement already satisfied: google-cloud-core<3.0dev,>=2.3.0 in /srv/conda/envs/notebook/lib/python3.10/site-packages (from google-cloud-storage->earthengine-api>=0.1.304->geemap) (2.3.2)\n",
      "Requirement already satisfied: google-resumable-media>=2.3.2 in /srv/conda/envs/notebook/lib/python3.10/site-packages (from google-cloud-storage->earthengine-api>=0.1.304->geemap) (2.3.3)\n",
      "Requirement already satisfied: PySocks!=1.5.7,>=1.5.6 in /srv/conda/envs/notebook/lib/python3.10/site-packages (from requests->earthengine-api>=0.1.304->geemap) (1.7.1)\n",
      "Requirement already satisfied: protobuf<5.0.0dev,>=3.20.1 in /srv/conda/envs/notebook/lib/python3.10/site-packages (from google-api-core!=2.0.*,!=2.1.*,!=2.2.*,!=2.3.0,<3.0.0dev,>=1.31.5->google-api-python-client>=1.12.1->earthengine-api>=0.1.304->geemap) (4.21.5)\n",
      "Requirement already satisfied: googleapis-common-protos<2.0dev,>=1.56.2 in /srv/conda/envs/notebook/lib/python3.10/site-packages (from google-api-core!=2.0.*,!=2.1.*,!=2.2.*,!=2.3.0,<3.0.0dev,>=1.31.5->google-api-python-client>=1.12.1->earthengine-api>=0.1.304->geemap) (1.56.4)\n",
      "Requirement already satisfied: google-crc32c<2.0dev,>=1.0 in /srv/conda/envs/notebook/lib/python3.10/site-packages (from google-resumable-media>=2.3.2->google-cloud-storage->earthengine-api>=0.1.304->geemap) (1.1.2)\n",
      "Requirement already satisfied: parso<0.9.0,>=0.8.0 in /srv/conda/envs/notebook/lib/python3.10/site-packages (from jedi>=0.16->ipython>=4.0.0->ipywidgets<8.0.0->geemap) (0.8.3)\n",
      "Requirement already satisfied: argon2-cffi in /srv/conda/envs/notebook/lib/python3.10/site-packages (from notebook>=4.4.1->widgetsnbextension~=3.6.0->ipywidgets<8.0.0->geemap) (21.3.0)\n",
      "Requirement already satisfied: terminado>=0.8.3 in /srv/conda/envs/notebook/lib/python3.10/site-packages (from notebook>=4.4.1->widgetsnbextension~=3.6.0->ipywidgets<8.0.0->geemap) (0.15.0)\n",
      "Requirement already satisfied: prometheus-client in /srv/conda/envs/notebook/lib/python3.10/site-packages (from notebook>=4.4.1->widgetsnbextension~=3.6.0->ipywidgets<8.0.0->geemap) (0.14.1)\n",
      "Requirement already satisfied: Send2Trash>=1.8.0 in /srv/conda/envs/notebook/lib/python3.10/site-packages (from notebook>=4.4.1->widgetsnbextension~=3.6.0->ipywidgets<8.0.0->geemap) (1.8.0)\n",
      "Requirement already satisfied: nbformat in /srv/conda/envs/notebook/lib/python3.10/site-packages (from notebook>=4.4.1->widgetsnbextension~=3.6.0->ipywidgets<8.0.0->geemap) (5.5.0)\n",
      "Requirement already satisfied: nbconvert>=5 in /srv/conda/envs/notebook/lib/python3.10/site-packages (from notebook>=4.4.1->widgetsnbextension~=3.6.0->ipywidgets<8.0.0->geemap) (6.5.3)\n",
      "Requirement already satisfied: ptyprocess>=0.5 in /srv/conda/envs/notebook/lib/python3.10/site-packages (from pexpect>4.3->ipython>=4.0.0->ipywidgets<8.0.0->geemap) (0.7.0)\n",
      "Requirement already satisfied: wcwidth in /srv/conda/envs/notebook/lib/python3.10/site-packages (from prompt-toolkit<3.1.0,>3.0.1->ipython>=4.0.0->ipywidgets<8.0.0->geemap) (0.2.5)\n",
      "Requirement already satisfied: pyasn1<0.5.0,>=0.4.6 in /srv/conda/envs/notebook/lib/python3.10/site-packages (from pyasn1-modules>=0.2.1->google-auth>=1.4.1->earthengine-api>=0.1.304->geemap) (0.4.8)\n",
      "Requirement already satisfied: asttokens in /srv/conda/envs/notebook/lib/python3.10/site-packages (from stack-data->ipython>=4.0.0->ipywidgets<8.0.0->geemap) (2.0.8)\n",
      "Requirement already satisfied: executing in /srv/conda/envs/notebook/lib/python3.10/site-packages (from stack-data->ipython>=4.0.0->ipywidgets<8.0.0->geemap) (1.0.0)\n",
      "Requirement already satisfied: pure-eval in /srv/conda/envs/notebook/lib/python3.10/site-packages (from stack-data->ipython>=4.0.0->ipywidgets<8.0.0->geemap) (0.2.2)\n",
      "Requirement already satisfied: cffi>=1.0.0 in /srv/conda/envs/notebook/lib/python3.10/site-packages (from google-crc32c<2.0dev,>=1.0->google-resumable-media>=2.3.2->google-cloud-storage->earthengine-api>=0.1.304->geemap) (1.15.1)\n",
      "Requirement already satisfied: nbclient>=0.5.0 in /srv/conda/envs/notebook/lib/python3.10/site-packages (from nbconvert>=5->notebook>=4.4.1->widgetsnbextension~=3.6.0->ipywidgets<8.0.0->geemap) (0.5.13)\n",
      "Requirement already satisfied: lxml in /srv/conda/envs/notebook/lib/python3.10/site-packages (from nbconvert>=5->notebook>=4.4.1->widgetsnbextension~=3.6.0->ipywidgets<8.0.0->geemap) (4.9.1)\n",
      "Requirement already satisfied: pandocfilters>=1.4.1 in /srv/conda/envs/notebook/lib/python3.10/site-packages (from nbconvert>=5->notebook>=4.4.1->widgetsnbextension~=3.6.0->ipywidgets<8.0.0->geemap) (1.5.0)\n",
      "Requirement already satisfied: bleach in /srv/conda/envs/notebook/lib/python3.10/site-packages (from nbconvert>=5->notebook>=4.4.1->widgetsnbextension~=3.6.0->ipywidgets<8.0.0->geemap) (5.0.1)\n",
      "Requirement already satisfied: defusedxml in /srv/conda/envs/notebook/lib/python3.10/site-packages (from nbconvert>=5->notebook>=4.4.1->widgetsnbextension~=3.6.0->ipywidgets<8.0.0->geemap) (0.7.1)\n",
      "Requirement already satisfied: mistune<2,>=0.8.1 in /srv/conda/envs/notebook/lib/python3.10/site-packages (from nbconvert>=5->notebook>=4.4.1->widgetsnbextension~=3.6.0->ipywidgets<8.0.0->geemap) (0.8.4)\n",
      "Requirement already satisfied: jupyterlab-pygments in /srv/conda/envs/notebook/lib/python3.10/site-packages (from nbconvert>=5->notebook>=4.4.1->widgetsnbextension~=3.6.0->ipywidgets<8.0.0->geemap) (0.2.2)\n",
      "Requirement already satisfied: tinycss2 in /srv/conda/envs/notebook/lib/python3.10/site-packages (from nbconvert>=5->notebook>=4.4.1->widgetsnbextension~=3.6.0->ipywidgets<8.0.0->geemap) (1.1.1)\n",
      "Requirement already satisfied: fastjsonschema in /srv/conda/envs/notebook/lib/python3.10/site-packages (from nbformat->notebook>=4.4.1->widgetsnbextension~=3.6.0->ipywidgets<8.0.0->geemap) (2.16.1)\n",
      "Requirement already satisfied: jsonschema>=2.6 in /srv/conda/envs/notebook/lib/python3.10/site-packages (from nbformat->notebook>=4.4.1->widgetsnbextension~=3.6.0->ipywidgets<8.0.0->geemap) (4.16.0)\n",
      "Requirement already satisfied: argon2-cffi-bindings in /srv/conda/envs/notebook/lib/python3.10/site-packages (from argon2-cffi->notebook>=4.4.1->widgetsnbextension~=3.6.0->ipywidgets<8.0.0->geemap) (21.2.0)\n",
      "Requirement already satisfied: pycparser in /srv/conda/envs/notebook/lib/python3.10/site-packages (from cffi>=1.0.0->google-crc32c<2.0dev,>=1.0->google-resumable-media>=2.3.2->google-cloud-storage->earthengine-api>=0.1.304->geemap) (2.21)\n",
      "Requirement already satisfied: pyrsistent!=0.17.0,!=0.17.1,!=0.17.2,>=0.14.0 in /srv/conda/envs/notebook/lib/python3.10/site-packages (from jsonschema>=2.6->nbformat->notebook>=4.4.1->widgetsnbextension~=3.6.0->ipywidgets<8.0.0->geemap) (0.18.1)\n",
      "Requirement already satisfied: attrs>=17.4.0 in /srv/conda/envs/notebook/lib/python3.10/site-packages (from jsonschema>=2.6->nbformat->notebook>=4.4.1->widgetsnbextension~=3.6.0->ipywidgets<8.0.0->geemap) (22.1.0)\n",
      "Requirement already satisfied: webencodings in /srv/conda/envs/notebook/lib/python3.10/site-packages (from bleach->nbconvert>=5->notebook>=4.4.1->widgetsnbextension~=3.6.0->ipywidgets<8.0.0->geemap) (0.5.1)\n",
      "Installing collected packages: pyperclip, logzero, uritemplate, ratelim, plotly, httplib2, ffmpeg-python, geocoder, google-auth-httplib2, google-api-python-client, earthengine-api, geeadd, eerepr, ee-extra, sankee, geemap\n",
      "Successfully installed earthengine-api-0.1.346 ee-extra-0.0.15 eerepr-0.0.4 ffmpeg-python-0.2.0 geeadd-0.5.6 geemap-0.20.3 geocoder-1.38.1 google-api-python-client-2.82.0 google-auth-httplib2-0.1.0 httplib2-0.22.0 logzero-1.7.0 plotly-5.13.1 pyperclip-1.8.2 ratelim-0.1.6 sankee-0.2.3 uritemplate-4.1.1\n"
     ]
    }
   ],
   "source": [
    "!pip install geemap"
   ]
  },
  {
   "cell_type": "markdown",
   "id": "6932107b",
   "metadata": {},
   "source": [
    "# How to find out the greenest day of the year"
   ]
  },
  {
   "cell_type": "markdown",
   "id": "7e32a063",
   "metadata": {},
   "source": [
    "## Import libraries"
   ]
  },
  {
   "cell_type": "code",
   "execution_count": 1,
   "id": "fcc0f8e2",
   "metadata": {},
   "outputs": [],
   "source": [
    "import ee\n",
    "import geemap"
   ]
  },
  {
   "cell_type": "code",
   "execution_count": 2,
   "id": "edacccf7-0798-468c-868d-758779f18396",
   "metadata": {},
   "outputs": [],
   "source": [
    "# ee.Authenticate()\n",
    "\n",
    "# Initialize the library.\n",
    "ee.Initialize()"
   ]
  },
  {
   "cell_type": "markdown",
   "id": "03cd99cd",
   "metadata": {},
   "source": [
    "\n",
    "## Create an interactive map"
   ]
  },
  {
   "cell_type": "markdown",
   "id": "2d305c40",
   "metadata": {},
   "source": [
    "## Define a region of interest (ROI)"
   ]
  },
  {
   "cell_type": "code",
   "execution_count": 3,
   "id": "f40680c0-4998-4c4c-b137-be8e581e8abf",
   "metadata": {},
   "outputs": [
    {
     "data": {
      "application/vnd.jupyter.widget-view+json": {
       "model_id": "a7b4afc76694481cbac1e3d498f1e1f2",
       "version_major": 2,
       "version_minor": 0
      },
      "text/plain": [
       "Map(center=[37.86750755001927, -122.27206838015456], controls=(WidgetControl(options=['position', 'transparent…"
      ]
     },
     "metadata": {},
     "output_type": "display_data"
    }
   ],
   "source": [
    "Map = geemap.Map(center=[37.86750755001927, -122.27206838015456], zoom=8)\n",
    "Map"
   ]
  },
  {
   "cell_type": "markdown",
   "id": "ae4d9622-92b4-4c1f-a6d8-e8e5d8daebde",
   "metadata": {},
   "source": [
    "Now manually draw an ROI using one of the tools in the map above"
   ]
  },
  {
   "cell_type": "code",
   "execution_count": 4,
   "id": "b2f2a887",
   "metadata": {},
   "outputs": [],
   "source": [
    "roi = ee.FeatureCollection(Map.draw_features)\n",
    "Map.addLayer(roi, {}, 'roi')\n",
    "Map.centerObject(roi,8)"
   ]
  },
  {
   "cell_type": "markdown",
   "id": "7f1cec8f-f795-44a9-9c4b-12ee64dc4b25",
   "metadata": {},
   "source": [
    "## Date of interest"
   ]
  },
  {
   "cell_type": "code",
   "execution_count": 180,
   "id": "c4e912c2-237e-4d8a-94f9-37f65177c09c",
   "metadata": {},
   "outputs": [
    {
     "data": {
      "text/plain": [
       "1656028800000"
      ]
     },
     "metadata": {},
     "output_type": "display_data"
    },
    {
     "data": {
      "text/plain": [
       "1624579200000"
      ]
     },
     "metadata": {},
     "output_type": "display_data"
    },
    {
     "data": {
      "text/plain": [
       "1624579200.0"
      ]
     },
     "execution_count": 180,
     "metadata": {},
     "output_type": "execute_result"
    }
   ],
   "source": [
    "DOI = ee.Date('2022-06-24')\n",
    "display(DOI.getInfo()['value'])\n",
    "\n",
    "DOI2 = ee.Date('2021-06-25')\n",
    "display(DOI2.getInfo()['value'])\n",
    "\n",
    "#Calculate absolute difference\n",
    "deltaDays = DOI2.difference(DOI, 'days').abs()\n",
    "deltaDays.getInfo()\n",
    "\n",
    "abs(ee.Date(DOI2).getInfo()['value']/1000)\n",
    "\n",
    "# delta\n",
    "# diff_2 = DATE_1.difference(DATE_2, 'weeks').getInfo()\n",
    "# delta = DOI.getInfo()['value'] - DOI.getInfo()['value']"
   ]
  },
  {
   "cell_type": "code",
   "execution_count": 113,
   "id": "64e95238-beef-4310-8a97-97f051665f77",
   "metadata": {},
   "outputs": [],
   "source": [
    "def addDeltaSeconds(image):\n",
    "    img_s = image.date().millis() #extract value in ms \n",
    "    #Subtract to get difference, take absolute, then negate (because qualityMosaic only does ascending), then convert to seconds\n",
    "    deltaSeconds = DOI.millis().subtract(img_s).abs().multiply(ee.Number(-1)).divide(ee.Number(1000)).toInt()\n",
    "\n",
    "    return image.addBands(ee.Image(deltaSeconds).rename('deltaS').toInt())"
   ]
  },
  {
   "cell_type": "code",
   "execution_count": 114,
   "id": "2abc15d2-5526-47f5-8a91-88ab2ff928ed",
   "metadata": {
    "tags": []
   },
   "outputs": [],
   "source": [
    "withDelta = s2Col.map(addDeltaSeconds)"
   ]
  },
  {
   "cell_type": "code",
   "execution_count": 86,
   "id": "84fd6ca3-e7b6-4dc0-b514-0d5e9b0352ae",
   "metadata": {},
   "outputs": [],
   "source": [
    "def addDeltaDays(image):\n",
    "    img_date = ee.Date(image.date())\n",
    "    deltaDays = ee.Number(DOI.difference(img_date, 'days').abs())\n",
    "    # img_date = ee.Number.parse(img_date.format('YYYYMMdd'))\n",
    "    return image.addBands(ee.Image(deltaDays).rename('delta').toInt())"
   ]
  },
  {
   "cell_type": "code",
   "execution_count": 87,
   "id": "af9a8dc3-be1c-4eed-a7d9-782698ff3cf2",
   "metadata": {},
   "outputs": [],
   "source": [
    "withDelta = s2Col.map(addDeltaDays)"
   ]
  },
  {
   "cell_type": "markdown",
   "id": "cb8d4be6",
   "metadata": {
    "tags": []
   },
   "source": [
    "## Create a quality mosaic\n",
    "\n",
    "Adapted from [this GEE tutorial](https://developers.google.com/earth-engine/tutorials/community/sentinel-2-s2cloudless)"
   ]
  },
  {
   "cell_type": "code",
   "execution_count": 116,
   "id": "133bde7a-94b5-47c5-a3a5-25788e687d05",
   "metadata": {},
   "outputs": [],
   "source": [
    "newest = withDelta.qualityMosaic('deltaS')\n",
    "\n",
    "\n",
    "Map.addLayer(newest, visParams, 'Newest')"
   ]
  },
  {
   "cell_type": "markdown",
   "id": "c288efad",
   "metadata": {},
   "source": [
    "## Same thing, but with a cloud mask"
   ]
  },
  {
   "cell_type": "code",
   "execution_count": 10,
   "id": "da0466a8-530c-4f8a-8ec1-149655c03335",
   "metadata": {},
   "outputs": [],
   "source": [
    "s2Col = (\n",
    "    ee.ImageCollection('COPERNICUS/S2_SR_HARMONIZED')\n",
    "    .filterDate(start_date, end_date)\n",
    "    .filterBounds(roi)\n",
    "    .filterMetadata('CLOUDY_PIXEL_PERCENTAGE', 'less_than', 10)\n",
    ")\n",
    "vis_params = {\"min\": 0, \"max\": 4000, \"bands\": [\"B5\", \"B4\", \"B3\"]}\n",
    "\n",
    "Map.addLayer(s2Col, vis_params, \"S2\", True)"
   ]
  },
  {
   "cell_type": "markdown",
   "id": "0558b050-2f51-4f12-85ef-0c82f37631ff",
   "metadata": {},
   "source": [
    "# QualityMosaic with single param, but masking clouds\n",
    "\n",
    "Quality moscaic is based on date distance from DOI, and clouds are masked"
   ]
  },
  {
   "cell_type": "markdown",
   "id": "a902f4ac-6ccd-4a34-97c4-b1e2e244c882",
   "metadata": {},
   "source": [
    "## Set hyperparams"
   ]
  },
  {
   "cell_type": "code",
   "execution_count": 5,
   "id": "b7a28d2c-bc1c-4675-841a-cadc138665af",
   "metadata": {},
   "outputs": [],
   "source": [
    "START_DATE = '2022-01-01'\n",
    "END_DATE = '2022-12-31'\n",
    "DOI = ee.Date('2022-06-24')\n",
    "CLOUD_FILTER = 10\n",
    "CLD_PRB_THRESH = 20\n",
    "NIR_DRK_THRESH = 0.15\n",
    "CLD_PRJ_DIST = 1\n",
    "BUFFER = 50 #m"
   ]
  },
  {
   "cell_type": "code",
   "execution_count": 6,
   "id": "435fb983-8d3c-451b-b29f-ae46f3f40fa9",
   "metadata": {},
   "outputs": [],
   "source": [
    "def get_s2_sr_cld_col(aoi, start_date, end_date):\n",
    "    # Import and filter S2 SR.\n",
    "    s2_sr_col = (ee.ImageCollection('COPERNICUS/S2_SR_HARMONIZED')\n",
    "        .filterBounds(aoi)\n",
    "        .filterDate(start_date, end_date)\n",
    "        .filter(ee.Filter.lte('CLOUDY_PIXEL_PERCENTAGE', CLOUD_FILTER)))\n",
    "\n",
    "    # Import and filter s2cloudless.\n",
    "    s2_cloudless_col = (ee.ImageCollection('COPERNICUS/S2_CLOUD_PROBABILITY')\n",
    "        .filterBounds(aoi)\n",
    "        .filterDate(start_date, end_date))\n",
    "\n",
    "    # Join the filtered s2cloudless collection to the SR collection by the 'system:index' property.\n",
    "    return ee.ImageCollection(ee.Join.saveFirst('s2cloudless').apply(**{\n",
    "        'primary': s2_sr_col,\n",
    "        'secondary': s2_cloudless_col,\n",
    "        'condition': ee.Filter.equals(**{\n",
    "            'leftField': 'system:index',\n",
    "            'rightField': 'system:index'\n",
    "        })\n",
    "    }))"
   ]
  },
  {
   "cell_type": "code",
   "execution_count": 7,
   "id": "bce590a7-fdb8-4647-a214-4fb28a430c66",
   "metadata": {},
   "outputs": [],
   "source": [
    "def add_cloud_bands(img):\n",
    "    # Get s2cloudless image, subset the probability band.\n",
    "    cld_prb = ee.Image(img.get('s2cloudless')).select('probability').rename('prob')\n",
    "\n",
    "    # Condition s2cloudless by the probability threshold value.\n",
    "    is_cloud = cld_prb.gt(CLD_PRB_THRESH).rename('clouds')\n",
    "\n",
    "    # Add the cloud probability layer and cloud mask as image bands.\n",
    "    return img.addBands(ee.Image([cld_prb, is_cloud]))"
   ]
  },
  {
   "cell_type": "code",
   "execution_count": 8,
   "id": "f003dd47-f822-4962-af80-0083a9a7f27e",
   "metadata": {},
   "outputs": [],
   "source": [
    "def add_shadow_bands(img):\n",
    "    # Identify water pixels from the SCL band.\n",
    "    not_water = img.select('SCL').neq(6)\n",
    "\n",
    "    # Identify dark NIR pixels that are not water (potential cloud shadow pixels).\n",
    "    SR_BAND_SCALE = 1e4\n",
    "    dark_pixels = img.select('B8').lt(NIR_DRK_THRESH*SR_BAND_SCALE).multiply(not_water).rename('dark_pixels')\n",
    "\n",
    "    # Determine the direction to project cloud shadow from clouds (assumes UTM projection).\n",
    "    shadow_azimuth = ee.Number(90).subtract(ee.Number(img.get('MEAN_SOLAR_AZIMUTH_ANGLE')));\n",
    "\n",
    "    # Project shadows from clouds for the distance specified by the CLD_PRJ_DIST input.\n",
    "    cld_proj = (img.select('clouds').directionalDistanceTransform(shadow_azimuth, CLD_PRJ_DIST*10)\n",
    "        .reproject(**{'crs': img.select(0).projection(), 'scale': 100})\n",
    "        .select('distance')\n",
    "        .mask()\n",
    "        .rename('cloud_transform'))\n",
    "\n",
    "    # Identify the intersection of dark pixels with cloud shadow projection.\n",
    "    shadows = cld_proj.multiply(dark_pixels).rename('shadows')\n",
    "\n",
    "    # Add dark pixels, cloud projection, and identified shadows as image bands.\n",
    "    return img.addBands(ee.Image([dark_pixels, cld_proj, shadows]))"
   ]
  },
  {
   "cell_type": "code",
   "execution_count": 9,
   "id": "0f6808db-2641-43c7-bb48-e988bd9e9bbe",
   "metadata": {},
   "outputs": [],
   "source": [
    "def add_cld_shdw_mask(img):\n",
    "    # Add cloud component bands.\n",
    "    img_cloud = add_cloud_bands(img)\n",
    "\n",
    "    # Add cloud shadow component bands.\n",
    "    img_cloud_shadow = add_shadow_bands(img_cloud)\n",
    "\n",
    "    # Combine cloud and shadow mask, set cloud and shadow as value 1, else 0.\n",
    "    is_cld_shdw = img_cloud_shadow.select('clouds').add(img_cloud_shadow.select('shadows')).gt(0)\n",
    "\n",
    "    # Remove small cloud-shadow patches and dilate remaining pixels by BUFFER input.\n",
    "    # 20 m scale is for speed, and assumes clouds don't require 10 m precision.\n",
    "    is_cld_shdw = (is_cld_shdw.focalMin(2).focalMax(BUFFER*2/20)\n",
    "        .reproject(**{'crs': img.select([0]).projection(), 'scale': 20})\n",
    "        .rename('cloudmask'))\n",
    "\n",
    "    # Add the final cloud-shadow mask to the image.\n",
    "    # return img_cloud_shadow.addBands(is_cld_shdw)\n",
    "    return img.addBands(is_cld_shdw)"
   ]
  },
  {
   "cell_type": "markdown",
   "id": "90260674-dd19-4beb-a0c4-595225bbc4f1",
   "metadata": {},
   "source": [
    "## Apply the cloud and shadow masks"
   ]
  },
  {
   "cell_type": "code",
   "execution_count": 184,
   "id": "7a242351-af54-4ef2-8349-264be349abdb",
   "metadata": {},
   "outputs": [],
   "source": [
    "s2_cld_col = get_s2_sr_cld_col(roi, START_DATE, END_DATE)"
   ]
  },
  {
   "cell_type": "code",
   "execution_count": 147,
   "id": "d1910a51-d186-4185-9b3a-7f4208328665",
   "metadata": {},
   "outputs": [],
   "source": [
    "s2_cld_col_disp = s2_cld_col.map(add_cld_shdw_mask)"
   ]
  },
  {
   "cell_type": "code",
   "execution_count": 15,
   "id": "6f7a8a16-c0ef-4e54-9358-686b81fa32f6",
   "metadata": {},
   "outputs": [],
   "source": [
    "s2_cld_col = get_s2_sr_cld_col(roi, START_DATE, END_DATE)"
   ]
  },
  {
   "cell_type": "code",
   "execution_count": 16,
   "id": "04902f5f-b0ca-43d4-85ff-10b67080c63b",
   "metadata": {},
   "outputs": [
    {
     "ename": "NameError",
     "evalue": "name 's2_cld_col_disp' is not defined",
     "output_type": "error",
     "traceback": [
      "\u001b[0;31m---------------------------------------------------------------------------\u001b[0m",
      "\u001b[0;31mNameError\u001b[0m                                 Traceback (most recent call last)",
      "Cell \u001b[0;32mIn [16], line 1\u001b[0m\n\u001b[0;32m----> 1\u001b[0m withDelta_cld \u001b[38;5;241m=\u001b[39m \u001b[43ms2_cld_col_disp\u001b[49m\u001b[38;5;241m.\u001b[39mmap(addDeltaSeconds)\n\u001b[1;32m      2\u001b[0m newest_cld \u001b[38;5;241m=\u001b[39m withDelta_cld\u001b[38;5;241m.\u001b[39mqualityMosaic(\u001b[38;5;124m'\u001b[39m\u001b[38;5;124mdeltaS\u001b[39m\u001b[38;5;124m'\u001b[39m)\n",
      "\u001b[0;31mNameError\u001b[0m: name 's2_cld_col_disp' is not defined"
     ]
    }
   ],
   "source": [
    "withDelta_cld = s2_cld_col_disp.map(addDeltaSeconds)\n",
    "newest_cld = withDelta_cld.qualityMosaic('deltaS')"
   ]
  },
  {
   "cell_type": "code",
   "execution_count": 149,
   "id": "c75f72b3-9889-43de-b3d5-d3856479e6be",
   "metadata": {},
   "outputs": [],
   "source": [
    "vis_params = {\"min\": 0, \"max\": 4000, \"bands\": [\"B5\", \"B4\", \"B3\"]}\n",
    "\n",
    "Map.addLayer(newest_cld.select('cloudmask').selfMask(), {'palette': ['gold']}, 'cloudmask', True)"
   ]
  },
  {
   "cell_type": "markdown",
   "id": "bc5ef914-fd8d-417d-8850-2168c30e9446",
   "metadata": {},
   "source": [
    "# QualityMosaic with multiple params\n",
    "\n",
    "Combine Cloud probability with number of days into a single metric called FScore that is then applied to the qualityMosaic function"
   ]
  },
  {
   "cell_type": "code",
   "execution_count": 12,
   "id": "7e63e73d-3eee-409e-9f6b-ce08ee683fed",
   "metadata": {},
   "outputs": [],
   "source": [
    "s2_cld_col = get_s2_sr_cld_col(roi, START_DATE, END_DATE)\n",
    "visParams = {\"min\": 0, \"max\": 4000, \"bands\": [\"B5\", \"B4\", \"B3\"]}\n",
    "Map.addLayer(s2_cld_col, visParams, 'col')"
   ]
  },
  {
   "cell_type": "code",
   "execution_count": 13,
   "id": "1c73b840-6cba-4bf0-91bf-13022645e272",
   "metadata": {},
   "outputs": [],
   "source": [
    "K = 1000\n",
    "OFFSET = -0.5\n",
    "MULT = 100"
   ]
  },
  {
   "cell_type": "code",
   "execution_count": 19,
   "id": "42398c76-7a9b-48ed-ade3-7acfb41a9faf",
   "metadata": {},
   "outputs": [],
   "source": [
    "def addDate(image):\n",
    "    # img_date = ee.Date(image.date())\n",
    "    # img_date = ee.Number.parse(img_date.format('YYYYMMdd'))\n",
    "    # img_s =  #extract value in ms \n",
    "    #Subtract to get difference, take absolute, then negate (because qualityMosaic only does ascending), then convert to days\n",
    "    deltaDays = DOI.millis().subtract(image.date().millis()).abs().divide(ee.Number(8.64e+7)).toInt()\n",
    "    return image.addBands(ee.Image(deltaDays).rename('date').toInt())"
   ]
  },
  {
   "cell_type": "code",
   "execution_count": 14,
   "id": "abfdc5c3-31aa-4adb-b3f6-ce4486e4c798",
   "metadata": {},
   "outputs": [],
   "source": [
    "def addFScore(image):\n",
    "    # img_cloud = add_cloud_bands(image) #now it had a band called 'prob'\n",
    "    image = add_cloud_bands(image)\n",
    "    \n",
    "    #Subtract to get difference, take absolute, then negate (because qualityMosaic only does ascending), then convert to days\n",
    "    deltaDays = DOI.millis().subtract(image.date().millis()).abs().divide(ee.Number(8.64e+7)).toInt()\n",
    "    image = image.addBands(ee.Image(deltaDays).rename('delta').toInt())\n",
    "    \n",
    "    # image.addBands(ee.Image(deltaDays)).rename('deltaDays')\n",
    "    # image = image.addBands(ee.Image(deltaDays).rename('delta'))\n",
    "    prob = image.select('prob').divide(100)\n",
    "    # image.addBands(prob).rename('prob')\n",
    "    \n",
    "    x = ee.Image(deltaDays.add(1).log10()).add(1).multiply(ee.Image(K).pow(prob.add(ee.Number(OFFSET)))).multiply(ee.Image(MULT))\n",
    "    # x = ee.Image(deltaDays.log10()).toInt64().multiply(-1)\n",
    "    return image.addBands(x.multiply(ee.Number(-1)).rename('FScore'))#.addBands(prob)\n",
    "\n",
    "#     #Calculate F score\n",
    "#     fScore = deltaDays.log10().add(1).multiply(ee.Number(K).pow(prob.add(ee.Number(OFFSET)))).multiply(MULT).toInt()\n",
    "    \n",
    "    \n",
    "#     return image.addBands(ee.Image(fScore).rename('FScore'))\n"
   ]
  },
  {
   "cell_type": "code",
   "execution_count": 15,
   "id": "5130cfcc-871a-4dcc-b44a-5d64c93df0da",
   "metadata": {},
   "outputs": [],
   "source": [
    "witFScore = s2_cld_col.map(addFScore)\n",
    "\n",
    "newest_cldprob = witFScore.qualityMosaic('FScore')\n",
    "# newest_cldprob = witFScore.qualityMosaic('prob')"
   ]
  },
  {
   "cell_type": "code",
   "execution_count": 16,
   "id": "b8471faf-b7d4-4c4f-85ab-e7aa7bfbc54b",
   "metadata": {},
   "outputs": [
    {
     "data": {
      "text/plain": [
       "['B1',\n",
       " 'B2',\n",
       " 'B3',\n",
       " 'B4',\n",
       " 'B5',\n",
       " 'B6',\n",
       " 'B7',\n",
       " 'B8',\n",
       " 'B8A',\n",
       " 'B9',\n",
       " 'B11',\n",
       " 'B12',\n",
       " 'AOT',\n",
       " 'WVP',\n",
       " 'SCL',\n",
       " 'TCI_R',\n",
       " 'TCI_G',\n",
       " 'TCI_B',\n",
       " 'MSK_CLDPRB',\n",
       " 'MSK_SNWPRB',\n",
       " 'QA10',\n",
       " 'QA20',\n",
       " 'QA60',\n",
       " 'prob',\n",
       " 'clouds',\n",
       " 'delta',\n",
       " 'FScore']"
      ]
     },
     "execution_count": 16,
     "metadata": {},
     "output_type": "execute_result"
    }
   ],
   "source": [
    "newest_cldprob.bandNames().getInfo()"
   ]
  },
  {
   "cell_type": "code",
   "execution_count": 17,
   "id": "fe4d994b-6fc1-4b32-b32d-175859dbaac2",
   "metadata": {},
   "outputs": [],
   "source": [
    "visParams = {\n",
    "    'bands': ['B4', 'B3', 'B2'],\n",
    "    'min': 0,\n",
    "    'max': 4000,\n",
    "}\n",
    "Map.addLayer(newest_cldprob, visParams, 'FScore')"
   ]
  },
  {
   "cell_type": "code",
   "execution_count": 18,
   "id": "685fd43d-0036-4c6b-bd0e-d198f4dec438",
   "metadata": {},
   "outputs": [
    {
     "ename": "NameError",
     "evalue": "name 'addDate' is not defined",
     "output_type": "error",
     "traceback": [
      "\u001b[0;31m---------------------------------------------------------------------------\u001b[0m",
      "\u001b[0;31mNameError\u001b[0m                                 Traceback (most recent call last)",
      "Cell \u001b[0;32mIn [18], line 1\u001b[0m\n\u001b[0;32m----> 1\u001b[0m withDate \u001b[38;5;241m=\u001b[39m s2_cld_col\u001b[38;5;241m.\u001b[39mmap(\u001b[43maddDate\u001b[49m)\u001b[38;5;241m.\u001b[39mmosaic()\n\u001b[1;32m      2\u001b[0m Map\u001b[38;5;241m.\u001b[39maddLayer(withDate, visParams, \u001b[38;5;124m'\u001b[39m\u001b[38;5;124mDate\u001b[39m\u001b[38;5;124m'\u001b[39m)\n",
      "\u001b[0;31mNameError\u001b[0m: name 'addDate' is not defined"
     ]
    }
   ],
   "source": [
    "withDate = s2_cld_col.map(addDate).mosaic()\n",
    "Map.addLayer(withDate, visParams, 'Date')"
   ]
  },
  {
   "cell_type": "code",
   "execution_count": 93,
   "id": "2720cf86-928d-482f-b15d-b27c19f6aa34",
   "metadata": {},
   "outputs": [
    {
     "data": {
      "text/plain": [
       "['B1',\n",
       " 'B2',\n",
       " 'B3',\n",
       " 'B4',\n",
       " 'B5',\n",
       " 'B6',\n",
       " 'B7',\n",
       " 'B8',\n",
       " 'B8A',\n",
       " 'B9',\n",
       " 'B11',\n",
       " 'B12',\n",
       " 'AOT',\n",
       " 'WVP',\n",
       " 'SCL',\n",
       " 'TCI_R',\n",
       " 'TCI_G',\n",
       " 'TCI_B',\n",
       " 'MSK_CLDPRB',\n",
       " 'MSK_SNWPRB',\n",
       " 'QA10',\n",
       " 'QA20',\n",
       " 'QA60',\n",
       " 'date']"
      ]
     },
     "execution_count": 93,
     "metadata": {},
     "output_type": "execute_result"
    }
   ],
   "source": [
    "withDate.bandNames().getInfo()"
   ]
  }
 ],
 "metadata": {
  "kernelspec": {
   "display_name": "Python 3.9.13 ('spatial')",
   "language": "python",
   "name": "python3"
  },
  "language_info": {
   "codemirror_mode": {
    "name": "ipython",
    "version": 3
   },
   "file_extension": ".py",
   "mimetype": "text/x-python",
   "name": "python",
   "nbconvert_exporter": "python",
   "pygments_lexer": "ipython3",
   "version": "3.9.13"
  },
  "vscode": {
   "interpreter": {
    "hash": "5732626a8aaf2198f11daca77bbcf475b5c9493938fe45fba19f6e8607b1276e"
   }
  }
 },
 "nbformat": 4,
 "nbformat_minor": 5
}
