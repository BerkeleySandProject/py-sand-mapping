{
 "cells": [
  {
   "cell_type": "code",
   "execution_count": 1,
   "metadata": {},
   "outputs": [],
   "source": [
    "import geemap, ee"
   ]
  },
  {
   "cell_type": "code",
   "execution_count": 2,
   "metadata": {},
   "outputs": [],
   "source": [
    "#Uncomment this when running for the first time and/or if the map doesnt render\n",
    "# ee.Authenticate()\n",
    "# Initialize the library.\n",
    "ee.Initialize()"
   ]
  },
  {
   "cell_type": "code",
   "execution_count": 3,
   "metadata": {},
   "outputs": [],
   "source": [
    "%load_ext autoreload\n",
    "%autoreload 2\n",
    "import sys  \n",
    "sys.path.insert(0, '../lib/')"
   ]
  },
  {
   "cell_type": "markdown",
   "metadata": {},
   "source": [
    "This bit is needed if you're making changes to the qm lib file and want to reload it live"
   ]
  },
  {
   "cell_type": "code",
   "execution_count": 4,
   "metadata": {},
   "outputs": [],
   "source": [
    "%reload_ext autoreload\n",
    "import quality_mosaic as qm"
   ]
  },
  {
   "cell_type": "markdown",
   "metadata": {},
   "source": [
    "# Choose date and location"
   ]
  },
  {
   "cell_type": "markdown",
   "metadata": {},
   "source": [
    "## Define parameters"
   ]
  },
  {
   "cell_type": "code",
   "execution_count": 5,
   "metadata": {},
   "outputs": [],
   "source": [
    "lat, lon = 33.869066751,-118.405718865\n",
    "date = '2021-01-18'"
   ]
  },
  {
   "cell_type": "markdown",
   "metadata": {},
   "source": [
    "## Define Hyperparameters"
   ]
  },
  {
   "cell_type": "code",
   "execution_count": 6,
   "metadata": {},
   "outputs": [],
   "source": [
    "#define the total number of days before and after the date of interest you want to search``\n",
    "max_search_window_months = 6\n",
    "# define the number of days to median filtered S1 images\n",
    "s1_median_days = 6"
   ]
  },
  {
   "cell_type": "markdown",
   "metadata": {},
   "source": [
    "Convert to ee objects"
   ]
  },
  {
   "cell_type": "code",
   "execution_count": 7,
   "metadata": {},
   "outputs": [
    {
     "data": {
      "text/html": [
       "<div><style>:root {\n",
       "  --font-color-primary: var(--jp-content-font-color0, rgba(0, 0, 0, 1));\n",
       "  --font-color-secondary: var(--jp-content-font-color2, rgba(0, 0, 0, 0.6));\n",
       "  --font-color-accent: rgba(123, 31, 162, 1);\n",
       "  --border-color: var(--jp-border-color2, #e0e0e0);\n",
       "  --background-color: var(--jp-layout-color0, white);\n",
       "  --background-color-row-even: var(--jp-layout-color1, white);\n",
       "  --background-color-row-odd: var(--jp-layout-color2, #eeeeee);\n",
       "}\n",
       "\n",
       "html[theme=\"dark\"],\n",
       "body[data-theme=\"dark\"],\n",
       "body.vscode-dark {\n",
       "  --font-color-primary: rgba(255, 255, 255, 1);\n",
       "  --font-color-secondary: rgba(255, 255, 255, 0.6);\n",
       "  --font-color-accent: rgb(173, 132, 190);\n",
       "  --border-color: #2e2e2e;\n",
       "  --background-color: #111111;\n",
       "  --background-color-row-even: #111111;\n",
       "  --background-color-row-odd: #313131;\n",
       "}\n",
       "\n",
       ".ee {\n",
       "  padding: 1em;\n",
       "  line-height: 1.5em;\n",
       "  min-width: 300px;\n",
       "  max-width: 1200px;\n",
       "  overflow-y: scroll;\n",
       "  max-height: 600px;\n",
       "  border: 1px solid var(--border-color);\n",
       "  font-family: monospace;\n",
       "}\n",
       "\n",
       ".ee li {\n",
       "  list-style-type: none;\n",
       "}\n",
       "\n",
       ".ee ul {\n",
       "  padding-left: 1.5em !important;\n",
       "  margin: 0;\n",
       "}\n",
       "\n",
       ".ee > ul {\n",
       "  padding-left: 0 !important;\n",
       "}\n",
       "\n",
       ".ee-open,\n",
       ".ee-shut {\n",
       "  color: var(--font-color-secondary);\n",
       "  cursor: pointer;\n",
       "  margin: 0;\n",
       "}\n",
       "\n",
       ".ee-open:hover,\n",
       ".ee-shut:hover {\n",
       "  color: var(--font-color-primary);\n",
       "}\n",
       "\n",
       ".ee-k {\n",
       "  color: var(--font-color-accent);\n",
       "  margin-right: 6px;\n",
       "}\n",
       "\n",
       ".ee-v {\n",
       "  color: var(--font-color-primary);\n",
       "}\n",
       "\n",
       ".ee-toggle {\n",
       "  display: none;\n",
       "}\n",
       "\n",
       ".ee-shut + ul {\n",
       "  display: none;\n",
       "}\n",
       "\n",
       ".ee-open + ul {\n",
       "  display: block;\n",
       "}\n",
       "\n",
       ".ee-shut::before {\n",
       "  display: inline-block;\n",
       "  content: \"▼\";\n",
       "  margin-right: 6px;\n",
       "  transform: rotate(-90deg);\n",
       "  transition: transform 0.2s;\n",
       "}\n",
       "\n",
       ".ee-open::before {\n",
       "  transform: rotate(0deg);\n",
       "  display: inline-block;\n",
       "  content: \"▼\";\n",
       "  margin-right: 6px;\n",
       "  transition: transform 0.2s;\n",
       "}\n",
       "</style><div class='ee'><ul><li><label class='ee-shut'>Polygon (5 vertices)<input type='checkbox' class='ee-toggle'></label><ul><li><span class='ee-k'>type:</span><span class='ee-v'>Polygon</span></li><li><label class='ee-shut'>coordinates: List (1 element)<input type='checkbox' class='ee-toggle'></label><ul><li><label class='ee-shut'>0: List (5 elements)<input type='checkbox' class='ee-toggle'></label><ul><li><label class='ee-shut'>0: [-118.40582636197712, 33.86897679692235]<input type='checkbox' class='ee-toggle'></label><ul><li><span class='ee-k'>0:</span><span class='ee-v'>-118.40582636197712</span></li><li><span class='ee-k'>1:</span><span class='ee-v'>33.86897679692235</span></li></ul></li><li><label class='ee-shut'>1: [-118.40561102676183, 33.86897679692235]<input type='checkbox' class='ee-toggle'></label><ul><li><span class='ee-k'>0:</span><span class='ee-v'>-118.40561102676183</span></li><li><span class='ee-k'>1:</span><span class='ee-v'>33.86897679692235</span></li></ul></li><li><label class='ee-shut'>2: [-118.40561102676183, 33.869156739659545]<input type='checkbox' class='ee-toggle'></label><ul><li><span class='ee-k'>0:</span><span class='ee-v'>-118.40561102676183</span></li><li><span class='ee-k'>1:</span><span class='ee-v'>33.869156739659545</span></li></ul></li><li><label class='ee-shut'>3: [-118.40582636197712, 33.869156739659545]<input type='checkbox' class='ee-toggle'></label><ul><li><span class='ee-k'>0:</span><span class='ee-v'>-118.40582636197712</span></li><li><span class='ee-k'>1:</span><span class='ee-v'>33.869156739659545</span></li></ul></li><li><label class='ee-shut'>4: [-118.40582636197712, 33.86897679692235]<input type='checkbox' class='ee-toggle'></label><ul><li><span class='ee-k'>0:</span><span class='ee-v'>-118.40582636197712</span></li><li><span class='ee-k'>1:</span><span class='ee-v'>33.86897679692235</span></li></ul></li></ul></li></ul></li><li><span class='ee-k'>geodesic:</span><span class='ee-v'>False</span></li></ul></li></ul></div><script>function toggleHeader() {\n",
       "    const parent = this.parentElement;\n",
       "    parent.className = parent.className === \"ee-open\" ? \"ee-shut\" : \"ee-open\";\n",
       "}\n",
       "\n",
       "for (let c of document.getElementsByClassName(\"ee-toggle\")) {\n",
       "    c.onclick = toggleHeader;\n",
       "}</script></div>"
      ],
      "text/plain": [
       "ee.Geometry({\n",
       "  \"functionInvocationValue\": {\n",
       "    \"functionName\": \"Geometry.bounds\",\n",
       "    \"arguments\": {\n",
       "      \"geometry\": {\n",
       "        \"functionInvocationValue\": {\n",
       "          \"functionName\": \"Geometry.buffer\",\n",
       "          \"arguments\": {\n",
       "            \"distance\": {\n",
       "              \"constantValue\": 10\n",
       "            },\n",
       "            \"geometry\": {\n",
       "              \"functionInvocationValue\": {\n",
       "                \"functionName\": \"GeometryConstructors.Point\",\n",
       "                \"arguments\": {\n",
       "                  \"coordinates\": {\n",
       "                    \"constantValue\": [\n",
       "                      -118.405718865,\n",
       "                      33.869066751\n",
       "                    ]\n",
       "                  }\n",
       "                }\n",
       "              }\n",
       "            }\n",
       "          }\n",
       "        }\n",
       "      }\n",
       "    }\n",
       "  }\n",
       "})"
      ]
     },
     "execution_count": 7,
     "metadata": {},
     "output_type": "execute_result"
    }
   ],
   "source": [
    "point = ee.Geometry.Point([lon, lat])\n",
    "sample = point.buffer(10).bounds()\n",
    "roi = point.buffer(100).bounds()\n",
    "sample"
   ]
  },
  {
   "cell_type": "code",
   "execution_count": 8,
   "metadata": {},
   "outputs": [],
   "source": [
    "visParamsRGB = {\"min\": 0, \"max\": 4000, \"bands\": [\"B4\", \"B3\", \"B2\"]}\n",
    "visParamsVV  = {\"min\": -30, \"max\": 0, \"bands\": [\"VV\"]}\n",
    "\n",
    "visParamsFScore  = {\"min\": -50, \"max\": 0, \"bands\": [\"FScore\"]}\n",
    "\n",
    "green_blue_yellow_orange = ['#008080','#0039e6','#FFFF31','#f85d31']\n",
    "visParamsMTGSI  = {'min':-0.5, 'max':0.25, 'palette':green_blue_yellow_orange, 'bands':['mTGSI']}"
   ]
  },
  {
   "cell_type": "markdown",
   "metadata": {},
   "source": [
    "# Get mosaics for S1 and S2"
   ]
  },
  {
   "cell_type": "code",
   "execution_count": 9,
   "metadata": {},
   "outputs": [
    {
     "name": "stdout",
     "output_type": "stream",
     "text": [
      "Search window from 2020-07-18 to 2021-07-18\n"
     ]
    },
    {
     "data": {
      "text/plain": [
       "['B2',\n",
       " 'B3',\n",
       " 'B4',\n",
       " 'B8',\n",
       " 'B8A',\n",
       " 'B11',\n",
       " 'B12',\n",
       " 'VV',\n",
       " 'VH',\n",
       " 'mTGSI',\n",
       " 'BSI',\n",
       " 'NDWI']"
      ]
     },
     "execution_count": 9,
     "metadata": {},
     "output_type": "execute_result"
    }
   ],
   "source": [
    "s1_s2 = qm.get_s1_s2(roi=roi, date=date, max_search_window_months=6,s1_median_days=s1_median_days)\n",
    "s1_s2.bandNames().getInfo()"
   ]
  },
  {
   "cell_type": "markdown",
   "metadata": {},
   "source": [
    "# Show interactive map\n",
    "\n",
    "Add a marker manually if you want to change the location of the sample pointm"
   ]
  },
  {
   "cell_type": "code",
   "execution_count": 13,
   "metadata": {},
   "outputs": [
    {
     "data": {
      "application/vnd.jupyter.widget-view+json": {
       "model_id": "19086debbef9446d998b8dc1a4d0b34d",
       "version_major": 2,
       "version_minor": 0
      },
      "text/plain": [
       "Map(center=[33.869066767472795, -118.40571869467622], controls=(WidgetControl(options=['position', 'transparen…"
      ]
     },
     "metadata": {},
     "output_type": "display_data"
    }
   ],
   "source": [
    "Map = geemap.Map()\n",
    "Map.add_basemap('SATELLITE')\n",
    "Map.addLayer(s1_s2, visParamsRGB, 'qm_s2')\n",
    "Map.addLayer(s1_s2, visParamsVV, 's1')\n",
    "Map.addLayer(s1_s2,visParamsMTGSI , 'mTGSI')\n",
    "#Add the buffer around sampled point\n",
    "Map.addLayer(sample,\n",
    "             {'color':'green', 'opacity':0.4},\n",
    "             name='buffer')\n",
    "\n",
    "Map.add_marker([lat, lon],tooltip='sample', name='sample', draggable=False)\n",
    "Map.centerObject(sample, 20)\n",
    "\n",
    "Map"
   ]
  },
  {
   "cell_type": "code",
   "execution_count": 12,
   "metadata": {},
   "outputs": [],
   "source": [
    "# Map = geemap.Map()\n",
    "# left_layer = geemap.ee_tile_layer(s1_s2, visParamsRGB, 'S2')\n",
    "# right_layer = geemap.ee_tile_layer(s1_s2, visParamsMTGSI , 'mTGSI')\n",
    "\n",
    "# # Map.addLayer(s1_s2, visParamsMTGSI , 'mTGSI')\n",
    "# # Map.addLayer(s1_s2, visParamsVV, 's1', False)\n",
    "# # Map.addLayer(s1_s2, visParamsRGB, 'qm_s2')\n",
    "\n",
    "# Map.centerObject(sample, 18)\n",
    "# Map.add_basemap('SATELLITE')\n",
    "# Map.split_map(left_layer, right_layer)\n",
    "\n",
    "# #Add the buffer around sampled point\n",
    "# Map.addLayer(sample,\n",
    "#             {'color':'green', 'opacity':0.4},\n",
    "#             name='buffer')\n",
    "\n",
    "# Map.add_marker([lat, lon],tooltip='sample', name='sample', draggable=False)\n",
    "# Map"
   ]
  },
  {
   "cell_type": "markdown",
   "metadata": {},
   "source": [
    "### If you dropped a new pin, make sure to run this cell:"
   ]
  },
  {
   "cell_type": "code",
   "execution_count": 18,
   "metadata": {},
   "outputs": [],
   "source": [
    "if (Map.draw_last_feature is not None):\n",
    "    \n",
    "    Map.draw_last_feature.geometry().getInfo()['coordinates']\n",
    "    new_sample = Map.draw_last_feature.buffer(10).bounds()\n",
    "    Map.addLayer(new_sample,\n",
    "             {'color':'green', 'opacity':0.3},\n",
    "             name='new_buffer')\n",
    "    print(\"New Sampled Point: \", Map.draw_last_feature.geometry().getInfo()['coordinates'])"
   ]
  },
  {
   "cell_type": "markdown",
   "metadata": {},
   "source": [
    "### If you're happy with the location of the *most recent* pin, then run this cell:"
   ]
  },
  {
   "cell_type": "code",
   "execution_count": 33,
   "metadata": {},
   "outputs": [
    {
     "name": "stdout",
     "output_type": "stream",
     "text": [
      "[-118.405771, 33.869024]\n"
     ]
    }
   ],
   "source": [
    "#check if new_sample is defined\n",
    "try:\n",
    "    sample = new_sample.geometry()\n",
    "    #print the coordinates of the new pin\n",
    "    print(Map.draw_last_feature.geometry().getInfo()['coordinates'])\n",
    "except NameError:\n",
    "    print (\"You didnt drop a new marker\")\n"
   ]
  },
  {
   "cell_type": "code",
   "execution_count": 30,
   "metadata": {},
   "outputs": [
    {
     "data": {
      "text/html": [
       "<div><style>:root {\n",
       "  --font-color-primary: var(--jp-content-font-color0, rgba(0, 0, 0, 1));\n",
       "  --font-color-secondary: var(--jp-content-font-color2, rgba(0, 0, 0, 0.6));\n",
       "  --font-color-accent: rgba(123, 31, 162, 1);\n",
       "  --border-color: var(--jp-border-color2, #e0e0e0);\n",
       "  --background-color: var(--jp-layout-color0, white);\n",
       "  --background-color-row-even: var(--jp-layout-color1, white);\n",
       "  --background-color-row-odd: var(--jp-layout-color2, #eeeeee);\n",
       "}\n",
       "\n",
       "html[theme=\"dark\"],\n",
       "body[data-theme=\"dark\"],\n",
       "body.vscode-dark {\n",
       "  --font-color-primary: rgba(255, 255, 255, 1);\n",
       "  --font-color-secondary: rgba(255, 255, 255, 0.6);\n",
       "  --font-color-accent: rgb(173, 132, 190);\n",
       "  --border-color: #2e2e2e;\n",
       "  --background-color: #111111;\n",
       "  --background-color-row-even: #111111;\n",
       "  --background-color-row-odd: #313131;\n",
       "}\n",
       "\n",
       ".ee {\n",
       "  padding: 1em;\n",
       "  line-height: 1.5em;\n",
       "  min-width: 300px;\n",
       "  max-width: 1200px;\n",
       "  overflow-y: scroll;\n",
       "  max-height: 600px;\n",
       "  border: 1px solid var(--border-color);\n",
       "  font-family: monospace;\n",
       "}\n",
       "\n",
       ".ee li {\n",
       "  list-style-type: none;\n",
       "}\n",
       "\n",
       ".ee ul {\n",
       "  padding-left: 1.5em !important;\n",
       "  margin: 0;\n",
       "}\n",
       "\n",
       ".ee > ul {\n",
       "  padding-left: 0 !important;\n",
       "}\n",
       "\n",
       ".ee-open,\n",
       ".ee-shut {\n",
       "  color: var(--font-color-secondary);\n",
       "  cursor: pointer;\n",
       "  margin: 0;\n",
       "}\n",
       "\n",
       ".ee-open:hover,\n",
       ".ee-shut:hover {\n",
       "  color: var(--font-color-primary);\n",
       "}\n",
       "\n",
       ".ee-k {\n",
       "  color: var(--font-color-accent);\n",
       "  margin-right: 6px;\n",
       "}\n",
       "\n",
       ".ee-v {\n",
       "  color: var(--font-color-primary);\n",
       "}\n",
       "\n",
       ".ee-toggle {\n",
       "  display: none;\n",
       "}\n",
       "\n",
       ".ee-shut + ul {\n",
       "  display: none;\n",
       "}\n",
       "\n",
       ".ee-open + ul {\n",
       "  display: block;\n",
       "}\n",
       "\n",
       ".ee-shut::before {\n",
       "  display: inline-block;\n",
       "  content: \"▼\";\n",
       "  margin-right: 6px;\n",
       "  transform: rotate(-90deg);\n",
       "  transition: transform 0.2s;\n",
       "}\n",
       "\n",
       ".ee-open::before {\n",
       "  transform: rotate(0deg);\n",
       "  display: inline-block;\n",
       "  content: \"▼\";\n",
       "  margin-right: 6px;\n",
       "  transition: transform 0.2s;\n",
       "}\n",
       "</style><div class='ee'><ul><li><label class='ee-shut'>Feature (Polygon, 0 properties)<input type='checkbox' class='ee-toggle'></label><ul><li><span class='ee-k'>type:</span><span class='ee-v'>Feature</span></li><li><label class='ee-shut'>geometry: Polygon (5 vertices)<input type='checkbox' class='ee-toggle'></label><ul><li><span class='ee-k'>type:</span><span class='ee-v'>Polygon</span></li><li><label class='ee-shut'>coordinates: List (1 element)<input type='checkbox' class='ee-toggle'></label><ul><li><label class='ee-shut'>0: List (5 elements)<input type='checkbox' class='ee-toggle'></label><ul><li><label class='ee-shut'>0: [-118.4058784969233, 33.86893404592236]<input type='checkbox' class='ee-toggle'></label><ul><li><span class='ee-k'>0:</span><span class='ee-v'>-118.4058784969233</span></li><li><span class='ee-k'>1:</span><span class='ee-v'>33.86893404592236</span></li></ul></li><li><label class='ee-shut'>1: [-118.40566316181588, 33.86893404592236]<input type='checkbox' class='ee-toggle'></label><ul><li><span class='ee-k'>0:</span><span class='ee-v'>-118.40566316181588</span></li><li><span class='ee-k'>1:</span><span class='ee-v'>33.86893404592236</span></li></ul></li><li><label class='ee-shut'>2: [-118.40566316181588, 33.86911398865955]<input type='checkbox' class='ee-toggle'></label><ul><li><span class='ee-k'>0:</span><span class='ee-v'>-118.40566316181588</span></li><li><span class='ee-k'>1:</span><span class='ee-v'>33.86911398865955</span></li></ul></li><li><label class='ee-shut'>3: [-118.4058784969233, 33.86911398865955]<input type='checkbox' class='ee-toggle'></label><ul><li><span class='ee-k'>0:</span><span class='ee-v'>-118.4058784969233</span></li><li><span class='ee-k'>1:</span><span class='ee-v'>33.86911398865955</span></li></ul></li><li><label class='ee-shut'>4: [-118.4058784969233, 33.86893404592236]<input type='checkbox' class='ee-toggle'></label><ul><li><span class='ee-k'>0:</span><span class='ee-v'>-118.4058784969233</span></li><li><span class='ee-k'>1:</span><span class='ee-v'>33.86893404592236</span></li></ul></li></ul></li></ul></li><li><span class='ee-k'>geodesic:</span><span class='ee-v'>False</span></li></ul></li><li><label class='ee-shut'>properties: Object (0 properties)<input type='checkbox' class='ee-toggle'></label><ul></ul></li></ul></li></ul></div><script>function toggleHeader() {\n",
       "    const parent = this.parentElement;\n",
       "    parent.className = parent.className === \"ee-open\" ? \"ee-shut\" : \"ee-open\";\n",
       "}\n",
       "\n",
       "for (let c of document.getElementsByClassName(\"ee-toggle\")) {\n",
       "    c.onclick = toggleHeader;\n",
       "}</script></div>"
      ],
      "text/plain": [
       "<ee.feature.Feature at 0x153374c70>"
      ]
     },
     "execution_count": 30,
     "metadata": {},
     "output_type": "execute_result"
    }
   ],
   "source": [
    "sample"
   ]
  },
  {
   "attachments": {},
   "cell_type": "markdown",
   "metadata": {},
   "source": [
    "## Extract all the band values of the area around the pin, aka sample\n",
    "\n",
    "New or original pin"
   ]
  },
  {
   "cell_type": "code",
   "execution_count": 36,
   "metadata": {},
   "outputs": [
    {
     "data": {
      "text/plain": [
       "{'B11': 3184.6933115823817,\n",
       " 'B12': 3216.2920065252856,\n",
       " 'B2': 1757.0081566068518,\n",
       " 'B3': 2279.0962479608484,\n",
       " 'B4': 2640.035889070147,\n",
       " 'B8': 2875.487765089723,\n",
       " 'B8A': 2744.057096247961,\n",
       " 'BSI': 0.10769141002653268,\n",
       " 'NDWI': -0.1150085376084822,\n",
       " 'VH': -27.597506885419296,\n",
       " 'VV': -16.02240801542505,\n",
       " 'mTGSI': 0.08973234113225462}"
      ]
     },
     "execution_count": 36,
     "metadata": {},
     "output_type": "execute_result"
    }
   ],
   "source": [
    "# Extract bands values\n",
    "# Use reduceRegion to get a dictionary of means within sample\n",
    "# Use getInfo() to get the dictionary from the server\n",
    "DNs = s1_s2.reduceRegion(**{\n",
    "    'reducer': ee.Reducer.mean(),\n",
    "    'geometry': sample,#.geometry(),\n",
    "    'scale': 10,\n",
    "    'maxPixels': 1e9\n",
    "}).getInfo()\n",
    "\n",
    "DNs\n"
   ]
  },
  {
   "cell_type": "code",
   "execution_count": 37,
   "metadata": {},
   "outputs": [
    {
     "name": "stdout",
     "output_type": "stream",
     "text": [
      "Band B2: 1757.0081566068518 DN\n",
      "Band B3: 2279.0962479608484 DN\n",
      "Band B4: 2640.035889070147 DN\n",
      "Band B8: 2875.487765089723 DN\n",
      "Band B8A: 2744.057096247961 DN\n",
      "Band B11: 3184.6933115823817 DN\n",
      "Band B12: 3216.2920065252856 DN\n",
      "Band VV: -16.02240801542505 DN\n",
      "Band VH: -27.597506885419296 DN\n",
      "Band mTGSI: 0.08973234113225462 DN\n",
      "Band BSI: 0.10769141002653268 DN\n",
      "Band NDWI: -0.1150085376084822 DN\n"
     ]
    }
   ],
   "source": [
    "for b, band in enumerate(qm.USEFUL_BANDS):\n",
    "    print('Band {}: {}'.format(band, DNs[band]))"
   ]
  },
  {
   "cell_type": "code",
   "execution_count": null,
   "metadata": {},
   "outputs": [],
   "source": []
  }
 ],
 "metadata": {
  "kernelspec": {
   "display_name": "Python 3 (ipykernel)",
   "language": "python",
   "name": "python3"
  },
  "language_info": {
   "codemirror_mode": {
    "name": "ipython",
    "version": 3
   },
   "file_extension": ".py",
   "mimetype": "text/x-python",
   "name": "python",
   "nbconvert_exporter": "python",
   "pygments_lexer": "ipython3",
   "version": "3.9.13"
  },
  "toc": {
   "base_numbering": 1,
   "nav_menu": {},
   "number_sections": true,
   "sideBar": true,
   "skip_h1_title": false,
   "title_cell": "Table of Contents",
   "title_sidebar": "Contents",
   "toc_cell": false,
   "toc_position": {},
   "toc_section_display": true,
   "toc_window_display": false
  }
 },
 "nbformat": 4,
 "nbformat_minor": 2
}
