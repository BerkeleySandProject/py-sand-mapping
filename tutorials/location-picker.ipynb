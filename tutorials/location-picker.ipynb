{
 "cells": [
  {
   "cell_type": "code",
   "execution_count": 1,
   "metadata": {},
   "outputs": [],
   "source": [
    "import geemap, ee"
   ]
  },
  {
   "cell_type": "code",
   "execution_count": 3,
   "metadata": {},
   "outputs": [],
   "source": [
    "#Uncomment this when running for the first time and/or if the map doesnt render\n",
    "# ee.Authenticate()\n",
    "# Initialize the library.\n",
    "ee.Initialize()"
   ]
  },
  {
   "cell_type": "code",
   "execution_count": 4,
   "metadata": {},
   "outputs": [],
   "source": [
    "%load_ext autoreload\n",
    "%autoreload 2\n",
    "import sys  \n",
    "sys.path.insert(0, '../lib/')"
   ]
  },
  {
   "attachments": {},
   "cell_type": "markdown",
   "metadata": {},
   "source": [
    "This bit is needed if you're making changes to the qm lib file and want to reload it live"
   ]
  },
  {
   "cell_type": "code",
   "execution_count": 64,
   "metadata": {},
   "outputs": [],
   "source": [
    "%reload_ext autoreload\n",
    "import quality_mosaic as qm"
   ]
  },
  {
   "attachments": {},
   "cell_type": "markdown",
   "metadata": {},
   "source": [
    "# Choose date and location"
   ]
  },
  {
   "attachments": {},
   "cell_type": "markdown",
   "metadata": {},
   "source": [
    "## Define parameters"
   ]
  },
  {
   "cell_type": "code",
   "execution_count": 83,
   "metadata": {},
   "outputs": [],
   "source": [
    "lat, lon = lat, lon = 33.869066751,-118.405718865\n",
    "date = '2021-01-18'"
   ]
  },
  {
   "cell_type": "markdown",
   "metadata": {},
   "source": [
    "## Define Hyperparameters"
   ]
  },
  {
   "cell_type": "code",
   "execution_count": 84,
   "metadata": {},
   "outputs": [],
   "source": [
    "#define the total number of days before and after the date of interest you want to search``\n",
    "max_search_window_months = 6\n",
    "# define the number of days to median filtered S1 images\n",
    "s1_median_days = 6"
   ]
  },
  {
   "attachments": {},
   "cell_type": "markdown",
   "metadata": {},
   "source": [
    "Convert to ee objects"
   ]
  },
  {
   "cell_type": "code",
   "execution_count": 99,
   "metadata": {},
   "outputs": [],
   "source": [
    "point = ee.Geometry.Point([lon, lat])\n",
    "sample = point.buffer(10).bounds()\n",
    "roi = point.buffer(100).bounds()"
   ]
  },
  {
   "cell_type": "code",
   "execution_count": 75,
   "metadata": {},
   "outputs": [],
   "source": [
    "visParamsRGB = {\"min\": 0, \"max\": 4000, \"bands\": [\"B4\", \"B3\", \"B2\"]}\n",
    "visParamsVV  = {\"min\": -30, \"max\": 0, \"bands\": [\"VV\"]}\n",
    "\n",
    "visParamsFScore  = {\"min\": -50, \"max\": 0, \"bands\": [\"FScore\"]}\n",
    "\n",
    "green_blue_yellow_orange = ['#008080','#0039e6','#FFFF31','#f85d31']\n",
    "visParamsMTGSI  = {'min':-0.5, 'max':0.25, 'palette':green_blue_yellow_orange, 'bands':['mTGSI']}"
   ]
  },
  {
   "attachments": {},
   "cell_type": "markdown",
   "metadata": {},
   "source": [
    "# Get mosaics for S1 and S2"
   ]
  },
  {
   "cell_type": "code",
   "execution_count": 79,
   "metadata": {},
   "outputs": [
    {
     "name": "stdout",
     "output_type": "stream",
     "text": [
      "Search window from 2020-07-18 to 2021-07-18\n"
     ]
    }
   ],
   "source": [
    "s1_s2 = qm.get_s1_s2(roi=roi, date=date, max_search_window_months=6,s1_median_days=s1_median_days)"
   ]
  },
  {
   "cell_type": "code",
   "execution_count": 80,
   "metadata": {},
   "outputs": [],
   "source": [
    "s1_s2 = qm.addNDWI(qm.addBSI(qm.add_mTGSI(s1_s2)))"
   ]
  },
  {
   "cell_type": "markdown",
   "metadata": {},
   "source": [
    "## Declare the bands you want to keep"
   ]
  },
  {
   "cell_type": "code",
   "execution_count": 97,
   "metadata": {},
   "outputs": [
    {
     "name": "stdout",
     "output_type": "stream",
     "text": [
      "['B2', 'B3', 'B4', 'B8', 'B8A', 'B11', 'B12', 'VV', 'VH', 'FScore', 'mTGSI', 'BSI', 'NDWI']\n"
     ]
    }
   ],
   "source": [
    "keep_bands = [\"B2\",\"B3\",\"B4\",\"B8\",\"B8A\",\"B11\",\"B12\",\"VV\",\"VH\",\"mTGSI\",\"BSI\",\"NDWI\"]\n",
    "s1_s2 = s1_s2.select(keep_bands)\n",
    "#print all the bands of s1_s2\n",
    "print(s1_s2.bandNames().getInfo())"
   ]
  },
  {
   "cell_type": "markdown",
   "metadata": {},
   "source": [
    "# Show interactive map\n",
    "\n",
    "Add a marker manually if you want to change the location of the sample pointm"
   ]
  },
  {
   "cell_type": "code",
   "execution_count": 100,
   "metadata": {},
   "outputs": [
    {
     "data": {
      "application/vnd.jupyter.widget-view+json": {
       "model_id": "d3a09f6aceec4641a33b38a6b6e207d0",
       "version_major": 2,
       "version_minor": 0
      },
      "text/plain": [
       "Map(center=[33.869066767472795, -118.40571869467622], controls=(WidgetControl(options=['position', 'transparen…"
      ]
     },
     "metadata": {},
     "output_type": "display_data"
    }
   ],
   "source": [
    "Map = geemap.Map()\n",
    "Map.add_basemap('SATELLITE')\n",
    "Map.addLayer(s1_s2, visParamsRGB, 'qm_s2')\n",
    "Map.addLayer(s1_s2, visParamsVV, 's1')\n",
    "\n",
    "Map.addLayer(s1_s2,visParamsMTGSI , 'mTGSI')\n",
    "\n",
    "Map.addLayer(sample,\n",
    "             {'color':'green', 'opacity':0.4},\n",
    "             name='buffer')\n",
    "\n",
    "Map.add_marker([lat, lon],tooltip='sample', name='sample', draggable=False)\n",
    "Map.centerObject(sample, 20)\n",
    "\n",
    "Map"
   ]
  },
  {
   "attachments": {},
   "cell_type": "markdown",
   "metadata": {},
   "source": [
    "### If you dropped a new pin, make sure to run this cell:"
   ]
  },
  {
   "cell_type": "code",
   "execution_count": 89,
   "metadata": {},
   "outputs": [],
   "source": [
    "if (Map.draw_last_feature is not None):\n",
    "    \n",
    "    Map.draw_last_feature.geometry().getInfo()['coordinates']\n",
    "    new_sample = Map.draw_last_feature.buffer(10).bounds()\n",
    "    Map.addLayer(new_sample,\n",
    "             {'color':'green', 'opacity':0.3},\n",
    "             name='new_buffer')\n"
   ]
  },
  {
   "attachments": {},
   "cell_type": "markdown",
   "metadata": {},
   "source": [
    "### If you're happy with the location of the *most recent* pin, then run this cell:"
   ]
  },
  {
   "cell_type": "code",
   "execution_count": 101,
   "metadata": {},
   "outputs": [
    {
     "ename": "AttributeError",
     "evalue": "'NoneType' object has no attribute 'geometry'",
     "output_type": "error",
     "traceback": [
      "\u001b[0;31m---------------------------------------------------------------------------\u001b[0m",
      "\u001b[0;31mAttributeError\u001b[0m                            Traceback (most recent call last)",
      "\u001b[1;32m/Users/ando/Projects/sand/py-sand-mapping/tutorials/location-picker.ipynb Cell 24\u001b[0m in \u001b[0;36m<cell line: 2>\u001b[0;34m()\u001b[0m\n\u001b[1;32m      <a href='vscode-notebook-cell:/Users/ando/Projects/sand/py-sand-mapping/tutorials/location-picker.ipynb#X56sZmlsZQ%3D%3D?line=2'>3</a>\u001b[0m     sample \u001b[39m=\u001b[39m new_sample\n\u001b[1;32m      <a href='vscode-notebook-cell:/Users/ando/Projects/sand/py-sand-mapping/tutorials/location-picker.ipynb#X56sZmlsZQ%3D%3D?line=3'>4</a>\u001b[0m     \u001b[39m#print the coordinates of the new pin\u001b[39;00m\n\u001b[0;32m----> <a href='vscode-notebook-cell:/Users/ando/Projects/sand/py-sand-mapping/tutorials/location-picker.ipynb#X56sZmlsZQ%3D%3D?line=4'>5</a>\u001b[0m     \u001b[39mprint\u001b[39m(Map\u001b[39m.\u001b[39;49mdraw_last_feature\u001b[39m.\u001b[39;49mgeometry()\u001b[39m.\u001b[39mgetInfo()[\u001b[39m'\u001b[39m\u001b[39mcoordinates\u001b[39m\u001b[39m'\u001b[39m])\n\u001b[1;32m      <a href='vscode-notebook-cell:/Users/ando/Projects/sand/py-sand-mapping/tutorials/location-picker.ipynb#X56sZmlsZQ%3D%3D?line=5'>6</a>\u001b[0m \u001b[39mexcept\u001b[39;00m \u001b[39mNameError\u001b[39;00m:\n\u001b[1;32m      <a href='vscode-notebook-cell:/Users/ando/Projects/sand/py-sand-mapping/tutorials/location-picker.ipynb#X56sZmlsZQ%3D%3D?line=6'>7</a>\u001b[0m     \u001b[39mprint\u001b[39m (\u001b[39m\"\u001b[39m\u001b[39mYou didnt drop a new marker\u001b[39m\u001b[39m\"\u001b[39m)\n",
      "\u001b[0;31mAttributeError\u001b[0m: 'NoneType' object has no attribute 'geometry'"
     ]
    }
   ],
   "source": [
    "#check if new_sample is defined\n",
    "try:\n",
    "    sample = new_sample\n",
    "    #print the coordinates of the new pin\n",
    "    print(Map.draw_last_feature.geometry().getInfo()['coordinates'])\n",
    "except NameError:\n",
    "    print (\"You didnt drop a new marker\")\n"
   ]
  },
  {
   "attachments": {},
   "cell_type": "markdown",
   "metadata": {},
   "source": [
    "## Extract all the band values of the area around the pin, aka sample"
   ]
  },
  {
   "cell_type": "code",
   "execution_count": 103,
   "metadata": {},
   "outputs": [
    {
     "data": {
      "text/plain": [
       "{'B11': 3779.028571428571,\n",
       " 'B12': 3901.328979591836,\n",
       " 'B2': 1973.8106122448976,\n",
       " 'B3': 2525.9591836734694,\n",
       " 'B4': 2944.963265306122,\n",
       " 'B8': 3240.581224489795,\n",
       " 'B8A': 3120.9485714285706,\n",
       " 'BSI': 0.1273898981355593,\n",
       " 'FScore': -3.7696249893078497,\n",
       " 'NDWI': -0.12368247257228167,\n",
       " 'VH': -27.987106069211258,\n",
       " 'VV': -16.224042067078262,\n",
       " 'mTGSI': 0.11267660659815573}"
      ]
     },
     "execution_count": 103,
     "metadata": {},
     "output_type": "execute_result"
    }
   ],
   "source": [
    "# Extract bands values\n",
    "# Use reduceRegion to get a dictionary of means within sample\n",
    "# Use getInfo() to get the dictionary from the server\n",
    "sample = s1_s2.reduceRegion(**{\n",
    "    'reducer': ee.Reducer.mean(),\n",
    "    'geometry': sample.geometry(),\n",
    "    'scale': 10,\n",
    "    'maxPixels': 1e9\n",
    "}).getInfo()\n",
    "\n",
    "sample\n"
   ]
  }
 ],
 "metadata": {
  "kernelspec": {
   "display_name": "spatial",
   "language": "python",
   "name": "python3"
  },
  "language_info": {
   "codemirror_mode": {
    "name": "ipython",
    "version": 3
   },
   "file_extension": ".py",
   "mimetype": "text/x-python",
   "name": "python",
   "nbconvert_exporter": "python",
   "pygments_lexer": "ipython3",
   "version": "3.9.13"
  },
  "orig_nbformat": 4
 },
 "nbformat": 4,
 "nbformat_minor": 2
}
