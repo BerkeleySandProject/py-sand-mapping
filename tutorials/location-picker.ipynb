{
 "cells": [
  {
   "cell_type": "code",
   "execution_count": 1,
   "metadata": {},
   "outputs": [],
   "source": [
    "import geemap, ee"
   ]
  },
  {
   "cell_type": "code",
   "execution_count": 3,
   "metadata": {},
   "outputs": [],
   "source": [
    "# ee.Authenticate()\n",
    "# Initialize the library.\n",
    "ee.Initialize()"
   ]
  },
  {
   "cell_type": "code",
   "execution_count": 4,
   "metadata": {},
   "outputs": [],
   "source": [
    "%load_ext autoreload\n",
    "%autoreload 2\n",
    "import sys  \n",
    "sys.path.insert(0, '../lib/')\n",
    "\n"
   ]
  },
  {
   "cell_type": "code",
   "execution_count": 46,
   "metadata": {},
   "outputs": [],
   "source": [
    "%reload_ext autoreload\n",
    "import quality_mosaic as qm"
   ]
  },
  {
   "attachments": {},
   "cell_type": "markdown",
   "metadata": {},
   "source": [
    "# Choose date and location"
   ]
  },
  {
   "attachments": {},
   "cell_type": "markdown",
   "metadata": {},
   "source": [
    "## Define parameters"
   ]
  },
  {
   "cell_type": "code",
   "execution_count": 7,
   "metadata": {},
   "outputs": [],
   "source": [
    "date = '2020-06-18'\n",
    "lat, lon = 17.973859475,-65.988746993\n"
   ]
  },
  {
   "cell_type": "code",
   "execution_count": 8,
   "metadata": {},
   "outputs": [],
   "source": [
    "lat, lon = 48.1496822,-123.5552726\n",
    "date = '2020-10-15'"
   ]
  },
  {
   "cell_type": "code",
   "execution_count": 9,
   "metadata": {},
   "outputs": [],
   "source": [
    "lat, lon = lat, lon = 33.869066751,-118.405718865\n",
    "date = '2021-01-18'"
   ]
  },
  {
   "cell_type": "markdown",
   "metadata": {},
   "source": [
    "## Define Hyperparameters"
   ]
  },
  {
   "cell_type": "code",
   "execution_count": 45,
   "metadata": {},
   "outputs": [],
   "source": [
    "#define the total number of days before and after the date of interest you want to search``\n",
    "max_search_window_months = 6\n",
    "# define the number of days to median filtered S1 images\n",
    "s1_median_days = 6"
   ]
  },
  {
   "attachments": {},
   "cell_type": "markdown",
   "metadata": {},
   "source": [
    "Convert to ee objects"
   ]
  },
  {
   "cell_type": "code",
   "execution_count": 11,
   "metadata": {},
   "outputs": [],
   "source": [
    "point = ee.Geometry.Point([lon, lat])\n",
    "sample = point.buffer(10).bounds()\n",
    "roi = point.buffer(100).bounds()"
   ]
  },
  {
   "cell_type": "code",
   "execution_count": 44,
   "metadata": {},
   "outputs": [],
   "source": [
    "visParamsRGB = {\"min\": 0, \"max\": 4000, \"bands\": [\"B4\", \"B3\", \"B2\"]}\n",
    "visParamsVV  = {\"min\": -25, \"max\": 0, \"bands\": [\"VV\"]}"
   ]
  },
  {
   "attachments": {},
   "cell_type": "markdown",
   "metadata": {},
   "source": [
    "# Get mosaics for S1 and S2"
   ]
  },
  {
   "cell_type": "code",
   "execution_count": 47,
   "metadata": {},
   "outputs": [
    {
     "name": "stdout",
     "output_type": "stream",
     "text": [
      "Search window from 2020-07-18 to 2021-07-18\n"
     ]
    }
   ],
   "source": [
    "s1_s2 = qm.get_s1_s2(roi=roi, date=date, max_search_window_months=6,s1_median_days=s1_median_days)"
   ]
  },
  {
   "cell_type": "code",
   "execution_count": 49,
   "metadata": {},
   "outputs": [],
   "source": [
    "keep_bands = [\"B2\",\"B3\",\"B4\",\"B8\",\"B8A\",\"B11\",\"B12\",\"VV\",\"VH\",\"FScore\"]\n",
    "s1_s2 = s1_s2.select(keep_bands)"
   ]
  },
  {
   "cell_type": "markdown",
   "metadata": {},
   "source": [
    "# Show interactive map\n",
    "\n",
    "Add a marker manually if you want to change the location of the sample pointm"
   ]
  },
  {
   "cell_type": "code",
   "execution_count": 50,
   "metadata": {},
   "outputs": [
    {
     "data": {
      "application/vnd.jupyter.widget-view+json": {
       "model_id": "5d66f3c6074d407f8322598063a3f3af",
       "version_major": 2,
       "version_minor": 0
      },
      "text/plain": [
       "Map(center=[33.869066767472795, -118.40571869467622], controls=(WidgetControl(options=['position', 'transparen…"
      ]
     },
     "metadata": {},
     "output_type": "display_data"
    }
   ],
   "source": [
    "Map = geemap.Map()\n",
    "Map.add_basemap('SATELLITE')\n",
    "Map.addLayer(s1_s2, visParamsRGB, 'qm_s2')\n",
    "Map.addLayer(s1_s2, visParamsVV, 's1')\n",
    "\n",
    "Map.addLayer(sample,\n",
    "             {'color':'yellow', 'opacity':0.3},\n",
    "             name='buffer')\n",
    "\n",
    "Map.add_marker([lat, lon],tooltip='sample', name='sample', draggable=False)\n",
    "Map.centerObject(sample, 20)\n",
    "\n",
    "Map"
   ]
  },
  {
   "cell_type": "code",
   "execution_count": 33,
   "metadata": {},
   "outputs": [],
   "source": [
    "if (Map.draw_last_feature is not None):\n",
    "    \n",
    "    Map.draw_last_feature.geometry().getInfo()['coordinates']\n",
    "    new_sample = Map.draw_last_feature.buffer(10).bounds()\n",
    "    Map.addLayer(new_sample,\n",
    "             {'color':'green', 'opacity':0.3},\n",
    "             name='new_buffer')\n",
    "# Map.draw_last_feature#.geometry().getInfo()['coordinates']"
   ]
  },
  {
   "attachments": {},
   "cell_type": "markdown",
   "metadata": {},
   "source": [
    "## TODOs:\n",
    "1. ~~Add S-1 imagery~~\n",
    "2. ~~Remove all unnecesary bands~~\n",
    "3. Add mTGSI and BSI indices\n",
    "4. Try the reduceRegion to capture info within sample buffer"
   ]
  },
  {
   "cell_type": "code",
   "execution_count": null,
   "metadata": {},
   "outputs": [],
   "source": []
  }
 ],
 "metadata": {
  "kernelspec": {
   "display_name": "spatial",
   "language": "python",
   "name": "python3"
  },
  "language_info": {
   "codemirror_mode": {
    "name": "ipython",
    "version": 3
   },
   "file_extension": ".py",
   "mimetype": "text/x-python",
   "name": "python",
   "nbconvert_exporter": "python",
   "pygments_lexer": "ipython3",
   "version": "3.9.13"
  },
  "orig_nbformat": 4
 },
 "nbformat": 4,
 "nbformat_minor": 2
}
