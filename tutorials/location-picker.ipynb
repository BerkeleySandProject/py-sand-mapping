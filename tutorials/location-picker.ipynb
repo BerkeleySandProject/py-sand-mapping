{
 "cells": [
  {
   "cell_type": "code",
   "execution_count": 19,
   "metadata": {},
   "outputs": [],
   "source": [
    "import geemap, ee"
   ]
  },
  {
   "cell_type": "code",
   "execution_count": 20,
   "metadata": {},
   "outputs": [],
   "source": [
    "#ee.Authenticate()\n",
    "# Initialize the library.\n",
    "ee.Initialize()"
   ]
  },
  {
   "cell_type": "code",
   "execution_count": 21,
   "metadata": {},
   "outputs": [
    {
     "name": "stdout",
     "output_type": "stream",
     "text": [
      "The autoreload extension is already loaded. To reload it, use:\n",
      "  %reload_ext autoreload\n"
     ]
    }
   ],
   "source": [
    "%load_ext autoreload\n",
    "%autoreload 2\n",
    "import sys  \n",
    "sys.path.insert(0, '../lib/')\n",
    "\n"
   ]
  },
  {
   "cell_type": "code",
   "execution_count": 22,
   "metadata": {},
   "outputs": [],
   "source": [
    "%reload_ext autoreload\n",
    "import quality_mosaic as qm"
   ]
  },
  {
   "attachments": {},
   "cell_type": "markdown",
   "metadata": {},
   "source": [
    "# Choose date and location"
   ]
  },
  {
   "attachments": {},
   "cell_type": "markdown",
   "metadata": {},
   "source": [
    "## Define parameters"
   ]
  },
  {
   "cell_type": "code",
   "execution_count": 23,
   "metadata": {},
   "outputs": [],
   "source": [
    "date = '2020-06-18'\n",
    "lat, lon = 17.973859475,-65.988746993\n"
   ]
  },
  {
   "cell_type": "code",
   "execution_count": 24,
   "metadata": {},
   "outputs": [],
   "source": [
    "lat, lon = 48.1496822,-123.5552726\n",
    "date = '2020-10-15'"
   ]
  },
  {
   "cell_type": "code",
   "execution_count": 25,
   "metadata": {},
   "outputs": [],
   "source": [
    "lat, lon = lat, lon = 33.869066751,-118.405718865\n",
    "date = '2021-01-18'"
   ]
  },
  {
   "cell_type": "markdown",
   "metadata": {},
   "source": [
    "## Define Hyperparameters"
   ]
  },
  {
   "cell_type": "code",
   "execution_count": 26,
   "metadata": {},
   "outputs": [],
   "source": [
    "#define the total number of days before and after the date of interest you want to search``\n",
    "max_search_window_months = 6"
   ]
  },
  {
   "attachments": {},
   "cell_type": "markdown",
   "metadata": {},
   "source": [
    "Convert to ee objects"
   ]
  },
  {
   "cell_type": "code",
   "execution_count": 27,
   "metadata": {},
   "outputs": [],
   "source": [
    "point = ee.Geometry.Point([lon, lat])\n",
    "sample = point.buffer(10).bounds()\n",
    "roi = point.buffer(100).bounds()"
   ]
  },
  {
   "cell_type": "code",
   "execution_count": 28,
   "metadata": {},
   "outputs": [
    {
     "name": "stdout",
     "output_type": "stream",
     "text": [
      "Search window from 2020-07-18 to 2021-07-18\n"
     ]
    }
   ],
   "source": [
    "DOI = ee.Date(date)\n",
    "\n",
    "start_date, end_date = DOI.advance(-max_search_window_months, 'month'), DOI.advance(max_search_window_months, 'month')\n",
    "start_date_str, end_date_str = start_date.format('YYYY-MM-dd').getInfo(), end_date.format('YYYY-MM-dd').getInfo()\n",
    "print(\"Search window from {:} to {:}\".format(start_date_str, end_date_str))\n"
   ]
  },
  {
   "cell_type": "code",
   "execution_count": 29,
   "metadata": {},
   "outputs": [
    {
     "data": {
      "text/plain": [
       "['B1',\n",
       " 'B2',\n",
       " 'B3',\n",
       " 'B4',\n",
       " 'B5',\n",
       " 'B6',\n",
       " 'B7',\n",
       " 'B8',\n",
       " 'B8A',\n",
       " 'B9',\n",
       " 'B11',\n",
       " 'B12',\n",
       " 'AOT',\n",
       " 'WVP',\n",
       " 'SCL',\n",
       " 'TCI_R',\n",
       " 'TCI_G',\n",
       " 'TCI_B',\n",
       " 'MSK_CLDPRB',\n",
       " 'MSK_SNWPRB',\n",
       " 'QA10',\n",
       " 'QA20',\n",
       " 'QA60',\n",
       " 'prob',\n",
       " 'clouds',\n",
       " 'delta',\n",
       " 'FScore']"
      ]
     },
     "execution_count": 29,
     "metadata": {},
     "output_type": "execute_result"
    }
   ],
   "source": [
    "s2_cld_col = qm.get_s2_sr_cld_col(roi, start_date_str, end_date_str)\n",
    "visParamsRGB = {\"min\": 0, \"max\": 4000, \"bands\": [\"B4\", \"B3\", \"B2\"]}\n",
    "\n",
    "witFScore = qm.wrap_addFScore(s2_cld_col, DOI)\n",
    "qm_s2 = witFScore.qualityMosaic('FScore')\n",
    "qm_s2.bandNames().getInfo()"
   ]
  },
  {
   "cell_type": "markdown",
   "metadata": {},
   "source": [
    "# Show interactive map\n",
    "\n",
    "Add a marker manually if you want to change the location of the sample pointm"
   ]
  },
  {
   "cell_type": "code",
   "execution_count": 32,
   "metadata": {},
   "outputs": [
    {
     "data": {
      "application/vnd.jupyter.widget-view+json": {
       "model_id": "c894051e74b943cca57cac14a68925e7",
       "version_major": 2,
       "version_minor": 0
      },
      "text/plain": [
       "Map(center=[33.869066767472795, -118.40571869467622], controls=(WidgetControl(options=['position', 'transparen…"
      ]
     },
     "metadata": {},
     "output_type": "display_data"
    }
   ],
   "source": [
    "Map = geemap.Map()\n",
    "Map.add_basemap('SATELLITE')\n",
    "Map.addLayer(qm_s2, visParamsRGB, 'qm_s2')\n",
    "\n",
    "Map.addLayer(sample,\n",
    "             {'color':'yellow', 'opacity':0.3},\n",
    "             name='buffer')\n",
    "\n",
    "Map.add_marker([lat, lon],tooltip='sample', name='sample', draggable=False)\n",
    "Map.centerObject(sample, 20)\n",
    "\n",
    "Map"
   ]
  },
  {
   "cell_type": "code",
   "execution_count": 33,
   "metadata": {},
   "outputs": [],
   "source": [
    "if (Map.draw_last_feature is not None):\n",
    "    \n",
    "    Map.draw_last_feature.geometry().getInfo()['coordinates']\n",
    "    new_sample = Map.draw_last_feature.buffer(10).bounds()\n",
    "    Map.addLayer(new_sample,\n",
    "             {'color':'green', 'opacity':0.3},\n",
    "             name='new_buffer')\n",
    "# Map.draw_last_feature#.geometry().getInfo()['coordinates']"
   ]
  },
  {
   "attachments": {},
   "cell_type": "markdown",
   "metadata": {},
   "source": [
    "## TODOs:\n",
    "1. Add S-1 imagery\n",
    "2. Remove all unnecesary bands\n",
    "3. Add mTGSI and BSI indices\n",
    "4. Try the reduceRegion to capture info within sample buffer"
   ]
  },
  {
   "cell_type": "code",
   "execution_count": null,
   "metadata": {},
   "outputs": [],
   "source": []
  }
 ],
 "metadata": {
  "kernelspec": {
   "display_name": "spatial",
   "language": "python",
   "name": "python3"
  },
  "language_info": {
   "codemirror_mode": {
    "name": "ipython",
    "version": 3
   },
   "file_extension": ".py",
   "mimetype": "text/x-python",
   "name": "python",
   "nbconvert_exporter": "python",
   "pygments_lexer": "ipython3",
   "version": "3.9.13"
  },
  "orig_nbformat": 4
 },
 "nbformat": 4,
 "nbformat_minor": 2
}
