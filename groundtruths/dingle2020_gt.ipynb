{
 "cells": [
  {
   "cell_type": "code",
   "execution_count": 70,
   "metadata": {},
   "outputs": [],
   "source": [
    "import pandas as pd\n",
    "import numpy as np\n",
    "import matplotlib.pyplot as plt\n",
    "import seaborn as sns\n",
    "\n",
    "import warnings\n",
    "warnings.filterwarnings(\"ignore\")\n",
    "from tqdm.notebook import tqdm\n",
    "import time\n",
    "from IPython.display import clear_output\n",
    "\n",
    "import ee, geemap"
   ]
  },
  {
   "cell_type": "code",
   "execution_count": 71,
   "metadata": {},
   "outputs": [
    {
     "name": "stdout",
     "output_type": "stream",
     "text": [
      "The autoreload extension is already loaded. To reload it, use:\n",
      "  %reload_ext autoreload\n"
     ]
    }
   ],
   "source": [
    "%load_ext autoreload\n",
    "%autoreload 2\n",
    "import sys  \n",
    "sys.path.insert(0, '../lib/')"
   ]
  },
  {
   "cell_type": "code",
   "execution_count": 72,
   "metadata": {},
   "outputs": [],
   "source": [
    "%reload_ext autoreload\n",
    "import sand_classification as sc\n",
    "import quality_mosaic as qm"
   ]
  },
  {
   "attachments": {},
   "cell_type": "markdown",
   "metadata": {},
   "source": [
    "# Part I: Get the locations from Google Drive"
   ]
  },
  {
   "cell_type": "code",
   "execution_count": 73,
   "metadata": {},
   "outputs": [
    {
     "data": {
      "text/plain": [
       "'https://docs.google.com/spreadsheets/d/13nF_pJ02Bd70cDJamuKbvZIkIdJ-kOI4O3Cx9K7Wzos/gviz/tq?tqx=out:csv&sheet=dingle2020'"
      ]
     },
     "execution_count": 73,
     "metadata": {},
     "output_type": "execute_result"
    }
   ],
   "source": [
    "sheet_id = '13nF_pJ02Bd70cDJamuKbvZIkIdJ-kOI4O3Cx9K7Wzos'\n",
    "# sheet_id = '1XqOtPkiE_Q0dfGSoyxrH730RkwrTczcRbDeJJpqRByQ'\n",
    "sheet_name = 'dingle2020'\n",
    "drive_url = f\"https://docs.google.com/spreadsheets/d/{sheet_id}/gviz/tq?tqx=out:csv&sheet={sheet_name}\"\n",
    "drive_url"
   ]
  },
  {
   "cell_type": "code",
   "execution_count": 74,
   "metadata": {},
   "outputs": [],
   "source": [
    "output_file_path = '../data/labels/gt-bands.xlsx'"
   ]
  },
  {
   "cell_type": "code",
   "execution_count": 90,
   "metadata": {},
   "outputs": [
    {
     "data": {
      "text/html": [
       "<div>\n",
       "<style scoped>\n",
       "    .dataframe tbody tr th:only-of-type {\n",
       "        vertical-align: middle;\n",
       "    }\n",
       "\n",
       "    .dataframe tbody tr th {\n",
       "        vertical-align: top;\n",
       "    }\n",
       "\n",
       "    .dataframe thead th {\n",
       "        text-align: right;\n",
       "    }\n",
       "</style>\n",
       "<table border=\"1\" class=\"dataframe\">\n",
       "  <thead>\n",
       "    <tr style=\"text-align: right;\">\n",
       "      <th></th>\n",
       "      <th>ID</th>\n",
       "      <th>Latitude</th>\n",
       "      <th>Longitude</th>\n",
       "      <th>Class</th>\n",
       "      <th>Date</th>\n",
       "      <th>Site</th>\n",
       "      <th>Source</th>\n",
       "      <th>Country</th>\n",
       "      <th>Notes</th>\n",
       "      <th>D50</th>\n",
       "      <th>...</th>\n",
       "      <th>Unnamed: 18</th>\n",
       "      <th>Unnamed: 19</th>\n",
       "      <th>Unnamed: 20</th>\n",
       "      <th>Unnamed: 21</th>\n",
       "      <th>Unnamed: 22</th>\n",
       "      <th>Unnamed: 23</th>\n",
       "      <th>Unnamed: 24</th>\n",
       "      <th>Unnamed: 25</th>\n",
       "      <th>Unnamed: 26</th>\n",
       "      <th>Unnamed: 27</th>\n",
       "    </tr>\n",
       "  </thead>\n",
       "  <tbody>\n",
       "    <tr>\n",
       "      <th>0</th>\n",
       "      <td>dingle2020-0</td>\n",
       "      <td>28.599792</td>\n",
       "      <td>81.259463</td>\n",
       "      <td>gravel</td>\n",
       "      <td>2019-04-08</td>\n",
       "      <td>fluvial</td>\n",
       "      <td>10.2475/08.2016.03</td>\n",
       "      <td>Nepal</td>\n",
       "      <td>Surface grain size from central bar at Karnali...</td>\n",
       "      <td>65.00</td>\n",
       "      <td>...</td>\n",
       "      <td>NaN</td>\n",
       "      <td>NaN</td>\n",
       "      <td>NaN</td>\n",
       "      <td>NaN</td>\n",
       "      <td>NaN</td>\n",
       "      <td>NaN</td>\n",
       "      <td>NaN</td>\n",
       "      <td>NaN</td>\n",
       "      <td>NaN</td>\n",
       "      <td>NaN</td>\n",
       "    </tr>\n",
       "    <tr>\n",
       "      <th>1</th>\n",
       "      <td>dingle2020-1</td>\n",
       "      <td>28.601396</td>\n",
       "      <td>81.261771</td>\n",
       "      <td>other</td>\n",
       "      <td>2019-04-08</td>\n",
       "      <td>fluvial</td>\n",
       "      <td>10.2475/08.2016.04</td>\n",
       "      <td>Nepal</td>\n",
       "      <td>Exposed gravel bed material at bifurcation</td>\n",
       "      <td>231.00</td>\n",
       "      <td>...</td>\n",
       "      <td>NaN</td>\n",
       "      <td>NaN</td>\n",
       "      <td>NaN</td>\n",
       "      <td>NaN</td>\n",
       "      <td>NaN</td>\n",
       "      <td>NaN</td>\n",
       "      <td>NaN</td>\n",
       "      <td>NaN</td>\n",
       "      <td>NaN</td>\n",
       "      <td>NaN</td>\n",
       "    </tr>\n",
       "    <tr>\n",
       "      <th>2</th>\n",
       "      <td>dingle2020-2</td>\n",
       "      <td>28.417784</td>\n",
       "      <td>81.043490</td>\n",
       "      <td>sand</td>\n",
       "      <td>2019-08-21</td>\n",
       "      <td>fluvial</td>\n",
       "      <td>10.2475/08.2016.05</td>\n",
       "      <td>Nepal</td>\n",
       "      <td>Bank material downstream of the gravel-sand tr...</td>\n",
       "      <td>0.23</td>\n",
       "      <td>...</td>\n",
       "      <td>NaN</td>\n",
       "      <td>NaN</td>\n",
       "      <td>NaN</td>\n",
       "      <td>NaN</td>\n",
       "      <td>NaN</td>\n",
       "      <td>NaN</td>\n",
       "      <td>NaN</td>\n",
       "      <td>NaN</td>\n",
       "      <td>NaN</td>\n",
       "      <td>NaN</td>\n",
       "    </tr>\n",
       "    <tr>\n",
       "      <th>3</th>\n",
       "      <td>dingle2020-3</td>\n",
       "      <td>28.420623</td>\n",
       "      <td>81.051930</td>\n",
       "      <td>sand</td>\n",
       "      <td>2019-04-08</td>\n",
       "      <td>fluvial</td>\n",
       "      <td>10.2475/08.2016.06</td>\n",
       "      <td>Nepal</td>\n",
       "      <td>Bed material dredged at transect T5</td>\n",
       "      <td>0.31</td>\n",
       "      <td>...</td>\n",
       "      <td>NaN</td>\n",
       "      <td>NaN</td>\n",
       "      <td>NaN</td>\n",
       "      <td>NaN</td>\n",
       "      <td>NaN</td>\n",
       "      <td>NaN</td>\n",
       "      <td>NaN</td>\n",
       "      <td>NaN</td>\n",
       "      <td>NaN</td>\n",
       "      <td>NaN</td>\n",
       "    </tr>\n",
       "  </tbody>\n",
       "</table>\n",
       "<p>4 rows × 28 columns</p>\n",
       "</div>"
      ],
      "text/plain": [
       "             ID   Latitude  Longitude   Class        Date     Site  \\\n",
       "0  dingle2020-0  28.599792  81.259463  gravel  2019-04-08  fluvial   \n",
       "1  dingle2020-1  28.601396  81.261771   other  2019-04-08  fluvial   \n",
       "2  dingle2020-2  28.417784  81.043490    sand  2019-08-21  fluvial   \n",
       "3  dingle2020-3  28.420623  81.051930    sand  2019-04-08  fluvial   \n",
       "\n",
       "               Source Country  \\\n",
       "0  10.2475/08.2016.03   Nepal   \n",
       "1  10.2475/08.2016.04   Nepal   \n",
       "2  10.2475/08.2016.05   Nepal   \n",
       "3  10.2475/08.2016.06   Nepal   \n",
       "\n",
       "                                               Notes     D50  ...  \\\n",
       "0  Surface grain size from central bar at Karnali...   65.00  ...   \n",
       "1         Exposed gravel bed material at bifurcation  231.00  ...   \n",
       "2  Bank material downstream of the gravel-sand tr...    0.23  ...   \n",
       "3                Bed material dredged at transect T5    0.31  ...   \n",
       "\n",
       "   Unnamed: 18  Unnamed: 19  Unnamed: 20  Unnamed: 21  Unnamed: 22  \\\n",
       "0          NaN          NaN          NaN          NaN          NaN   \n",
       "1          NaN          NaN          NaN          NaN          NaN   \n",
       "2          NaN          NaN          NaN          NaN          NaN   \n",
       "3          NaN          NaN          NaN          NaN          NaN   \n",
       "\n",
       "   Unnamed: 23  Unnamed: 24  Unnamed: 25  Unnamed: 26  Unnamed: 27  \n",
       "0          NaN          NaN          NaN          NaN          NaN  \n",
       "1          NaN          NaN          NaN          NaN          NaN  \n",
       "2          NaN          NaN          NaN          NaN          NaN  \n",
       "3          NaN          NaN          NaN          NaN          NaN  \n",
       "\n",
       "[4 rows x 28 columns]"
      ]
     },
     "execution_count": 90,
     "metadata": {},
     "output_type": "execute_result"
    }
   ],
   "source": [
    "#Read in a google sheets with the ground truth data from string drive_loc\n",
    "df = pd.read_csv(drive_url)\n",
    "df"
   ]
  },
  {
   "cell_type": "code",
   "execution_count": 91,
   "metadata": {},
   "outputs": [
    {
     "data": {
      "text/html": [
       "<div>\n",
       "<style scoped>\n",
       "    .dataframe tbody tr th:only-of-type {\n",
       "        vertical-align: middle;\n",
       "    }\n",
       "\n",
       "    .dataframe tbody tr th {\n",
       "        vertical-align: top;\n",
       "    }\n",
       "\n",
       "    .dataframe thead th {\n",
       "        text-align: right;\n",
       "    }\n",
       "</style>\n",
       "<table border=\"1\" class=\"dataframe\">\n",
       "  <thead>\n",
       "    <tr style=\"text-align: right;\">\n",
       "      <th></th>\n",
       "      <th>ID</th>\n",
       "      <th>Latitude</th>\n",
       "      <th>Longitude</th>\n",
       "      <th>Class</th>\n",
       "      <th>Date</th>\n",
       "      <th>Site</th>\n",
       "      <th>Source</th>\n",
       "      <th>Country</th>\n",
       "      <th>Notes</th>\n",
       "      <th>D50</th>\n",
       "      <th>D90</th>\n",
       "    </tr>\n",
       "  </thead>\n",
       "  <tbody>\n",
       "    <tr>\n",
       "      <th>0</th>\n",
       "      <td>dingle2020-0</td>\n",
       "      <td>28.599792</td>\n",
       "      <td>81.259463</td>\n",
       "      <td>gravel</td>\n",
       "      <td>2019-04-08</td>\n",
       "      <td>fluvial</td>\n",
       "      <td>10.2475/08.2016.03</td>\n",
       "      <td>Nepal</td>\n",
       "      <td>Surface grain size from central bar at Karnali...</td>\n",
       "      <td>65.00</td>\n",
       "      <td>155.00</td>\n",
       "    </tr>\n",
       "    <tr>\n",
       "      <th>1</th>\n",
       "      <td>dingle2020-1</td>\n",
       "      <td>28.601396</td>\n",
       "      <td>81.261771</td>\n",
       "      <td>other</td>\n",
       "      <td>2019-04-08</td>\n",
       "      <td>fluvial</td>\n",
       "      <td>10.2475/08.2016.04</td>\n",
       "      <td>Nepal</td>\n",
       "      <td>Exposed gravel bed material at bifurcation</td>\n",
       "      <td>231.00</td>\n",
       "      <td>418.00</td>\n",
       "    </tr>\n",
       "    <tr>\n",
       "      <th>2</th>\n",
       "      <td>dingle2020-2</td>\n",
       "      <td>28.417784</td>\n",
       "      <td>81.043490</td>\n",
       "      <td>sand</td>\n",
       "      <td>2019-08-21</td>\n",
       "      <td>fluvial</td>\n",
       "      <td>10.2475/08.2016.05</td>\n",
       "      <td>Nepal</td>\n",
       "      <td>Bank material downstream of the gravel-sand tr...</td>\n",
       "      <td>0.23</td>\n",
       "      <td>0.26</td>\n",
       "    </tr>\n",
       "    <tr>\n",
       "      <th>3</th>\n",
       "      <td>dingle2020-3</td>\n",
       "      <td>28.420623</td>\n",
       "      <td>81.051930</td>\n",
       "      <td>sand</td>\n",
       "      <td>2019-04-08</td>\n",
       "      <td>fluvial</td>\n",
       "      <td>10.2475/08.2016.06</td>\n",
       "      <td>Nepal</td>\n",
       "      <td>Bed material dredged at transect T5</td>\n",
       "      <td>0.31</td>\n",
       "      <td>0.89</td>\n",
       "    </tr>\n",
       "  </tbody>\n",
       "</table>\n",
       "</div>"
      ],
      "text/plain": [
       "             ID   Latitude  Longitude   Class        Date     Site  \\\n",
       "0  dingle2020-0  28.599792  81.259463  gravel  2019-04-08  fluvial   \n",
       "1  dingle2020-1  28.601396  81.261771   other  2019-04-08  fluvial   \n",
       "2  dingle2020-2  28.417784  81.043490    sand  2019-08-21  fluvial   \n",
       "3  dingle2020-3  28.420623  81.051930    sand  2019-04-08  fluvial   \n",
       "\n",
       "               Source Country  \\\n",
       "0  10.2475/08.2016.03   Nepal   \n",
       "1  10.2475/08.2016.04   Nepal   \n",
       "2  10.2475/08.2016.05   Nepal   \n",
       "3  10.2475/08.2016.06   Nepal   \n",
       "\n",
       "                                               Notes     D50     D90  \n",
       "0  Surface grain size from central bar at Karnali...   65.00  155.00  \n",
       "1         Exposed gravel bed material at bifurcation  231.00  418.00  \n",
       "2  Bank material downstream of the gravel-sand tr...    0.23    0.26  \n",
       "3                Bed material dredged at transect T5    0.31    0.89  "
      ]
     },
     "execution_count": 91,
     "metadata": {},
     "output_type": "execute_result"
    }
   ],
   "source": [
    "#look for any NaN values in the column 'date' or 'Longitude' or 'Latitude' in df_merged and drop them\n",
    "df = df.dropna(subset=['Date', 'Longitude', 'Latitude']).reset_index(drop=True)\n",
    "#drop any columns that have 'Unnamed:' in the column name\n",
    "df = df.loc[:, ~df.columns.str.contains('^Unnamed')]\n",
    "df"
   ]
  },
  {
   "cell_type": "code",
   "execution_count": 77,
   "metadata": {},
   "outputs": [],
   "source": [
    "assert(len(df[df['Date'].isna() | df['Longitude'].isna() | df['Latitude'].isna()]) == 0)"
   ]
  },
  {
   "cell_type": "markdown",
   "metadata": {},
   "source": [
    "# Part II: Select subset for training"
   ]
  },
  {
   "cell_type": "markdown",
   "metadata": {},
   "source": [
    "Here we iterate over the df and iteratively pick and adjust the locations we want to keep"
   ]
  },
  {
   "cell_type": "code",
   "execution_count": 78,
   "metadata": {},
   "outputs": [
    {
     "data": {
      "text/plain": [
       "Index(['ID', 'Latitude', 'Longitude', 'Class', 'Date', 'Site', 'Source',\n",
       "       'Country', 'Notes', 'D50', 'D90'],\n",
       "      dtype='object')"
      ]
     },
     "execution_count": 78,
     "metadata": {},
     "output_type": "execute_result"
    }
   ],
   "source": [
    "df.columns"
   ]
  },
  {
   "cell_type": "code",
   "execution_count": 79,
   "metadata": {},
   "outputs": [],
   "source": [
    "ee.Initialize()\n",
    "# ee.Authenticate()"
   ]
  },
  {
   "cell_type": "code",
   "execution_count": 96,
   "metadata": {},
   "outputs": [
    {
     "data": {
      "text/html": [
       "<div>\n",
       "<style scoped>\n",
       "    .dataframe tbody tr th:only-of-type {\n",
       "        vertical-align: middle;\n",
       "    }\n",
       "\n",
       "    .dataframe tbody tr th {\n",
       "        vertical-align: top;\n",
       "    }\n",
       "\n",
       "    .dataframe thead th {\n",
       "        text-align: right;\n",
       "    }\n",
       "</style>\n",
       "<table border=\"1\" class=\"dataframe\">\n",
       "  <thead>\n",
       "    <tr style=\"text-align: right;\">\n",
       "      <th></th>\n",
       "      <th>ID</th>\n",
       "      <th>Latitude</th>\n",
       "      <th>Longitude</th>\n",
       "      <th>Class</th>\n",
       "      <th>Date</th>\n",
       "      <th>Site</th>\n",
       "      <th>Source</th>\n",
       "      <th>Country</th>\n",
       "      <th>Notes</th>\n",
       "      <th>D50</th>\n",
       "      <th>D90</th>\n",
       "    </tr>\n",
       "  </thead>\n",
       "  <tbody>\n",
       "    <tr>\n",
       "      <th>0</th>\n",
       "      <td>dingle2020-0</td>\n",
       "      <td>28.599792</td>\n",
       "      <td>81.259463</td>\n",
       "      <td>gravel</td>\n",
       "      <td>2019-04-08</td>\n",
       "      <td>fluvial</td>\n",
       "      <td>10.2475/08.2016.03</td>\n",
       "      <td>Nepal</td>\n",
       "      <td>Surface grain size from central bar at Karnali...</td>\n",
       "      <td>65.00</td>\n",
       "      <td>155.00</td>\n",
       "    </tr>\n",
       "    <tr>\n",
       "      <th>1</th>\n",
       "      <td>dingle2020-1</td>\n",
       "      <td>28.601396</td>\n",
       "      <td>81.261771</td>\n",
       "      <td>other</td>\n",
       "      <td>2019-04-08</td>\n",
       "      <td>fluvial</td>\n",
       "      <td>10.2475/08.2016.04</td>\n",
       "      <td>Nepal</td>\n",
       "      <td>Exposed gravel bed material at bifurcation</td>\n",
       "      <td>231.00</td>\n",
       "      <td>418.00</td>\n",
       "    </tr>\n",
       "    <tr>\n",
       "      <th>2</th>\n",
       "      <td>dingle2020-2</td>\n",
       "      <td>28.417784</td>\n",
       "      <td>81.043490</td>\n",
       "      <td>sand</td>\n",
       "      <td>2019-08-21</td>\n",
       "      <td>fluvial</td>\n",
       "      <td>10.2475/08.2016.05</td>\n",
       "      <td>Nepal</td>\n",
       "      <td>Bank material downstream of the gravel-sand tr...</td>\n",
       "      <td>0.23</td>\n",
       "      <td>0.26</td>\n",
       "    </tr>\n",
       "    <tr>\n",
       "      <th>3</th>\n",
       "      <td>dingle2020-3</td>\n",
       "      <td>28.420623</td>\n",
       "      <td>81.051930</td>\n",
       "      <td>sand</td>\n",
       "      <td>2019-04-08</td>\n",
       "      <td>fluvial</td>\n",
       "      <td>10.2475/08.2016.06</td>\n",
       "      <td>Nepal</td>\n",
       "      <td>Bed material dredged at transect T5</td>\n",
       "      <td>0.31</td>\n",
       "      <td>0.89</td>\n",
       "    </tr>\n",
       "  </tbody>\n",
       "</table>\n",
       "</div>"
      ],
      "text/plain": [
       "             ID   Latitude  Longitude   Class        Date     Site  \\\n",
       "0  dingle2020-0  28.599792  81.259463  gravel  2019-04-08  fluvial   \n",
       "1  dingle2020-1  28.601396  81.261771   other  2019-04-08  fluvial   \n",
       "2  dingle2020-2  28.417784  81.043490    sand  2019-08-21  fluvial   \n",
       "3  dingle2020-3  28.420623  81.051930    sand  2019-04-08  fluvial   \n",
       "\n",
       "               Source Country  \\\n",
       "0  10.2475/08.2016.03   Nepal   \n",
       "1  10.2475/08.2016.04   Nepal   \n",
       "2  10.2475/08.2016.05   Nepal   \n",
       "3  10.2475/08.2016.06   Nepal   \n",
       "\n",
       "                                               Notes     D50     D90  \n",
       "0  Surface grain size from central bar at Karnali...   65.00  155.00  \n",
       "1         Exposed gravel bed material at bifurcation  231.00  418.00  \n",
       "2  Bank material downstream of the gravel-sand tr...    0.23    0.26  \n",
       "3                Bed material dredged at transect T5    0.31    0.89  "
      ]
     },
     "execution_count": 96,
     "metadata": {},
     "output_type": "execute_result"
    }
   ],
   "source": [
    "output = df.copy()\n",
    "output"
   ]
  },
  {
   "cell_type": "code",
   "execution_count": 81,
   "metadata": {},
   "outputs": [],
   "source": [
    "%reload_ext autoreload\n",
    "import sand_classification as sc\n",
    "import quality_mosaic as qm\n",
    "import file_management as fm"
   ]
  },
  {
   "cell_type": "code",
   "execution_count": 119,
   "metadata": {},
   "outputs": [
    {
     "data": {
      "application/vnd.jupyter.widget-view+json": {
       "model_id": "c2c12cf127b54bde852b826824a4495f",
       "version_major": 2,
       "version_minor": 0
      },
      "text/plain": [
       "Map(center=[20, 0], controls=(WidgetControl(options=['position', 'transparent_bg'], widget=HBox(children=(Togg…"
      ]
     },
     "metadata": {},
     "output_type": "display_data"
    }
   ],
   "source": [
    "INDEX = 1\n",
    "sampling_buffer_m = 5\n",
    "Map = geemap.Map()\n",
    "Map"
   ]
  },
  {
   "attachments": {},
   "cell_type": "markdown",
   "metadata": {},
   "source": [
    "## Manual Loop\n",
    "\n",
    "Keep running the following 2 cells until you're done with the manual sampling.\n"
   ]
  },
  {
   "cell_type": "code",
   "execution_count": 120,
   "metadata": {
    "scrolled": true
   },
   "outputs": [
    {
     "name": "stdout",
     "output_type": "stream",
     "text": [
      "Index:  1  ID:  dingle2020-1 Class:  other  Site:  fluvial\n",
      "Search window from 2018-10-08 to 2019-10-08\n"
     ]
    },
    {
     "data": {
      "application/vnd.jupyter.widget-view+json": {
       "model_id": "d50d97dc0e204ed1902b8aaca74d1d8d",
       "version_major": 2,
       "version_minor": 0
      },
      "text/plain": [
       "Map(center=[28.601396010395995, 81.26177107953733], controls=(ZoomControl(options=['position', 'zoom_in_text',…"
      ]
     },
     "metadata": {},
     "output_type": "display_data"
    }
   ],
   "source": [
    "s1_s2, sample = qm.get_s1s2_data(output, Map, INDEX, display_smap=True, mosaic_method='qm', sampling_buffer_m=sampling_buffer_m, median_samples=5,roi_buffer_m=5000, obia=True)"
   ]
  },
  {
   "attachments": {},
   "cell_type": "markdown",
   "metadata": {},
   "source": [
    "## Use this immediately after the map is refreshed to either select or discard the sample\n",
    "\n",
    "INDEX will auto update on calling this function"
   ]
  },
  {
   "cell_type": "code",
   "execution_count": 115,
   "metadata": {},
   "outputs": [
    {
     "name": "stdout",
     "output_type": "stream",
     "text": [
      "New marker accepted\n",
      "Kept Observation\n"
     ]
    },
    {
     "data": {
      "text/plain": [
       "ID                                         dingle2020-3\n",
       "Latitude                                      28.384557\n",
       "Longitude                                     81.021506\n",
       "Class                                              sand\n",
       "Date                                         2019-04-08\n",
       "Site                                            fluvial\n",
       "Source                               10.2475/08.2016.06\n",
       "Country                                           Nepal\n",
       "Notes               Bed material dredged at transect T5\n",
       "D50                                                0.31\n",
       "D90                                                0.89\n",
       "B2_mean                                     2047.977295\n",
       "B3_mean                                     2420.636475\n",
       "B4_mean                                      2623.20459\n",
       "B8_mean                                      2960.46582\n",
       "B8A_mean                                    3069.886475\n",
       "B11_mean                                    3742.113525\n",
       "B12_mean                                    3703.988525\n",
       "VV_mean                                      -17.175804\n",
       "VH_mean                                      -25.329865\n",
       "mTGSI_mean                                     0.095582\n",
       "BSI_mean                                       0.119001\n",
       "NDWI_mean                                     -0.100381\n",
       "keep                                               True\n",
       "location_tweaked                                   True\n",
       "class_code                                            1\n",
       "Name: 3, dtype: object"
      ]
     },
     "execution_count": 115,
     "metadata": {},
     "output_type": "execute_result"
    }
   ],
   "source": [
    "output, INDEX = qm.get_training_sample(output, s1_s2, sample, Map, INDEX, display_clusters=False, obia=True)\n",
    "# fm.write_to_excel(output, output_file_path, sheet_name)\n",
    "with pd.ExcelWriter(output_file_path,engine=\"openpyxl\",mode=\"a\",if_sheet_exists=\"replace\") as writer:\n",
    "    output.to_excel(writer,sheet_name=sheet_name,index=False)\n",
    "output.iloc[INDEX-1]"
   ]
  },
  {
   "attachments": {},
   "cell_type": "markdown",
   "metadata": {},
   "source": [
    "## Final Output"
   ]
  },
  {
   "cell_type": "code",
   "execution_count": 116,
   "metadata": {},
   "outputs": [
    {
     "data": {
      "text/html": [
       "<div>\n",
       "<style scoped>\n",
       "    .dataframe tbody tr th:only-of-type {\n",
       "        vertical-align: middle;\n",
       "    }\n",
       "\n",
       "    .dataframe tbody tr th {\n",
       "        vertical-align: top;\n",
       "    }\n",
       "\n",
       "    .dataframe thead th {\n",
       "        text-align: right;\n",
       "    }\n",
       "</style>\n",
       "<table border=\"1\" class=\"dataframe\">\n",
       "  <thead>\n",
       "    <tr style=\"text-align: right;\">\n",
       "      <th></th>\n",
       "      <th>ID</th>\n",
       "      <th>Latitude</th>\n",
       "      <th>Longitude</th>\n",
       "      <th>Class</th>\n",
       "      <th>Date</th>\n",
       "      <th>Site</th>\n",
       "      <th>Source</th>\n",
       "      <th>Country</th>\n",
       "      <th>Notes</th>\n",
       "      <th>D50</th>\n",
       "      <th>...</th>\n",
       "      <th>B11_mean</th>\n",
       "      <th>B12_mean</th>\n",
       "      <th>VV_mean</th>\n",
       "      <th>VH_mean</th>\n",
       "      <th>mTGSI_mean</th>\n",
       "      <th>BSI_mean</th>\n",
       "      <th>NDWI_mean</th>\n",
       "      <th>keep</th>\n",
       "      <th>location_tweaked</th>\n",
       "      <th>class_code</th>\n",
       "    </tr>\n",
       "  </thead>\n",
       "  <tbody>\n",
       "    <tr>\n",
       "      <th>0</th>\n",
       "      <td>dingle2020-0</td>\n",
       "      <td>28.600141</td>\n",
       "      <td>81.259212</td>\n",
       "      <td>gravel</td>\n",
       "      <td>2019-04-08</td>\n",
       "      <td>fluvial</td>\n",
       "      <td>10.2475/08.2016.03</td>\n",
       "      <td>Nepal</td>\n",
       "      <td>Surface grain size from central bar at Karnali...</td>\n",
       "      <td>65.00</td>\n",
       "      <td>...</td>\n",
       "      <td>3111.109131</td>\n",
       "      <td>2926.971191</td>\n",
       "      <td>-12.529706</td>\n",
       "      <td>-20.856337</td>\n",
       "      <td>0.062644</td>\n",
       "      <td>0.093398</td>\n",
       "      <td>-0.071288</td>\n",
       "      <td>True</td>\n",
       "      <td>True</td>\n",
       "      <td>2</td>\n",
       "    </tr>\n",
       "    <tr>\n",
       "      <th>1</th>\n",
       "      <td>dingle2020-1</td>\n",
       "      <td>28.601396</td>\n",
       "      <td>81.261771</td>\n",
       "      <td>other</td>\n",
       "      <td>2019-04-08</td>\n",
       "      <td>fluvial</td>\n",
       "      <td>10.2475/08.2016.04</td>\n",
       "      <td>Nepal</td>\n",
       "      <td>Exposed gravel bed material at bifurcation</td>\n",
       "      <td>231.00</td>\n",
       "      <td>...</td>\n",
       "      <td>3049.752441</td>\n",
       "      <td>2670.714355</td>\n",
       "      <td>-6.511257</td>\n",
       "      <td>-13.813314</td>\n",
       "      <td>0.031236</td>\n",
       "      <td>0.073106</td>\n",
       "      <td>-0.056618</td>\n",
       "      <td>True</td>\n",
       "      <td>False</td>\n",
       "      <td>7</td>\n",
       "    </tr>\n",
       "    <tr>\n",
       "      <th>2</th>\n",
       "      <td>dingle2020-2</td>\n",
       "      <td>28.417711</td>\n",
       "      <td>81.047389</td>\n",
       "      <td>sand</td>\n",
       "      <td>2019-04-08</td>\n",
       "      <td>fluvial</td>\n",
       "      <td>10.2475/08.2016.05</td>\n",
       "      <td>Nepal</td>\n",
       "      <td>Bank material downstream of the gravel-sand tr...</td>\n",
       "      <td>0.23</td>\n",
       "      <td>...</td>\n",
       "      <td>3654.165527</td>\n",
       "      <td>3808.426758</td>\n",
       "      <td>-17.025816</td>\n",
       "      <td>-25.706015</td>\n",
       "      <td>0.106878</td>\n",
       "      <td>0.117692</td>\n",
       "      <td>-0.081543</td>\n",
       "      <td>True</td>\n",
       "      <td>True</td>\n",
       "      <td>1</td>\n",
       "    </tr>\n",
       "    <tr>\n",
       "      <th>3</th>\n",
       "      <td>dingle2020-3</td>\n",
       "      <td>28.384557</td>\n",
       "      <td>81.021506</td>\n",
       "      <td>sand</td>\n",
       "      <td>2019-04-08</td>\n",
       "      <td>fluvial</td>\n",
       "      <td>10.2475/08.2016.06</td>\n",
       "      <td>Nepal</td>\n",
       "      <td>Bed material dredged at transect T5</td>\n",
       "      <td>0.31</td>\n",
       "      <td>...</td>\n",
       "      <td>3742.113525</td>\n",
       "      <td>3703.988525</td>\n",
       "      <td>-17.175804</td>\n",
       "      <td>-25.329865</td>\n",
       "      <td>0.095582</td>\n",
       "      <td>0.119001</td>\n",
       "      <td>-0.100381</td>\n",
       "      <td>True</td>\n",
       "      <td>True</td>\n",
       "      <td>1</td>\n",
       "    </tr>\n",
       "  </tbody>\n",
       "</table>\n",
       "<p>4 rows × 26 columns</p>\n",
       "</div>"
      ],
      "text/plain": [
       "             ID   Latitude  Longitude   Class        Date     Site  \\\n",
       "0  dingle2020-0  28.600141  81.259212  gravel  2019-04-08  fluvial   \n",
       "1  dingle2020-1  28.601396  81.261771   other  2019-04-08  fluvial   \n",
       "2  dingle2020-2  28.417711  81.047389    sand  2019-04-08  fluvial   \n",
       "3  dingle2020-3  28.384557  81.021506    sand  2019-04-08  fluvial   \n",
       "\n",
       "               Source Country  \\\n",
       "0  10.2475/08.2016.03   Nepal   \n",
       "1  10.2475/08.2016.04   Nepal   \n",
       "2  10.2475/08.2016.05   Nepal   \n",
       "3  10.2475/08.2016.06   Nepal   \n",
       "\n",
       "                                               Notes     D50  ...  \\\n",
       "0  Surface grain size from central bar at Karnali...   65.00  ...   \n",
       "1         Exposed gravel bed material at bifurcation  231.00  ...   \n",
       "2  Bank material downstream of the gravel-sand tr...    0.23  ...   \n",
       "3                Bed material dredged at transect T5    0.31  ...   \n",
       "\n",
       "      B11_mean     B12_mean    VV_mean    VH_mean  mTGSI_mean  BSI_mean  \\\n",
       "0  3111.109131  2926.971191 -12.529706 -20.856337    0.062644  0.093398   \n",
       "1  3049.752441  2670.714355  -6.511257 -13.813314    0.031236  0.073106   \n",
       "2  3654.165527  3808.426758 -17.025816 -25.706015    0.106878  0.117692   \n",
       "3  3742.113525  3703.988525 -17.175804 -25.329865    0.095582  0.119001   \n",
       "\n",
       "   NDWI_mean  keep  location_tweaked  class_code  \n",
       "0  -0.071288  True              True           2  \n",
       "1  -0.056618  True             False           7  \n",
       "2  -0.081543  True              True           1  \n",
       "3  -0.100381  True              True           1  \n",
       "\n",
       "[4 rows x 26 columns]"
      ]
     },
     "execution_count": 116,
     "metadata": {},
     "output_type": "execute_result"
    }
   ],
   "source": [
    "output"
   ]
  }
 ],
 "metadata": {
  "kernelspec": {
   "display_name": "spatial",
   "language": "python",
   "name": "spatial"
  },
  "language_info": {
   "codemirror_mode": {
    "name": "ipython",
    "version": 3
   },
   "file_extension": ".py",
   "mimetype": "text/x-python",
   "name": "python",
   "nbconvert_exporter": "python",
   "pygments_lexer": "ipython3",
   "version": "3.9.13"
  },
  "toc": {
   "base_numbering": 1,
   "nav_menu": {},
   "number_sections": true,
   "sideBar": true,
   "skip_h1_title": false,
   "title_cell": "Table of Contents",
   "title_sidebar": "Contents",
   "toc_cell": false,
   "toc_position": {},
   "toc_section_display": true,
   "toc_window_display": false
  }
 },
 "nbformat": 4,
 "nbformat_minor": 2
}
