{
 "cells": [
  {
   "cell_type": "code",
   "execution_count": 9,
   "id": "6be17585-36ec-4c3e-a5a4-0f33a44c6722",
   "metadata": {},
   "outputs": [],
   "source": [
    "from PIL import Image\n",
    "from PIL.ExifTags import TAGS, GPSTAGS\n",
    "import glob\n",
    "import exif\n",
    "import statistics\n",
    "import numpy as np\n",
    "import os"
   ]
  },
  {
   "cell_type": "markdown",
   "id": "cbea03df-6250-45ec-9f6e-8a9466233360",
   "metadata": {},
   "source": [
    "## Get GPS\n",
    "\n",
    "Convert from (degrees, minutes, seconds) to decimal:\n",
    "\n",
    "Degrees + Minutes/60 + Seconds/3600\n",
    "\n",
    "Using the python exif tool; [intruction here](https://exif.readthedocs.io/en/latest/usage.html)"
   ]
  },
  {
   "cell_type": "code",
   "execution_count": 2,
   "id": "accd1875-8afc-42af-9b03-9b5480e953f8",
   "metadata": {},
   "outputs": [],
   "source": [
    "\n",
    "def get_gps(image_file_path):\n",
    "\n",
    "    image = exif.Image(file)\n",
    "    \n",
    "    if not image.has_exif:\n",
    "        return (None, None)\n",
    "    \n",
    "    lat = image.gps_latitude[0] + image.gps_latitude[1]/60. + image.gps_latitude[2]/3600.\n",
    "    lat = lat if image.gps_latitude_ref == 'N' else -lat\n",
    "    \n",
    "    lon = image.gps_longitude[0] + image.gps_longitude[1]/60. + image.gps_longitude[2]/3600.\n",
    "    lon = lon if image.gps_longitude_ref == 'E' else -lon\n",
    "    \n",
    "    # print(image.gps_latitude, image.gps_longitude)\n",
    "\n",
    "    return (lat,lon)\n"
   ]
  },
  {
   "cell_type": "code",
   "execution_count": 20,
   "id": "5bb56fb7",
   "metadata": {},
   "outputs": [
    {
     "name": "stdout",
     "output_type": "stream",
     "text": [
      "5\n"
     ]
    }
   ],
   "source": [
    "pathname = \"img/01/*.jpg\"\n",
    "images_01 = glob.glob(pathname)\n",
    "num_files = len(images_01)\n",
    "print(num_files)\n",
    "\n",
    "# onlyfiles = next(os.walk(images_01))[2] #directory is your directory path as string\n",
    "# print (len(onlyfiles))\n"
   ]
  },
  {
   "cell_type": "code",
   "execution_count": 114,
   "id": "5e363064-a470-4bfb-b181-19ae3b56a1a2",
   "metadata": {},
   "outputs": [
    {
     "name": "stdout",
     "output_type": "stream",
     "text": [
      "\n",
      "(5, 2)\n",
      "Average gps :[-122.64041222   37.89626722]\n",
      "Stdev 1.5555555557966726e-05m\n"
     ]
    }
   ],
   "source": [
    "pathname = \"img/01/*.jpg\"\n",
    "images_01 = glob.glob(pathname)\n",
    "num_files = len(images_01)\n",
    "print()\n",
    "\n",
    "lats, lons = [],[]\n",
    "gps = np.zeros(shape=(num_files, 2),dtype=np.float64)\n",
    "print(gps.shape)\n",
    "\n",
    "\n",
    "for i, image in enumerate(images_01):\n",
    "    with open(image, 'rb') as file:\n",
    "        lat, lon = get_gps(file)  \n",
    "        gps[i] = [lon, lat]\n",
    "        \n",
    "\n",
    "avg_gps = gps.mean(axis=0)\n",
    "sd_gps = np.max(gps.std(axis=0))\n",
    "\n",
    "\n",
    "print ('Average gps :{:}'.format(avg_gps))\n",
    "print ('Stdev {:}m'.format(sd_gps))\n"
   ]
  },
  {
   "cell_type": "markdown",
   "id": "1a3d6ea2-1dc4-44b2-b30b-db1fbde247e7",
   "metadata": {},
   "source": [
    "# Plot on EE Maps"
   ]
  },
  {
   "cell_type": "code",
   "execution_count": 4,
   "id": "3a568981-1f2b-4d2c-ae65-9f00a8a2a637",
   "metadata": {},
   "outputs": [],
   "source": [
    "import ee\n",
    "import geemap"
   ]
  },
  {
   "cell_type": "code",
   "execution_count": 5,
   "id": "650a0394-2db8-43dc-b3dd-44357cb28b62",
   "metadata": {},
   "outputs": [],
   "source": [
    "#ee.Authenticate()\n",
    "# Initialize the library.\n",
    "ee.Initialize()"
   ]
  },
  {
   "cell_type": "code",
   "execution_count": 115,
   "id": "1a3be9c2",
   "metadata": {},
   "outputs": [
    {
     "data": {
      "text/plain": [
       "[[-122.64041666666667, 37.896275],\n",
       " [-122.64041666666667, 37.896275],\n",
       " [-122.64039444444445, 37.89623611111111],\n",
       " [-122.64041666666667, 37.896275],\n",
       " [-122.64041666666667, 37.896275]]"
      ]
     },
     "execution_count": 115,
     "metadata": {},
     "output_type": "execute_result"
    }
   ],
   "source": [
    "gps.tolist()"
   ]
  },
  {
   "cell_type": "code",
   "execution_count": 118,
   "id": "a48c29b6",
   "metadata": {},
   "outputs": [
    {
     "data": {
      "text/plain": [
       "{'geodesic': False,\n",
       " 'type': 'Polygon',\n",
       " 'coordinates': [[[-122.64052533011711, 37.89617726814456],\n",
       "   [-122.64029875524955, 37.89617726814456],\n",
       "   [-122.64029875524955, 37.89635721088176],\n",
       "   [-122.64052533011711, 37.89635721088176],\n",
       "   [-122.64052533011711, 37.89617726814456]]]}"
      ]
     },
     "execution_count": 118,
     "metadata": {},
     "output_type": "execute_result"
    }
   ],
   "source": [
    "sample_avg = ee.Geometry.Point([avg_gps[0], avg_gps[1]])\n",
    "buffer = sample_avg.buffer(10).bounds()\n",
    "buffer.getInfo()"
   ]
  },
  {
   "cell_type": "code",
   "execution_count": 119,
   "id": "e73c30b1-f7e2-466e-8123-d3073431c62a",
   "metadata": {},
   "outputs": [
    {
     "data": {
      "text/plain": [
       "{'type': 'Polygon',\n",
       " 'coordinates': [[[-122.64041666666667, 37.896275],\n",
       "   [-122.64041666666667, 37.896275],\n",
       "   [-122.64039444444445, 37.89623611111111],\n",
       "   [-122.64041666666667, 37.896275],\n",
       "   [-122.64041666666667, 37.896275]]]}"
      ]
     },
     "execution_count": 119,
     "metadata": {},
     "output_type": "execute_result"
    }
   ],
   "source": [
    "polygon = ee.Geometry.Polygon(gps.tolist())\n",
    "polygon.getInfo()"
   ]
  },
  {
   "cell_type": "code",
   "execution_count": 128,
   "id": "5bba13c1-fa36-44d9-844f-ad0c548fe7bd",
   "metadata": {},
   "outputs": [
    {
     "data": {
      "application/vnd.jupyter.widget-view+json": {
       "model_id": "0b3de44f5ca743a9b69acbd2445bb82f",
       "version_major": 2,
       "version_minor": 0
      },
      "text/plain": [
       "Map(center=[37.89626722222222, -122.64041222222222], controls=(WidgetControl(options=['position', 'transparent…"
      ]
     },
     "metadata": {},
     "output_type": "display_data"
    }
   ],
   "source": [
    "Map = geemap.Map()\n",
    "url = 'https://mt1.google.com/vt/lyrs=y&x={x}&y={y}&z={z}'\n",
    "Map.add_tile_layer(url, name='Google Satellite', attribution='Google')\n",
    "Map.add_marker((avg_gps[1],avg_gps[0]),tooltip='sample', name='avg center')\n",
    "Map.addLayer(polygon,\n",
    "             {'color':'black'},\n",
    "             name='samples')\n",
    "Map.addLayer(buffer,\n",
    "             {'color':'yellow'},\n",
    "             name='buffer')\n",
    "Map.setCenter(avg_gps[0], avg_gps[1], zoom=17)\n",
    "\n",
    "Map"
   ]
  },
  {
   "cell_type": "code",
   "execution_count": 100,
   "id": "f2067134-822c-4360-aef3-bdbbc7d2510b",
   "metadata": {},
   "outputs": [],
   "source": []
  },
  {
   "cell_type": "code",
   "execution_count": 98,
   "id": "e5c683c3",
   "metadata": {},
   "outputs": [
    {
     "name": "stdout",
     "output_type": "stream",
     "text": [
      "{'geodesic': False, 'type': 'Polygon', 'coordinates': [[[-142.10406374571147, -57.359767685932624], [-142.10340075959914, -57.359767685932624], [-142.10340075959914, -57.35940780045871], [-142.10406374571147, -57.35940780045871], [-142.10406374571147, -57.359767685932624]]]}\n"
     ]
    }
   ],
   "source": [
    "print (pointBuffer.getInfo())"
   ]
  },
  {
   "cell_type": "code",
   "execution_count": 101,
   "id": "c79cb3d2",
   "metadata": {},
   "outputs": [
    {
     "name": "stdout",
     "output_type": "stream",
     "text": [
      "polygon.intersection(...) = {'type': 'Polygon', 'coordinates': [[[-122.085, 37.419000105397885], [-122.07900000000001, 37.425], [-122.085, 37.423], [-122.085, 37.419000105397885]]]}\n"
     ]
    },
    {
     "data": {
      "application/vnd.jupyter.widget-view+json": {
       "model_id": "beaaaa28b63249dd81f2f211e11ae7c8",
       "version_major": 2,
       "version_minor": 0
      },
      "text/plain": [
       "Map(center=[37.422, -122.085], controls=(WidgetControl(options=['position', 'transparent_bg'], widget=HBox(chi…"
      ]
     },
     "metadata": {},
     "output_type": "display_data"
    }
   ],
   "source": [
    "import ee\n",
    "import geemap\n",
    "\n",
    "Map = geemap.Map()\n",
    "\n",
    "# Define a Polygon object.\n",
    "polygon = ee.Geometry.Polygon(\n",
    "    [[[-122.092, 37.424],\n",
    "      [-122.086, 37.418],\n",
    "      [-122.079, 37.425],\n",
    "      [-122.085, 37.423]]])\n",
    "\n",
    "# Define other inputs.\n",
    "inputGeom = ee.Geometry.BBox(-122.085, 37.415, -122.075, 37.425)\n",
    "\n",
    "# Apply the intersection method to the Polygon object.\n",
    "polygonIntersection = polygon.intersection(**{'right': inputGeom, 'maxError': 1})\n",
    "\n",
    "# Print the result to the console.\n",
    "print('polygon.intersection(...) =', polygonIntersection.getInfo())\n",
    "\n",
    "# Display relevant geometries on the map.\n",
    "Map.setCenter(-122.085, 37.422, 15)\n",
    "Map.addLayer(polygon,\n",
    "             {'color': 'black'},\n",
    "             'Geometry [black]: polygon')\n",
    "Map.addLayer(inputGeom,\n",
    "             {'color': 'blue'},\n",
    "             'Parameter [blue]: inputGeom')\n",
    "Map.addLayer(polygonIntersection,\n",
    "             {'color': 'red'},\n",
    "             'Result [red]: polygon.intersection')\n",
    "Map"
   ]
  },
  {
   "cell_type": "code",
   "execution_count": null,
   "id": "a4eb3c38",
   "metadata": {},
   "outputs": [],
   "source": []
  }
 ],
 "metadata": {
  "kernelspec": {
   "display_name": "spatial",
   "language": "python",
   "name": "spatial"
  },
  "language_info": {
   "codemirror_mode": {
    "name": "ipython",
    "version": 3
   },
   "file_extension": ".py",
   "mimetype": "text/x-python",
   "name": "python",
   "nbconvert_exporter": "python",
   "pygments_lexer": "ipython3",
   "version": "3.9.13"
  },
  "toc": {
   "base_numbering": 1,
   "nav_menu": {},
   "number_sections": true,
   "sideBar": true,
   "skip_h1_title": false,
   "title_cell": "Table of Contents",
   "title_sidebar": "Contents",
   "toc_cell": false,
   "toc_position": {},
   "toc_section_display": true,
   "toc_window_display": false
  }
 },
 "nbformat": 4,
 "nbformat_minor": 5
}
